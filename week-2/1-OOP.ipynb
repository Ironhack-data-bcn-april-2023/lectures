{
 "cells": [
  {
   "cell_type": "markdown",
   "id": "bfd2fc1f",
   "metadata": {
    "lang": "en"
   },
   "source": [
    "# Object-oriented programming"
   ]
  },
  {
   "cell_type": "markdown",
   "id": "linear-pierre",
   "metadata": {
    "toc": true
   },
   "source": [
    "<h1>Table of Contents<span class=\"tocSkip\"></span></h1>\n",
    "<div class=\"toc\"><ul class=\"toc-item\"><li><span><a href=\"#What-is-OOP---Object-Oriented-Programming?\" data-toc-modified-id=\"What-is-OOP---Object-Oriented-Programming?-1\"><span class=\"toc-item-num\">1&nbsp;&nbsp;</span>What is OOP - Object Oriented Programming?</a></span><ul class=\"toc-item\"><li><span><a href=\"#Fundamental-Principles\" data-toc-modified-id=\"Fundamental-Principles-1.1\"><span class=\"toc-item-num\">1.1&nbsp;&nbsp;</span>Fundamental Principles</a></span></li></ul></li><li><span><a href=\"#Classes-and-instances\" data-toc-modified-id=\"Classes-and-instances-2\"><span class=\"toc-item-num\">2&nbsp;&nbsp;</span>Classes and instances</a></span></li><li><span><a href=\"#functional-vs-OOP-(Object-oriented-programming)\" data-toc-modified-id=\"functional-vs-OOP-(Object-oriented-programming)-3\"><span class=\"toc-item-num\">3&nbsp;&nbsp;</span>functional vs OOP (Object oriented programming)</a></span></li><li><span><a href=\"#---\" data-toc-modified-id=\"----4\"><span class=\"toc-item-num\">4&nbsp;&nbsp;</span>  -</a></span></li><li><span><a href=\"#Definition-of-a-class\" data-toc-modified-id=\"Definition-of-a-class-5\"><span class=\"toc-item-num\">5&nbsp;&nbsp;</span>Definition of a class</a></span><ul class=\"toc-item\"><li><span><a href=\"#Self:\" data-toc-modified-id=\"Self:-5.1\"><span class=\"toc-item-num\">5.1&nbsp;&nbsp;</span>Self:</a></span><ul class=\"toc-item\"><li><span><a href=\"#Defining-a-function\" data-toc-modified-id=\"Defining-a-function-5.1.1\"><span class=\"toc-item-num\">5.1.1&nbsp;&nbsp;</span>Defining a function</a></span></li><li><span><a href=\"#Calling-a-function\" data-toc-modified-id=\"Calling-a-function-5.1.2\"><span class=\"toc-item-num\">5.1.2&nbsp;&nbsp;</span>Calling a function</a></span></li><li><span><a href=\"#Defining-a-class\" data-toc-modified-id=\"Defining-a-class-5.1.3\"><span class=\"toc-item-num\">5.1.3&nbsp;&nbsp;</span>Defining a class</a></span></li><li><span><a href=\"#Instansiating-a-class\" data-toc-modified-id=\"Instansiating-a-class-5.1.4\"><span class=\"toc-item-num\">5.1.4&nbsp;&nbsp;</span>Instansiating a class</a></span></li></ul></li><li><span><a href=\"#Exploring-a-class\" data-toc-modified-id=\"Exploring-a-class-5.2\"><span class=\"toc-item-num\">5.2&nbsp;&nbsp;</span>Exploring a class</a></span></li><li><span><a href=\"#Instance-Attributes\" data-toc-modified-id=\"Instance-Attributes-5.3\"><span class=\"toc-item-num\">5.3&nbsp;&nbsp;</span>Instance Attributes</a></span><ul class=\"toc-item\"><li><span><a href=\"#Default-attributes\" data-toc-modified-id=\"Default-attributes-5.3.1\"><span class=\"toc-item-num\">5.3.1&nbsp;&nbsp;</span>Default attributes</a></span></li></ul></li><li><span><a href=\"#Instance-Methods\" data-toc-modified-id=\"Instance-Methods-5.4\"><span class=\"toc-item-num\">5.4&nbsp;&nbsp;</span>Instance Methods</a></span><ul class=\"toc-item\"><li><span><a href=\"#Python-is-built-with-objects\" data-toc-modified-id=\"Python-is-built-with-objects-5.4.1\"><span class=\"toc-item-num\">5.4.1&nbsp;&nbsp;</span>Python is built with objects</a></span></li></ul></li><li><span><a href=\"#Class-variables\" data-toc-modified-id=\"Class-variables-5.5\"><span class=\"toc-item-num\">5.5&nbsp;&nbsp;</span>Class variables</a></span></li></ul></li><li><span><a href=\"#Before-continuing,-let's-take-a-breath-and-review-vocabulary\" data-toc-modified-id=\"Before-continuing,-let's-take-a-breath-and-review-vocabulary-6\"><span class=\"toc-item-num\">6&nbsp;&nbsp;</span>Before continuing, let's take a breath and review vocabulary</a></span><ul class=\"toc-item\"><li><ul class=\"toc-item\"><li><span><a href=\"#Easy-exercise\" data-toc-modified-id=\"Easy-exercise-6.0.1\"><span class=\"toc-item-num\">6.0.1&nbsp;&nbsp;</span>Easy exercise</a></span></li></ul></li></ul></li><li><span><a href=\"#Inheritance\" data-toc-modified-id=\"Inheritance-7\"><span class=\"toc-item-num\">7&nbsp;&nbsp;</span>Inheritance</a></span><ul class=\"toc-item\"><li><span><a href=\"#super()\" data-toc-modified-id=\"super()-7.1\"><span class=\"toc-item-num\">7.1&nbsp;&nbsp;</span>super()</a></span></li></ul></li><li><span><a href=\"#Summary\" data-toc-modified-id=\"Summary-8\"><span class=\"toc-item-num\">8&nbsp;&nbsp;</span>Summary</a></span></li><li><span><a href=\"#Furthermaterials\" data-toc-modified-id=\"Furthermaterials-9\"><span class=\"toc-item-num\">9&nbsp;&nbsp;</span>Furthermaterials</a></span><ul class=\"toc-item\"><li><span><a href=\"#Methods-ADVANCED-@classmethod@staticmethod\" data-toc-modified-id=\"Methods-ADVANCED-@classmethod@staticmethod-9.1\"><span class=\"toc-item-num\">9.1&nbsp;&nbsp;</span>Methods <strong>ADVANCED</strong> @classmethod@staticmethod</a></span></li></ul></li></ul></div>"
   ]
  },
  {
   "cell_type": "markdown",
   "id": "44bbe54e",
   "metadata": {
    "lang": "en"
   },
   "source": [
    "## What is OOP - Object Oriented Programming?"
   ]
  },
  {
   "cell_type": "markdown",
   "id": "da79b55b",
   "metadata": {
    "lang": "en"
   },
   "source": [
    "Object-oriented programming is a programming paradigm, that is, a programming style and technique, which goes beyond the implementation itself. This paradigm is based on the \"object\" concept, which can contain both data, in the form of fields called \"attributes\", and code for its manipulation in the form of procedures and functions, called \"methods\". Thanks to this, we can group everything under a single data type (the object \"class\"), which facilitates the modularity and reusability of the code.\n",
    "This has a strong implication in the design of IT solutions; Software engineering methodologies are based on object-oriented programming."
   ]
  },
  {
   "cell_type": "markdown",
   "id": "19380f68",
   "metadata": {
    "lang": "en"
   },
   "source": [
    "You can imagine objects as a new data type whose definition is given in a structure called class.\n",
    "Classes are often compared to cookie cutters and objects to the cookies themselves. While all cookies made from the same pan have the same shape, each one takes on individual attributes after baking. Things like color, texture, flavor... can be very different.\n",
    "In other words, the cookies share a manufacturing process and some attributes, but they are independent of each other and of the mold itself, and that makes each one unique.\n",
    "Extrapolating from the example, a class is just a script about how the objects that will be created with it should be."
   ]
  },
  {
   "cell_type": "markdown",
   "id": "fallen-brazil",
   "metadata": {},
   "source": [
    "![clases](https://files.realpython.com/media/Object-Oriented-Programming-OOP-in-Python-3_Watermarked.0d29780806d5.jpg)"
   ]
  },
  {
   "cell_type": "markdown",
   "id": "92d02d2c",
   "metadata": {
    "lang": "en"
   },
   "source": [
    "### Fundamental Principles"
   ]
  },
  {
   "cell_type": "markdown",
   "id": "0473322c",
   "metadata": {
    "lang": "en"
   },
   "source": [
    "1 - **Data abstraction**: Something we do naturally in our understanding of the world is the abstraction of concrete information in concepts or classes. For example, the concept of \"car\" evokes in us an idea of ​​a vehicle with four wheels, a steering wheel, an engine... Our car is a specific \"instance\" of that concept, and different from other cars, but we are capable of associating certain properties or characteristics to said concept above specific details. This ability to abstract a concept is essential for the development of human language and, of course, such a good idea has been transferred to the world of programming. In OOP, we call the abstract concept \"class\" and the realization of that concept \"object\". Your car is concrete, you can drive it, it is an object, an \"instance\" of the class \"car\".\n",
    "   \n",
    "   2 - **Encapsulation**: Each type of object contains its own information and can be manipulated in a particular way. A car can be driven and has a certain pressure in the wheels, a color, a certain level of gasoline, etc. With a GPS we can obtain our position coordinates and the batteries will have a certain charge. A dog barks, has a weight, an age. All those attributes and \"methods\" are \"encapsulated\" within the object, and are accessible only through a given object. The advantage is that we don't need to have, for example, a list with names, another with ages, another with weights... but rather a list of objects and each one contains, that is, encapsulates, its own information.\n",
    "   \n",
    "   3 - **Inheritance**: Some classes can specialize others. For this, the specialized class \"inherits\" the properties of the more general class, called the \"superclass\". For example, the \"Car\" and \"Truck\" classes can inherit from the \"Vehicle\" class. This is a way of reusing code, by being able to assume those common properties between several classes in a superior class. Python supports \"multiple inheritance\", so a class can be defined as a subclass of several classes from which it would inherit all its properties (attributes and methods) at once.\n",
    "   \n",
    "   4 - **Polymorphism**: A square can be drawn, a circle as well, just as any other shape can be drawn. \"Square\" and \"Circle\" would be subclasses of \"Shape\". The \"Shape\" superclass implements a draw() method, and both the \"Square\" subclass and the \"Circle\" subclass override this method to their particular case. So a function could accept an object of type \"Shape\" as a parameter and call the draw() method without knowing if the passed argument is a circle or a square. Each object knows its level of specialization and the concrete implementation of its methods. This ability to use superclass methods in code but resolve to subclass methods at run time is called \"Polymorphism\": the same variable can take different forms."
   ]
  },
  {
   "cell_type": "markdown",
   "id": "f325c4f9",
   "metadata": {
    "lang": "en"
   },
   "source": [
    "## Classes and instances"
   ]
  },
  {
   "cell_type": "markdown",
   "id": "f1423c0e",
   "metadata": {
    "lang": "en"
   },
   "source": [
    "A class is like an abstract type for objects that, in addition to storing values ​​called attributes, has associated a series of functions that we call methods. An instance of a class is the same as saying an object of that class. Instantiating a class refers to creating an object that belongs to that class.\n",
    "In Python, data types are classes, and any literal or variable of one of these types is an object that instantiates the type's class. For example: a = 2222 is equivalent to instantiating the PyLongObject class by assigning an internal attribute the value 2222. This is what happens at a low level, but we can consider that the variable a is of type int. We can know the type of any variable, that is, the class it instantiates, with the type() function, and the identifier of the instantiated object with the id() function."
   ]
  },
  {
   "cell_type": "code",
   "execution_count": null,
   "id": "62065c55",
   "metadata": {},
   "outputs": [],
   "source": [
    "class Car ():\n",
    "    \n",
    "    def __init__ (self.color):\n",
    "        self.color = color\n",
    "        \n",
    "    def move ():\n",
    "        return position + 1\n",
    "    \n",
    "\n",
    "bmw = Car(\"red\") # Create objects\n",
    "bmw.move() # We callv its functions\n",
    "bmw.color # red"
   ]
  },
  {
   "cell_type": "markdown",
   "id": "d5082ae7",
   "metadata": {},
   "source": [
    "- imperative\n",
    "- functional\n",
    "- OOP\n",
    "\n",
    "- functional vs OOP (Object oriented programming)\n",
    "    - \n",
    "    -\n",
    "    -\n",
    "    \n",
    "\n",
    "\n",
    "\n",
    "\n",
    "\n",
    "\n"
   ]
  },
  {
   "cell_type": "code",
   "execution_count": null,
   "id": "a8c1d6bb",
   "metadata": {},
   "outputs": [],
   "source": [
    "# Objects: Car()\n",
    "# Everything in python is an object"
   ]
  },
  {
   "cell_type": "code",
   "execution_count": 1,
   "id": "e8d5ed0f",
   "metadata": {},
   "outputs": [
    {
     "data": {
      "text/plain": [
       "'sdasfzdathrtfdgtr'"
      ]
     },
     "execution_count": 1,
     "metadata": {},
     "output_type": "execute_result"
    }
   ],
   "source": [
    "\"sdasfzdathrtfdgtr\""
   ]
  },
  {
   "cell_type": "code",
   "execution_count": 2,
   "id": "8d62239a",
   "metadata": {},
   "outputs": [
    {
     "data": {
      "text/plain": [
       "'sdssssssss'"
      ]
     },
     "execution_count": 2,
     "metadata": {},
     "output_type": "execute_result"
    }
   ],
   "source": [
    "\"sdssssssss\""
   ]
  },
  {
   "cell_type": "code",
   "execution_count": 3,
   "id": "d41bfb3a",
   "metadata": {},
   "outputs": [
    {
     "data": {
      "text/plain": [
       "'Santi'"
      ]
     },
     "execution_count": 3,
     "metadata": {},
     "output_type": "execute_result"
    }
   ],
   "source": [
    "\"Santi\""
   ]
  },
  {
   "cell_type": "code",
   "execution_count": 5,
   "id": "4aed895a",
   "metadata": {},
   "outputs": [
    {
     "name": "stdout",
     "output_type": "stream",
     "text": [
      "<class 'str'>\n"
     ]
    }
   ],
   "source": [
    "print(type(\"Santi\"))"
   ]
  },
  {
   "cell_type": "code",
   "execution_count": 6,
   "id": "b282fe48",
   "metadata": {},
   "outputs": [],
   "source": [
    "# classes\n",
    "    # examples: instances"
   ]
  },
  {
   "cell_type": "code",
   "execution_count": null,
   "id": "e70076d1",
   "metadata": {},
   "outputs": [],
   "source": [
    "# Instance: specific example of a class\n",
    "    # Class str\n",
    "    # instances: \"Santi\", \"sdsfdsxg\""
   ]
  },
  {
   "cell_type": "code",
   "execution_count": 8,
   "id": "bfc6e3dd",
   "metadata": {},
   "outputs": [
    {
     "data": {
      "text/plain": [
       "'SANTI'"
      ]
     },
     "execution_count": 8,
     "metadata": {},
     "output_type": "execute_result"
    }
   ],
   "source": [
    "\"Santi\".upper()"
   ]
  },
  {
   "cell_type": "code",
   "execution_count": 9,
   "id": "6055cb61",
   "metadata": {},
   "outputs": [
    {
     "data": {
      "text/plain": [
       "'THIS IS ANOTHER STRING'"
      ]
     },
     "execution_count": 9,
     "metadata": {},
     "output_type": "execute_result"
    }
   ],
   "source": [
    "\"This is another string\".upper()"
   ]
  },
  {
   "cell_type": "code",
   "execution_count": 11,
   "id": "ba233f7e",
   "metadata": {},
   "outputs": [
    {
     "data": {
      "text/plain": [
       "29"
      ]
     },
     "execution_count": 11,
     "metadata": {},
     "output_type": "execute_result"
    }
   ],
   "source": [
    "len(\"This other one stribbbbbng :)\")"
   ]
  },
  {
   "cell_type": "code",
   "execution_count": 12,
   "id": "71b8cc8d",
   "metadata": {},
   "outputs": [],
   "source": [
    "a = 10"
   ]
  },
  {
   "cell_type": "code",
   "execution_count": 15,
   "id": "f8e56e6f",
   "metadata": {},
   "outputs": [
    {
     "data": {
      "text/plain": [
       "['capitalize',\n",
       " 'casefold',\n",
       " 'center',\n",
       " 'count',\n",
       " 'encode',\n",
       " 'endswith',\n",
       " 'expandtabs',\n",
       " 'find',\n",
       " 'format',\n",
       " 'index',\n",
       " 'isalnum',\n",
       " 'isalpha',\n",
       " 'isascii',\n",
       " 'isdecimal',\n",
       " 'isdigit',\n",
       " 'isidentifier',\n",
       " 'islower',\n",
       " 'isnumeric',\n",
       " 'isprintable',\n",
       " 'isspace',\n",
       " 'istitle',\n",
       " 'isupper',\n",
       " 'join',\n",
       " 'ljust',\n",
       " 'lower',\n",
       " 'lstrip',\n",
       " 'maketrans',\n",
       " 'partition',\n",
       " 'removeprefix',\n",
       " 'removesuffix',\n",
       " 'replace',\n",
       " 'rfind',\n",
       " 'rindex',\n",
       " 'rjust',\n",
       " 'rpartition',\n",
       " 'rsplit',\n",
       " 'rstrip',\n",
       " 'split',\n",
       " 'splitlines',\n",
       " 'startswith',\n",
       " 'strip',\n",
       " 'swapcase',\n",
       " 'title',\n",
       " 'translate',\n",
       " 'upper',\n",
       " 'zfill']"
      ]
     },
     "execution_count": 15,
     "metadata": {},
     "output_type": "execute_result"
    }
   ],
   "source": [
    "[i for i in dir(\"Santi\") if \"_\" not in i]"
   ]
  },
  {
   "cell_type": "markdown",
   "id": "e4bd50ab",
   "metadata": {
    "lang": "en"
   },
   "source": [
    "To know all the methods and attributes of a class we can use the dir() function both on an object and on the class."
   ]
  },
  {
   "cell_type": "code",
   "execution_count": null,
   "id": "16d463df",
   "metadata": {},
   "outputs": [],
   "source": []
  },
  {
   "cell_type": "markdown",
   "id": "032f8630",
   "metadata": {},
   "source": [
    "You don't need to master this, just know what the `.__something__` means. It's a dunder/magic methods. Meant for Python internally"
   ]
  },
  {
   "cell_type": "code",
   "execution_count": 16,
   "id": "a973c674",
   "metadata": {},
   "outputs": [],
   "source": [
    "def greetings (name):\n",
    "    \"\"\"This functions says Hello to the name that is passed\n",
    "    arg: str.name\n",
    "    returns: another string\"\"\"\n",
    "    return f\"Hello! {name}\""
   ]
  },
  {
   "cell_type": "code",
   "execution_count": 19,
   "id": "9a367f4c",
   "metadata": {},
   "outputs": [
    {
     "name": "stdout",
     "output_type": "stream",
     "text": [
      "This functions says Hello to the name that is passed\n",
      "    arg: str.name\n",
      "    returns: another string\n"
     ]
    }
   ],
   "source": [
    "print(greetings.__doc__)"
   ]
  },
  {
   "cell_type": "code",
   "execution_count": 27,
   "id": "4ed90fa8",
   "metadata": {},
   "outputs": [
    {
     "data": {
      "text/plain": [
       "'Santi , how are you?'"
      ]
     },
     "execution_count": 27,
     "metadata": {},
     "output_type": "execute_result"
    }
   ],
   "source": [
    "\"Santi\" + \" \" + \", how are you?\""
   ]
  },
  {
   "cell_type": "code",
   "execution_count": 28,
   "id": "28926098",
   "metadata": {},
   "outputs": [],
   "source": [
    "string_1 = \"Santi\"\n",
    "string_2 = \"How are you\""
   ]
  },
  {
   "cell_type": "code",
   "execution_count": 29,
   "id": "4b124817",
   "metadata": {},
   "outputs": [
    {
     "data": {
      "text/plain": [
       "'SantiHow are you'"
      ]
     },
     "execution_count": 29,
     "metadata": {},
     "output_type": "execute_result"
    }
   ],
   "source": [
    "string_1.__add__(string_2)"
   ]
  },
  {
   "cell_type": "code",
   "execution_count": 30,
   "id": "be4d5c3f",
   "metadata": {},
   "outputs": [
    {
     "data": {
      "text/plain": [
       "['__add__',\n",
       " '__class__',\n",
       " '__contains__',\n",
       " '__delattr__',\n",
       " '__dir__',\n",
       " '__doc__',\n",
       " '__eq__',\n",
       " '__format__',\n",
       " '__ge__',\n",
       " '__getattribute__',\n",
       " '__getitem__',\n",
       " '__getnewargs__',\n",
       " '__gt__',\n",
       " '__hash__',\n",
       " '__init__',\n",
       " '__init_subclass__',\n",
       " '__iter__',\n",
       " '__le__',\n",
       " '__len__',\n",
       " '__lt__',\n",
       " '__mod__',\n",
       " '__mul__',\n",
       " '__ne__',\n",
       " '__new__',\n",
       " '__reduce__',\n",
       " '__reduce_ex__',\n",
       " '__repr__',\n",
       " '__rmod__',\n",
       " '__rmul__',\n",
       " '__setattr__',\n",
       " '__sizeof__',\n",
       " '__str__',\n",
       " '__subclasshook__',\n",
       " 'capitalize',\n",
       " 'casefold',\n",
       " 'center',\n",
       " 'count',\n",
       " 'encode',\n",
       " 'endswith',\n",
       " 'expandtabs',\n",
       " 'find',\n",
       " 'format',\n",
       " 'format_map',\n",
       " 'index',\n",
       " 'isalnum',\n",
       " 'isalpha',\n",
       " 'isascii',\n",
       " 'isdecimal',\n",
       " 'isdigit',\n",
       " 'isidentifier',\n",
       " 'islower',\n",
       " 'isnumeric',\n",
       " 'isprintable',\n",
       " 'isspace',\n",
       " 'istitle',\n",
       " 'isupper',\n",
       " 'join',\n",
       " 'ljust',\n",
       " 'lower',\n",
       " 'lstrip',\n",
       " 'maketrans',\n",
       " 'partition',\n",
       " 'removeprefix',\n",
       " 'removesuffix',\n",
       " 'replace',\n",
       " 'rfind',\n",
       " 'rindex',\n",
       " 'rjust',\n",
       " 'rpartition',\n",
       " 'rsplit',\n",
       " 'rstrip',\n",
       " 'split',\n",
       " 'splitlines',\n",
       " 'startswith',\n",
       " 'strip',\n",
       " 'swapcase',\n",
       " 'title',\n",
       " 'translate',\n",
       " 'upper',\n",
       " 'zfill']"
      ]
     },
     "execution_count": 30,
     "metadata": {},
     "output_type": "execute_result"
    }
   ],
   "source": [
    "[i for i in dir(\"Santi\")]"
   ]
  },
  {
   "cell_type": "markdown",
   "id": "ffc3bd0b",
   "metadata": {
    "lang": "en"
   },
   "source": [
    "## Definition of a class"
   ]
  },
  {
   "cell_type": "markdown",
   "id": "8917064a",
   "metadata": {
    "lang": "en"
   },
   "source": [
    "We can define our own classes and indicate whether they inherit from others, what their internal attributes are, and what their methods are. Once the class is defined, it is possible to create objects from it. To create a class, simply group attributes and methods in the body of a **class** block.\n",
    "Imagine that you create software to manage a school, and you want to represent \"teachers\" in your Python code. Teachers will have some associated data (`attributes` in `class` jargon), and they will be able to *perform actions* through functions that we will call `methods` (again, `class` jargon).\n",
    "\n",
    "We could do it one by one:"
   ]
  },
  {
   "cell_type": "code",
   "execution_count": 31,
   "id": "ab05f966",
   "metadata": {},
   "outputs": [],
   "source": [
    "def greetings (name):\n",
    "    return f\"Hello! my name is {name}\""
   ]
  },
  {
   "cell_type": "code",
   "execution_count": 32,
   "id": "79429f85",
   "metadata": {},
   "outputs": [
    {
     "data": {
      "text/plain": [
       "'Hello! my name is Laura'"
      ]
     },
     "execution_count": 32,
     "metadata": {},
     "output_type": "execute_result"
    }
   ],
   "source": [
    "greetings (\"Laura\")"
   ]
  },
  {
   "cell_type": "code",
   "execution_count": 33,
   "id": "ac08e687",
   "metadata": {},
   "outputs": [
    {
     "data": {
      "text/plain": [
       "'Hello! my name is Clara'"
      ]
     },
     "execution_count": 33,
     "metadata": {},
     "output_type": "execute_result"
    }
   ],
   "source": [
    "greetings (\"Clara\")"
   ]
  },
  {
   "cell_type": "code",
   "execution_count": 34,
   "id": "07783d20",
   "metadata": {},
   "outputs": [
    {
     "data": {
      "text/plain": [
       "'Hello! my name is Albert'"
      ]
     },
     "execution_count": 34,
     "metadata": {},
     "output_type": "execute_result"
    }
   ],
   "source": [
    "greetings (\"Albert\")"
   ]
  },
  {
   "cell_type": "code",
   "execution_count": 35,
   "id": "65d53db8",
   "metadata": {},
   "outputs": [],
   "source": [
    "albert_dict = {\n",
    "    \"name\": \"Albert\",\n",
    "    \"fname\": \"Coca\",\n",
    "    \"city\": \"Mataró\",\n",
    "    \"age\": 30,\n",
    "    \"greeting\": lambda x: print(\"Hello!\")\n",
    "}"
   ]
  },
  {
   "cell_type": "code",
   "execution_count": 36,
   "id": "a1c59157",
   "metadata": {},
   "outputs": [
    {
     "data": {
      "text/plain": [
       "'Albert'"
      ]
     },
     "execution_count": 36,
     "metadata": {},
     "output_type": "execute_result"
    }
   ],
   "source": [
    "albert_dict[\"name\"]"
   ]
  },
  {
   "cell_type": "code",
   "execution_count": 37,
   "id": "2dcd3ba6",
   "metadata": {},
   "outputs": [
    {
     "data": {
      "text/plain": [
       "30"
      ]
     },
     "execution_count": 37,
     "metadata": {},
     "output_type": "execute_result"
    }
   ],
   "source": [
    "albert_dict[\"age\"]"
   ]
  },
  {
   "cell_type": "code",
   "execution_count": 38,
   "id": "4e71f5d6",
   "metadata": {},
   "outputs": [],
   "source": [
    "laura_dict = {\n",
    "    \"name\": \"Laura\",\n",
    "    \"fname\": \"Molas\",\n",
    "    \"city\": \"Mataró\",\n",
    "    \"age\": 30,\n",
    "    \"greeting\": lambda x: print(\"Hey there!\")\n",
    "}"
   ]
  },
  {
   "cell_type": "code",
   "execution_count": 39,
   "id": "2d9ffa94",
   "metadata": {},
   "outputs": [
    {
     "data": {
      "text/plain": [
       "'Laura'"
      ]
     },
     "execution_count": 39,
     "metadata": {},
     "output_type": "execute_result"
    }
   ],
   "source": [
    "laura_dict[\"name\"]"
   ]
  },
  {
   "cell_type": "code",
   "execution_count": 40,
   "id": "a60dc8f5",
   "metadata": {},
   "outputs": [
    {
     "data": {
      "text/plain": [
       "'Mataró'"
      ]
     },
     "execution_count": 40,
     "metadata": {},
     "output_type": "execute_result"
    }
   ],
   "source": [
    "laura_dict[\"city\"]"
   ]
  },
  {
   "cell_type": "code",
   "execution_count": 41,
   "id": "da42402b",
   "metadata": {},
   "outputs": [],
   "source": [
    "class Staff ():\n",
    "    pass"
   ]
  },
  {
   "cell_type": "code",
   "execution_count": 42,
   "id": "50a601cf",
   "metadata": {},
   "outputs": [],
   "source": [
    "laura = Staff()"
   ]
  },
  {
   "cell_type": "code",
   "execution_count": 43,
   "id": "8f567bff",
   "metadata": {},
   "outputs": [
    {
     "data": {
      "text/plain": [
       "__main__.Staff"
      ]
     },
     "execution_count": 43,
     "metadata": {},
     "output_type": "execute_result"
    }
   ],
   "source": [
    "type(laura)"
   ]
  },
  {
   "cell_type": "code",
   "execution_count": 44,
   "id": "86915435",
   "metadata": {},
   "outputs": [],
   "source": [
    "albert = Staff()"
   ]
  },
  {
   "cell_type": "code",
   "execution_count": 46,
   "id": "fa316c56",
   "metadata": {},
   "outputs": [
    {
     "data": {
      "text/plain": [
       "__main__.Staff"
      ]
     },
     "execution_count": 46,
     "metadata": {},
     "output_type": "execute_result"
    }
   ],
   "source": [
    "type(albert)"
   ]
  },
  {
   "cell_type": "markdown",
   "id": "dffb2147",
   "metadata": {},
   "source": [
    "### Self: "
   ]
  },
  {
   "cell_type": "markdown",
   "id": "0acb0ad3",
   "metadata": {
    "lang": "en"
   },
   "source": [
    "I leave you [here](https://realpython.com/python-pep8/#naming-styles) a realpython article about the conventions for naming things (by things I mean variables, classes, functions... code tidbits )\n",
    "The Python user community has adopted a style guide that makes code easier to read and consistent between different user programs. This guide is not mandatory to follow, but it is highly recommended."
   ]
  },
  {
   "cell_type": "markdown",
   "id": "23576dae",
   "metadata": {},
   "source": [
    "#### Defining a function"
   ]
  },
  {
   "cell_type": "code",
   "execution_count": 47,
   "id": "4c6f68dc",
   "metadata": {},
   "outputs": [
    {
     "data": {
      "text/plain": [
       "'CTVGHBJNKML'"
      ]
     },
     "execution_count": 47,
     "metadata": {},
     "output_type": "execute_result"
    }
   ],
   "source": [
    "\"ctvghbjnkml\".upper() #TAKING ITSELF\n",
    "# returning something"
   ]
  },
  {
   "cell_type": "code",
   "execution_count": 48,
   "id": "4a340a01",
   "metadata": {},
   "outputs": [],
   "source": [
    "def turning_things_uppercase (str_):\n",
    "    return str_.upper()"
   ]
  },
  {
   "cell_type": "code",
   "execution_count": 49,
   "id": "4ac92870",
   "metadata": {},
   "outputs": [
    {
     "data": {
      "text/plain": [
       "'LAURA'"
      ]
     },
     "execution_count": 49,
     "metadata": {},
     "output_type": "execute_result"
    }
   ],
   "source": [
    "turning_things_uppercase(\"Laura\")"
   ]
  },
  {
   "cell_type": "markdown",
   "id": "0789adf6",
   "metadata": {},
   "source": [
    "#### Calling a function"
   ]
  },
  {
   "cell_type": "code",
   "execution_count": null,
   "id": "77edbd75",
   "metadata": {},
   "outputs": [],
   "source": []
  },
  {
   "cell_type": "markdown",
   "id": "9e4ef398",
   "metadata": {},
   "source": [
    "#### Defining a class"
   ]
  },
  {
   "cell_type": "code",
   "execution_count": 71,
   "id": "103bfef4",
   "metadata": {},
   "outputs": [],
   "source": [
    "class Staff ():\n",
    "    pass"
   ]
  },
  {
   "cell_type": "markdown",
   "id": "dda40dab",
   "metadata": {},
   "source": [
    "#### Instansiating a class"
   ]
  },
  {
   "cell_type": "code",
   "execution_count": 72,
   "id": "f9c96c01",
   "metadata": {},
   "outputs": [],
   "source": [
    "laura = Staff()"
   ]
  },
  {
   "cell_type": "markdown",
   "id": "be46cddd",
   "metadata": {},
   "source": [
    "### Exploring a class"
   ]
  },
  {
   "cell_type": "code",
   "execution_count": 53,
   "id": "89b6cc81",
   "metadata": {
    "scrolled": true
   },
   "outputs": [
    {
     "data": {
      "text/plain": [
       "<__main__.Staff at 0x7fc8f9e6d9d0>"
      ]
     },
     "execution_count": 53,
     "metadata": {},
     "output_type": "execute_result"
    }
   ],
   "source": [
    "Staff()"
   ]
  },
  {
   "cell_type": "code",
   "execution_count": 54,
   "id": "c5b17d8b",
   "metadata": {
    "scrolled": true
   },
   "outputs": [
    {
     "data": {
      "text/plain": [
       "__main__.Staff"
      ]
     },
     "execution_count": 54,
     "metadata": {},
     "output_type": "execute_result"
    }
   ],
   "source": [
    "type(Staff())"
   ]
  },
  {
   "cell_type": "code",
   "execution_count": 55,
   "id": "987247b0",
   "metadata": {
    "scrolled": true
   },
   "outputs": [
    {
     "data": {
      "text/plain": [
       "'sddd'"
      ]
     },
     "execution_count": 55,
     "metadata": {},
     "output_type": "execute_result"
    }
   ],
   "source": [
    "\"sdsasads<s\"\n",
    "\"sddd\""
   ]
  },
  {
   "cell_type": "code",
   "execution_count": 61,
   "id": "58a47a27",
   "metadata": {},
   "outputs": [],
   "source": [
    "class Car():\n",
    "    def __init__ (self, color):\n",
    "        self.color = color"
   ]
  },
  {
   "cell_type": "code",
   "execution_count": 62,
   "id": "76f7aa9f",
   "metadata": {
    "scrolled": true
   },
   "outputs": [],
   "source": [
    "bmw = Car(\"red\")"
   ]
  },
  {
   "cell_type": "code",
   "execution_count": 63,
   "id": "98863a9e",
   "metadata": {},
   "outputs": [
    {
     "data": {
      "text/plain": [
       "'red'"
      ]
     },
     "execution_count": 63,
     "metadata": {},
     "output_type": "execute_result"
    }
   ],
   "source": [
    "bmw.color"
   ]
  },
  {
   "cell_type": "code",
   "execution_count": 64,
   "id": "acf9824c",
   "metadata": {},
   "outputs": [
    {
     "data": {
      "text/plain": [
       "True"
      ]
     },
     "execution_count": 64,
     "metadata": {},
     "output_type": "execute_result"
    }
   ],
   "source": [
    "isinstance(bmw, Car)"
   ]
  },
  {
   "cell_type": "code",
   "execution_count": 73,
   "id": "c24811dc",
   "metadata": {},
   "outputs": [],
   "source": [
    "laura = Staff()"
   ]
  },
  {
   "cell_type": "code",
   "execution_count": 74,
   "id": "99c6f5fb",
   "metadata": {},
   "outputs": [
    {
     "data": {
      "text/plain": [
       "True"
      ]
     },
     "execution_count": 74,
     "metadata": {},
     "output_type": "execute_result"
    }
   ],
   "source": [
    "isinstance(laura, Staff)"
   ]
  },
  {
   "cell_type": "markdown",
   "id": "81f9ca3e",
   "metadata": {},
   "source": [
    "### Instance Attributes\n",
    "They contain data that is unique to each instance."
   ]
  },
  {
   "cell_type": "code",
   "execution_count": 75,
   "id": "c7dee1bb",
   "metadata": {},
   "outputs": [
    {
     "data": {
      "text/plain": [
       "{'name': 'Albert',\n",
       " 'fname': 'Coca',\n",
       " 'city': 'Mataró',\n",
       " 'age': 30,\n",
       " 'greeting': <function __main__.<lambda>(x)>}"
      ]
     },
     "execution_count": 75,
     "metadata": {},
     "output_type": "execute_result"
    }
   ],
   "source": [
    "albert_dict"
   ]
  },
  {
   "cell_type": "code",
   "execution_count": 76,
   "id": "2b2f29ca",
   "metadata": {},
   "outputs": [
    {
     "data": {
      "text/plain": [
       "'Coca'"
      ]
     },
     "execution_count": 76,
     "metadata": {},
     "output_type": "execute_result"
    }
   ],
   "source": [
    "albert_dict[\"fname\"]"
   ]
  },
  {
   "cell_type": "code",
   "execution_count": 77,
   "id": "32b71e45",
   "metadata": {},
   "outputs": [],
   "source": [
    "#albert_dict.fname = \"Coca\""
   ]
  },
  {
   "cell_type": "markdown",
   "id": "39ed3781",
   "metadata": {
    "lang": "en"
   },
   "source": [
    "Instead of doing it one by one, we can create these variables each time an object is instantiated with the special `__init__` method. This function defines all the actions that should be performed when we create a new object. The reason we have two underscores before and after the function name is to indicate that this function is internal to the object and should not be called from outside the object."
   ]
  },
  {
   "cell_type": "code",
   "execution_count": 104,
   "id": "26c9c730",
   "metadata": {},
   "outputs": [],
   "source": [
    "class Staff ():\n",
    "    \n",
    "    # Atributes\n",
    "    def __init__ (self, name, fname, city): # whatever you need\n",
    "        # to create the object in the first place\n",
    "        self.name = name #the properties it'll have\n",
    "        self.city = city\n",
    "    \n",
    "    # Methods"
   ]
  },
  {
   "cell_type": "code",
   "execution_count": 105,
   "id": "6beb216a",
   "metadata": {},
   "outputs": [],
   "source": [
    "laura = Staff(\"Laura\", \"Molas\", \"Mataró\")"
   ]
  },
  {
   "cell_type": "code",
   "execution_count": 106,
   "id": "794759dc",
   "metadata": {},
   "outputs": [
    {
     "data": {
      "text/plain": [
       "'Laura'"
      ]
     },
     "execution_count": 106,
     "metadata": {},
     "output_type": "execute_result"
    }
   ],
   "source": [
    "laura.name"
   ]
  },
  {
   "cell_type": "code",
   "execution_count": 107,
   "id": "6289ab5e",
   "metadata": {},
   "outputs": [
    {
     "data": {
      "text/plain": [
       "'Mataró'"
      ]
     },
     "execution_count": 107,
     "metadata": {},
     "output_type": "execute_result"
    }
   ],
   "source": [
    "laura.city"
   ]
  },
  {
   "cell_type": "code",
   "execution_count": 96,
   "id": "d69bb3b7",
   "metadata": {},
   "outputs": [],
   "source": [
    "albert = Staff(\"Albert\", \"Coca\", \"Mataró\")"
   ]
  },
  {
   "cell_type": "code",
   "execution_count": 98,
   "id": "6ffa5962",
   "metadata": {},
   "outputs": [
    {
     "data": {
      "text/plain": [
       "'Albert'"
      ]
     },
     "execution_count": 98,
     "metadata": {},
     "output_type": "execute_result"
    }
   ],
   "source": [
    "albert.name"
   ]
  },
  {
   "cell_type": "code",
   "execution_count": 99,
   "id": "1dd48719",
   "metadata": {},
   "outputs": [
    {
     "data": {
      "text/plain": [
       "'Mataró'"
      ]
     },
     "execution_count": 99,
     "metadata": {},
     "output_type": "execute_result"
    }
   ],
   "source": [
    "albert.city"
   ]
  },
  {
   "cell_type": "code",
   "execution_count": null,
   "id": "4eb0362c",
   "metadata": {},
   "outputs": [],
   "source": [
    "# Classes: template/idea\n",
    "    # instances: actual examples\n",
    "    \n",
    "    # 1. DEFINE CLASS\n",
    "    # 2. INSTANTIATE CLASS\n",
    "        # Give attributes when creating (self, name, fname)\n",
    "        # Later I can access these attributes"
   ]
  },
  {
   "cell_type": "code",
   "execution_count": 113,
   "id": "39785d76",
   "metadata": {},
   "outputs": [],
   "source": [
    "class Staff ():\n",
    "    \n",
    "    # Atributes\n",
    "    def __init__ (self, name, fname):\n",
    "        self.name = name\n",
    "        self.fname = fname\n",
    "    \n",
    "        self.email = (self.name + \".\" + self.fname + \"@ironhack.com\").lower()"
   ]
  },
  {
   "cell_type": "code",
   "execution_count": 114,
   "id": "b0d66f45",
   "metadata": {},
   "outputs": [],
   "source": [
    "laura = Staff(\"Laura\", \"Molas\")"
   ]
  },
  {
   "cell_type": "code",
   "execution_count": 115,
   "id": "d1191226",
   "metadata": {},
   "outputs": [
    {
     "data": {
      "text/plain": [
       "'laura.molas@ironhack.com'"
      ]
     },
     "execution_count": 115,
     "metadata": {},
     "output_type": "execute_result"
    }
   ],
   "source": [
    "laura.email"
   ]
  },
  {
   "cell_type": "code",
   "execution_count": 116,
   "id": "b49b30fa",
   "metadata": {},
   "outputs": [],
   "source": [
    "albert = Staff(\"Albert\", \"Coca\")"
   ]
  },
  {
   "cell_type": "code",
   "execution_count": 117,
   "id": "15acdc61",
   "metadata": {},
   "outputs": [
    {
     "data": {
      "text/plain": [
       "'albert.coca@ironhack.com'"
      ]
     },
     "execution_count": 117,
     "metadata": {},
     "output_type": "execute_result"
    }
   ],
   "source": [
    "albert.email"
   ]
  },
  {
   "cell_type": "markdown",
   "id": "a9b11397",
   "metadata": {
    "lang": "en"
   },
   "source": [
    "What does self do? It indicates that the data we are entering is for the object we are creating."
   ]
  },
  {
   "cell_type": "code",
   "execution_count": null,
   "id": "273d458e",
   "metadata": {},
   "outputs": [],
   "source": []
  },
  {
   "cell_type": "markdown",
   "id": "8751e24c",
   "metadata": {
    "lang": "en"
   },
   "source": [
    "#### Default attributes\n",
    "\n",
    "We can initialize the attributes with a default value in case later, when creating the instances, the user or ourselves do not put anything in any of the attributes"
   ]
  },
  {
   "cell_type": "code",
   "execution_count": 118,
   "id": "755ea01e",
   "metadata": {},
   "outputs": [],
   "source": [
    "class Staff ():\n",
    "    \n",
    "    # Atributes\n",
    "    def __init__ (self, name, fname):\n",
    "        self.name = name\n",
    "        self.fname = fname\n",
    "    \n",
    "        self.email = (self.name + \".\" + self.fname + \"@ironhack.com\").lower()\n",
    "        \n",
    "        self.time_off = 30"
   ]
  },
  {
   "cell_type": "code",
   "execution_count": 119,
   "id": "1f703912",
   "metadata": {},
   "outputs": [],
   "source": [
    "laura = Staff(\"Laura\", \"Molas\")"
   ]
  },
  {
   "cell_type": "code",
   "execution_count": 120,
   "id": "d62c3c26",
   "metadata": {},
   "outputs": [
    {
     "data": {
      "text/plain": [
       "'laura.molas@ironhack.com'"
      ]
     },
     "execution_count": 120,
     "metadata": {},
     "output_type": "execute_result"
    }
   ],
   "source": [
    "laura.email"
   ]
  },
  {
   "cell_type": "code",
   "execution_count": 121,
   "id": "42d02614",
   "metadata": {},
   "outputs": [
    {
     "data": {
      "text/plain": [
       "30"
      ]
     },
     "execution_count": 121,
     "metadata": {},
     "output_type": "execute_result"
    }
   ],
   "source": [
    "laura.time_off"
   ]
  },
  {
   "cell_type": "markdown",
   "id": "0ce1eb62",
   "metadata": {
    "lang": "en"
   },
   "source": [
    "### Instance Methods"
   ]
  },
  {
   "cell_type": "code",
   "execution_count": 164,
   "id": "7f3ecad3",
   "metadata": {},
   "outputs": [],
   "source": [
    "class Staff ():\n",
    "    \n",
    "    # 1. Atributes\n",
    "    def __init__ (self, name, fname):\n",
    "        self.name = name\n",
    "        self.fname = fname\n",
    "    \n",
    "        self.email = (self.name + \".\" + self.fname + \"@ironhack.com\").lower()\n",
    "        \n",
    "        self.time_off = 30\n",
    "        \n",
    "    # 2. Methods\n",
    "    \n",
    "    def greetings (self):\n",
    "        return f\"Hello!!!!!!\"\n",
    "    \n",
    "    def takes_days_off (self, n):\n",
    "        self.time_off -= n"
   ]
  },
  {
   "cell_type": "code",
   "execution_count": 157,
   "id": "5aacfe9a",
   "metadata": {},
   "outputs": [],
   "source": [
    "laura = Staff(\"Laura\", \"Molas\")"
   ]
  },
  {
   "cell_type": "code",
   "execution_count": 158,
   "id": "3464f610",
   "metadata": {
    "scrolled": true
   },
   "outputs": [
    {
     "data": {
      "text/plain": [
       "30"
      ]
     },
     "execution_count": 158,
     "metadata": {},
     "output_type": "execute_result"
    }
   ],
   "source": [
    "laura.time_off"
   ]
  },
  {
   "cell_type": "code",
   "execution_count": 159,
   "id": "9531e2c6",
   "metadata": {},
   "outputs": [],
   "source": [
    "laura.takes_days_off(1)"
   ]
  },
  {
   "cell_type": "code",
   "execution_count": 160,
   "id": "aa59658b",
   "metadata": {},
   "outputs": [
    {
     "data": {
      "text/plain": [
       "29"
      ]
     },
     "execution_count": 160,
     "metadata": {},
     "output_type": "execute_result"
    }
   ],
   "source": [
    "laura.time_off"
   ]
  },
  {
   "cell_type": "code",
   "execution_count": 165,
   "id": "e0a47114",
   "metadata": {},
   "outputs": [
    {
     "ename": "TypeError",
     "evalue": "greetings() takes 0 positional arguments but 1 was given",
     "output_type": "error",
     "traceback": [
      "\u001b[0;31m---------------------------------------------------------------------------\u001b[0m",
      "\u001b[0;31mTypeError\u001b[0m                                 Traceback (most recent call last)",
      "Input \u001b[0;32mIn [165]\u001b[0m, in \u001b[0;36m<cell line: 1>\u001b[0;34m()\u001b[0m\n\u001b[0;32m----> 1\u001b[0m \u001b[43mlaura\u001b[49m\u001b[38;5;241;43m.\u001b[39;49m\u001b[43mgreetings\u001b[49m\u001b[43m(\u001b[49m\u001b[43m)\u001b[49m\n",
      "\u001b[0;31mTypeError\u001b[0m: greetings() takes 0 positional arguments but 1 was given"
     ]
    }
   ],
   "source": [
    "laura.greetings()"
   ]
  },
  {
   "cell_type": "code",
   "execution_count": 155,
   "id": "c71dc1df",
   "metadata": {},
   "outputs": [
    {
     "data": {
      "text/plain": [
       "'SDSRFTGHJKDSD'"
      ]
     },
     "execution_count": 155,
     "metadata": {},
     "output_type": "execute_result"
    }
   ],
   "source": [
    "\"sdsrftghjkdsd\".upper()"
   ]
  },
  {
   "cell_type": "markdown",
   "id": "3b7de249",
   "metadata": {
    "lang": "en"
   },
   "source": [
    "They are functions within the classes that will save us a lot of time"
   ]
  },
  {
   "cell_type": "code",
   "execution_count": null,
   "id": "5c9fef82",
   "metadata": {},
   "outputs": [],
   "source": []
  },
  {
   "cell_type": "markdown",
   "id": "fdda9183",
   "metadata": {},
   "source": [
    "_⚠️:  Target variables when instantiaing, ingnoring defaults?_"
   ]
  },
  {
   "cell_type": "code",
   "execution_count": 184,
   "id": "aa27d407",
   "metadata": {},
   "outputs": [],
   "source": [
    "class Staff ():\n",
    "    \n",
    "    # 1. Atributes\n",
    "    def __init__ (self, name, fname):\n",
    "        self.name = name\n",
    "        self.fname = fname\n",
    "    \n",
    "        self.email = (self.name + \".\" + self.fname + \"@ironhack.com\").lower()\n",
    "        \n",
    "        self.time_off = 30\n",
    "        \n",
    "    # 2. Methods\n",
    "    \n",
    "    def greetings (self):\n",
    "        return f\"Hello!!!!!!\"\n",
    "    \n",
    "    def takes_days_off (self, days=1):\n",
    "        \"\"\"Default: take one day unless passed oterhwise\"\"\"\n",
    "        if days <= self.time_off:\n",
    "            self.time_off -= days\n",
    "            return f\"You have these many days left: {self.time_off}\"\n",
    "        else: \n",
    "            return f\"You only have {self.time_off} days available\"\n",
    "    "
   ]
  },
  {
   "cell_type": "code",
   "execution_count": 185,
   "id": "747e11a9",
   "metadata": {},
   "outputs": [
    {
     "data": {
      "text/plain": [
       "30"
      ]
     },
     "execution_count": 185,
     "metadata": {},
     "output_type": "execute_result"
    }
   ],
   "source": [
    "laura = Staff(\"Laura\", \"Molas\")\n",
    "laura.time_off"
   ]
  },
  {
   "cell_type": "code",
   "execution_count": 186,
   "id": "b72abeaa",
   "metadata": {},
   "outputs": [
    {
     "data": {
      "text/plain": [
       "'You have these many days left: 29'"
      ]
     },
     "execution_count": 186,
     "metadata": {},
     "output_type": "execute_result"
    }
   ],
   "source": [
    "laura.takes_days_off()"
   ]
  },
  {
   "cell_type": "code",
   "execution_count": 187,
   "id": "6ef12fe7",
   "metadata": {},
   "outputs": [
    {
     "data": {
      "text/plain": [
       "'You have these many days left: 26'"
      ]
     },
     "execution_count": 187,
     "metadata": {},
     "output_type": "execute_result"
    }
   ],
   "source": [
    "laura.takes_days_off(3)"
   ]
  },
  {
   "cell_type": "code",
   "execution_count": 188,
   "id": "54a27d18",
   "metadata": {},
   "outputs": [
    {
     "data": {
      "text/plain": [
       "26"
      ]
     },
     "execution_count": 188,
     "metadata": {},
     "output_type": "execute_result"
    }
   ],
   "source": [
    "laura.time_off"
   ]
  },
  {
   "cell_type": "code",
   "execution_count": 198,
   "id": "bd3fe568",
   "metadata": {},
   "outputs": [
    {
     "data": {
      "text/plain": [
       "'You only have 2 days available'"
      ]
     },
     "execution_count": 198,
     "metadata": {},
     "output_type": "execute_result"
    }
   ],
   "source": [
    "laura.takes_days_off(3)"
   ]
  },
  {
   "cell_type": "markdown",
   "id": "c584762d",
   "metadata": {
    "lang": "en"
   },
   "source": [
    "**watch out** 👀\n",
    "If we modify a class and add attributes or methods, we have to recreate the object so that it is initialized with those attributes and has those methods."
   ]
  },
  {
   "cell_type": "code",
   "execution_count": 203,
   "id": "2c523f6d",
   "metadata": {},
   "outputs": [],
   "source": [
    "class Staff ():\n",
    "    \n",
    "    # 1. Atributes\n",
    "    def __init__ (self, name, fname):\n",
    "        self.name = name\n",
    "        self.fname = fname\n",
    "    \n",
    "        self.email = (self.name + \".\" + self.fname + \"@ironhack.com\").lower()\n",
    "        \n",
    "        self.time_off = 30\n",
    "        \n",
    "        self.hobbies = []\n",
    "        \n",
    "        \n",
    "    # 2. Methods\n",
    "    \n",
    "    def greetings (self):\n",
    "        return f\"Hello!!!!!!\"\n",
    "    \n",
    "    def takes_days_off (self, days=1):\n",
    "        \"\"\"Default: take one day unless passed oterhwise\"\"\"\n",
    "        if days <= self.time_off:\n",
    "            self.time_off -= days\n",
    "            return f\"You have these many days left: {self.time_off}\"\n",
    "        else: \n",
    "            return f\"You only have {self.time_off} days available\"\n",
    "    \n",
    "    def hobbies_function(self, hobbie):\n",
    "        # adds elements to hobbies\n",
    "            # 1. what should this receive: hobbie\n",
    "            # 2. what should it do\n",
    "            # 3. return?\n",
    "        \n",
    "        self.hobbies.append(hobbie)\n",
    "        return f\"My hobbies are {self.hobbies}\"\n",
    "        "
   ]
  },
  {
   "cell_type": "code",
   "execution_count": 204,
   "id": "a6913adc",
   "metadata": {},
   "outputs": [
    {
     "data": {
      "text/plain": [
       "[]"
      ]
     },
     "execution_count": 204,
     "metadata": {},
     "output_type": "execute_result"
    }
   ],
   "source": [
    "albert = Staff(\"Albert\", \"Coca\")\n",
    "albert.hobbies"
   ]
  },
  {
   "cell_type": "code",
   "execution_count": 207,
   "id": "16ecb78f",
   "metadata": {},
   "outputs": [
    {
     "data": {
      "text/plain": [
       "\"My hobbies are ['pádel', 'football', 'reading']\""
      ]
     },
     "execution_count": 207,
     "metadata": {},
     "output_type": "execute_result"
    }
   ],
   "source": [
    "albert.hobbies_function(\"reading\")"
   ]
  },
  {
   "cell_type": "code",
   "execution_count": 208,
   "id": "383911d8",
   "metadata": {},
   "outputs": [
    {
     "data": {
      "text/plain": [
       "['pádel', 'football', 'reading']"
      ]
     },
     "execution_count": 208,
     "metadata": {},
     "output_type": "execute_result"
    }
   ],
   "source": [
    "albert.hobbies"
   ]
  },
  {
   "cell_type": "code",
   "execution_count": 215,
   "id": "7224eacb",
   "metadata": {},
   "outputs": [],
   "source": [
    "import pandas as pd"
   ]
  },
  {
   "cell_type": "code",
   "execution_count": 216,
   "id": "3bda1790",
   "metadata": {},
   "outputs": [],
   "source": [
    "dict_random = {\"A\":[0, 1], \"B\":[4, 5]}"
   ]
  },
  {
   "cell_type": "code",
   "execution_count": 217,
   "id": "05aac249",
   "metadata": {},
   "outputs": [],
   "source": [
    "df = pd.DataFrame(dict_random)"
   ]
  },
  {
   "cell_type": "code",
   "execution_count": 218,
   "id": "1223d581",
   "metadata": {},
   "outputs": [
    {
     "data": {
      "text/plain": [
       "Index(['A', 'B'], dtype='object')"
      ]
     },
     "execution_count": 218,
     "metadata": {},
     "output_type": "execute_result"
    }
   ],
   "source": [
    "df.columns"
   ]
  },
  {
   "cell_type": "code",
   "execution_count": 219,
   "id": "87713306",
   "metadata": {},
   "outputs": [],
   "source": [
    "#df.drop(columns=[\"A\"])\n",
    "\n",
    "#self.columns.remove(\"A\")"
   ]
  },
  {
   "cell_type": "code",
   "execution_count": 224,
   "id": "bb7039e4",
   "metadata": {},
   "outputs": [
    {
     "data": {
      "text/plain": [
       "(2, 2)"
      ]
     },
     "execution_count": 224,
     "metadata": {},
     "output_type": "execute_result"
    }
   ],
   "source": [
    "df.shape"
   ]
  },
  {
   "cell_type": "code",
   "execution_count": 226,
   "id": "69e6eb15",
   "metadata": {},
   "outputs": [],
   "source": [
    "df.columns = [\"New\", \"New23\"]"
   ]
  },
  {
   "cell_type": "code",
   "execution_count": 227,
   "id": "73b959f7",
   "metadata": {},
   "outputs": [
    {
     "data": {
      "text/plain": [
       "Index(['New', 'New23'], dtype='object')"
      ]
     },
     "execution_count": 227,
     "metadata": {},
     "output_type": "execute_result"
    }
   ],
   "source": [
    "df.columns"
   ]
  },
  {
   "cell_type": "code",
   "execution_count": 232,
   "id": "147c0ab2",
   "metadata": {},
   "outputs": [],
   "source": [
    "albert.time_off = 20"
   ]
  },
  {
   "cell_type": "code",
   "execution_count": 233,
   "id": "30ffbe8c",
   "metadata": {},
   "outputs": [
    {
     "data": {
      "text/plain": [
       "20"
      ]
     },
     "execution_count": 233,
     "metadata": {},
     "output_type": "execute_result"
    }
   ],
   "source": [
    "albert.time_off"
   ]
  },
  {
   "cell_type": "markdown",
   "id": "b6c1dbd0",
   "metadata": {
    "lang": "en"
   },
   "source": [
    "#### Python is built with objects\n",
    "In Python primitive data types are also objects that have associated attributes and methods."
   ]
  },
  {
   "cell_type": "code",
   "execution_count": null,
   "id": "d7a7a599",
   "metadata": {},
   "outputs": [],
   "source": []
  },
  {
   "cell_type": "markdown",
   "id": "e6af3733",
   "metadata": {
    "lang": "en"
   },
   "source": [
    "Whenever we do .something, it is because we are calling the methods/attributes of that class"
   ]
  },
  {
   "cell_type": "markdown",
   "id": "2b7c965f",
   "metadata": {
    "lang": "en"
   },
   "source": [
    "### Class variables"
   ]
  },
  {
   "cell_type": "code",
   "execution_count": null,
   "id": "e55d6664",
   "metadata": {},
   "outputs": [],
   "source": []
  },
  {
   "cell_type": "markdown",
   "id": "2a28ab69",
   "metadata": {
    "lang": "en"
   },
   "source": [
    "In general, class attributes should not be used, except to store constant values."
   ]
  },
  {
   "cell_type": "markdown",
   "id": "9ad7387e",
   "metadata": {
    "lang": "en"
   },
   "source": [
    "**Exercise**\n",
    "\n",
    "Create a class `Circle` with:\n",
    "- radius as instance/object variable\n",
    "- pi (math.pi) as class variable\n",
    "- a compute_area(self) method that returns the area of ​​the \"circle\" object"
   ]
  },
  {
   "cell_type": "code",
   "execution_count": null,
   "id": "ec50974b",
   "metadata": {},
   "outputs": [],
   "source": [
    "class Staff ():\n",
    "    \n",
    "    # 1. Atributes\n",
    "    def __init__ (self, name, fname):\n",
    "        self.name = name\n",
    "        self.fname = fname\n",
    "    \n",
    "        self.email = (self.name + \".\" + self.fname + \"@ironhack.com\").lower()\n",
    "        \n",
    "        self.time_off = 30\n",
    "        \n",
    "    # 2. Methods\n",
    "    \n",
    "    def greetings (self):\n",
    "        return f\"Hello!!!!!!\"\n",
    "    \n",
    "    def takes_days_off (self, n):\n",
    "        self.time_off -= n"
   ]
  },
  {
   "cell_type": "code",
   "execution_count": 235,
   "id": "218d3713",
   "metadata": {},
   "outputs": [],
   "source": [
    "import math\n",
    "PI = math.pi"
   ]
  },
  {
   "cell_type": "code",
   "execution_count": 238,
   "id": "fb241557",
   "metadata": {},
   "outputs": [
    {
     "data": {
      "text/plain": [
       "12.566370614359172"
      ]
     },
     "execution_count": 238,
     "metadata": {},
     "output_type": "execute_result"
    }
   ],
   "source": [
    "class Circle ():\n",
    "    def __init__ (self, radius):\n",
    "        self.radius = radius\n",
    "    \n",
    "    def area (self):\n",
    "        return PI * self.radius ** 2\n",
    "        \n",
    "santi_circle = Circle(2) #radius\n",
    "santi_circle.area() #method"
   ]
  },
  {
   "cell_type": "code",
   "execution_count": null,
   "id": "d96adf5e",
   "metadata": {},
   "outputs": [],
   "source": [
    "# EQUATION\n",
    "  # area = pi * radius ** 2   "
   ]
  },
  {
   "cell_type": "code",
   "execution_count": null,
   "id": "892b6bca",
   "metadata": {},
   "outputs": [],
   "source": [
    "# 1. Create Circle class\n",
    "# 2. Instantiate that class\n",
    "\n",
    "santi_circle = Circle(3456789) #radius\n",
    "santi_circle.area() #method"
   ]
  },
  {
   "cell_type": "code",
   "execution_count": 267,
   "id": "ada6f74f",
   "metadata": {},
   "outputs": [],
   "source": [
    "# Gym\n",
    "# Customersa"
   ]
  },
  {
   "cell_type": "code",
   "execution_count": 291,
   "id": "a955d021",
   "metadata": {},
   "outputs": [],
   "source": [
    "class Gym ():\n",
    "    \n",
    "    # 1. Attributes: name, number of customers\n",
    "    def __init__ (self, name):\n",
    "        self.name = name\n",
    "        self.number_customers = 0\n",
    "        self.customers_per_month = { \"Jan\": 0,\n",
    "                                    \"Feb\": 0\n",
    "            \n",
    "        }\n",
    "        \n",
    "        #customers_per_month = {\"Jan\": 23, \"Feb\": 30...}\n",
    "\n",
    "    # 2. Methods: sign_up\n",
    "    def sing_up (self, month):\n",
    "        self.number_customers += 1\n",
    "        self.customers_per_month[month] += 1\n",
    "        return f\"The total number of customers is {self.customers_per_month}\"\n",
    "             "
   ]
  },
  {
   "cell_type": "code",
   "execution_count": 292,
   "id": "446f4485",
   "metadata": {},
   "outputs": [],
   "source": [
    "vivagym = Gym(\"viva\")"
   ]
  },
  {
   "cell_type": "code",
   "execution_count": 293,
   "id": "607184a1",
   "metadata": {},
   "outputs": [
    {
     "data": {
      "text/plain": [
       "'viva'"
      ]
     },
     "execution_count": 293,
     "metadata": {},
     "output_type": "execute_result"
    }
   ],
   "source": [
    "vivagym.name"
   ]
  },
  {
   "cell_type": "code",
   "execution_count": 294,
   "id": "ed2ea3cc",
   "metadata": {},
   "outputs": [
    {
     "data": {
      "text/plain": [
       "0"
      ]
     },
     "execution_count": 294,
     "metadata": {},
     "output_type": "execute_result"
    }
   ],
   "source": [
    "vivagym.number_customers"
   ]
  },
  {
   "cell_type": "code",
   "execution_count": 299,
   "id": "d4f027d1",
   "metadata": {},
   "outputs": [
    {
     "data": {
      "text/plain": [
       "\"The total number of customers is {'Jan': 3, 'Feb': 1}\""
      ]
     },
     "execution_count": 299,
     "metadata": {},
     "output_type": "execute_result"
    }
   ],
   "source": [
    "vivagym.sing_up(\"Feb\")"
   ]
  },
  {
   "cell_type": "code",
   "execution_count": 305,
   "id": "e9fead84",
   "metadata": {},
   "outputs": [],
   "source": [
    "class GymGoer ():\n",
    "    def __init__ (self, name):\n",
    "        self.name = name\n",
    "        \n",
    "    def sign_up_to_gym (self, month):\n",
    "        return month"
   ]
  },
  {
   "cell_type": "code",
   "execution_count": 306,
   "id": "4faa79c6",
   "metadata": {},
   "outputs": [],
   "source": [
    "santi = GymGoer(\"Santi\")"
   ]
  },
  {
   "cell_type": "code",
   "execution_count": 308,
   "id": "9b866a38",
   "metadata": {},
   "outputs": [
    {
     "data": {
      "text/plain": [
       "'Feb'"
      ]
     },
     "execution_count": 308,
     "metadata": {},
     "output_type": "execute_result"
    }
   ],
   "source": [
    "santi.sign_up_to_gym(\"Feb\")"
   ]
  },
  {
   "cell_type": "code",
   "execution_count": null,
   "id": "1f3c4352",
   "metadata": {},
   "outputs": [],
   "source": [
    "# class Gym -> sing_up(month)\n",
    "# class GymGoer -> sign_up_to_gym(month) -> month"
   ]
  },
  {
   "cell_type": "code",
   "execution_count": 310,
   "id": "2dba56a6",
   "metadata": {},
   "outputs": [
    {
     "data": {
      "text/plain": [
       "'Jan'"
      ]
     },
     "execution_count": 310,
     "metadata": {},
     "output_type": "execute_result"
    }
   ],
   "source": [
    "laura = GymGoer(\"Laura\")\n",
    "laura.sign_up_to_gym(\"Jan\")"
   ]
  },
  {
   "cell_type": "code",
   "execution_count": 311,
   "id": "bf6fc09b",
   "metadata": {},
   "outputs": [
    {
     "data": {
      "text/plain": [
       "'Jan'"
      ]
     },
     "execution_count": 311,
     "metadata": {},
     "output_type": "execute_result"
    }
   ],
   "source": [
    "albert = GymGoer(\"Laura\")\n",
    "albert.sign_up_to_gym(\"Jan\")"
   ]
  },
  {
   "cell_type": "code",
   "execution_count": 314,
   "id": "9a78f65a",
   "metadata": {},
   "outputs": [
    {
     "data": {
      "text/plain": [
       "\"The total number of customers is {'Jan': 4, 'Feb': 1}\""
      ]
     },
     "execution_count": 314,
     "metadata": {},
     "output_type": "execute_result"
    }
   ],
   "source": [
    "vivagym.sing_up(albert.sign_up_to_gym(\"Jan\"))"
   ]
  },
  {
   "cell_type": "code",
   "execution_count": 315,
   "id": "04340db2",
   "metadata": {},
   "outputs": [
    {
     "data": {
      "text/plain": [
       "\"The total number of customers is {'Jan': 4, 'Feb': 2}\""
      ]
     },
     "execution_count": 315,
     "metadata": {},
     "output_type": "execute_result"
    }
   ],
   "source": [
    "vivagym.sing_up(laura.sign_up_to_gym(\"Feb\"))"
   ]
  },
  {
   "cell_type": "code",
   "execution_count": 350,
   "id": "0f4a3029",
   "metadata": {},
   "outputs": [],
   "source": [
    "class Mario ():\n",
    "    \n",
    "    def __init__ (self, name):\n",
    "        self.name = name\n",
    "        self.life = 100\n",
    "        \n",
    "    def encounter_something (self, something):\n",
    "        self.life += something\n",
    "        if self.life <= 0:\n",
    "            return f\"You died :(\"\n",
    "        return self.life\n",
    "    "
   ]
  },
  {
   "cell_type": "code",
   "execution_count": 351,
   "id": "2a12061e",
   "metadata": {},
   "outputs": [],
   "source": [
    "class Mushroom ():\n",
    "    def __init__ (self):\n",
    "        self.power_up = 200"
   ]
  },
  {
   "cell_type": "code",
   "execution_count": 352,
   "id": "3a5ef76a",
   "metadata": {},
   "outputs": [],
   "source": [
    "class Bug ():\n",
    "    def __init__ (self):\n",
    "        self.power_up = - 100"
   ]
  },
  {
   "cell_type": "code",
   "execution_count": 353,
   "id": "ed8bdc22",
   "metadata": {},
   "outputs": [
    {
     "data": {
      "text/plain": [
       "200"
      ]
     },
     "execution_count": 353,
     "metadata": {},
     "output_type": "execute_result"
    }
   ],
   "source": [
    "mushroom_1 = Mushroom ()\n",
    "mushroom_1.power_up"
   ]
  },
  {
   "cell_type": "code",
   "execution_count": 354,
   "id": "094af412",
   "metadata": {},
   "outputs": [
    {
     "data": {
      "text/plain": [
       "-100"
      ]
     },
     "execution_count": 354,
     "metadata": {},
     "output_type": "execute_result"
    }
   ],
   "source": [
    "bug_1 = Bug ()\n",
    "bug_1.power_up"
   ]
  },
  {
   "cell_type": "code",
   "execution_count": 355,
   "id": "5c2b9eae",
   "metadata": {},
   "outputs": [],
   "source": [
    "mario_3 = Mario(\"mmmmmmmario\")"
   ]
  },
  {
   "cell_type": "code",
   "execution_count": 358,
   "id": "69209e39",
   "metadata": {},
   "outputs": [
    {
     "data": {
      "text/plain": [
       "300"
      ]
     },
     "execution_count": 358,
     "metadata": {},
     "output_type": "execute_result"
    }
   ],
   "source": [
    "mario_2.life"
   ]
  },
  {
   "cell_type": "code",
   "execution_count": 359,
   "id": "5019276d",
   "metadata": {},
   "outputs": [
    {
     "data": {
      "text/plain": [
       "500"
      ]
     },
     "execution_count": 359,
     "metadata": {},
     "output_type": "execute_result"
    }
   ],
   "source": [
    "mario_2.encounter_something(mushroom_1.power_up)"
   ]
  },
  {
   "cell_type": "code",
   "execution_count": 364,
   "id": "72029168",
   "metadata": {},
   "outputs": [
    {
     "data": {
      "text/plain": [
       "'You died :('"
      ]
     },
     "execution_count": 364,
     "metadata": {},
     "output_type": "execute_result"
    }
   ],
   "source": [
    "mario_2.encounter_something(bug_1.power_up)"
   ]
  },
  {
   "cell_type": "markdown",
   "id": "87cccad5",
   "metadata": {
    "lang": "en"
   },
   "source": [
    "## Before continuing, let's take a breath and review vocabulary"
   ]
  },
  {
   "cell_type": "markdown",
   "id": "9170647e",
   "metadata": {
    "lang": "en"
   },
   "source": [
    "- **Class**: The cookie mold. With the class we can generate instances or objects.\n",
    "- **Object**: The cookie we generated. Each object has different characteristics but under the same pattern as the class.\n",
    "- **Instance**: Same as object, it's a synonym :) hehe\n",
    "- **Attribute**: The different ingredients of each object. They are defined as arguments in the __init__ function but are saved as data when we instantiate an object by calling the class"
   ]
  },
  {
   "cell_type": "code",
   "execution_count": null,
   "id": "5c6951ca",
   "metadata": {},
   "outputs": [],
   "source": []
  },
  {
   "cell_type": "markdown",
   "id": "05499ca5",
   "metadata": {},
   "source": [
    "We can say that the attributes are the DATA, in this case \"Pau\" and \"Peracaula\".\n",
    "They are variables\n",
    "\n",
    "\n",
    "* **Class attribute**: Variables that belong to the class and that will be the same in all objects.\n",
    "* **Object/instance attribute**: The attributes explained above, specific to each object.\n",
    "* **Method**: Functions that do things"
   ]
  },
  {
   "cell_type": "markdown",
   "id": "8772dea7",
   "metadata": {
    "lang": "en"
   },
   "source": [
    "#### Easy exercise\n",
    "Kata --> https://www.codewars.com/kata/53f0f358b9cb376eca001079/train/python\n",
    "\n",
    "You can ignore the \"object\" for now"
   ]
  },
  {
   "cell_type": "code",
   "execution_count": 1,
   "id": "b6a27bcf",
   "metadata": {},
   "outputs": [],
   "source": []
  },
  {
   "cell_type": "markdown",
   "id": "pressed-proof",
   "metadata": {},
   "source": [
    "## Inheritance"
   ]
  },
  {
   "cell_type": "markdown",
   "id": "1f62f02d",
   "metadata": {
    "lang": "en"
   },
   "source": [
    "Inheritance allows defining new classes from existing classes. The class from which it is inherited is called the \"parent class\"/\"superclass\"/\"parent\". The class that it inherits is called a \"child class\" or \"subclass.\"\n",
    "The child class \"inherits\" all the properties of the parent class and allows us to override methods and attributes or add new ones. The fundamental advantage that the inheritance mechanism brings to programming is the ability to reuse code. Thus, a set of classes that share attributes and methods can inherit from a superclass where those methods and attributes are defined."
   ]
  },
  {
   "cell_type": "markdown",
   "id": "wanted-works",
   "metadata": {},
   "source": [
    "\n",
    "![miniyoda](https://media.giphy.com/media/j0eRJzyW7XjMpu1Pqd/giphy.gif)"
   ]
  },
  {
   "cell_type": "markdown",
   "id": "37b8b77c",
   "metadata": {
    "lang": "en"
   },
   "source": [
    "- Method defined in the `parent`, but not in the `child`\n",
    "\n",
    "In this case, the child will inherit the parent's method, it will work exactly the same and there is no need to override it.\n",
    "\n",
    "- Method defined in `Child`, but not in Parent\n",
    "\n",
    "The method only belongs to the child. Inheritance is one way.\n",
    "\n",
    "- Method set to \"both\".\n",
    "\n",
    "Two things can happen here, but both are a variant of the same fact. The method written in the `Child` class will override the one previously defined in Parent.\n",
    "\n",
    "However, if we want to use the original method and just add something else to it, we can always refer to the original (parent) method with `super()`. The `super()` function allows us to call any method of the parent class. Just remember to call it on the new define and make sure you get all the attributes it needs 😉 ."
   ]
  },
  {
   "cell_type": "code",
   "execution_count": 365,
   "id": "5bfd8b43",
   "metadata": {},
   "outputs": [],
   "source": [
    "class Staff ():\n",
    "    \n",
    "    # 1. Atributes\n",
    "    def __init__ (self, name, fname):\n",
    "        self.name = name\n",
    "        self.fname = fname\n",
    "    \n",
    "        self.email = (self.name + \".\" + self.fname + \"@ironhack.com\").lower()\n",
    "        \n",
    "        self.time_off = 30\n",
    "        \n",
    "        self.hobbies = []\n",
    "        \n",
    "        \n",
    "    # 2. Methods\n",
    "    \n",
    "    def greetings (self):\n",
    "        return f\"Hello!!!!!!\"\n",
    "    \n",
    "    def takes_days_off (self, days=1):\n",
    "        \"\"\"Default: take one day unless passed oterhwise\"\"\"\n",
    "        if days <= self.time_off:\n",
    "            self.time_off -= days\n",
    "            return f\"You have these many days left: {self.time_off}\"\n",
    "        else: \n",
    "            return f\"You only have {self.time_off} days available\"\n",
    "    \n",
    "    def hobbies_function(self, hobbie):\n",
    "        # adds elements to hobbies\n",
    "            # 1. what should this receive: hobbie\n",
    "            # 2. what should it do\n",
    "            # 3. return?\n",
    "        \n",
    "        self.hobbies.append(hobbie)\n",
    "        return f\"My hobbies are {self.hobbies}\"\n",
    "        "
   ]
  },
  {
   "cell_type": "code",
   "execution_count": 405,
   "id": "33b2c2c1",
   "metadata": {},
   "outputs": [],
   "source": [
    "albert = Staff(\"Albert\", \"Coca\")"
   ]
  },
  {
   "cell_type": "code",
   "execution_count": 406,
   "id": "020cdfa6",
   "metadata": {},
   "outputs": [
    {
     "data": {
      "text/plain": [
       "'Hello!!!!!!'"
      ]
     },
     "execution_count": 406,
     "metadata": {},
     "output_type": "execute_result"
    }
   ],
   "source": [
    "albert.greetings()"
   ]
  },
  {
   "cell_type": "code",
   "execution_count": 407,
   "id": "1b95990b",
   "metadata": {},
   "outputs": [
    {
     "ename": "AttributeError",
     "evalue": "'Staff' object has no attribute 'role'",
     "output_type": "error",
     "traceback": [
      "\u001b[0;31m---------------------------------------------------------------------------\u001b[0m",
      "\u001b[0;31mAttributeError\u001b[0m                            Traceback (most recent call last)",
      "Input \u001b[0;32mIn [407]\u001b[0m, in \u001b[0;36m<cell line: 1>\u001b[0;34m()\u001b[0m\n\u001b[0;32m----> 1\u001b[0m \u001b[43malbert\u001b[49m\u001b[38;5;241;43m.\u001b[39;49m\u001b[43mrole\u001b[49m()\n",
      "\u001b[0;31mAttributeError\u001b[0m: 'Staff' object has no attribute 'role'"
     ]
    }
   ],
   "source": [
    "albert.role()"
   ]
  },
  {
   "cell_type": "code",
   "execution_count": 434,
   "id": "e10e17e7",
   "metadata": {},
   "outputs": [
    {
     "ename": "AttributeError",
     "evalue": "'int' object has no attribute 'append'",
     "output_type": "error",
     "traceback": [
      "\u001b[0;31m---------------------------------------------------------------------------\u001b[0m",
      "\u001b[0;31mAttributeError\u001b[0m                            Traceback (most recent call last)",
      "Input \u001b[0;32mIn [434]\u001b[0m, in \u001b[0;36m<cell line: 1>\u001b[0;34m()\u001b[0m\n\u001b[0;32m----> 1\u001b[0m \u001b[43ma\u001b[49m\u001b[38;5;241;43m.\u001b[39;49m\u001b[43mappend\u001b[49m(\u001b[38;5;124m\"\u001b[39m\u001b[38;5;124melement\u001b[39m\u001b[38;5;124m\"\u001b[39m)\n",
      "\u001b[0;31mAttributeError\u001b[0m: 'int' object has no attribute 'append'"
     ]
    }
   ],
   "source": [
    "a.append(\"element\")"
   ]
  },
  {
   "cell_type": "code",
   "execution_count": 433,
   "id": "07bdee44",
   "metadata": {},
   "outputs": [
    {
     "ename": "AttributeError",
     "evalue": "'int' object has no attribute 'upper'",
     "output_type": "error",
     "traceback": [
      "\u001b[0;31m---------------------------------------------------------------------------\u001b[0m",
      "\u001b[0;31mAttributeError\u001b[0m                            Traceback (most recent call last)",
      "Input \u001b[0;32mIn [433]\u001b[0m, in \u001b[0;36m<cell line: 2>\u001b[0;34m()\u001b[0m\n\u001b[1;32m      1\u001b[0m a \u001b[38;5;241m=\u001b[39m \u001b[38;5;241m6789\u001b[39m\n\u001b[0;32m----> 2\u001b[0m \u001b[43ma\u001b[49m\u001b[38;5;241;43m.\u001b[39;49m\u001b[43mupper\u001b[49m()\n",
      "\u001b[0;31mAttributeError\u001b[0m: 'int' object has no attribute 'upper'"
     ]
    }
   ],
   "source": [
    "a = 6789\n",
    "a.upper()"
   ]
  },
  {
   "cell_type": "code",
   "execution_count": 366,
   "id": "570264c3",
   "metadata": {},
   "outputs": [],
   "source": [
    "# Teachers\n",
    "# Marketing\n",
    "# Admissions\n",
    "# ..."
   ]
  },
  {
   "cell_type": "code",
   "execution_count": 402,
   "id": "5aec7296",
   "metadata": {},
   "outputs": [],
   "source": [
    "class Marketing (Staff):\n",
    "    def __init__ (self, name, fname):\n",
    "        self.name = name\n",
    "        self.fname = fname\n",
    "        \n",
    "        self.time_off = 25\n",
    "        \n",
    "    def role (self):\n",
    "        return f\"Hello! I work in marketing\""
   ]
  },
  {
   "cell_type": "code",
   "execution_count": 428,
   "id": "17317c24",
   "metadata": {},
   "outputs": [],
   "source": [
    "class Teaching (Marketing):\n",
    "    pass"
   ]
  },
  {
   "cell_type": "code",
   "execution_count": 429,
   "id": "449a696c",
   "metadata": {},
   "outputs": [],
   "source": [
    "hugo = Teaching(\"Hugo\", \"Jouffree\")"
   ]
  },
  {
   "cell_type": "code",
   "execution_count": 430,
   "id": "9fc0f668",
   "metadata": {},
   "outputs": [
    {
     "data": {
      "text/plain": [
       "'Hugo'"
      ]
     },
     "execution_count": 430,
     "metadata": {},
     "output_type": "execute_result"
    }
   ],
   "source": [
    "hugo.name"
   ]
  },
  {
   "cell_type": "code",
   "execution_count": 431,
   "id": "d9aa816c",
   "metadata": {},
   "outputs": [
    {
     "data": {
      "text/plain": [
       "25"
      ]
     },
     "execution_count": 431,
     "metadata": {},
     "output_type": "execute_result"
    }
   ],
   "source": [
    "hugo.time_off"
   ]
  },
  {
   "cell_type": "code",
   "execution_count": 410,
   "id": "abdd7f43",
   "metadata": {},
   "outputs": [],
   "source": [
    "class Teaching (Staff):\n",
    "    def __init__ (self, name, fname):\n",
    "        super().__init__(name, fname) #taking the things from PARENT class\n",
    "        self.time_off = 25\n",
    "        \n",
    "    def role (self):\n",
    "        return f\"Hello! I work in marketing\""
   ]
  },
  {
   "cell_type": "code",
   "execution_count": null,
   "id": "cada734b",
   "metadata": {},
   "outputs": [],
   "source": []
  },
  {
   "cell_type": "code",
   "execution_count": 403,
   "id": "c0e4cec7",
   "metadata": {},
   "outputs": [],
   "source": [
    "laura = Marketing(\"Laura\", \"Molas\")"
   ]
  },
  {
   "cell_type": "code",
   "execution_count": 408,
   "id": "a8d1460d",
   "metadata": {},
   "outputs": [
    {
     "data": {
      "text/plain": [
       "'Hello! I work in marketing'"
      ]
     },
     "execution_count": 408,
     "metadata": {},
     "output_type": "execute_result"
    }
   ],
   "source": [
    "laura.role()"
   ]
  },
  {
   "cell_type": "code",
   "execution_count": 400,
   "id": "12c7d97a",
   "metadata": {},
   "outputs": [],
   "source": [
    "laura.name = \"LLLLLLaura\""
   ]
  },
  {
   "cell_type": "code",
   "execution_count": 401,
   "id": "f01334f8",
   "metadata": {},
   "outputs": [
    {
     "data": {
      "text/plain": [
       "'LLLLLLaura'"
      ]
     },
     "execution_count": 401,
     "metadata": {},
     "output_type": "execute_result"
    }
   ],
   "source": [
    "laura.name"
   ]
  },
  {
   "cell_type": "code",
   "execution_count": 394,
   "id": "81dc66aa",
   "metadata": {},
   "outputs": [
    {
     "data": {
      "text/plain": [
       "True"
      ]
     },
     "execution_count": 394,
     "metadata": {},
     "output_type": "execute_result"
    }
   ],
   "source": [
    "isinstance(laura, Marketing)"
   ]
  },
  {
   "cell_type": "code",
   "execution_count": 395,
   "id": "2f82a5d8",
   "metadata": {},
   "outputs": [
    {
     "data": {
      "text/plain": [
       "25"
      ]
     },
     "execution_count": 395,
     "metadata": {},
     "output_type": "execute_result"
    }
   ],
   "source": [
    "laura.time_off"
   ]
  },
  {
   "cell_type": "code",
   "execution_count": 386,
   "id": "95a91c75",
   "metadata": {},
   "outputs": [
    {
     "data": {
      "text/plain": [
       "{'name': 'Laura',\n",
       " 'fname': 'Molas',\n",
       " 'email': 'laura.molas@ironhack.com',\n",
       " 'time_off': 23,\n",
       " 'hobbies': []}"
      ]
     },
     "execution_count": 386,
     "metadata": {},
     "output_type": "execute_result"
    }
   ],
   "source": [
    "laura.__dict__"
   ]
  },
  {
   "cell_type": "code",
   "execution_count": 377,
   "id": "23bd38dc",
   "metadata": {},
   "outputs": [
    {
     "data": {
      "text/plain": [
       "'laura.molas@ironhack.com'"
      ]
     },
     "execution_count": 377,
     "metadata": {},
     "output_type": "execute_result"
    }
   ],
   "source": [
    "laura.email"
   ]
  },
  {
   "cell_type": "code",
   "execution_count": 398,
   "id": "bb7e6bce",
   "metadata": {},
   "outputs": [
    {
     "data": {
      "text/plain": [
       "'You have these many days left: 22'"
      ]
     },
     "execution_count": 398,
     "metadata": {},
     "output_type": "execute_result"
    }
   ],
   "source": [
    "laura.takes_days_off()"
   ]
  },
  {
   "cell_type": "code",
   "execution_count": 369,
   "id": "a557540c",
   "metadata": {},
   "outputs": [],
   "source": [
    "class Teaching (Staff):\n",
    "    pass"
   ]
  },
  {
   "cell_type": "markdown",
   "id": "willing-workshop",
   "metadata": {},
   "source": [
    "### super()"
   ]
  },
  {
   "cell_type": "code",
   "execution_count": null,
   "id": "2800959e",
   "metadata": {},
   "outputs": [],
   "source": []
  },
  {
   "cell_type": "markdown",
   "id": "06927b5c",
   "metadata": {},
   "source": [
    "## Summary"
   ]
  },
  {
   "cell_type": "code",
   "execution_count": 435,
   "id": "b3bebe83",
   "metadata": {},
   "outputs": [
    {
     "data": {
      "text/plain": [
       "'·wda<fsersdsdsd'"
      ]
     },
     "execution_count": 435,
     "metadata": {},
     "output_type": "execute_result"
    }
   ],
   "source": [
    "string_1 = \"·wda<fser\"\n",
    "string_2 = \"sdsdsd\"\n",
    "string_1 + string_2\n",
    "# string_1.__add__(string_2)\n",
    "\n",
    "laura = Staff(\"Laura\", \"Molas\")\n",
    "# Staff.__init__(\"Laura\", \"Molas\")"
   ]
  },
  {
   "cell_type": "markdown",
   "id": "5c2bda49",
   "metadata": {},
   "source": [
    "# OOP\n",
    "\n",
    "- They're fun :) \n",
    "- OOP: paradigm in programming (imperative, functional & OOP)\n",
    "- What is an object?\n",
    "    - everything in Python is an object\n",
    "    - object/class\n",
    "    - Save attributes (variables) & methods (functions)\n",
    "- Naming convention: class Object(), def a_function, \n",
    "    - CONSTANTS = PI\n",
    "    - variables, one_variables\n",
    "    \n",
    "- Instances\n",
    "    - laura/albert are instances of the class Staff\n",
    "    - an example of the class\n",
    "    - class Car -> instance (my bmw from 1999)\n",
    "    \n",
    "- def __init_ (self): to create the instances\n",
    "    - whatever we pass in init func: what we need to pass\n",
    "    - when instantiating\n",
    "    \n",
    "- self\n",
    "    - to get the value from itself\n",
    "    - \"sdsdsdsd\".upper()\n",
    "    - self.time_off \n",
    "    - self refers to the object: \"sdsdsdsd\", albert, laura\n",
    "    \n",
    "- all the methods take self\n",
    "    - can take arguments: self, something_else\n",
    "    \n",
    "- arguments can be default or not\n",
    "    - we can have attributes: we pass when isntantiating\n",
    "    - we can have attributes default: email, holidays\n",
    "    \n",
    "- we can inherit classes\n",
    "    - class Staff ()\n",
    "        - class Marketing (Staff)\n",
    "            - class PaidSocialMedia (Marketing)\n",
    "        - class Teaching (Staff)\n",
    "        - ...\n",
    "\n",
    "- Instances recieve values\n",
    "    - Those values can be someone else's attributes\n",
    "        - Mario can recieve the power of a mushroom\n",
    "\n",
    "    - The gym can take the amount of memebersip from someone new customer\n",
    "    \n",
    "   "
   ]
  },
  {
   "cell_type": "markdown",
   "id": "985b94ba",
   "metadata": {},
   "source": [
    "# TIPS FOR THE LAB\n",
    "\n",
    "- ALWAYS READ ERROR MESSAGES\n",
    "- Self: pay attention when you need it and when you don't\n",
    "    - either too many times\n",
    "    - too little\n",
    "- TDD (test-driven-development): exact match\n",
    "    - Strings?: the same down the commas and spaces\n",
    "    - \"Harald received 10 points of damage\"\n",
    "       \"Harald recieved 10 points of damage\"\n",
    "    - strenght/strength (right)\n",
    "- maybe include some prints?"
   ]
  },
  {
   "cell_type": "markdown",
   "id": "7d8865bd",
   "metadata": {
    "lang": "en"
   },
   "source": [
    "## Furthermaterials\n",
    "\n",
    "- Youtube Tutorial by [Corey Schafer](https://www.youtube.com/watch?v=ZDa-Z5JzLYM)\n",
    "- [Real Python](https://docs.hektorprofe.net/python/object-oriented-programming/classes-and-objects/)\n",
    "- [Interesting read](https://medium.com/@shaistha24/functional-programming-vs-object-oriented-programming-oop-which-is-better-82172e53a526) --> OOP vs Functional programming"
   ]
  },
  {
   "cell_type": "markdown",
   "id": "92bd3cce",
   "metadata": {
    "lang": "en"
   },
   "source": [
    "### Methods **ADVANCED** @classmethod@staticmethod\n",
    "* [Real Python - @classmethod/@stathicmethod](https://realpython.com/instance-class-and-static-methods-demystified/). Advanced Python with decorators (we'll mention them later)"
   ]
  }
 ],
 "metadata": {
  "kernelspec": {
   "display_name": "ironhack",
   "language": "python",
   "name": "ironhack"
  },
  "language_info": {
   "codemirror_mode": {
    "name": "ipython",
    "version": 3
   },
   "file_extension": ".py",
   "mimetype": "text/x-python",
   "name": "python",
   "nbconvert_exporter": "python",
   "pygments_lexer": "ipython3",
   "version": "3.9.12"
  },
  "nbTranslate": {
   "displayLangs": [
    "en",
    "es"
   ],
   "hotkey": "alt-a",
   "langInMainMenu": true,
   "sourceLang": "es",
   "targetLang": "en",
   "useGoogleTranslate": true
  },
  "toc": {
   "base_numbering": 1,
   "nav_menu": {},
   "number_sections": true,
   "sideBar": true,
   "skip_h1_title": true,
   "title_cell": "Table of Contents",
   "title_sidebar": "Contents",
   "toc_cell": true,
   "toc_position": {
    "height": "calc(100% - 180px)",
    "left": "10px",
    "top": "150px",
    "width": "288px"
   },
   "toc_section_display": true,
   "toc_window_display": false
  }
 },
 "nbformat": 4,
 "nbformat_minor": 5
}

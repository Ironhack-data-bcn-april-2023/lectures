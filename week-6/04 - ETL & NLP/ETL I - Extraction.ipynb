{
 "cells": [
  {
   "cell_type": "markdown",
   "id": "sporting-delta",
   "metadata": {},
   "source": [
    "# <center>📦🧹🔍ETL 🔍🧹📦<center>"
   ]
  },
  {
   "cell_type": "markdown",
   "id": "different-luxembourg",
   "metadata": {
    "toc": true
   },
   "source": [
    "<h1>Table of Contents<span class=\"tocSkip\"></span></h1>\n",
    "<div class=\"toc\"><ul class=\"toc-item\"><li><span><a href=\"#What-does-ETL-stand-for?\" data-toc-modified-id=\"What-does-ETL-stand-for?-1\"><span class=\"toc-item-num\">1&nbsp;&nbsp;</span>What does ETL stand for?</a></span></li><li><span><a href=\"#What-are-we-going-to-do?\" data-toc-modified-id=\"What-are-we-going-to-do?-2\"><span class=\"toc-item-num\">2&nbsp;&nbsp;</span>What are we going to do?</a></span></li><li><span><a href=\"#We-import-libraries\" data-toc-modified-id=\"We-import-libraries-3\"><span class=\"toc-item-num\">3&nbsp;&nbsp;</span>We import libraries</a></span></li><li><span><a href=\"#Mission-1:-Obtain-the-Spotify-token-to-use-its-API-🗝\" data-toc-modified-id=\"Mission-1:-Obtain-the-Spotify-token-to-use-its-API-🗝-4\"><span class=\"toc-item-num\">4&nbsp;&nbsp;</span>Mission 1: Obtain the Spotify token to use its API 🗝</a></span></li><li><span><a href=\"#Spotify-token\" data-toc-modified-id=\"Spotify-token-5\"><span class=\"toc-item-num\">5&nbsp;&nbsp;</span>Spotify token</a></span></li><li><span><a href=\"#We-save-the-token-in-our-.env\" data-toc-modified-id=\"We-save-the-token-in-our-.env-6\"><span class=\"toc-item-num\">6&nbsp;&nbsp;</span>We save the token in our .env</a></span></li><li><span><a href=\"#📚-Recap-so-far:\" data-toc-modified-id=\"📚-Recap-so-far:-7\"><span class=\"toc-item-num\">7&nbsp;&nbsp;</span>📚 Recap so far:</a></span></li><li><span><a href=\"#Mission-2:-Get-the-list-of-songs-and-artists-from-the-Spotify-API-🔥\" data-toc-modified-id=\"Mission-2:-Get-the-list-of-songs-and-artists-from-the-Spotify-API-🔥-8\"><span class=\"toc-item-num\">8&nbsp;&nbsp;</span>Mission 2: Get the list of songs and artists from the Spotify API 🔥</a></span><ul class=\"toc-item\"><li><span><a href=\"#Spotify-API-call\" data-toc-modified-id=\"Spotify-API-call-8.1\"><span class=\"toc-item-num\">8.1&nbsp;&nbsp;</span>Spotify API call</a></span><ul class=\"toc-item\"><li><span><a href=\"#We-need-token-and-headers\" data-toc-modified-id=\"We-need-token-and-headers-8.1.1\"><span class=\"toc-item-num\">8.1.1&nbsp;&nbsp;</span>We need token and headers</a></span></li><li><span><a href=\"#Url-+-endpoint\" data-toc-modified-id=\"Url-+-endpoint-8.1.2\"><span class=\"toc-item-num\">8.1.2&nbsp;&nbsp;</span>Url + endpoint</a></span></li><li><span><a href=\"#We-make-the-request\" data-toc-modified-id=\"We-make-the-request-8.1.3\"><span class=\"toc-item-num\">8.1.3&nbsp;&nbsp;</span>We make the request</a></span></li><li><span><a href=\"#Function-to-extract-info-from-dictionaries\" data-toc-modified-id=\"Function-to-extract-info-from-dictionaries-8.1.4\"><span class=\"toc-item-num\">8.1.4&nbsp;&nbsp;</span>Function to extract info from dictionaries</a></span></li></ul></li><li><span><a href=\"#We're-taking-it-to-Pandas!-🐼\" data-toc-modified-id=\"We're-taking-it-to-Pandas!-🐼-8.2\"><span class=\"toc-item-num\">8.2&nbsp;&nbsp;</span>We're taking it to Pandas! 🐼</a></span></li></ul></li><li><span><a href=\"#Mission-3:-Get-song-lyrics\" data-toc-modified-id=\"Mission-3:-Get-song-lyrics-9\"><span class=\"toc-item-num\">9&nbsp;&nbsp;</span>Mission 3: Get song lyrics</a></span><ul class=\"toc-item\"><li><span><a href=\"#store-it-in-a-variable\" data-toc-modified-id=\"store-it-in-a-variable-9.1\"><span class=\"toc-item-num\">9.1&nbsp;&nbsp;</span>store it in a variable</a></span></li><li><span><a href=\"#We-are-looking-for-some-lyrics\" data-toc-modified-id=\"We-are-looking-for-some-lyrics-9.2\"><span class=\"toc-item-num\">9.2&nbsp;&nbsp;</span>We are looking for some lyrics</a></span></li><li><span><a href=\"#Many-lyrics!\" data-toc-modified-id=\"Many-lyrics!-9.3\"><span class=\"toc-item-num\">9.3&nbsp;&nbsp;</span>Many lyrics!</a></span></li></ul></li></ul></div>"
   ]
  },
  {
   "cell_type": "markdown",
   "id": "sixth-transparency",
   "metadata": {},
   "source": [
    "![data](https://media.giphy.com/media/xT9C25UNTwfZuk85WP/giphy.gif)"
   ]
  },
  {
   "cell_type": "markdown",
   "id": "38d2da58",
   "metadata": {
    "lang": "en"
   },
   "source": [
    "# Process to follow during the 3 jupyter notebook\n",
    "**Jupyter ETL I - Extraction and transformation**\n",
    "\n",
    "* I get spotify token\n",
    "* I make request to the API:\n",
    "    - Be careful if the lists have more than 100 songs\n",
    "    - Functions that automate the process\n",
    "* I get the lyrics of the songs (enrichment) with another library\n",
    "\n",
    "**Jupyter ETL II - Loading**\n",
    "\n",
    "* I connect with the databases\n",
    "* I create my schema in MySQL\n",
    "* I clean the data a bit\n",
    "* Check functions before putting my data in the database\n",
    "* I load my data to MySQL\n",
    "* I export json to load it in MongoDB\n",
    "\n",
    "**Jupyter NLP**\n",
    "* I get the data I want from the databases\n",
    "* Tokenize and remove stop words\n",
    "* I do Sentiment Analysis with the libraries\n",
    "* draw conclusions"
   ]
  },
  {
   "cell_type": "markdown",
   "id": "15697289",
   "metadata": {
    "lang": "en"
   },
   "source": [
    "## What does ETL stand for?\n",
    "**Extract**, **Transform** and **Load** is the process that enables organizations to move data from multiple sources, reformat and cleanse it, and load it into another database, data mart, or data warehouse to analyze, or in another operational system to support a business process."
   ]
  },
  {
   "cell_type": "markdown",
   "id": "32b06979",
   "metadata": {
    "lang": "en"
   },
   "source": [
    "## What are we going to do?\n",
    "- Learn to use the Spotify API with Oauth\n",
    "- Extract data from said API\n",
    "- Clean and transform them\n",
    "- Enrich them\n",
    "- Save them in different databases\n",
    "- Make queries to do sentiment analysis with NLP libraries"
   ]
  },
  {
   "cell_type": "markdown",
   "id": "1fd8254e",
   "metadata": {
    "lang": "en"
   },
   "source": [
    "## We import libraries"
   ]
  },
  {
   "cell_type": "code",
   "execution_count": null,
   "id": "statutory-shirt",
   "metadata": {},
   "outputs": [],
   "source": [
    "import os\n",
    "\n",
    "import json\n",
    "import requests\n",
    "import pyjsonviewer\n",
    "\n",
    "from functools import reduce\n",
    "import operator\n",
    "\n",
    "import pandas as pd\n",
    "import numpy as np\n",
    "\n",
    "import lyricsgenius\n",
    "from lyrics_extractor import SongLyrics\n",
    "\n",
    "from dotenv import load_dotenv\n",
    "load_dotenv()"
   ]
  },
  {
   "cell_type": "markdown",
   "id": "f85bdca4",
   "metadata": {},
   "source": [
    "https://open.spotify.com/playlist/6DaKU06d03UDpVjPZhF19X?si=4865e6ee629d488b&pt=0ae09e3cb50938ee8f2fc768c208c1c2"
   ]
  },
  {
   "cell_type": "markdown",
   "id": "d1eb77e7",
   "metadata": {
    "lang": "en"
   },
   "source": [
    "## Mission 1: Obtain the Spotify token to use its API 🗝"
   ]
  },
  {
   "cell_type": "markdown",
   "id": "9b5d57d3",
   "metadata": {
    "lang": "en"
   },
   "source": [
    "## Spotify token\n",
    "https://developer.spotify.com/dashboard/login\n",
    "We need to have the CLIENT_ID and SECRET_ID tokens, and we store them in the `.env`.\n",
    "\n",
    "\n",
    "1. Sign up as a devloper\n",
    "2. Create an APP/project on spotify\n",
    "3. Get client_id & client_secret\n",
    "\n",
    "To call the spotify api and get the token that will allow us to make a request, we are going to have to save a few variables.\n",
    "Read the [Documentation](https://developer.spotify.com/documentation/general/guides/authorization-guide/)"
   ]
  },
  {
   "cell_type": "code",
   "execution_count": null,
   "id": "tracked-performance",
   "metadata": {},
   "outputs": [],
   "source": [
    "# 1. Auth for app\n",
    "    # CLIENT_ID\n",
    "    # CLIENT_SECRET\n",
    "\n",
    "# 2. Auth for queries    \n",
    "    # token"
   ]
  },
  {
   "cell_type": "code",
   "execution_count": null,
   "id": "e6cecfdc",
   "metadata": {},
   "outputs": [],
   "source": [
    "body_params = {\"grant_type\":\"client_credentials\"}\n",
    "\n",
    "url = \"https://accounts.spotify.com/api/token\""
   ]
  },
  {
   "cell_type": "code",
   "execution_count": null,
   "id": "ed8a5f54",
   "metadata": {},
   "outputs": [],
   "source": []
  },
  {
   "cell_type": "markdown",
   "id": "fa31e2eb",
   "metadata": {
    "lang": "en"
   },
   "source": [
    "We are going to write all this in a function because, as we have seen, the token expires and so we can call it whenever we want and reuse it. This is what functions are for!"
   ]
  },
  {
   "cell_type": "code",
   "execution_count": null,
   "id": "97705f54",
   "metadata": {},
   "outputs": [],
   "source": [
    "# I need to hide my credentials: .env"
   ]
  },
  {
   "cell_type": "code",
   "execution_count": null,
   "id": "7ae33bb2",
   "metadata": {},
   "outputs": [],
   "source": []
  },
  {
   "cell_type": "markdown",
   "id": "9f3bb6d5",
   "metadata": {
    "lang": "en"
   },
   "source": [
    "## We save the token in our .env"
   ]
  },
  {
   "cell_type": "code",
   "execution_count": null,
   "id": "4ab152fe",
   "metadata": {},
   "outputs": [],
   "source": [
    "# 1. Crearte .env\n",
    "# 2. Input the variables"
   ]
  },
  {
   "cell_type": "markdown",
   "id": "de68e569",
   "metadata": {
    "lang": "en"
   },
   "source": [
    "We make a function that does the same thing to be able to reuse it"
   ]
  },
  {
   "cell_type": "markdown",
   "id": "67d00804",
   "metadata": {
    "lang": "en"
   },
   "source": [
    "## 📚 Recap so far:\n",
    "\n",
    "**What we have done**\n",
    "- 1. We get our Spotify authentication\n",
    "- 2. With that, we get our spotify `token`: issuing a request.post\n",
    "- 3. We save the `token` in the .env <br>\n",
    "<br>\n",
    "\n",
    "**To remember**\n",
    "\n",
    "- **CLIENT_ID** & **CLIENT_SECRET** is just a means to get the `token`, not the authentication itself.\n",
    "- The `token` expires"
   ]
  },
  {
   "cell_type": "markdown",
   "id": "97f31804",
   "metadata": {
    "lang": "en"
   },
   "source": [
    "## Mission 2: Get the list of songs and artists from the Spotify API 🔥\n",
    "But let's not forget about the [documentation](https://developer.spotify.com/console/)\n",
    "The first thing we are going to do is make an API call\n",
    "Let's remember the syntax:\n",
    "\n",
    "`request.get(url, headers)`"
   ]
  },
  {
   "cell_type": "markdown",
   "id": "6cc165e5",
   "metadata": {
    "lang": "en"
   },
   "source": [
    "### Spotify API call"
   ]
  },
  {
   "cell_type": "markdown",
   "id": "107e66e6",
   "metadata": {
    "lang": "en"
   },
   "source": [
    "#### We need token and headers"
   ]
  },
  {
   "cell_type": "markdown",
   "id": "8c521f1a",
   "metadata": {},
   "source": [
    "`headers = {\"Authorization\":f\"Bearer {token}\"}`"
   ]
  },
  {
   "cell_type": "code",
   "execution_count": null,
   "id": "1ccc03b6",
   "metadata": {},
   "outputs": [],
   "source": []
  },
  {
   "cell_type": "markdown",
   "id": "727f5922",
   "metadata": {
    "lang": "en"
   },
   "source": [
    "We take the ID of the list of the share link that comes out in spotify (Link of the song)\n",
    "https://open.spotify.com/playlist/6DaKU06d03UDpVjPZhF19X?si=838e81628a2e4a23"
   ]
  },
  {
   "cell_type": "markdown",
   "id": "fbb93477",
   "metadata": {},
   "source": [
    "`url_base = \"https://api.spotify.com/v1/playlists/\"`"
   ]
  },
  {
   "cell_type": "code",
   "execution_count": null,
   "id": "6c63acc2",
   "metadata": {},
   "outputs": [],
   "source": []
  },
  {
   "cell_type": "markdown",
   "id": "284837b0",
   "metadata": {
    "lang": "en"
   },
   "source": [
    "The ID of the list from which we want to make the request"
   ]
  },
  {
   "cell_type": "code",
   "execution_count": null,
   "id": "937b7645",
   "metadata": {},
   "outputs": [],
   "source": []
  },
  {
   "cell_type": "markdown",
   "id": "exterior-gibraltar",
   "metadata": {},
   "source": [
    "#### Url + endpoint"
   ]
  },
  {
   "cell_type": "code",
   "execution_count": null,
   "id": "98700403",
   "metadata": {},
   "outputs": [],
   "source": []
  },
  {
   "cell_type": "markdown",
   "id": "bd0188c5",
   "metadata": {
    "lang": "en"
   },
   "source": [
    "#### We make the request"
   ]
  },
  {
   "cell_type": "code",
   "execution_count": null,
   "id": "44d96bcb",
   "metadata": {},
   "outputs": [],
   "source": []
  },
  {
   "cell_type": "markdown",
   "id": "b6f4d47d",
   "metadata": {},
   "source": [
    "Popularity: according to a 1second google search\n",
    "    \n",
    "    Spotify's Popularity index is a 0-100 scale rating of how popular you are compared to every other artist on the platform. Some music marketing chatter suggests a PI of 20+ in the first few weeks will get you onto Release Radar and a PI of 30+ will get you onto Discover Weekly."
   ]
  },
  {
   "cell_type": "code",
   "execution_count": null,
   "id": "2281c947",
   "metadata": {},
   "outputs": [],
   "source": []
  },
  {
   "cell_type": "markdown",
   "id": "34554033",
   "metadata": {
    "lang": "en"
   },
   "source": [
    "#### Function to extract info from dictionaries"
   ]
  },
  {
   "cell_type": "code",
   "execution_count": null,
   "id": "d3243251",
   "metadata": {},
   "outputs": [],
   "source": []
  },
  {
   "cell_type": "markdown",
   "id": "e6818c88",
   "metadata": {
    "lang": "en"
   },
   "source": [
    "### We're taking it to Pandas! 🐼\n",
    "How? Easy...."
   ]
  },
  {
   "cell_type": "code",
   "execution_count": null,
   "id": "2e158f70",
   "metadata": {},
   "outputs": [],
   "source": []
  },
  {
   "cell_type": "markdown",
   "id": "51e8af9c",
   "metadata": {
    "lang": "en"
   },
   "source": [
    "# 📚 Recap so far:\n",
    "\n",
    "**What we did**\n",
    "- 0. We call the spotify API with a request of the type post so that it gives me the token\n",
    "- 1. We made a call to the Spotify API: to get the list information\n",
    "- 2. We get only the songs and artists from the json\n",
    "- 3. We make functions that automate processes and reuse code\n",
    "- 4. We have a dataframe\n",
    "<br>\n",
    "\n",
    "**To remember**\n",
    "\n",
    "- Add the `.env` to the `.gitignore`."
   ]
  },
  {
   "cell_type": "code",
   "execution_count": null,
   "id": "ebcf0b6b",
   "metadata": {},
   "outputs": [],
   "source": []
  },
  {
   "cell_type": "markdown",
   "id": "322c8c4f",
   "metadata": {},
   "source": [
    "## Mission 3: Get song lyrics"
   ]
  },
  {
   "cell_type": "markdown",
   "id": "70f162da",
   "metadata": {},
   "source": [
    "`Approach 1: SongLyrics library`"
   ]
  },
  {
   "cell_type": "markdown",
   "id": "0cd6d65c",
   "metadata": {
    "lang": "en"
   },
   "source": [
    "Lyrics extractor is a library that scribes some pages of song lyrics for us.\n",
    "We take a look at the [documentation](https://pypi.org/project/lyrics-extractor/) ALWAYS, especially the \n",
    "\n",
    "**Requirements** part that will explain the things we need to have for it to work .\n",
    "\n",
    "We need to create the KEYs for this library\n",
    "1.1.1. **[First](https://cse.google.com/cse/create/new)**, create a custom search engine: select a website of letters to scrape. for example: www.genius.com <br>\n",
    "1.1.2. **Second**, `Edit your search engine > select your website > Copy your search engine ID`.\n",
    "You now have your **GCS_ENGINE_ID**<br>\n",
    "1.1.3. **[Then](https://developers.google.com/custom-search/v1/overview)**, `Get a key > Select project > copy search engine API key`. You now have your **GCS_API_KEY**.\n",
    "\n",
    "```python\n",
    "from lyrics_extractor import SongLyrics\n",
    "extract_lyrics = SongLyrics(GCS_API_KEY, GCS_ENGINE_ID)\n",
    "\n",
    "sheeran = get_lyrics(\"Ed Sheeran\", \"shape of you\")\n",
    "sheeran\n",
    "```"
   ]
  },
  {
   "cell_type": "markdown",
   "id": "48fc9b7b",
   "metadata": {},
   "source": [
    "`Approach 2: lyricsgenius`\n",
    "\n",
    "1. Install lyrics genius\n",
    "2. Sign up\n",
    "3. Create an [API client](https://genius.com/api-clients)\n",
    "   - Use \"https://whatever.com\" as your website"
   ]
  },
  {
   "cell_type": "code",
   "execution_count": null,
   "id": "160ec4df",
   "metadata": {},
   "outputs": [],
   "source": [
    "#!pip install lyricsgenius\n",
    "import lyricsgenius"
   ]
  },
  {
   "cell_type": "markdown",
   "id": "b99e04df",
   "metadata": {
    "lang": "en"
   },
   "source": [
    "### store it in a variable\n",
    "We save the library in a variable by calling SongLyrics and passing it the keys"
   ]
  },
  {
   "cell_type": "code",
   "execution_count": null,
   "id": "973d6e6c",
   "metadata": {},
   "outputs": [],
   "source": []
  },
  {
   "cell_type": "markdown",
   "id": "0cad806a",
   "metadata": {
    "lang": "en"
   },
   "source": [
    "### We are looking for some lyrics"
   ]
  },
  {
   "cell_type": "code",
   "execution_count": null,
   "id": "a73eb56a",
   "metadata": {},
   "outputs": [],
   "source": []
  },
  {
   "cell_type": "markdown",
   "id": "b311c883",
   "metadata": {
    "lang": "en"
   },
   "source": [
    "### Many lyrics!"
   ]
  },
  {
   "cell_type": "code",
   "execution_count": null,
   "id": "79a9552b",
   "metadata": {},
   "outputs": [],
   "source": []
  },
  {
   "cell_type": "markdown",
   "id": "e2b22ba0",
   "metadata": {
    "lang": "en"
   },
   "source": [
    "# Export: csv"
   ]
  },
  {
   "cell_type": "code",
   "execution_count": null,
   "id": "48bf278e",
   "metadata": {},
   "outputs": [],
   "source": []
  },
  {
   "cell_type": "markdown",
   "id": "6d3049ba",
   "metadata": {},
   "source": [
    "# RECAP"
   ]
  },
  {
   "cell_type": "markdown",
   "id": "07ff718c",
   "metadata": {},
   "source": [
    "- Get lyrics from a given playlist\n",
    "- Signed up for the spotify API: cliend_id & client_secret\n",
    "- With that: do a POST request to send those credentials and get a token\n",
    "- With the token: we're able to get all the songs from a playlist\n",
    "- We use the genius library for python to use its API\n",
    "- We build a dataframe with all the lyrics from a given spotify playlist\n",
    "\n",
    "- We saved the code into functions\n",
    "- We also createad one to save things into .env\n",
    "\n",
    "- Reminder: .env & .gitignore\n",
    "\n",
    "- By putting all the functions together: we can build a script that by passing ONE link (provided you have spotify credentials): result is a pandas daraframe with songs & lryics\n",
    "\n",
    "Input: one link\n",
    "Output: a whole dataframe with info from two sources"
   ]
  }
 ],
 "metadata": {
  "kernelspec": {
   "display_name": "ironhack",
   "language": "python",
   "name": "ironhack"
  },
  "language_info": {
   "codemirror_mode": {
    "name": "ipython",
    "version": 3
   },
   "file_extension": ".py",
   "mimetype": "text/x-python",
   "name": "python",
   "nbconvert_exporter": "python",
   "pygments_lexer": "ipython3",
   "version": "3.9.12"
  },
  "nbTranslate": {
   "displayLangs": [
    "en",
    "es"
   ],
   "hotkey": "alt-a",
   "langInMainMenu": true,
   "sourceLang": "es",
   "targetLang": "en",
   "useGoogleTranslate": true
  },
  "toc": {
   "base_numbering": 1,
   "nav_menu": {},
   "number_sections": true,
   "sideBar": true,
   "skip_h1_title": true,
   "title_cell": "Table of Contents",
   "title_sidebar": "Contents",
   "toc_cell": true,
   "toc_position": {},
   "toc_section_display": true,
   "toc_window_display": false
  }
 },
 "nbformat": 4,
 "nbformat_minor": 5
}

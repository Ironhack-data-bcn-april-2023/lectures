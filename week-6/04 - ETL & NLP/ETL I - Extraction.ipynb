{
 "cells": [
  {
   "cell_type": "markdown",
   "id": "sporting-delta",
   "metadata": {},
   "source": [
    "# <center>📦🧹🔍ETL 🔍🧹📦<center>"
   ]
  },
  {
   "cell_type": "markdown",
   "id": "different-luxembourg",
   "metadata": {
    "toc": true
   },
   "source": [
    "<h1>Table of Contents<span class=\"tocSkip\"></span></h1>\n",
    "<div class=\"toc\"><ul class=\"toc-item\"><li><span><a href=\"#What-does-ETL-stand-for?\" data-toc-modified-id=\"What-does-ETL-stand-for?-1\"><span class=\"toc-item-num\">1&nbsp;&nbsp;</span>What does ETL stand for?</a></span></li><li><span><a href=\"#What-are-we-going-to-do?\" data-toc-modified-id=\"What-are-we-going-to-do?-2\"><span class=\"toc-item-num\">2&nbsp;&nbsp;</span>What are we going to do?</a></span></li><li><span><a href=\"#We-import-libraries\" data-toc-modified-id=\"We-import-libraries-3\"><span class=\"toc-item-num\">3&nbsp;&nbsp;</span>We import libraries</a></span></li><li><span><a href=\"#Mission-1:-Obtain-the-Spotify-token-to-use-its-API-🗝\" data-toc-modified-id=\"Mission-1:-Obtain-the-Spotify-token-to-use-its-API-🗝-4\"><span class=\"toc-item-num\">4&nbsp;&nbsp;</span>Mission 1: Obtain the Spotify token to use its API 🗝</a></span></li><li><span><a href=\"#Spotify-token\" data-toc-modified-id=\"Spotify-token-5\"><span class=\"toc-item-num\">5&nbsp;&nbsp;</span>Spotify token</a></span></li><li><span><a href=\"#We-save-the-token-in-our-.env\" data-toc-modified-id=\"We-save-the-token-in-our-.env-6\"><span class=\"toc-item-num\">6&nbsp;&nbsp;</span>We save the token in our .env</a></span></li><li><span><a href=\"#📚-Recap-so-far:\" data-toc-modified-id=\"📚-Recap-so-far:-7\"><span class=\"toc-item-num\">7&nbsp;&nbsp;</span>📚 Recap so far:</a></span></li><li><span><a href=\"#Mission-2:-Get-the-list-of-songs-and-artists-from-the-Spotify-API-🔥\" data-toc-modified-id=\"Mission-2:-Get-the-list-of-songs-and-artists-from-the-Spotify-API-🔥-8\"><span class=\"toc-item-num\">8&nbsp;&nbsp;</span>Mission 2: Get the list of songs and artists from the Spotify API 🔥</a></span><ul class=\"toc-item\"><li><span><a href=\"#Spotify-API-call\" data-toc-modified-id=\"Spotify-API-call-8.1\"><span class=\"toc-item-num\">8.1&nbsp;&nbsp;</span>Spotify API call</a></span><ul class=\"toc-item\"><li><span><a href=\"#We-need-token-and-headers\" data-toc-modified-id=\"We-need-token-and-headers-8.1.1\"><span class=\"toc-item-num\">8.1.1&nbsp;&nbsp;</span>We need token and headers</a></span></li><li><span><a href=\"#Url-+-endpoint\" data-toc-modified-id=\"Url-+-endpoint-8.1.2\"><span class=\"toc-item-num\">8.1.2&nbsp;&nbsp;</span>Url + endpoint</a></span></li><li><span><a href=\"#We-make-the-request\" data-toc-modified-id=\"We-make-the-request-8.1.3\"><span class=\"toc-item-num\">8.1.3&nbsp;&nbsp;</span>We make the request</a></span></li><li><span><a href=\"#Function-to-extract-info-from-dictionaries\" data-toc-modified-id=\"Function-to-extract-info-from-dictionaries-8.1.4\"><span class=\"toc-item-num\">8.1.4&nbsp;&nbsp;</span>Function to extract info from dictionaries</a></span></li></ul></li><li><span><a href=\"#We're-taking-it-to-Pandas!-🐼\" data-toc-modified-id=\"We're-taking-it-to-Pandas!-🐼-8.2\"><span class=\"toc-item-num\">8.2&nbsp;&nbsp;</span>We're taking it to Pandas! 🐼</a></span></li></ul></li><li><span><a href=\"#Mission-3:-Get-song-lyrics\" data-toc-modified-id=\"Mission-3:-Get-song-lyrics-9\"><span class=\"toc-item-num\">9&nbsp;&nbsp;</span>Mission 3: Get song lyrics</a></span><ul class=\"toc-item\"><li><span><a href=\"#store-it-in-a-variable\" data-toc-modified-id=\"store-it-in-a-variable-9.1\"><span class=\"toc-item-num\">9.1&nbsp;&nbsp;</span>store it in a variable</a></span></li><li><span><a href=\"#We-are-looking-for-some-lyrics\" data-toc-modified-id=\"We-are-looking-for-some-lyrics-9.2\"><span class=\"toc-item-num\">9.2&nbsp;&nbsp;</span>We are looking for some lyrics</a></span></li><li><span><a href=\"#Many-lyrics!\" data-toc-modified-id=\"Many-lyrics!-9.3\"><span class=\"toc-item-num\">9.3&nbsp;&nbsp;</span>Many lyrics!</a></span></li></ul></li></ul></div>"
   ]
  },
  {
   "cell_type": "markdown",
   "id": "sixth-transparency",
   "metadata": {},
   "source": [
    "![data](https://media.giphy.com/media/xT9C25UNTwfZuk85WP/giphy.gif)"
   ]
  },
  {
   "cell_type": "markdown",
   "id": "38d2da58",
   "metadata": {
    "lang": "en"
   },
   "source": [
    "# Process to follow during the 3 jupyter notebook\n",
    "**Jupyter ETL I - Extraction and transformation**\n",
    "\n",
    "* I get spotify token\n",
    "* I make request to the API:\n",
    "    - Be careful if the lists have more than 100 songs\n",
    "    - Functions that automate the process\n",
    "* I get the lyrics of the songs (enrichment) with another library\n",
    "\n",
    "**Jupyter ETL II - Loading**\n",
    "\n",
    "* I connect with the databases\n",
    "* I create my schema in MySQL\n",
    "* I clean the data a bit\n",
    "* Check functions before putting my data in the database\n",
    "* I load my data to MySQL\n",
    "* I export json to load it in MongoDB\n",
    "\n",
    "**Jupyter NLP**\n",
    "* I get the data I want from the databases\n",
    "* Tokenize and remove stop words\n",
    "* I do Sentiment Analysis with the libraries\n",
    "* draw conclusions"
   ]
  },
  {
   "cell_type": "markdown",
   "id": "15697289",
   "metadata": {
    "lang": "en"
   },
   "source": [
    "## What does ETL stand for?\n",
    "**Extract**, **Transform** and **Load** is the process that enables organizations to move data from multiple sources, reformat and cleanse it, and load it into another database, data mart, or data warehouse to analyze, or in another operational system to support a business process."
   ]
  },
  {
   "cell_type": "markdown",
   "id": "32b06979",
   "metadata": {
    "lang": "en"
   },
   "source": [
    "## What are we going to do?\n",
    "- Learn to use the Spotify API with Oauth\n",
    "- Extract data from said API\n",
    "- Clean and transform them\n",
    "- Enrich them\n",
    "- Save them in different databases\n",
    "- Make queries to do sentiment analysis with NLP libraries"
   ]
  },
  {
   "cell_type": "markdown",
   "id": "1fd8254e",
   "metadata": {
    "lang": "en"
   },
   "source": [
    "## We import libraries"
   ]
  },
  {
   "cell_type": "code",
   "execution_count": 1,
   "id": "statutory-shirt",
   "metadata": {},
   "outputs": [
    {
     "ename": "ModuleNotFoundError",
     "evalue": "No module named 'pyjsonviewer'",
     "output_type": "error",
     "traceback": [
      "\u001b[0;31m---------------------------------------------------------------------------\u001b[0m",
      "\u001b[0;31mModuleNotFoundError\u001b[0m                       Traceback (most recent call last)",
      "Input \u001b[0;32mIn [1]\u001b[0m, in \u001b[0;36m<cell line: 5>\u001b[0;34m()\u001b[0m\n\u001b[1;32m      3\u001b[0m \u001b[38;5;28;01mimport\u001b[39;00m \u001b[38;5;21;01mjson\u001b[39;00m\n\u001b[1;32m      4\u001b[0m \u001b[38;5;28;01mimport\u001b[39;00m \u001b[38;5;21;01mrequests\u001b[39;00m\n\u001b[0;32m----> 5\u001b[0m \u001b[38;5;28;01mimport\u001b[39;00m \u001b[38;5;21;01mpyjsonviewer\u001b[39;00m\n\u001b[1;32m      7\u001b[0m \u001b[38;5;28;01mfrom\u001b[39;00m \u001b[38;5;21;01mfunctools\u001b[39;00m \u001b[38;5;28;01mimport\u001b[39;00m reduce\n\u001b[1;32m      8\u001b[0m \u001b[38;5;28;01mimport\u001b[39;00m \u001b[38;5;21;01moperator\u001b[39;00m\n",
      "\u001b[0;31mModuleNotFoundError\u001b[0m: No module named 'pyjsonviewer'"
     ]
    }
   ],
   "source": [
    "import os\n",
    "\n",
    "import json\n",
    "import requests\n",
    "import pyjsonviewer\n",
    "\n",
    "from functools import reduce\n",
    "import operator\n",
    "\n",
    "import pandas as pd\n",
    "import numpy as np\n",
    "\n",
    "import lyricsgenius\n",
    "from lyrics_extractor import SongLyrics\n",
    "\n",
    "from dotenv import load_dotenv\n",
    "load_dotenv()"
   ]
  },
  {
   "cell_type": "markdown",
   "id": "f85bdca4",
   "metadata": {},
   "source": [
    "https://open.spotify.com/playlist/6DaKU06d03UDpVjPZhF19X?si=4865e6ee629d488b&pt=0ae09e3cb50938ee8f2fc768c208c1c2"
   ]
  },
  {
   "cell_type": "markdown",
   "id": "d1eb77e7",
   "metadata": {
    "lang": "en"
   },
   "source": [
    "## Mission 1: Obtain the Spotify token to use its API 🗝"
   ]
  },
  {
   "cell_type": "markdown",
   "id": "9b5d57d3",
   "metadata": {
    "lang": "en"
   },
   "source": [
    "## Spotify token\n",
    "https://developer.spotify.com/dashboard/login\n",
    "We need to have the CLIENT_ID and SECRET_ID tokens, and we store them in the `.env`.\n",
    "\n",
    "\n",
    "1. Sign up as a devloper\n",
    "2. Create an APP/project on spotify\n",
    "3. Get client_id & client_secret\n",
    "\n",
    "To call the spotify api and get the token that will allow us to make a request, we are going to have to save a few variables.\n",
    "Read the [Documentation](https://developer.spotify.com/documentation/general/guides/authorization-guide/)"
   ]
  },
  {
   "cell_type": "code",
   "execution_count": null,
   "id": "tracked-performance",
   "metadata": {},
   "outputs": [],
   "source": [
    "# 1. Auth for app\n",
    "    # CLIENT_ID\n",
    "    # CLIENT_SECRET\n",
    "\n",
    "# 2. Auth for queries    \n",
    "    # token"
   ]
  },
  {
   "cell_type": "code",
   "execution_count": null,
   "id": "b62b89b6",
   "metadata": {},
   "outputs": [],
   "source": [
    "CLIENT_ID = os.getenv(\"CLIENT_ID\")\n",
    "CLIENT_SECRET = os.getenv(\"CLIENT_SECRET\")"
   ]
  },
  {
   "cell_type": "code",
   "execution_count": 3,
   "id": "e6cecfdc",
   "metadata": {},
   "outputs": [],
   "source": [
    "body_params = {\"grant_type\":\"client_credentials\"}\n",
    "\n",
    "url = \"https://accounts.spotify.com/api/token\""
   ]
  },
  {
   "cell_type": "code",
   "execution_count": 7,
   "id": "ed8a5f54",
   "metadata": {},
   "outputs": [
    {
     "data": {
      "text/plain": [
       "<Response [200]>"
      ]
     },
     "execution_count": 7,
     "metadata": {},
     "output_type": "execute_result"
    }
   ],
   "source": [
    "#token = \n",
    "\n",
    "res = requests.post(url, data = body_params, auth=(CLIENT_ID, CLIENT_SECRET))\n",
    "res"
   ]
  },
  {
   "cell_type": "code",
   "execution_count": null,
   "id": "45ad8fa3",
   "metadata": {},
   "outputs": [],
   "source": [
    "token = res.json()[\"access_token\"]\n",
    "#token"
   ]
  },
  {
   "cell_type": "code",
   "execution_count": 18,
   "id": "957b3623",
   "metadata": {},
   "outputs": [],
   "source": [
    "def token_generator ():\n",
    "    CLIENT_ID = os.getenv(\"CLIENT_ID\")\n",
    "    CLIENT_SECRET = os.getenv(\"CLIENT_SECRET\")\n",
    "    \n",
    "    body_params = {\"grant_type\":\"client_credentials\"}\n",
    "\n",
    "    url = \"https://accounts.spotify.com/api/token\"\n",
    "    try:\n",
    "        res = requests.post(url, data = body_params, auth=(CLIENT_ID, CLIENT_SECRET)).json()[\"access_token\"]\n",
    "        return res\n",
    "    except:\n",
    "        return f\"No token :(\""
   ]
  },
  {
   "cell_type": "code",
   "execution_count": 21,
   "id": "8049a75b",
   "metadata": {},
   "outputs": [],
   "source": [
    "token = token_generator () # it works!"
   ]
  },
  {
   "cell_type": "markdown",
   "id": "fa31e2eb",
   "metadata": {
    "lang": "en"
   },
   "source": [
    "We are going to write all this in a function because, as we have seen, the token expires and so we can call it whenever we want and reuse it. This is what functions are for!"
   ]
  },
  {
   "cell_type": "code",
   "execution_count": null,
   "id": "97705f54",
   "metadata": {},
   "outputs": [],
   "source": [
    "# I need to hide my credentials: .env"
   ]
  },
  {
   "cell_type": "code",
   "execution_count": null,
   "id": "7ae33bb2",
   "metadata": {},
   "outputs": [],
   "source": []
  },
  {
   "cell_type": "markdown",
   "id": "9f3bb6d5",
   "metadata": {
    "lang": "en"
   },
   "source": [
    "## We save the token in our .env"
   ]
  },
  {
   "cell_type": "code",
   "execution_count": null,
   "id": "4ab152fe",
   "metadata": {},
   "outputs": [],
   "source": [
    "# 1. Crearte .env\n",
    "# 2. Input the variables"
   ]
  },
  {
   "cell_type": "markdown",
   "id": "de68e569",
   "metadata": {
    "lang": "en"
   },
   "source": [
    "We make a function that does the same thing to be able to reuse it"
   ]
  },
  {
   "cell_type": "markdown",
   "id": "67d00804",
   "metadata": {
    "lang": "en"
   },
   "source": [
    "## 📚 Recap so far:\n",
    "\n",
    "**What we have done**\n",
    "- 1. We get our Spotify authentication\n",
    "- 2. With that, we get our spotify `token`: issuing a request.post\n",
    "- 3. We save the `token` in the .env <br>\n",
    "<br>\n",
    "\n",
    "**To remember**\n",
    "\n",
    "- **CLIENT_ID** & **CLIENT_SECRET** is just a means to get the `token`, not the authentication itself.\n",
    "- The `token` expires"
   ]
  },
  {
   "cell_type": "markdown",
   "id": "97f31804",
   "metadata": {
    "lang": "en"
   },
   "source": [
    "## Mission 2: Get the list of songs and artists from the Spotify API 🔥\n",
    "But let's not forget about the [documentation](https://developer.spotify.com/console/)\n",
    "The first thing we are going to do is make an API call\n",
    "Let's remember the syntax:\n",
    "\n",
    "`request.get(url, headers)`"
   ]
  },
  {
   "cell_type": "markdown",
   "id": "6cc165e5",
   "metadata": {
    "lang": "en"
   },
   "source": [
    "### Spotify API call"
   ]
  },
  {
   "cell_type": "markdown",
   "id": "107e66e6",
   "metadata": {
    "lang": "en"
   },
   "source": [
    "#### We need token and headers"
   ]
  },
  {
   "cell_type": "markdown",
   "id": "8c521f1a",
   "metadata": {},
   "source": [
    "`headers = {\"Authorization\":f\"Bearer {token}\"}`"
   ]
  },
  {
   "cell_type": "code",
   "execution_count": 90,
   "id": "aa212a39",
   "metadata": {},
   "outputs": [],
   "source": [
    "def request_from_playlist (playlist_link):\n",
    "    headers = {\"Authorization\":f\"Bearer {token}\"}\n",
    "    url_base = \"https://api.spotify.com/v1/playlists/\"\n",
    "    playlist_id = playlist_link.split(\"?\")[0].split(\"/\")[-1]\n",
    "    url = f\"https://api.spotify.com/v1/playlists/{playlist_id}\"\n",
    "    return requests.get(url, headers=headers)"
   ]
  },
  {
   "cell_type": "code",
   "execution_count": 23,
   "id": "1ccc03b6",
   "metadata": {},
   "outputs": [],
   "source": [
    "headers = {\"Authorization\":f\"Bearer {token}\"}"
   ]
  },
  {
   "cell_type": "markdown",
   "id": "727f5922",
   "metadata": {
    "lang": "en"
   },
   "source": [
    "We take the ID of the list of the share link that comes out in spotify (Link of the song)\n",
    "https://open.spotify.com/playlist/6DaKU06d03UDpVjPZhF19X?si=838e81628a2e4a23"
   ]
  },
  {
   "cell_type": "markdown",
   "id": "fbb93477",
   "metadata": {},
   "source": [
    "`url_base = \"https://api.spotify.com/v1/playlists/\"`"
   ]
  },
  {
   "cell_type": "code",
   "execution_count": 25,
   "id": "6c63acc2",
   "metadata": {},
   "outputs": [],
   "source": [
    "url_base = \"https://api.spotify.com/v1/playlists/\""
   ]
  },
  {
   "cell_type": "markdown",
   "id": "284837b0",
   "metadata": {
    "lang": "en"
   },
   "source": [
    "The ID of the list from which we want to make the request"
   ]
  },
  {
   "cell_type": "code",
   "execution_count": 38,
   "id": "937b7645",
   "metadata": {},
   "outputs": [],
   "source": [
    "playlist_link = \"https://open.spotify.com/playlist/3WvYS5LDAlhyrgOGWKcUXZ?si=effbf8299eea4106\""
   ]
  },
  {
   "cell_type": "code",
   "execution_count": 39,
   "id": "a81f19d0",
   "metadata": {},
   "outputs": [
    {
     "data": {
      "text/plain": [
       "'3WvYS5LDAlhyrgOGWKcUXZ'"
      ]
     },
     "execution_count": 39,
     "metadata": {},
     "output_type": "execute_result"
    }
   ],
   "source": [
    "playlist_id = playlist_link.split(\"?\")[0].split(\"/\")[-1]\n",
    "playlist_id"
   ]
  },
  {
   "cell_type": "markdown",
   "id": "exterior-gibraltar",
   "metadata": {},
   "source": [
    "#### Url + endpoint"
   ]
  },
  {
   "cell_type": "code",
   "execution_count": 40,
   "id": "98700403",
   "metadata": {},
   "outputs": [
    {
     "data": {
      "text/plain": [
       "'https://api.spotify.com/v1/playlists/3WvYS5LDAlhyrgOGWKcUXZ'"
      ]
     },
     "execution_count": 40,
     "metadata": {},
     "output_type": "execute_result"
    }
   ],
   "source": [
    "url = f\"https://api.spotify.com/v1/playlists/{playlist_id}\"\n",
    "url"
   ]
  },
  {
   "cell_type": "markdown",
   "id": "bd0188c5",
   "metadata": {
    "lang": "en"
   },
   "source": [
    "#### We make the request"
   ]
  },
  {
   "cell_type": "code",
   "execution_count": 42,
   "id": "44d96bcb",
   "metadata": {},
   "outputs": [
    {
     "data": {
      "text/plain": [
       "<Response [200]>"
      ]
     },
     "execution_count": 42,
     "metadata": {},
     "output_type": "execute_result"
    }
   ],
   "source": [
    "res = requests.get(url, headers=headers)\n",
    "res"
   ]
  },
  {
   "cell_type": "raw",
   "id": "b249fffc",
   "metadata": {},
   "source": [
    "#res.json()"
   ]
  },
  {
   "cell_type": "markdown",
   "id": "b6f4d47d",
   "metadata": {},
   "source": [
    "Popularity: according to a 1second google search\n",
    "    \n",
    "    Spotify's Popularity index is a 0-100 scale rating of how popular you are compared to every other artist on the platform. Some music marketing chatter suggests a PI of 20+ in the first few weeks will get you onto Release Radar and a PI of 30+ will get you onto Discover Weekly."
   ]
  },
  {
   "cell_type": "code",
   "execution_count": 56,
   "id": "2281c947",
   "metadata": {},
   "outputs": [
    {
     "data": {
      "text/plain": [
       "'Ojete Calor'"
      ]
     },
     "execution_count": 56,
     "metadata": {},
     "output_type": "execute_result"
    }
   ],
   "source": [
    "artist = res.json()[\"tracks\"][\"items\"][0][\"track\"][\"artists\"][0][\"name\"]\n",
    "artist"
   ]
  },
  {
   "cell_type": "code",
   "execution_count": 60,
   "id": "e4ae2918",
   "metadata": {},
   "outputs": [
    {
     "data": {
      "text/plain": [
       "'Mocatriz'"
      ]
     },
     "execution_count": 60,
     "metadata": {},
     "output_type": "execute_result"
    }
   ],
   "source": [
    "name  = res.json()[\"tracks\"][\"items\"][0][\"track\"][\"name\"]\n",
    "name"
   ]
  },
  {
   "cell_type": "code",
   "execution_count": 63,
   "id": "4703363a",
   "metadata": {},
   "outputs": [
    {
     "data": {
      "text/plain": [
       "'Mocatriz'"
      ]
     },
     "execution_count": 63,
     "metadata": {},
     "output_type": "execute_result"
    }
   ],
   "source": [
    "album_name = res.json()[\"tracks\"][\"items\"][0][\"track\"][\"album\"][\"name\"]\n",
    "album_name"
   ]
  },
  {
   "cell_type": "code",
   "execution_count": 66,
   "id": "2e6f7d85",
   "metadata": {},
   "outputs": [
    {
     "data": {
      "text/plain": [
       "47"
      ]
     },
     "execution_count": 66,
     "metadata": {},
     "output_type": "execute_result"
    }
   ],
   "source": [
    "popularity = res.json()[\"tracks\"][\"items\"][0][\"track\"][\"popularity\"]\n",
    "popularity"
   ]
  },
  {
   "cell_type": "code",
   "execution_count": null,
   "id": "0395ad4d",
   "metadata": {},
   "outputs": [],
   "source": [
    "user = res.json()[\"tracks\"][\"items\"][0]"
   ]
  },
  {
   "cell_type": "code",
   "execution_count": 68,
   "id": "6facc511",
   "metadata": {},
   "outputs": [],
   "source": [
    "small_song_dict = {\n",
    "    \"artsit\": artist,\n",
    "    \"name\": name,\n",
    "    \"album_name\": album_name,\n",
    "    \"popualrity\": popularity\n",
    "}"
   ]
  },
  {
   "cell_type": "code",
   "execution_count": 72,
   "id": "8963a81d",
   "metadata": {},
   "outputs": [
    {
     "data": {
      "text/html": [
       "<div>\n",
       "<style scoped>\n",
       "    .dataframe tbody tr th:only-of-type {\n",
       "        vertical-align: middle;\n",
       "    }\n",
       "\n",
       "    .dataframe tbody tr th {\n",
       "        vertical-align: top;\n",
       "    }\n",
       "\n",
       "    .dataframe thead th {\n",
       "        text-align: right;\n",
       "    }\n",
       "</style>\n",
       "<table border=\"1\" class=\"dataframe\">\n",
       "  <thead>\n",
       "    <tr style=\"text-align: right;\">\n",
       "      <th></th>\n",
       "      <th>artsit</th>\n",
       "      <th>name</th>\n",
       "      <th>album_name</th>\n",
       "      <th>popualrity</th>\n",
       "    </tr>\n",
       "  </thead>\n",
       "  <tbody>\n",
       "    <tr>\n",
       "      <th>0</th>\n",
       "      <td>Ojete Calor</td>\n",
       "      <td>Mocatriz</td>\n",
       "      <td>Mocatriz</td>\n",
       "      <td>47</td>\n",
       "    </tr>\n",
       "  </tbody>\n",
       "</table>\n",
       "</div>"
      ],
      "text/plain": [
       "        artsit      name album_name  popualrity\n",
       "0  Ojete Calor  Mocatriz   Mocatriz          47"
      ]
     },
     "execution_count": 72,
     "metadata": {},
     "output_type": "execute_result"
    }
   ],
   "source": [
    "import pandas as pd\n",
    "pd.DataFrame([small_song_dict])"
   ]
  },
  {
   "cell_type": "markdown",
   "id": "34554033",
   "metadata": {
    "lang": "en"
   },
   "source": [
    "#### Function to extract info from dictionaries"
   ]
  },
  {
   "cell_type": "code",
   "execution_count": 82,
   "id": "d3243251",
   "metadata": {},
   "outputs": [],
   "source": [
    "# small function\n",
    "# big function\n",
    "\n",
    "def from_song_into_small_dict (song):\n",
    "    \n",
    "    artist = song[\"track\"][\"artists\"][0][\"name\"]\n",
    "    name  = song[\"track\"][\"name\"]\n",
    "    album_name = song[\"track\"][\"album\"][\"name\"]\n",
    "    popularity = song[\"track\"][\"popularity\"]\n",
    "    \n",
    "    small_song_dict = {\n",
    "    \"artsit\": artist,\n",
    "    \"name\": name,\n",
    "    \"album_name\": album_name,\n",
    "    \"popualrity\": popularity\n",
    "}\n",
    "    return small_song_dict"
   ]
  },
  {
   "cell_type": "code",
   "execution_count": 83,
   "id": "0e6485a0",
   "metadata": {},
   "outputs": [],
   "source": [
    "song = res.json()[\"tracks\"][\"items\"][0]\n",
    "#song"
   ]
  },
  {
   "cell_type": "code",
   "execution_count": 84,
   "id": "d1fff0f8",
   "metadata": {},
   "outputs": [
    {
     "data": {
      "text/plain": [
       "{'artsit': 'Ojete Calor',\n",
       " 'name': 'Mocatriz',\n",
       " 'album_name': 'Mocatriz',\n",
       " 'popualrity': 47}"
      ]
     },
     "execution_count": 84,
     "metadata": {},
     "output_type": "execute_result"
    }
   ],
   "source": [
    "from_song_into_small_dict (song)"
   ]
  },
  {
   "cell_type": "code",
   "execution_count": 87,
   "id": "be4d290b",
   "metadata": {},
   "outputs": [],
   "source": [
    "def everything_from_res (res):\n",
    "    new_list = []\n",
    "    for i in res.json()[\"tracks\"][\"items\"]:\n",
    "        new_list.append(from_song_into_small_dict (i))\n",
    "    return pd.DataFrame(new_list)"
   ]
  },
  {
   "cell_type": "code",
   "execution_count": 88,
   "id": "1c40ede5",
   "metadata": {},
   "outputs": [],
   "source": [
    "df = everything_from_res (res)"
   ]
  },
  {
   "cell_type": "code",
   "execution_count": 89,
   "id": "ef3ab204",
   "metadata": {},
   "outputs": [
    {
     "data": {
      "text/html": [
       "<div>\n",
       "<style scoped>\n",
       "    .dataframe tbody tr th:only-of-type {\n",
       "        vertical-align: middle;\n",
       "    }\n",
       "\n",
       "    .dataframe tbody tr th {\n",
       "        vertical-align: top;\n",
       "    }\n",
       "\n",
       "    .dataframe thead th {\n",
       "        text-align: right;\n",
       "    }\n",
       "</style>\n",
       "<table border=\"1\" class=\"dataframe\">\n",
       "  <thead>\n",
       "    <tr style=\"text-align: right;\">\n",
       "      <th></th>\n",
       "      <th>artsit</th>\n",
       "      <th>name</th>\n",
       "      <th>album_name</th>\n",
       "      <th>popualrity</th>\n",
       "    </tr>\n",
       "  </thead>\n",
       "  <tbody>\n",
       "    <tr>\n",
       "      <th>0</th>\n",
       "      <td>Ojete Calor</td>\n",
       "      <td>Mocatriz</td>\n",
       "      <td>Mocatriz</td>\n",
       "      <td>47</td>\n",
       "    </tr>\n",
       "    <tr>\n",
       "      <th>1</th>\n",
       "      <td>Queen</td>\n",
       "      <td>Don't Stop Me Now - Remastered 2011</td>\n",
       "      <td>Jazz (2011 Remaster)</td>\n",
       "      <td>84</td>\n",
       "    </tr>\n",
       "    <tr>\n",
       "      <th>2</th>\n",
       "      <td>XTM</td>\n",
       "      <td>Fly on the Wings of Love - XTM Remix</td>\n",
       "      <td>Fly on the Wings of Love (2011 Versions)</td>\n",
       "      <td>41</td>\n",
       "    </tr>\n",
       "    <tr>\n",
       "      <th>3</th>\n",
       "      <td>Gigi D'Agostino</td>\n",
       "      <td>You Spin Me Round (Like A Record)</td>\n",
       "      <td>Tecno Fes 2</td>\n",
       "      <td>54</td>\n",
       "    </tr>\n",
       "    <tr>\n",
       "      <th>4</th>\n",
       "      <td>M83</td>\n",
       "      <td>Midnight City</td>\n",
       "      <td>Hurry up, We're Dreaming</td>\n",
       "      <td>79</td>\n",
       "    </tr>\n",
       "    <tr>\n",
       "      <th>...</th>\n",
       "      <td>...</td>\n",
       "      <td>...</td>\n",
       "      <td>...</td>\n",
       "      <td>...</td>\n",
       "    </tr>\n",
       "    <tr>\n",
       "      <th>95</th>\n",
       "      <td>Foals</td>\n",
       "      <td>My Number</td>\n",
       "      <td>Holy Fire</td>\n",
       "      <td>69</td>\n",
       "    </tr>\n",
       "    <tr>\n",
       "      <th>96</th>\n",
       "      <td>The Black Keys</td>\n",
       "      <td>Run Right Back</td>\n",
       "      <td>El Camino</td>\n",
       "      <td>59</td>\n",
       "    </tr>\n",
       "    <tr>\n",
       "      <th>97</th>\n",
       "      <td>Royal Blood</td>\n",
       "      <td>Ten Tonne Skeleton</td>\n",
       "      <td>Royal Blood</td>\n",
       "      <td>57</td>\n",
       "    </tr>\n",
       "    <tr>\n",
       "      <th>98</th>\n",
       "      <td>Wolfmother</td>\n",
       "      <td>Woman</td>\n",
       "      <td>Wolfmother</td>\n",
       "      <td>61</td>\n",
       "    </tr>\n",
       "    <tr>\n",
       "      <th>99</th>\n",
       "      <td>Six Foe</td>\n",
       "      <td>Seasons</td>\n",
       "      <td>Seasons</td>\n",
       "      <td>43</td>\n",
       "    </tr>\n",
       "  </tbody>\n",
       "</table>\n",
       "<p>100 rows × 4 columns</p>\n",
       "</div>"
      ],
      "text/plain": [
       "             artsit                                  name   \n",
       "0       Ojete Calor                              Mocatriz  \\\n",
       "1             Queen   Don't Stop Me Now - Remastered 2011   \n",
       "2               XTM  Fly on the Wings of Love - XTM Remix   \n",
       "3   Gigi D'Agostino     You Spin Me Round (Like A Record)   \n",
       "4               M83                         Midnight City   \n",
       "..              ...                                   ...   \n",
       "95            Foals                             My Number   \n",
       "96   The Black Keys                        Run Right Back   \n",
       "97      Royal Blood                    Ten Tonne Skeleton   \n",
       "98       Wolfmother                                 Woman   \n",
       "99          Six Foe                               Seasons   \n",
       "\n",
       "                                  album_name  popualrity  \n",
       "0                                   Mocatriz          47  \n",
       "1                       Jazz (2011 Remaster)          84  \n",
       "2   Fly on the Wings of Love (2011 Versions)          41  \n",
       "3                                Tecno Fes 2          54  \n",
       "4                   Hurry up, We're Dreaming          79  \n",
       "..                                       ...         ...  \n",
       "95                                 Holy Fire          69  \n",
       "96                                 El Camino          59  \n",
       "97                               Royal Blood          57  \n",
       "98                                Wolfmother          61  \n",
       "99                                   Seasons          43  \n",
       "\n",
       "[100 rows x 4 columns]"
      ]
     },
     "execution_count": 89,
     "metadata": {},
     "output_type": "execute_result"
    }
   ],
   "source": [
    "df"
   ]
  },
  {
   "cell_type": "code",
   "execution_count": null,
   "id": "9db957ca",
   "metadata": {},
   "outputs": [],
   "source": []
  },
  {
   "cell_type": "markdown",
   "id": "e6818c88",
   "metadata": {
    "lang": "en"
   },
   "source": [
    "### We're taking it to Pandas! 🐼\n",
    "How? Easy...."
   ]
  },
  {
   "cell_type": "code",
   "execution_count": null,
   "id": "2e158f70",
   "metadata": {},
   "outputs": [],
   "source": []
  },
  {
   "cell_type": "code",
   "execution_count": 98,
   "id": "e147c91d",
   "metadata": {},
   "outputs": [],
   "source": [
    "def request_from_playlist (playlist_link):\n",
    "    headers = {\"Authorization\":f\"Bearer {token}\"}\n",
    "    url_base = \"https://api.spotify.com/v1/playlists/\"\n",
    "    playlist_id = playlist_link.split(\"?\")[0].split(\"/\")[-1]\n",
    "    url = f\"https://api.spotify.com/v1/playlists/{playlist_id}\"\n",
    "    return requests.get(url, headers=headers)"
   ]
  },
  {
   "cell_type": "code",
   "execution_count": 99,
   "id": "8979a09a",
   "metadata": {},
   "outputs": [],
   "source": [
    "def from_song_into_small_dict (song):\n",
    "    \n",
    "    artist = song[\"track\"][\"artists\"][0][\"name\"]\n",
    "    name  = song[\"track\"][\"name\"]\n",
    "    album_name = song[\"track\"][\"album\"][\"name\"]\n",
    "    popularity = song[\"track\"][\"popularity\"]\n",
    "    \n",
    "    small_song_dict = {\n",
    "    \"artsit\": artist,\n",
    "    \"name\": name,\n",
    "    \"album_name\": album_name,\n",
    "    \"popualrity\": popularity\n",
    "}\n",
    "    return small_song_dict"
   ]
  },
  {
   "cell_type": "code",
   "execution_count": 100,
   "id": "c4bad359",
   "metadata": {},
   "outputs": [],
   "source": [
    "def everything_from_res (res):\n",
    "    new_list = []\n",
    "    for i in res.json()[\"tracks\"][\"items\"]:\n",
    "        new_list.append(from_song_into_small_dict (i))\n",
    "    return pd.DataFrame(new_list)"
   ]
  },
  {
   "cell_type": "code",
   "execution_count": 101,
   "id": "ab43d298",
   "metadata": {},
   "outputs": [
    {
     "data": {
      "text/html": [
       "<div>\n",
       "<style scoped>\n",
       "    .dataframe tbody tr th:only-of-type {\n",
       "        vertical-align: middle;\n",
       "    }\n",
       "\n",
       "    .dataframe tbody tr th {\n",
       "        vertical-align: top;\n",
       "    }\n",
       "\n",
       "    .dataframe thead th {\n",
       "        text-align: right;\n",
       "    }\n",
       "</style>\n",
       "<table border=\"1\" class=\"dataframe\">\n",
       "  <thead>\n",
       "    <tr style=\"text-align: right;\">\n",
       "      <th></th>\n",
       "      <th>artsit</th>\n",
       "      <th>name</th>\n",
       "      <th>album_name</th>\n",
       "      <th>popualrity</th>\n",
       "    </tr>\n",
       "  </thead>\n",
       "  <tbody>\n",
       "    <tr>\n",
       "      <th>0</th>\n",
       "      <td>Ojete Calor</td>\n",
       "      <td>Mocatriz</td>\n",
       "      <td>Mocatriz</td>\n",
       "      <td>47</td>\n",
       "    </tr>\n",
       "    <tr>\n",
       "      <th>1</th>\n",
       "      <td>Queen</td>\n",
       "      <td>Don't Stop Me Now - Remastered 2011</td>\n",
       "      <td>Jazz (2011 Remaster)</td>\n",
       "      <td>84</td>\n",
       "    </tr>\n",
       "    <tr>\n",
       "      <th>2</th>\n",
       "      <td>XTM</td>\n",
       "      <td>Fly on the Wings of Love - XTM Remix</td>\n",
       "      <td>Fly on the Wings of Love (2011 Versions)</td>\n",
       "      <td>41</td>\n",
       "    </tr>\n",
       "    <tr>\n",
       "      <th>3</th>\n",
       "      <td>Gigi D'Agostino</td>\n",
       "      <td>You Spin Me Round (Like A Record)</td>\n",
       "      <td>Tecno Fes 2</td>\n",
       "      <td>54</td>\n",
       "    </tr>\n",
       "    <tr>\n",
       "      <th>4</th>\n",
       "      <td>M83</td>\n",
       "      <td>Midnight City</td>\n",
       "      <td>Hurry up, We're Dreaming</td>\n",
       "      <td>79</td>\n",
       "    </tr>\n",
       "    <tr>\n",
       "      <th>...</th>\n",
       "      <td>...</td>\n",
       "      <td>...</td>\n",
       "      <td>...</td>\n",
       "      <td>...</td>\n",
       "    </tr>\n",
       "    <tr>\n",
       "      <th>95</th>\n",
       "      <td>Foals</td>\n",
       "      <td>My Number</td>\n",
       "      <td>Holy Fire</td>\n",
       "      <td>69</td>\n",
       "    </tr>\n",
       "    <tr>\n",
       "      <th>96</th>\n",
       "      <td>The Black Keys</td>\n",
       "      <td>Run Right Back</td>\n",
       "      <td>El Camino</td>\n",
       "      <td>59</td>\n",
       "    </tr>\n",
       "    <tr>\n",
       "      <th>97</th>\n",
       "      <td>Royal Blood</td>\n",
       "      <td>Ten Tonne Skeleton</td>\n",
       "      <td>Royal Blood</td>\n",
       "      <td>57</td>\n",
       "    </tr>\n",
       "    <tr>\n",
       "      <th>98</th>\n",
       "      <td>Wolfmother</td>\n",
       "      <td>Woman</td>\n",
       "      <td>Wolfmother</td>\n",
       "      <td>61</td>\n",
       "    </tr>\n",
       "    <tr>\n",
       "      <th>99</th>\n",
       "      <td>Six Foe</td>\n",
       "      <td>Seasons</td>\n",
       "      <td>Seasons</td>\n",
       "      <td>43</td>\n",
       "    </tr>\n",
       "  </tbody>\n",
       "</table>\n",
       "<p>100 rows × 4 columns</p>\n",
       "</div>"
      ],
      "text/plain": [
       "             artsit                                  name   \n",
       "0       Ojete Calor                              Mocatriz  \\\n",
       "1             Queen   Don't Stop Me Now - Remastered 2011   \n",
       "2               XTM  Fly on the Wings of Love - XTM Remix   \n",
       "3   Gigi D'Agostino     You Spin Me Round (Like A Record)   \n",
       "4               M83                         Midnight City   \n",
       "..              ...                                   ...   \n",
       "95            Foals                             My Number   \n",
       "96   The Black Keys                        Run Right Back   \n",
       "97      Royal Blood                    Ten Tonne Skeleton   \n",
       "98       Wolfmother                                 Woman   \n",
       "99          Six Foe                               Seasons   \n",
       "\n",
       "                                  album_name  popualrity  \n",
       "0                                   Mocatriz          47  \n",
       "1                       Jazz (2011 Remaster)          84  \n",
       "2   Fly on the Wings of Love (2011 Versions)          41  \n",
       "3                                Tecno Fes 2          54  \n",
       "4                   Hurry up, We're Dreaming          79  \n",
       "..                                       ...         ...  \n",
       "95                                 Holy Fire          69  \n",
       "96                                 El Camino          59  \n",
       "97                               Royal Blood          57  \n",
       "98                                Wolfmother          61  \n",
       "99                                   Seasons          43  \n",
       "\n",
       "[100 rows x 4 columns]"
      ]
     },
     "execution_count": 101,
     "metadata": {},
     "output_type": "execute_result"
    }
   ],
   "source": [
    "res = request_from_playlist (\"https://open.spotify.com/playlist/3WvYS5LDAlhyrgOGWKcUXZ?si=effbf8299eea4106\")\n",
    "df = everything_from_res (res)\n",
    "df"
   ]
  },
  {
   "cell_type": "code",
   "execution_count": 105,
   "id": "6fccfdb4",
   "metadata": {},
   "outputs": [],
   "source": [
    "def creates_df_from_link (link):\n",
    "    res = request_from_playlist (link)\n",
    "    return everything_from_res (res)"
   ]
  },
  {
   "cell_type": "code",
   "execution_count": 106,
   "id": "6656a8bb",
   "metadata": {},
   "outputs": [],
   "source": [
    "pablo = creates_df_from_link (\"https://open.spotify.com/playlist/3cko9z5lFQcSvHrCe2oj5w?si=38b235217b5a4ef6\")"
   ]
  },
  {
   "cell_type": "code",
   "execution_count": 107,
   "id": "0083333a",
   "metadata": {},
   "outputs": [
    {
     "data": {
      "text/html": [
       "<div>\n",
       "<style scoped>\n",
       "    .dataframe tbody tr th:only-of-type {\n",
       "        vertical-align: middle;\n",
       "    }\n",
       "\n",
       "    .dataframe tbody tr th {\n",
       "        vertical-align: top;\n",
       "    }\n",
       "\n",
       "    .dataframe thead th {\n",
       "        text-align: right;\n",
       "    }\n",
       "</style>\n",
       "<table border=\"1\" class=\"dataframe\">\n",
       "  <thead>\n",
       "    <tr style=\"text-align: right;\">\n",
       "      <th></th>\n",
       "      <th>artsit</th>\n",
       "      <th>name</th>\n",
       "      <th>album_name</th>\n",
       "      <th>popualrity</th>\n",
       "    </tr>\n",
       "  </thead>\n",
       "  <tbody>\n",
       "    <tr>\n",
       "      <th>0</th>\n",
       "      <td>KALEO</td>\n",
       "      <td>No Good</td>\n",
       "      <td>A/B</td>\n",
       "      <td>65</td>\n",
       "    </tr>\n",
       "    <tr>\n",
       "      <th>1</th>\n",
       "      <td>Disturbed</td>\n",
       "      <td>In Another Time</td>\n",
       "      <td>Evolution (Deluxe Edition)</td>\n",
       "      <td>42</td>\n",
       "    </tr>\n",
       "    <tr>\n",
       "      <th>2</th>\n",
       "      <td>Disturbed</td>\n",
       "      <td>A Reason to Fight</td>\n",
       "      <td>Evolution (Deluxe Edition)</td>\n",
       "      <td>55</td>\n",
       "    </tr>\n",
       "    <tr>\n",
       "      <th>3</th>\n",
       "      <td>Disturbed</td>\n",
       "      <td>Hold on to Memories</td>\n",
       "      <td>Evolution (Deluxe Edition)</td>\n",
       "      <td>44</td>\n",
       "    </tr>\n",
       "    <tr>\n",
       "      <th>4</th>\n",
       "      <td>Five Finger Death Punch</td>\n",
       "      <td>When The Seasons Change</td>\n",
       "      <td>And Justice for None (Deluxe)</td>\n",
       "      <td>42</td>\n",
       "    </tr>\n",
       "    <tr>\n",
       "      <th>...</th>\n",
       "      <td>...</td>\n",
       "      <td>...</td>\n",
       "      <td>...</td>\n",
       "      <td>...</td>\n",
       "    </tr>\n",
       "    <tr>\n",
       "      <th>95</th>\n",
       "      <td>Corey Taylor</td>\n",
       "      <td>CMFT Must Be Stopped (feat. Tech N9ne and Kid ...</td>\n",
       "      <td>Black Eyes Blue / CMFT Must Be Stopped (feat. ...</td>\n",
       "      <td>49</td>\n",
       "    </tr>\n",
       "    <tr>\n",
       "      <th>96</th>\n",
       "      <td>Ghost</td>\n",
       "      <td>Kiss The Go-Goat</td>\n",
       "      <td>Seven Inches Of Satanic Panic</td>\n",
       "      <td>67</td>\n",
       "    </tr>\n",
       "    <tr>\n",
       "      <th>97</th>\n",
       "      <td>Ozzy Osbourne</td>\n",
       "      <td>Straight to Hell</td>\n",
       "      <td>Ordinary Man</td>\n",
       "      <td>52</td>\n",
       "    </tr>\n",
       "    <tr>\n",
       "      <th>98</th>\n",
       "      <td>Dream Theater</td>\n",
       "      <td>Paralyzed</td>\n",
       "      <td>Distance Over Time (Bonus track version)</td>\n",
       "      <td>43</td>\n",
       "    </tr>\n",
       "    <tr>\n",
       "      <th>99</th>\n",
       "      <td>Bobby Bazini</td>\n",
       "      <td>Blood's Thicker Than Water</td>\n",
       "      <td>Summer Is Gone (Deluxe)</td>\n",
       "      <td>47</td>\n",
       "    </tr>\n",
       "  </tbody>\n",
       "</table>\n",
       "<p>100 rows × 4 columns</p>\n",
       "</div>"
      ],
      "text/plain": [
       "                     artsit   \n",
       "0                     KALEO  \\\n",
       "1                 Disturbed   \n",
       "2                 Disturbed   \n",
       "3                 Disturbed   \n",
       "4   Five Finger Death Punch   \n",
       "..                      ...   \n",
       "95             Corey Taylor   \n",
       "96                    Ghost   \n",
       "97            Ozzy Osbourne   \n",
       "98            Dream Theater   \n",
       "99             Bobby Bazini   \n",
       "\n",
       "                                                 name   \n",
       "0                                             No Good  \\\n",
       "1                                     In Another Time   \n",
       "2                                   A Reason to Fight   \n",
       "3                                 Hold on to Memories   \n",
       "4                             When The Seasons Change   \n",
       "..                                                ...   \n",
       "95  CMFT Must Be Stopped (feat. Tech N9ne and Kid ...   \n",
       "96                                   Kiss The Go-Goat   \n",
       "97                                   Straight to Hell   \n",
       "98                                          Paralyzed   \n",
       "99                         Blood's Thicker Than Water   \n",
       "\n",
       "                                           album_name  popualrity  \n",
       "0                                                 A/B          65  \n",
       "1                          Evolution (Deluxe Edition)          42  \n",
       "2                          Evolution (Deluxe Edition)          55  \n",
       "3                          Evolution (Deluxe Edition)          44  \n",
       "4                       And Justice for None (Deluxe)          42  \n",
       "..                                                ...         ...  \n",
       "95  Black Eyes Blue / CMFT Must Be Stopped (feat. ...          49  \n",
       "96                      Seven Inches Of Satanic Panic          67  \n",
       "97                                       Ordinary Man          52  \n",
       "98           Distance Over Time (Bonus track version)          43  \n",
       "99                            Summer Is Gone (Deluxe)          47  \n",
       "\n",
       "[100 rows x 4 columns]"
      ]
     },
     "execution_count": 107,
     "metadata": {},
     "output_type": "execute_result"
    }
   ],
   "source": [
    "pablo"
   ]
  },
  {
   "cell_type": "markdown",
   "id": "51e8af9c",
   "metadata": {
    "lang": "en"
   },
   "source": [
    "# 📚 Recap so far:\n",
    "\n",
    "**What we did**\n",
    "- 0. We call the spotify API with a request of the type post so that it gives me the token\n",
    "- 1. We made a call to the Spotify API: to get the list information\n",
    "- 2. We get only the songs and artists from the json\n",
    "- 3. We make functions that automate processes and reuse code\n",
    "- 4. We have a dataframe\n",
    "<br>\n",
    "\n",
    "**To remember**\n",
    "\n",
    "- Add the `.env` to the `.gitignore`."
   ]
  },
  {
   "cell_type": "code",
   "execution_count": null,
   "id": "ebcf0b6b",
   "metadata": {},
   "outputs": [],
   "source": []
  },
  {
   "cell_type": "markdown",
   "id": "322c8c4f",
   "metadata": {},
   "source": [
    "## Mission 3: Get song lyrics"
   ]
  },
  {
   "cell_type": "markdown",
   "id": "70f162da",
   "metadata": {},
   "source": [
    "`Approach 1: SongLyrics library`"
   ]
  },
  {
   "cell_type": "markdown",
   "id": "0cd6d65c",
   "metadata": {
    "lang": "en"
   },
   "source": [
    "Lyrics extractor is a library that scribes some pages of song lyrics for us.\n",
    "We take a look at the [documentation](https://pypi.org/project/lyrics-extractor/) ALWAYS, especially the \n",
    "\n",
    "**Requirements** part that will explain the things we need to have for it to work .\n",
    "\n",
    "We need to create the KEYs for this library\n",
    "1.1.1. **[First](https://cse.google.com/cse/create/new)**, create a custom search engine: select a website of letters to scrape. for example: www.genius.com <br>\n",
    "1.1.2. **Second**, `Edit your search engine > select your website > Copy your search engine ID`.\n",
    "You now have your **GCS_ENGINE_ID**<br>\n",
    "1.1.3. **[Then](https://developers.google.com/custom-search/v1/overview)**, `Get a key > Select project > copy search engine API key`. You now have your **GCS_API_KEY**.\n",
    "\n",
    "```python\n",
    "from lyrics_extractor import SongLyrics\n",
    "extract_lyrics = SongLyrics(GCS_API_KEY, GCS_ENGINE_ID)\n",
    "\n",
    "sheeran = get_lyrics(\"Ed Sheeran\", \"shape of you\")\n",
    "sheeran\n",
    "```"
   ]
  },
  {
   "cell_type": "markdown",
   "id": "48fc9b7b",
   "metadata": {},
   "source": [
    "`Approach 2: lyricsgenius`\n",
    "\n",
    "1. Install lyrics genius\n",
    "2. Sign up\n",
    "3. Create an [API client](https://genius.com/api-clients)\n",
    "   - Use \"https://whatever.com\" as your website"
   ]
  },
  {
   "cell_type": "code",
   "execution_count": 109,
   "id": "160ec4df",
   "metadata": {},
   "outputs": [],
   "source": [
    "#!pip install lyricsgenius\n",
    "import lyricsgenius"
   ]
  },
  {
   "cell_type": "code",
   "execution_count": 110,
   "id": "61dda3c0",
   "metadata": {},
   "outputs": [],
   "source": [
    "from getpass import getpass"
   ]
  },
  {
   "cell_type": "code",
   "execution_count": 137,
   "id": "e7a8c48d",
   "metadata": {},
   "outputs": [
    {
     "name": "stdout",
     "output_type": "stream",
     "text": [
      "········\n"
     ]
    }
   ],
   "source": [
    "gen = getpass()"
   ]
  },
  {
   "cell_type": "markdown",
   "id": "b99e04df",
   "metadata": {
    "lang": "en"
   },
   "source": [
    "### store it in a variable\n",
    "We save the library in a variable by calling SongLyrics and passing it the keys"
   ]
  },
  {
   "cell_type": "code",
   "execution_count": 138,
   "id": "973d6e6c",
   "metadata": {},
   "outputs": [],
   "source": [
    "genius = lyricsgenius.Genius(gen)"
   ]
  },
  {
   "cell_type": "code",
   "execution_count": 139,
   "id": "c2d653d6",
   "metadata": {},
   "outputs": [
    {
     "data": {
      "text/plain": [
       "<lyricsgenius.genius.Genius at 0x7ff5c1079610>"
      ]
     },
     "execution_count": 139,
     "metadata": {},
     "output_type": "execute_result"
    }
   ],
   "source": [
    "genius"
   ]
  },
  {
   "cell_type": "markdown",
   "id": "0cad806a",
   "metadata": {
    "lang": "en"
   },
   "source": [
    "### We are looking for some lyrics"
   ]
  },
  {
   "cell_type": "code",
   "execution_count": 121,
   "id": "a73eb56a",
   "metadata": {},
   "outputs": [
    {
     "name": "stdout",
     "output_type": "stream",
     "text": [
      "Searching for songs by Michael Jackson...\n",
      "\n",
      "Song 1: \"Billie Jean\"\n",
      "\n",
      "Reached user-specified song limit (1).\n",
      "Done. Found 1 songs.\n"
     ]
    }
   ],
   "source": [
    "artist = genius.search_artist(\"Michael Jackson\", max_songs=1)"
   ]
  },
  {
   "cell_type": "code",
   "execution_count": 122,
   "id": "499d156a",
   "metadata": {},
   "outputs": [
    {
     "name": "stdout",
     "output_type": "stream",
     "text": [
      "243 ContributorsTranslationsEspañolPortuguêsHebrewEnglishBillie Jean Lyrics[Verse 1]\n",
      "She was more like a beauty queen from a movie scene\n",
      "I said, \"Don't mind, but what do you mean, I am the one\n",
      "Who will dance on the floor in the round?\"\n",
      "She said I am the one\n",
      "Who will dance on the floor in the round\n",
      "She told me her name was Billie Jean as she caused a scene\n",
      "Then every head turned with eyes that dreamed of bein' the one\n",
      "Who will dance on the floor in the round\n",
      "\n",
      "[Pre-Chorus 1]\n",
      "People always told me, \"Be careful of what you do\n",
      "Don't go around breakin' young girls' hearts\" (Hee-hee)\n",
      "And mother always told me, \"Be careful of who you love\n",
      "And be careful of what you do (Oh-oh)\n",
      "'Cause the lie becomes the truth\" (Oh-oh), hey-ey\n",
      "\n",
      "[Chorus]\n",
      "Billie Jean is not my lover, uh\n",
      "She's just a girl who claims that I am the one (Oh, baby)\n",
      "But the kid is not my son (Hoo)\n",
      "She says I am the one (Oh, baby)\n",
      "But the kid is not my son (Hee-hee-hee, no-no, hee-hee-hee, hoo)\n",
      "\n",
      "[Verse 2]\n",
      "For forty days and for forty nights, the law was on her side\n",
      "But who can stand when she's in demand? Her schemes and plans\n",
      "'Cause we danced on the floor in the round (Hee)\n",
      "So take my strong advice\n",
      "Just remember to always think twice\n",
      "(Don't think twice) Do think twice! (A-hoo!)\n",
      "She told my baby we'd danced 'til three, then she looked at me\n",
      "Then showed a photo of a baby cryin', his eyes were like mine (Oh, no)\n",
      "'Cause we danced on the floor in the round, baby (Ooh, hee-hee-hee)\n",
      "You might also like[Pre-Chorus 2]\n",
      "People always told me, \"Be careful of what you do\n",
      "And don't go around breakin' young girls' hearts\" (Don't break no hearts; hee-hee)\n",
      "But she came and stood right by me\n",
      "Just the smell of sweet perfume (Ha-oh)\n",
      "This happened much too soon (Ha-oh, ha-ooh)\n",
      "She called me to her room (Ha-oh, hoo), hey-ey\n",
      "\n",
      "[Chorus]\n",
      "Billie Jean is not my lover (Hoo)\n",
      "She's just a girl who claims that I am the one\n",
      "But the kid is not my son\n",
      "No-no-no, no-no-no-no-no-no (Hoo)\n",
      "Billie Jean is not my lover, uh\n",
      "She's just a girl who claims that I am the one (Oh, baby)\n",
      "But the kid is not my son (Oh, no, no)\n",
      "She says I am the one (Oh, baby)\n",
      "But the kid is not my son (No, hee-hee-hee, ah, hee-hee-hee)\n",
      "\n",
      "[Break]\n",
      "Hee, hoo\n",
      "\n",
      "[Chorus]\n",
      "She says I am the one, uh\n",
      "But the kid is not my son (No-no-no, hoo, ohh)\n",
      "Billie Jean is not my lover, uh\n",
      "She's just a girl who claims that I am the one (You know what you did to me, baby)\n",
      "But the kid is not my son\n",
      "No-no-no (No-no-no, ah), no-no-no-no (No-no-no)\n",
      "She says I am the one (No)\n",
      "But the kid is not my son (No-no-no-no)\n",
      "[Outro]\n",
      "She says I am the one (You know what you did)\n",
      "She says he is my son (Breakin' my heart, babe)\n",
      "She says I am the one\n",
      "Yeah, yeah, Billie Jean is not my lover, uh\n",
      "Yeah, Billie Jean is not my lover, uh\n",
      "Yeah, Billie Jean is not my lover, uh (She is just a girl)\n",
      "Yeah, Billie Jean is not my lover, uh (She is just a girl; don't call me Billie Jean, hoo)\n",
      "Billie Jean is not my lover, uh (She is just a girl; she's not at the scene)\n",
      "Billie Jean is not (Hee), aaow, ooh\n",
      "Yeah, Billie Jean is139Embed\n"
     ]
    }
   ],
   "source": [
    "print(artist.song(\"Billie Jean\").lyrics)"
   ]
  },
  {
   "cell_type": "markdown",
   "id": "b311c883",
   "metadata": {
    "lang": "en"
   },
   "source": [
    "### Many lyrics!"
   ]
  },
  {
   "cell_type": "code",
   "execution_count": 125,
   "id": "79a9552b",
   "metadata": {},
   "outputs": [],
   "source": [
    "def get_lyrics (artist_name, the_song):\n",
    "    try:\n",
    "        artist = genius.search_artist(artist_name, max_songs=1)\n",
    "        lyrics = artist.song(the_song).lyrics\n",
    "        return lyrics\n",
    "    except: \n",
    "        return np.nan"
   ]
  },
  {
   "cell_type": "code",
   "execution_count": 126,
   "id": "f089c247",
   "metadata": {},
   "outputs": [
    {
     "name": "stdout",
     "output_type": "stream",
     "text": [
      "Searching for songs by Alejandro Sanz...\n",
      "\n",
      "Song 1: \"Corazón Partío\"\n",
      "\n",
      "Reached user-specified song limit (1).\n",
      "Done. Found 1 songs.\n",
      "Searching for \"Corazón partío\" by Alejandro Sanz...\n",
      "Done.\n"
     ]
    },
    {
     "data": {
      "text/plain": [
       "'7 ContributorsCorazón Partío Lyrics[Letra de \"Corazón Partío\"]\\n\\n[Intro]\\nTiritas pa\\' este corazón partío\\nTiri-ti-tando de frío\\nTiritas pa\\' este corazón partío\\nPa\\' este corazón\\n\\n[Verso 1]\\nYa lo ves, que no hay dos sin tres\\nQue la vida va y viene y que no se detiene\\n¿Y, que sé? Yo\\nPero miénteme aunque sea, dime que algo queda\\nEntre nosotros dos, que en tu habitación\\nNunca sale el sol, ni existe el tiempo\\nNi el dolor\\nLlévame si quieres a perder\\nA ningún destino, sin ningún porque\\n¿Ya lo sé? Que corazón que no ve\\nEs corazón que no siente\\nO corazón que te miente amor\\nPero, sabes que en lo más profundo de mi alma\\nSigue aquel dolor por creer en ti\\nQue fue de la ilusión y de lo bello que es vivir?\\n\\n[Puente]\\nPara que me curaste cuando estaba herío\\nSi hoy me dejas de nuevo el corazón partío\\nYou might also like[Coro]\\n¿Quién me va a entregar sus emociones?\\n¿Quién me va a pedir que nunca la abandone?\\n¿Quién me tapará esta noche si hace frío?\\n¿Quién me va a curar el corazón partío?\\n¿Quién llenará de primaveras este enero\\nY bajará la luna para que juguemos?\\nDime, si tu te vas, dime, cariño mío\\n¿Quién me va a curar el corazón partío?\\n\\n[Puente]\\nTiritas pa\\' este corazón partío\\nTiritas pa\\' este corazón partío\\n\\n[Verso 2]\\nDar solamente aquello que te sobra\\nNunca fue compartir, sino dar limosna, amor\\nSi no lo sabes tú, te lo digo yo\\nDespués de la tormenta siempre llega la calma\\nPero, sé que después de ti\\nDespués de ti no hay nada\\nPara que me curaste cuando estaba herio\\nSi hoy me dejas de nuevo el corazón partío\\n\\n[Coro]\\n¿Quién me va a entregar sus emociones?\\n¿Quién me va a pedir que nunca la abandone?\\n¿Quién me tapará esta noche si hace frío?\\n¿Quién me va a curar el corazón partío?\\n¿Quién llenará de primaveras este enero\\nY bajará la luna para que juguemos?\\nDime, si tu te vas, dime, cariño mío\\n¿Quién me va a curar el corazón partío?\\n¿Quién me va a entregar sus emociones?\\n¿Quién me va a pedir que nunca la abandone?\\n¿Quién me tapará esta noche si hace frío?\\n¿Quién me va a curar el corazón partío?\\n¿Quién llenará de primaveras este enero\\nY bajará la luna para que juguemos?\\nDime, si tu te vas, dime, cariño mío\\n¿Quién me va a curar el corazón partío?\\n¿Quién me va a entregar sus emociones?\\n¿Quién me va a pedir que nunca la abandone?\\n¿Quién me tapará esta noche si hace frío?\\n¿Quién me va a curar el corazón partío?\\n¿Quién llenará de primaveras este enero\\nY bajará la luna para que juguemos?\\nDime, si tu te vas, dime, cariño mío\\n¿Quién me va a curar el corazón partío?\\n¿Quién me va a entregar sus emociones?\\n¿Quién me va a pedir que nunca la abandone?\\n¿Quién me tapará esta noche si hace frío?\\n¿Quién me va a curar el corazón partio?\\n¿Quién llenará de primaveras este enero\\nY bajará la luna para que juguemos?\\nDime, si tu te vas, dime, cariño mío\\n¿Quién me va a curar el corazón partío?\\n¿Quién me va a entregar sus emociones?\\n¿Quién me va a pedir que nunca la abandone?\\n¿Quién me tapará esta noche si hace frío?\\n¿Quién me va a curar el corazón partío?\\n¿Quién llenará de primaveras este enero\\nY bajará la luna para que juguemos?\\nDime, si tu te vas, dime, cariño mío\\n¿Quién me va a curar el corazón partío?\\n¿Quién me va a entregar sus emociones?\\n¿Quién me va a pedir que nunca la abandone?\\n¿Quién me tapará esta noche si hace frío?\\n¿Quién me va a curar el corazón partío?\\n¿Quién llenará de primaveras este enero\\nY bajará la luna para que juguemos?\\nDime, si tu te vas, dime, cariño mío\\n¿Quién me va a curar el corazón partío?4Embed'"
      ]
     },
     "execution_count": 126,
     "metadata": {},
     "output_type": "execute_result"
    }
   ],
   "source": [
    "get_lyrics (\"Alejandro Sanz\", \"Corazón partío\")"
   ]
  },
  {
   "cell_type": "code",
   "execution_count": 129,
   "id": "3a1ff7da",
   "metadata": {},
   "outputs": [
    {
     "name": "stdout",
     "output_type": "stream",
     "text": [
      "Searching for songs by Anitta...\n",
      "\n",
      "Song 1: \"Envolver\"\n",
      "\n",
      "Reached user-specified song limit (1).\n",
      "Done. Found 1 songs.\n",
      "Searching for \"Vai malandra\" by Anitta...\n",
      "Done.\n",
      "44 ContributorsVai Malandra Lyrics[Letra de \"Vai Malandra\" com Anitta, MC Zaac, Maejor, Yuri Martins & Tropkillaz]\n",
      "\n",
      "[Intro: MC Zaac]\n",
      "E, olha lá (Pesada)\n",
      "Não acredita o quê...\n",
      "Só tocar o...\n",
      "Não sei o que nós vamos ter...\n",
      "Olha lá, toda animadinha\n",
      "Olha lá, brincando, man (Tá louco)\n",
      "\n",
      "[Refrão: MC Zaac]\n",
      "Vai, vai, malandra, ahn, ahn\n",
      "Êta, louca, tu brincando com o bumbum, ahn, ahn\n",
      "Tutudum, ahn, ahn\n",
      "Vai, malandra, ahn, ahn\n",
      "Êta, louca, tu brincando com o bumbum, ahn, ahn\n",
      "Tutudum, ahn, ahn\n",
      "\n",
      "[Verso 1: Anitta & MC Zaac]\n",
      "Tá pedindo, ahn, ahn\n",
      "Se prepara, vou dançar, presta atenção, ahn, ahn\n",
      "Tutudum, ahn, ahn\n",
      "'Cê aguenta Ahn, ahn\n",
      "Se eu te olhar, descer e quicar até o chão?, ela brinca, não\n",
      "Tutudum, ahn, ahn\n",
      "You might also like[Verso 2: MC Zaac & Anitta]\n",
      "Desce, rebola gostoso\n",
      "Empina me olhando, eu te pego de jeito\n",
      "Se eu começar embrazando contigo, é:\n",
      "\"Taca, taca, taca, taca\"\n",
      "Desço, rebolo gostoso\n",
      "Empino te olhando, te pego de jeito\n",
      "Se eu começar embrazando contigo, é, ah\n",
      "\n",
      "[Ponte: Anitta]\n",
      "Não vou mais parar\n",
      "'Cê vai aguentar\n",
      "Não vou mais parar\n",
      "'Cê vai aguentar\n",
      "[Verso 3: Maejor]\n",
      "Vai, malandra, show me some\n",
      "Brazilian baby, you know I want ya\n",
      "Booty big, sit a glass on it\n",
      "See my zipper, put that ass on it\n",
      "Hypnotized by the way you shake it\n",
      "I can't lie, I'm tryna see you naked\n",
      "Anitta, baby, I'm tryna spank it\n",
      "I can give it to you, can you take it?\n",
      "\n",
      "[Ponte: MC Zaac]\n",
      "Já tá louca, bebendo\n",
      "Tão solta, envolvendo\n",
      "Eu tô vendo, não para, não\n",
      "[Refrão: MC Zaac, Anitta & Maejor]\n",
      "Vai, malandra, ahn, ahn\n",
      "Êta, louca, tu brincando com o bumbum, ahn, ahn\n",
      "Tutudum, ahn, ahn\n",
      "Bem malandra, ahn, ahn\n",
      "Eu tô louca, tô brincando com o bumbum, ahn, ahn\n",
      "Vai, malandra, ahn, ahn\n",
      "Turn around and put it down on me, ahn, ahn\n",
      "Baby, ahn, ahn\n",
      "Vai, malandra, ahn, ahn\n",
      "Êta, louca, tô brincando com o bumbum, ahn, ahn\n",
      "Baby, ahn, ahn\n",
      "\n",
      "[Verso 4: MC Zaac & Anitta]\n",
      "Desce, rebola gostoso\n",
      "Empina me olhando, eu te pego de jeito\n",
      "Se eu começar embrazando contigo, é:\n",
      "\"Taca, taca, taca, taca\"\n",
      "Desço, rebolo gostoso\n",
      "Empino te olhando, te pego de jeito\n",
      "Se eu começar embrazando contigo, é, ah\n",
      "\n",
      "[Ponte: Anitta]\n",
      "Não vou mais parar\n",
      "'Cê vai aguentar\n",
      "Não vou mais parar\n",
      "'Cê vai aguentar\n",
      "[Verso 5: Maejor]\n",
      "Yeah, throw it back on me and Zaac (Ayy)\n",
      "Make it clap, yeah, I'm into that (Ayy)\n",
      "Pullin' trax, yeah, I'm into that (Ayy)\n",
      "From the back, yeah, I'm into that (Ayy)\n",
      "Big dog to the kitty cat (Ah)\n",
      "Young boss where the Millis at (Ayy)\n",
      "In favela where it's litty at (Ayy)\n",
      "And the whole Brazil is feelin' that\n",
      "\n",
      "[Ponte: MC Zaac]\n",
      "Já tá louca, bebendo\n",
      "Tão solta, envolvendo\n",
      "Eu tô vendo, não para, não\n",
      "\n",
      "[Refrão: MC Zaac, Anitta & Maejor]\n",
      "Vai, malandra, ahn, ahn\n",
      "Êta, louca, tu brincando com o bumbum, ahn, ahn\n",
      "Tutudum, ahn, ahn\n",
      "Vai, malandra, ahn, ahn\n",
      "Êta, louca, tô brincando com o bumbum, ahn, ahn\n",
      "Baby13Embed\n"
     ]
    }
   ],
   "source": [
    "print(get_lyrics (\"Anitta\", \"Vai malandra\"))"
   ]
  },
  {
   "cell_type": "code",
   "execution_count": 131,
   "id": "720186e3",
   "metadata": {},
   "outputs": [
    {
     "data": {
      "text/html": [
       "<div>\n",
       "<style scoped>\n",
       "    .dataframe tbody tr th:only-of-type {\n",
       "        vertical-align: middle;\n",
       "    }\n",
       "\n",
       "    .dataframe tbody tr th {\n",
       "        vertical-align: top;\n",
       "    }\n",
       "\n",
       "    .dataframe thead th {\n",
       "        text-align: right;\n",
       "    }\n",
       "</style>\n",
       "<table border=\"1\" class=\"dataframe\">\n",
       "  <thead>\n",
       "    <tr style=\"text-align: right;\">\n",
       "      <th></th>\n",
       "      <th>artsit</th>\n",
       "      <th>name</th>\n",
       "      <th>album_name</th>\n",
       "      <th>popualrity</th>\n",
       "    </tr>\n",
       "  </thead>\n",
       "  <tbody>\n",
       "    <tr>\n",
       "      <th>84</th>\n",
       "      <td>SNAP!</td>\n",
       "      <td>The Power - 7\" Version</td>\n",
       "      <td>SNAP! The Power Greatest Hits</td>\n",
       "      <td>0</td>\n",
       "    </tr>\n",
       "  </tbody>\n",
       "</table>\n",
       "</div>"
      ],
      "text/plain": [
       "   artsit                    name                     album_name  popualrity\n",
       "84  SNAP!  The Power - 7\" Version  SNAP! The Power Greatest Hits           0"
      ]
     },
     "execution_count": 131,
     "metadata": {},
     "output_type": "execute_result"
    }
   ],
   "source": [
    "row = df.sample()\n",
    "row"
   ]
  },
  {
   "cell_type": "code",
   "execution_count": 134,
   "id": "12acde5e",
   "metadata": {},
   "outputs": [
    {
     "name": "stdout",
     "output_type": "stream",
     "text": [
      "84    SNAP!\n",
      "Name: artsit, dtype: object 84    The Power - 7\" Version\n",
      "Name: name, dtype: object\n"
     ]
    }
   ],
   "source": [
    "print(row[\"artsit\"], row[\"name\"])"
   ]
  },
  {
   "cell_type": "code",
   "execution_count": null,
   "id": "ba32fed5",
   "metadata": {},
   "outputs": [],
   "source": [
    "get_lyrics (column[\"artsit\"], col[\"name\"])"
   ]
  },
  {
   "cell_type": "code",
   "execution_count": null,
   "id": "d251c89b",
   "metadata": {},
   "outputs": [],
   "source": [
    "#df[\"lyrics\"] = df[\"artsit\"].apply(lambda row: get_lyrics (row[\"artsit\"], row[\"name\"]), axis=1)"
   ]
  },
  {
   "cell_type": "code",
   "execution_count": 141,
   "id": "370807e0",
   "metadata": {},
   "outputs": [],
   "source": [
    "import os\n",
    "import numpy as np"
   ]
  },
  {
   "cell_type": "code",
   "execution_count": null,
   "id": "05f77728",
   "metadata": {},
   "outputs": [
    {
     "name": "stdout",
     "output_type": "stream",
     "text": [
      "Searching for songs by Ojete Calor...\n",
      "\n",
      "Song 1: \"Mocatriz\"\n",
      "\n",
      "Reached user-specified song limit (1).\n",
      "Done. Found 1 songs.\n",
      "Searching for songs by Queen...\n",
      "\n",
      "Searching for songs by XTM...\n",
      "\n",
      "Song 1: \"Fly on the Wings of Love\"\n",
      "\n",
      "Reached user-specified song limit (1).\n",
      "Done. Found 1 songs.\n",
      "Searching for \"Fly on the Wings of Love - XTM Remix\" by XTM...\n",
      "No results found for: 'Fly on the Wings of Love - XTM Remix XTM'\n",
      "Searching for songs by Gigi D'Agostino...\n",
      "\n",
      "Changing artist name to 'Gigi D’Agostino'\n",
      "Song 1: \"L’Amour Toujours\"\n",
      "\n",
      "Reached user-specified song limit (1).\n",
      "Done. Found 1 songs.\n",
      "Searching for \"You Spin Me Round (Like A Record)\" by Gigi D’Agostino...\n",
      "Done.\n",
      "Searching for songs by M83...\n",
      "\n",
      "Song 1: \"Wait\"\n",
      "\n",
      "Reached user-specified song limit (1).\n",
      "Done. Found 1 songs.\n",
      "Searching for \"Midnight City\" by M83...\n",
      "Done.\n",
      "Searching for songs by MC Hammer...\n",
      "\n",
      "Song 1: \"U Can’t Touch This\"\n",
      "\n",
      "Reached user-specified song limit (1).\n",
      "Done. Found 1 songs.\n",
      "Searching for \"U Can't Touch This\" by MC Hammer...\n",
      "Done.\n",
      "Searching for songs by Bomfunk MC's...\n",
      "\n",
      "Changing artist name to 'Bomfunk MC’s'\n",
      "Song 1: \"Freestyler\"\n",
      "\n",
      "Reached user-specified song limit (1).\n",
      "Done. Found 1 songs.\n",
      "Searching for songs by Gorillaz...\n",
      "\n",
      "Song 1: \"Feel Good Inc.\"\n",
      "\n",
      "Reached user-specified song limit (1).\n",
      "Done. Found 1 songs.\n",
      "Searching for songs by P!nk...\n",
      "\n",
      "Song 1: \"Just Give Me a Reason\"\n",
      "\n",
      "Reached user-specified song limit (1).\n",
      "Done. Found 1 songs.\n",
      "Searching for \"Get the Party Started\" by P!nk...\n",
      "Done.\n",
      "Searching for songs by Robbie Williams...\n",
      "\n",
      "Song 1: \"Party Like a Russian\"\n",
      "\n",
      "Reached user-specified song limit (1).\n",
      "Done. Found 1 songs.\n",
      "Searching for \"Rock DJ\" by Robbie Williams...\n",
      "Done.\n",
      "Searching for songs by Haddaway...\n",
      "\n",
      "Searching for songs by Roxette...\n",
      "\n",
      "Song 1: \"Listen to Your Heart\"\n",
      "\n",
      "Reached user-specified song limit (1).\n",
      "Done. Found 1 songs.\n",
      "Searching for \"Sleeping in My Car - Single Version\" by Roxette...\n",
      "Done.\n",
      "Searching for songs by The Trashmen...\n",
      "\n",
      "Song 1: \"Surfin’ Bird\"\n",
      "\n",
      "Reached user-specified song limit (1).\n",
      "Done. Found 1 songs.\n",
      "Searching for \"Surfin' Bird\" by The Trashmen...\n",
      "Done.\n",
      "Searching for songs by Kate Ryan...\n",
      "\n",
      "Song 1: \"Désenchantée\"\n",
      "\n",
      "Reached user-specified song limit (1).\n",
      "Done. Found 1 songs.\n",
      "Searching for \"Libertine - Radio Edit\" by Kate Ryan...\n",
      "Done.\n",
      "Searching for songs by AronChupa...\n",
      "\n",
      "Song 1: \"I’m an Albatraoz\"\n",
      "\n",
      "Reached user-specified song limit (1).\n",
      "Done. Found 1 songs.\n",
      "Searching for \"I'm an Albatraoz\" by AronChupa...\n",
      "Done.\n",
      "Searching for songs by Dario Nunez...\n",
      "\n",
      "Changing artist name to 'Dario Nuñez'\n",
      "Song 1: \"Con La Mano Levantada\"\n",
      "\n",
      "Reached user-specified song limit (1).\n",
      "Done. Found 1 songs.\n",
      "Searching for \"Sra. Maria - ådå Radio Edit\" by Dario Nuñez...\n",
      "No results found for: 'Sra. Maria - ådå Radio Edit Dario Nuñez'\n",
      "Searching for songs by Green Velvet...\n",
      "\n",
      "Song 1: \"Lala Land\"\n",
      "\n",
      "Reached user-specified song limit (1).\n",
      "Done. Found 1 songs.\n",
      "Searching for \"Lazer Beams - Original Mix\" by Green Velvet...\n",
      "Done.\n",
      "Searching for songs by Martin Ikin...\n",
      "\n",
      "Song 1: \"How I Feel\"\n",
      "\n",
      "Reached user-specified song limit (1).\n",
      "Done. Found 1 songs.\n",
      "Searching for \"PWR\" by Martin Ikin...\n",
      "Done.\n",
      "Searching for songs by Detlef...\n",
      "\n",
      "Changing artist name to 'Lee Foss, Detlef & Anabel Englund'\n",
      "Song 1: \"Thunder & Lightning\"\n",
      "\n",
      "Reached user-specified song limit (1).\n",
      "Done. Found 1 songs.\n",
      "Searching for \"Swagon - Original Mix\" by Lee Foss, Detlef & Anabel Englund...\n",
      "No results found for: 'Swagon - Original Mix Lee Foss, Detlef & Anabel Englund'\n",
      "Searching for songs by Paskman...\n",
      "\n",
      "Changing artist name to 'BFB Da Packman'\n",
      "Song 1: \"Free Joe Exotic\"\n",
      "\n",
      "Reached user-specified song limit (1).\n",
      "Done. Found 1 songs.\n",
      "Searching for \"Smoking I Wait (Remix)\" by BFB Da Packman...\n",
      "No results found for: 'Smoking I Wait (Remix) BFB Da Packman'\n",
      "Searching for songs by Chico Blanco...\n",
      "\n",
      "Song 1: \"WTF Is In My Cup\"\n",
      "\n",
      "Reached user-specified song limit (1).\n",
      "Done. Found 1 songs.\n",
      "Searching for \"Positif Siempre\" by Chico Blanco...\n",
      "Done.\n",
      "Searching for songs by Dengue Dengue Dengue...\n",
      "\n",
      "Couldn't find the lyrics section. Please report this if the song has lyrics.\n",
      "Song URL: https://genius.com/Dengue-dengue-dengue-r2-lyrics\n",
      "Song 1: \"R2\"\n",
      "\n",
      "Reached user-specified song limit (1).\n",
      "Done. Found 1 songs.\n",
      "Searching for \"Serpiente Dorada\" by Dengue Dengue Dengue...\n",
      "No results found for: 'Serpiente Dorada Dengue Dengue Dengue'\n",
      "Searching for songs by Los Nastys...\n",
      "\n",
      "Song 1: \"Los Autos Locos\"\n",
      "\n",
      "Reached user-specified song limit (1).\n",
      "Done. Found 1 songs.\n",
      "Searching for songs by Myd...\n",
      "\n",
      "Song 1: \"The Sun\"\n",
      "\n",
      "Reached user-specified song limit (1).\n",
      "Done. Found 1 songs.\n",
      "Searching for \"Moving Men (feat. Mac DeMarco)\" by Myd...\n",
      "Done.\n",
      "Searching for songs by Sen Senra...\n",
      "\n",
      "Song 1: \"Ya No Te Hago Falta\"\n",
      "\n",
      "Reached user-specified song limit (1).\n",
      "Done. Found 1 songs.\n",
      "Searching for \"Wu Wu\" by Sen Senra...\n",
      "Done.\n",
      "Searching for songs by Full Crate...\n",
      "\n",
      "Song 1: \"A Storm On A Summers Day\"\n",
      "\n",
      "Reached user-specified song limit (1).\n",
      "Done. Found 1 songs.\n",
      "Searching for \"LowKey (feat. Jayd Ink)\" by Full Crate...\n",
      "Done.\n",
      "Searching for songs by Maverick Sabre...\n",
      "\n",
      "Song 1: \"Slow Down\"\n",
      "\n",
      "Reached user-specified song limit (1).\n",
      "Done. Found 1 songs.\n",
      "Searching for \"Slow Down (feat. Jorja Smith) - Vintage Culture & Slow Motion Remix\" by Maverick Sabre...\n",
      "Done.\n",
      "Searching for songs by rusowsky...\n",
      "\n",
      "Changing artist name to '​​rusowsky'\n",
      "Song 1: \"So So\"\n",
      "\n",
      "Reached user-specified song limit (1).\n",
      "Done. Found 1 songs.\n",
      "Searching for \"Dolores\" by ​​rusowsky...\n",
      "Done.\n",
      "Searching for songs by Kronowski...\n",
      "\n",
      "Changing artist name to 'Adam Kronowski'\n",
      "Done. Found 0 songs.\n",
      "Searching for \"The Pyre\" by Adam Kronowski...\n",
      "No results found for: 'The Pyre Adam Kronowski'\n",
      "Searching for songs by El Taiger...\n",
      "\n",
      "Song 1: \"Tú No Está Ready Pa’ Mí*\"\n",
      "\n",
      "Reached user-specified song limit (1).\n",
      "Done. Found 1 songs.\n",
      "Searching for \"La Historia\" by El Taiger...\n",
      "Done.\n",
      "Searching for songs by J Balvin...\n",
      "\n",
      "Searching for songs by Tyga...\n",
      "\n",
      "Song 1: \"Taste\"\n",
      "\n",
      "Reached user-specified song limit (1).\n",
      "Done. Found 1 songs.\n",
      "Searching for \"Taste (feat. Offset)\" by Tyga...\n",
      "Done.\n",
      "Searching for songs by Heavy D & The Boyz...\n",
      "\n",
      "Song 1: \"Now That We Found Love\"\n",
      "\n",
      "Reached user-specified song limit (1).\n",
      "Done. Found 1 songs.\n",
      "Searching for songs by Beyoncé...\n",
      "\n",
      "Song 1: \"Drunk in Love\"\n",
      "\n",
      "Reached user-specified song limit (1).\n",
      "Done. Found 1 songs.\n",
      "Searching for \"Crazy In Love (feat. Jay-Z)\" by Beyoncé...\n",
      "Done.\n",
      "Searching for songs by Kris Kross...\n",
      "\n",
      "Song 1: \"Jump\"\n",
      "\n",
      "Reached user-specified song limit (1).\n",
      "Done. Found 1 songs.\n",
      "Searching for songs by CASISDEAD...\n",
      "\n",
      "Song 1: \"Pat Earrings\"\n",
      "\n",
      "Reached user-specified song limit (1).\n",
      "Done. Found 1 songs.\n",
      "Searching for songs by Plan B...\n",
      "\n",
      "Song 1: \"Candy\"\n",
      "\n",
      "Reached user-specified song limit (1).\n",
      "Done. Found 1 songs.\n",
      "Searching for songs by OMI...\n",
      "\n",
      "Song 1: \"Cheerleader\"\n",
      "\n",
      "Reached user-specified song limit (1).\n",
      "Done. Found 1 songs.\n",
      "Searching for \"Cheerleader - Felix Jaehn Remix Radio Edit\" by OMI...\n",
      "Done.\n",
      "Searching for songs by Daddy Yankee...\n",
      "\n",
      "Searching for songs by Calle 13...\n",
      "\n",
      "Song 1: \"Latinoamérica\"\n",
      "\n",
      "Reached user-specified song limit (1).\n",
      "Done. Found 1 songs.\n",
      "Searching for \"Atrévete-Te-Te\" by Calle 13...\n",
      "Done.\n",
      "Searching for songs by Don Omar...\n",
      "\n",
      "Song 1: \"Danza Kuduro\"\n",
      "\n",
      "Reached user-specified song limit (1).\n",
      "Done. Found 1 songs.\n",
      "Searching for \"Virtual Diva\" by Don Omar...\n",
      "Done.\n",
      "Searching for songs by INNA...\n",
      "\n",
      "Song 1: \"Yalla (Japanese Version)\"\n",
      "\n",
      "Reached user-specified song limit (1).\n",
      "Done. Found 1 songs.\n",
      "Searching for \"Sun Is Up - Play & Win Radio Edit\" by INNA...\n",
      "Done.\n",
      "Searching for songs by Imagine Dragons...\n",
      "\n",
      "Song 1: \"Believer\"\n",
      "\n",
      "Reached user-specified song limit (1).\n",
      "Done. Found 1 songs.\n",
      "Searching for \"Enemy (with JID) - from the series Arcane League of Legends\" by Imagine Dragons...\n",
      "Done.\n",
      "Searching for songs by Patrick Topping...\n",
      "\n",
      "Couldn't find the lyrics section. Please report this if the song has lyrics.\n",
      "Song URL: https://genius.com/Patrick-topping-be-sharp-say-nowt-lyrics\n",
      "Song 1: \"Be Sharp Say Nowt\"\n",
      "\n",
      "Reached user-specified song limit (1).\n",
      "Done. Found 1 songs.\n",
      "Searching for \"Too Much - Original Mix\" by Patrick Topping...\n",
      "Done.\n",
      "Searching for songs by Peng Peng...\n",
      "\n",
      "Changing artist name to 'Zhang Pengpeng'\n",
      "Done. Found 0 songs.\n",
      "Searching for \"Here we go again Mamazita\" by Zhang Pengpeng...\n",
      "No results found for: 'Here we go again Mamazita Zhang Pengpeng'\n",
      "Searching for songs by DjeuhDjoah...\n",
      "\n"
     ]
    },
    {
     "name": "stdout",
     "output_type": "stream",
     "text": [
      "Done. Found 0 songs.\n",
      "Searching for \"El niño\" by DjeuhDjoah...\n",
      "Done.\n",
      "Searching for songs by Dele Sosimi...\n",
      "\n",
      "\"The Witness (Medlar Remix)\" is not valid. Skipping.\n",
      "Done. Found 0 songs.\n",
      "Searching for \"You No Fit Touch Am - Medlar Remix\" by Dele Sosimi...\n",
      "No results found for: 'You No Fit Touch Am - Medlar Remix Dele Sosimi'\n",
      "Searching for songs by L'Impératrice...\n",
      "\n",
      "Changing artist name to 'L’Impératrice'\n",
      "Song 1: \"Sonate pacifique\"\n",
      "\n",
      "Reached user-specified song limit (1).\n",
      "Done. Found 1 songs.\n",
      "Searching for \"Séquences - Voilaaa Remix\" by L’Impératrice...\n",
      "No results found for: 'Séquences - Voilaaa Remix L’Impératrice'\n",
      "Searching for songs by 40 Thieves...\n",
      "\n",
      "Song 1: \"Don’t Turn It Off\"\n",
      "\n",
      "Reached user-specified song limit (1).\n",
      "Done. Found 1 songs.\n",
      "Searching for \"Don't Turn It Off (feat. Qzen) - Greg Wilson Edit\" by 40 Thieves...\n",
      "No results found for: 'Don't Turn It Off (feat. Qzen) - Greg Wilson Edit 40 Thieves'\n",
      "Searching for songs by Anita Ward...\n",
      "\n",
      "Song 1: \"Ring My Bell\"\n",
      "\n",
      "Reached user-specified song limit (1).\n",
      "Done. Found 1 songs.\n",
      "Searching for songs by Bad Gyal...\n",
      "\n",
      "Song 1: \"Zorra\"\n",
      "\n",
      "Reached user-specified song limit (1).\n",
      "Done. Found 1 songs.\n",
      "Searching for \"Flow 2000\" by Bad Gyal...\n",
      "Done.\n",
      "Searching for songs by Aventura...\n",
      "\n",
      "Song 1: \"Obsesión\"\n",
      "\n",
      "Reached user-specified song limit (1).\n",
      "Done. Found 1 songs.\n",
      "Searching for \"Volví\" by Aventura...\n",
      "Done.\n",
      "Searching for songs by Bad Gyal...\n",
      "\n",
      "Song 1: \"Zorra\"\n",
      "\n",
      "Reached user-specified song limit (1).\n",
      "Done. Found 1 songs.\n",
      "Searching for \"Iconic\" by Bad Gyal...\n",
      "Done.\n",
      "Searching for songs by Kenya Racaile...\n",
      "\n",
      "Song 1: \"Azabache\"\n",
      "\n",
      "Reached user-specified song limit (1).\n",
      "Done. Found 1 songs.\n",
      "Searching for \"Tu Me Llamas Mami\" by Kenya Racaile...\n",
      "Done.\n",
      "Searching for songs by J Balvin...\n",
      "\n",
      "Searching for songs by Bad Gyal...\n",
      "\n",
      "Song 1: \"Zorra\"\n",
      "\n",
      "Reached user-specified song limit (1).\n",
      "Done. Found 1 songs.\n",
      "Searching for \"Jacaranda\" by Bad Gyal...\n",
      "Done.\n",
      "Searching for songs by Ralphie Choo...\n",
      "\n",
      "Song 1: \"​lamento de una supernova\"\n",
      "\n",
      "Reached user-specified song limit (1).\n",
      "Done. Found 1 songs.\n",
      "Searching for \"lamento de una supernova\" by Ralphie Choo...\n",
      "Done.\n",
      "Searching for songs by Daði Freyr...\n",
      "\n",
      "Song 1: \"Think About Things\"\n",
      "\n",
      "Reached user-specified song limit (1).\n",
      "Done. Found 1 songs.\n",
      "Searching for songs by Sade...\n",
      "\n",
      "Song 1: \"By Your Side\"\n",
      "\n",
      "Reached user-specified song limit (1).\n",
      "Done. Found 1 songs.\n",
      "Searching for \"Smooth Operator\" by Sade...\n",
      "Searching for songs by Cariño...\n",
      "\n",
      "Song 1: \":(\"\n",
      "\n",
      "Reached user-specified song limit (1).\n",
      "Done. Found 1 songs.\n",
      "Searching for \"Canción de Pop de Amor - Daniel Daniel Remix\" by Cariño...\n",
      "Done.\n",
      "Searching for songs by Bronski Beat...\n",
      "\n",
      "Song 1: \"Smalltown Boy\"\n",
      "\n",
      "Reached user-specified song limit (1).\n",
      "Done. Found 1 songs.\n",
      "Searching for songs by Ultra Naté...\n",
      "\n",
      "Song 1: \"Free\"\n",
      "\n",
      "Reached user-specified song limit (1).\n",
      "Done. Found 1 songs.\n",
      "Searching for \"If You Could Read My Mind\" by Ultra Naté...\n",
      "Done.\n",
      "Searching for songs by Orchestral Manoeuvres In The Dark...\n",
      "\n",
      "Changing artist name to 'Orchestral Manoeuvres in the Dark'\n",
      "Song 1: \"Enola Gay\"\n",
      "\n",
      "Reached user-specified song limit (1).\n",
      "Done. Found 1 songs.\n",
      "Searching for \"Enola Gay - Remastered 2003\" by Orchestral Manoeuvres in the Dark...\n",
      "Done.\n",
      "Searching for songs by Kate Ryan...\n",
      "\n",
      "Song 1: \"Désenchantée\"\n",
      "\n",
      "Reached user-specified song limit (1).\n",
      "Done. Found 1 songs.\n",
      "Searching for songs by Nickodemus...\n",
      "\n",
      "Song 1: \"Mi Swing Es Tropical\"\n",
      "\n",
      "Reached user-specified song limit (1).\n",
      "Done. Found 1 songs.\n",
      "Searching for \"Mi Swing es Tropical\" by Nickodemus...\n",
      "Done.\n",
      "Searching for songs by Celia Cruz...\n",
      "\n",
      "Song 1: \"Quimbara\"\n",
      "\n",
      "Reached user-specified song limit (1).\n",
      "Done. Found 1 songs.\n",
      "Searching for \"La Negra Tiene Tumbao\" by Celia Cruz...\n",
      "Done.\n",
      "Searching for songs by Green Velvet...\n",
      "\n",
      "Song 1: \"Lala Land\"\n",
      "\n",
      "Reached user-specified song limit (1).\n",
      "Done. Found 1 songs.\n",
      "Searching for \"Bigger Than Prince - Hot Since 82 Remix\" by Green Velvet...\n",
      "No results found for: 'Bigger Than Prince - Hot Since 82 Remix Green Velvet'\n",
      "Searching for songs by Royal Blood...\n",
      "\n",
      "Song 1: \"Out of the Black\"\n",
      "\n",
      "Reached user-specified song limit (1).\n",
      "Done. Found 1 songs.\n",
      "Searching for \"I Only Lie When I Love You\" by Royal Blood...\n",
      "Done.\n",
      "Searching for songs by Interpol...\n",
      "\n",
      "Song 1: \"Evil\"\n",
      "\n",
      "Reached user-specified song limit (1).\n",
      "Done. Found 1 songs.\n",
      "Searching for songs by Danzig...\n",
      "\n",
      "Song 1: \"Mother\"\n",
      "\n",
      "Reached user-specified song limit (1).\n",
      "Done. Found 1 songs.\n",
      "Searching for songs by Dio...\n",
      "\n",
      "Changing artist name to 'Céline Dion'\n",
      "Searching for songs by Iron Maiden...\n",
      "\n",
      "Song 1: \"The Number of the Beast\"\n",
      "\n",
      "Reached user-specified song limit (1).\n",
      "Done. Found 1 songs.\n",
      "Searching for \"Hallowed Be Thy Name - 2015 Remaster\" by Iron Maiden...\n",
      "Done.\n",
      "Searching for songs by Ozzy Osbourne...\n",
      "\n",
      "Searching for songs by Mötley Crüe...\n",
      "\n",
      "Song 1: \"Shout at the Devil\"\n",
      "\n",
      "Reached user-specified song limit (1).\n",
      "Done. Found 1 songs.\n",
      "Searching for \"Kickstart My Heart\" by Mötley Crüe...\n",
      "Done.\n",
      "Searching for songs by Iron Maiden...\n",
      "\n",
      "Song 1: \"The Number of the Beast\"\n",
      "\n",
      "Reached user-specified song limit (1).\n",
      "Done. Found 1 songs.\n",
      "Searching for \"2 Minutes to Midnight - 1998 Remaster\" by Iron Maiden...\n",
      "Done.\n",
      "Searching for songs by Fleetwood Mac...\n",
      "\n",
      "Searching for songs by The Cure...\n",
      "\n",
      "Song 1: \"Lovesong\"\n",
      "\n",
      "Reached user-specified song limit (1).\n",
      "Done. Found 1 songs.\n",
      "Searching for \"Burn\" by The Cure...\n",
      "Done.\n",
      "Searching for songs by Audioslave...\n",
      "\n",
      "Searching for songs by The Strokes...\n",
      "\n",
      "Song 1: \"The Adults Are Talking\"\n",
      "\n",
      "Reached user-specified song limit (1).\n",
      "Done. Found 1 songs.\n",
      "Searching for \"Heart In a Cage\" by The Strokes...\n",
      "Done.\n",
      "Searching for songs by Pixies...\n",
      "\n",
      "Song 1: \"Where Is My Mind?\"\n",
      "\n",
      "Reached user-specified song limit (1).\n",
      "Done. Found 1 songs.\n",
      "Searching for songs by Michael Jackson...\n",
      "\n",
      "Searching for songs by Tom Jones...\n",
      "\n",
      "Searching for songs by Ojete Calor...\n",
      "\n",
      "Song 1: \"Mocatriz\"\n",
      "\n",
      "Reached user-specified song limit (1).\n",
      "Done. Found 1 songs.\n",
      "Searching for \"Viejoven\" by Ojete Calor...\n",
      "Done.\n",
      "Searching for songs by Ladilla Rusa...\n",
      "\n",
      "Song 1: \"KITT y los coches del pasado\"\n",
      "\n",
      "Reached user-specified song limit (1).\n",
      "Done. Found 1 songs.\n",
      "Searching for \"Macaulay Culkin\" by Ladilla Rusa...\n",
      "Done.\n",
      "Searching for songs by SNAP!...\n",
      "\n",
      "Changing artist name to 'Snap!'\n",
      "Searching for songs by Rage Against The Machine...\n",
      "\n",
      "Changing artist name to 'Rage Against the Machine'\n",
      "Searching for songs by Beastie Boys...\n",
      "\n",
      "Song 1: \"Intergalactic\"\n",
      "\n",
      "Reached user-specified song limit (1).\n",
      "Done. Found 1 songs.\n",
      "Searching for \"Sabotage\" by Beastie Boys...\n",
      "Done.\n",
      "Searching for songs by Don Cheto...\n",
      "\n",
      "Song 1: \"El Tatuado\"\n",
      "\n",
      "Reached user-specified song limit (1).\n",
      "Done. Found 1 songs.\n",
      "Searching for songs by Roberto Jordan...\n",
      "\n",
      "Song 1: \"Hazme Una Señal\"\n",
      "\n",
      "Reached user-specified song limit (1).\n",
      "Done. Found 1 songs.\n",
      "Searching for \"No Se Ha Dado Cuenta\" by Roberto Jordan...\n",
      "Done.\n",
      "Searching for songs by Los Hijos del sol...\n",
      "\n",
      "Changing artist name to 'Los hijos del sol'\n",
      "Song 1: \"Cariñito\"\n",
      "\n",
      "Reached user-specified song limit (1).\n",
      "Done. Found 1 songs.\n",
      "Searching for songs by Nene Fresco...\n",
      "\n",
      "Song 1: \"Cha Ching\"\n",
      "\n",
      "Reached user-specified song limit (1).\n",
      "Done. Found 1 songs.\n",
      "Searching for \"Pelea de Gallos\" by Nene Fresco...\n",
      "No results found for: 'Pelea de Gallos Nene Fresco'\n",
      "Searching for songs by New Order...\n",
      "\n",
      "Searching for songs by The Chemical Brothers...\n",
      "\n",
      "Song 1: \"Wide Open\"\n",
      "\n",
      "Reached user-specified song limit (1).\n",
      "Done. Found 1 songs.\n",
      "Searching for \"Out Of Control\" by The Chemical Brothers...\n",
      "Done.\n",
      "Searching for songs by The Sound...\n",
      "\n",
      "Song 1: \"I Can’t Escape Myself\"\n",
      "\n",
      "Reached user-specified song limit (1).\n",
      "Done. Found 1 songs.\n",
      "Searching for \"The Fire\" by The Sound...\n",
      "Done.\n",
      "Searching for songs by Metronomy...\n",
      "\n",
      "Song 1: \"The Look\"\n",
      "\n",
      "Reached user-specified song limit (1).\n",
      "Done. Found 1 songs.\n",
      "Searching for \"Corinne\" by Metronomy...\n",
      "Done.\n",
      "Searching for songs by Foals...\n",
      "\n",
      "Song 1: \"What Went Down\"\n",
      "\n",
      "Reached user-specified song limit (1).\n",
      "Done. Found 1 songs.\n",
      "Searching for \"My Number\" by Foals...\n",
      "Done.\n",
      "Searching for songs by The Black Keys...\n",
      "\n",
      "Song 1: \"Little Black Submarines\"\n",
      "\n",
      "Reached user-specified song limit (1).\n",
      "Done. Found 1 songs.\n",
      "Searching for \"Run Right Back\" by The Black Keys...\n",
      "Done.\n",
      "Searching for songs by Royal Blood...\n",
      "\n",
      "Song 1: \"Out of the Black\"\n",
      "\n",
      "Reached user-specified song limit (1).\n",
      "Done. Found 1 songs.\n",
      "Searching for \"Ten Tonne Skeleton\" by Royal Blood...\n"
     ]
    },
    {
     "name": "stdout",
     "output_type": "stream",
     "text": [
      "Done.\n",
      "Searching for songs by Wolfmother...\n",
      "\n",
      "Song 1: \"Joker & the Thief\"\n",
      "\n",
      "Reached user-specified song limit (1).\n",
      "Done. Found 1 songs.\n",
      "Searching for \"Woman\" by Wolfmother...\n",
      "Done.\n",
      "Searching for songs by Six Foe...\n",
      "\n",
      "Song 1: \"Seasons\"\n",
      "\n",
      "Reached user-specified song limit (1).\n",
      "Done. Found 1 songs.\n"
     ]
    }
   ],
   "source": [
    "df[\"lyrics\"] = df.apply(lambda row: get_lyrics (row[\"artsit\"], row[\"name\"]), axis=1)\n",
    "os.system(\"say done\")"
   ]
  },
  {
   "cell_type": "markdown",
   "id": "e2b22ba0",
   "metadata": {
    "lang": "en"
   },
   "source": [
    "# Export: csv"
   ]
  },
  {
   "cell_type": "code",
   "execution_count": null,
   "id": "48bf278e",
   "metadata": {},
   "outputs": [],
   "source": [
    "df.to_csv(\"lyrics_navidad_ironhacker.csv\", index=False)"
   ]
  },
  {
   "cell_type": "markdown",
   "id": "6d3049ba",
   "metadata": {},
   "source": [
    "# RECAP"
   ]
  },
  {
   "cell_type": "markdown",
   "id": "07ff718c",
   "metadata": {},
   "source": [
    "- Get lyrics from a given playlist\n",
    "- Signed up for the spotify API: cliend_id & client_secret\n",
    "- With that: do a POST request to send those credentials and get a token\n",
    "- With the token: we're able to get all the songs from a playlist\n",
    "- We use the genius library for python to use its API\n",
    "- We build a dataframe with all the lyrics from a given spotify playlist\n",
    "\n",
    "- We saved the code into functions\n",
    "- We also createad one to save things into .env\n",
    "\n",
    "- Reminder: .env & .gitignore\n",
    "\n",
    "- By putting all the functions together: we can build a script that by passing ONE link (provided you have spotify credentials): result is a pandas daraframe with songs & lryics\n",
    "\n",
    "Input: one link\n",
    "Output: a whole dataframe with info from two sources"
   ]
  }
 ],
 "metadata": {
  "kernelspec": {
   "display_name": "ironhack",
   "language": "python",
   "name": "ironhack"
  },
  "language_info": {
   "codemirror_mode": {
    "name": "ipython",
    "version": 3
   },
   "file_extension": ".py",
   "mimetype": "text/x-python",
   "name": "python",
   "nbconvert_exporter": "python",
   "pygments_lexer": "ipython3",
   "version": "3.9.12"
  },
  "nbTranslate": {
   "displayLangs": [
    "en",
    "es"
   ],
   "hotkey": "alt-a",
   "langInMainMenu": true,
   "sourceLang": "es",
   "targetLang": "en",
   "useGoogleTranslate": true
  },
  "toc": {
   "base_numbering": 1,
   "nav_menu": {},
   "number_sections": true,
   "sideBar": true,
   "skip_h1_title": true,
   "title_cell": "Table of Contents",
   "title_sidebar": "Contents",
   "toc_cell": true,
   "toc_position": {},
   "toc_section_display": true,
   "toc_window_display": false
  }
 },
 "nbformat": 4,
 "nbformat_minor": 5
}

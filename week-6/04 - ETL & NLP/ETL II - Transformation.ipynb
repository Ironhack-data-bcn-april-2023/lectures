{
 "cells": [
  {
   "cell_type": "markdown",
   "id": "congressional-reservoir",
   "metadata": {
    "toc": true
   },
   "source": [
    "<h1>Table of Contents<span class=\"tocSkip\"></span></h1>\n",
    "<div class=\"toc\"><ul class=\"toc-item\"><li><span><a href=\"#We-explore-the-data-we-have\" data-toc-modified-id=\"We-explore-the-data-we-have-1\"><span class=\"toc-item-num\">1&nbsp;&nbsp;</span>We explore the data we have</a></span></li><li><span><a href=\"#Mission-1:-Transformation\" data-toc-modified-id=\"Mission-1:-Transformation-2\"><span class=\"toc-item-num\">2&nbsp;&nbsp;</span>Mission 1: Transformation</a></span><ul class=\"toc-item\"><li><span><a href=\"#Let's-clean-it-up-with-Regex\" data-toc-modified-id=\"Let's-clean-it-up-with-Regex-2.1\"><span class=\"toc-item-num\">2.1&nbsp;&nbsp;</span>Let's clean it up with Regex</a></span></li></ul></li></ul></div>"
   ]
  },
  {
   "cell_type": "code",
   "execution_count": 1,
   "id": "1f534d21",
   "metadata": {},
   "outputs": [],
   "source": [
    "import pandas as pd\n",
    "import sqlalchemy as alch\n",
    "from getpass import getpass\n",
    "import re"
   ]
  },
  {
   "cell_type": "code",
   "execution_count": 4,
   "id": "b7ff3c82",
   "metadata": {},
   "outputs": [
    {
     "data": {
      "text/html": [
       "<div>\n",
       "<style scoped>\n",
       "    .dataframe tbody tr th:only-of-type {\n",
       "        vertical-align: middle;\n",
       "    }\n",
       "\n",
       "    .dataframe tbody tr th {\n",
       "        vertical-align: top;\n",
       "    }\n",
       "\n",
       "    .dataframe thead th {\n",
       "        text-align: right;\n",
       "    }\n",
       "</style>\n",
       "<table border=\"1\" class=\"dataframe\">\n",
       "  <thead>\n",
       "    <tr style=\"text-align: right;\">\n",
       "      <th></th>\n",
       "      <th>name</th>\n",
       "      <th>artist</th>\n",
       "      <th>album_name</th>\n",
       "      <th>popularity</th>\n",
       "      <th>user</th>\n",
       "      <th>lyrics</th>\n",
       "    </tr>\n",
       "  </thead>\n",
       "  <tbody>\n",
       "    <tr>\n",
       "      <th>0</th>\n",
       "      <td>Canto a Caracas</td>\n",
       "      <td>Billo's</td>\n",
       "      <td>Canto a Caracas</td>\n",
       "      <td>0</td>\n",
       "      <td>soyarepita</td>\n",
       "      <td>Scarface Script LyricsScarface\\n\\nBy: Oliver S...</td>\n",
       "    </tr>\n",
       "    <tr>\n",
       "      <th>1</th>\n",
       "      <td>Peces del Guaire</td>\n",
       "      <td>Desorden Público</td>\n",
       "      <td>Descomposición</td>\n",
       "      <td>3</td>\n",
       "      <td>soyarepita</td>\n",
       "      <td>NaN</td>\n",
       "    </tr>\n",
       "    <tr>\n",
       "      <th>2</th>\n",
       "      <td>Cerro Avila</td>\n",
       "      <td>Ilan Chester</td>\n",
       "      <td>El Comienzo en un Sotano de la Florida</td>\n",
       "      <td>0</td>\n",
       "      <td>soyarepita</td>\n",
       "      <td>NaN</td>\n",
       "    </tr>\n",
       "    <tr>\n",
       "      <th>3</th>\n",
       "      <td>Valle De Balas</td>\n",
       "      <td>Desorden Público</td>\n",
       "      <td>Plomo Revienta</td>\n",
       "      <td>22</td>\n",
       "      <td>marianamartinh</td>\n",
       "      <td>Valle De Balas LyricsLa ciudad se encierra a v...</td>\n",
       "    </tr>\n",
       "    <tr>\n",
       "      <th>4</th>\n",
       "      <td>Las Caraqueñas</td>\n",
       "      <td>Guaco</td>\n",
       "      <td>Guaco Es Guaco</td>\n",
       "      <td>29</td>\n",
       "      <td>soyarepita</td>\n",
       "      <td>Las Caraqueñas LyricsNo sé que tienen las chic...</td>\n",
       "    </tr>\n",
       "    <tr>\n",
       "      <th>5</th>\n",
       "      <td>Epa Isidoro</td>\n",
       "      <td>Billo's</td>\n",
       "      <td>Canto a Caracas</td>\n",
       "      <td>0</td>\n",
       "      <td>soyarepita</td>\n",
       "      <td>NaN</td>\n",
       "    </tr>\n",
       "    <tr>\n",
       "      <th>6</th>\n",
       "      <td>Caracas Tiene Su Guaguanco</td>\n",
       "      <td>Justo Betancourt</td>\n",
       "      <td>Pa Bravo Yo</td>\n",
       "      <td>0</td>\n",
       "      <td>1253681944</td>\n",
       "      <td>NaN</td>\n",
       "    </tr>\n",
       "    <tr>\n",
       "      <th>7</th>\n",
       "      <td>Luna Caraqueña</td>\n",
       "      <td>Billo's</td>\n",
       "      <td>Canto a Caracas</td>\n",
       "      <td>0</td>\n",
       "      <td>soyarepita</td>\n",
       "      <td>NaN</td>\n",
       "    </tr>\n",
       "    <tr>\n",
       "      <th>8</th>\n",
       "      <td>Caminando por Caracas</td>\n",
       "      <td>Piero</td>\n",
       "      <td>Piero</td>\n",
       "      <td>0</td>\n",
       "      <td>soyarepita</td>\n",
       "      <td>CONGRESOS E INTELECTUALES EN LOS INICIOS DE UN...</td>\n",
       "    </tr>\n",
       "    <tr>\n",
       "      <th>9</th>\n",
       "      <td>Caracas de Noche - Original Mix</td>\n",
       "      <td>Javith</td>\n",
       "      <td>Caracas de Noche (Remixes)</td>\n",
       "      <td>26</td>\n",
       "      <td>1253681944</td>\n",
       "      <td>NaN</td>\n",
       "    </tr>\n",
       "    <tr>\n",
       "      <th>10</th>\n",
       "      <td>La Sifrina</td>\n",
       "      <td>Medioevo</td>\n",
       "      <td>La Sifrina</td>\n",
       "      <td>0</td>\n",
       "      <td>1253681944</td>\n",
       "      <td>NaN</td>\n",
       "    </tr>\n",
       "    <tr>\n",
       "      <th>11</th>\n",
       "      <td>La Vecina</td>\n",
       "      <td>Los Amigos Invisibles</td>\n",
       "      <td>Arepa 3000</td>\n",
       "      <td>42</td>\n",
       "      <td>1245001868</td>\n",
       "      <td>La Vecina Lyrics[Letra de \"La Vecina\"]\\n\\nToda...</td>\n",
       "    </tr>\n",
       "    <tr>\n",
       "      <th>12</th>\n",
       "      <td>Caracas: Te Quiero _ _ _ _ _</td>\n",
       "      <td>Masseratti 2Lts</td>\n",
       "      <td>Colores de Ideas #7</td>\n",
       "      <td>13</td>\n",
       "      <td>1245001868</td>\n",
       "      <td>NaN</td>\n",
       "    </tr>\n",
       "    <tr>\n",
       "      <th>13</th>\n",
       "      <td>La Hora De Caracas</td>\n",
       "      <td>Telegrama</td>\n",
       "      <td>Cambia Tus Amigos</td>\n",
       "      <td>0</td>\n",
       "      <td>1245001868</td>\n",
       "      <td>NaN</td>\n",
       "    </tr>\n",
       "    <tr>\n",
       "      <th>14</th>\n",
       "      <td>En La Ciudad De La Furia - Remasterizado 2007</td>\n",
       "      <td>Soda Stereo</td>\n",
       "      <td>Me Verás Volver (Hits &amp; Más)</td>\n",
       "      <td>50</td>\n",
       "      <td>marianamartinh</td>\n",
       "      <td>NaN</td>\n",
       "    </tr>\n",
       "  </tbody>\n",
       "</table>\n",
       "</div>"
      ],
      "text/plain": [
       "                                             name                 artist   \n",
       "0                                 Canto a Caracas                Billo's  \\\n",
       "1                                Peces del Guaire       Desorden Público   \n",
       "2                                     Cerro Avila           Ilan Chester   \n",
       "3                                  Valle De Balas       Desorden Público   \n",
       "4                                  Las Caraqueñas                  Guaco   \n",
       "5                                     Epa Isidoro                Billo's   \n",
       "6                      Caracas Tiene Su Guaguanco       Justo Betancourt   \n",
       "7                                 Luna Caraqueña                Billo's   \n",
       "8                           Caminando por Caracas                  Piero   \n",
       "9                 Caracas de Noche - Original Mix                 Javith   \n",
       "10                                     La Sifrina               Medioevo   \n",
       "11                                      La Vecina  Los Amigos Invisibles   \n",
       "12                   Caracas: Te Quiero _ _ _ _ _        Masseratti 2Lts   \n",
       "13                             La Hora De Caracas              Telegrama   \n",
       "14  En La Ciudad De La Furia - Remasterizado 2007            Soda Stereo   \n",
       "\n",
       "                                album_name  popularity            user   \n",
       "0                          Canto a Caracas           0      soyarepita  \\\n",
       "1                           Descomposición           3      soyarepita   \n",
       "2   El Comienzo en un Sotano de la Florida           0      soyarepita   \n",
       "3                           Plomo Revienta          22  marianamartinh   \n",
       "4                           Guaco Es Guaco          29      soyarepita   \n",
       "5                          Canto a Caracas           0      soyarepita   \n",
       "6                              Pa Bravo Yo           0      1253681944   \n",
       "7                          Canto a Caracas           0      soyarepita   \n",
       "8                                    Piero           0      soyarepita   \n",
       "9               Caracas de Noche (Remixes)          26      1253681944   \n",
       "10                              La Sifrina           0      1253681944   \n",
       "11                              Arepa 3000          42      1245001868   \n",
       "12                     Colores de Ideas #7          13      1245001868   \n",
       "13                       Cambia Tus Amigos           0      1245001868   \n",
       "14            Me Verás Volver (Hits & Más)          50  marianamartinh   \n",
       "\n",
       "                                               lyrics  \n",
       "0   Scarface Script LyricsScarface\\n\\nBy: Oliver S...  \n",
       "1                                                 NaN  \n",
       "2                                                 NaN  \n",
       "3   Valle De Balas LyricsLa ciudad se encierra a v...  \n",
       "4   Las Caraqueñas LyricsNo sé que tienen las chic...  \n",
       "5                                                 NaN  \n",
       "6                                                 NaN  \n",
       "7                                                 NaN  \n",
       "8   CONGRESOS E INTELECTUALES EN LOS INICIOS DE UN...  \n",
       "9                                                 NaN  \n",
       "10                                                NaN  \n",
       "11  La Vecina Lyrics[Letra de \"La Vecina\"]\\n\\nToda...  \n",
       "12                                                NaN  \n",
       "13                                                NaN  \n",
       "14                                                NaN  "
      ]
     },
     "execution_count": 4,
     "metadata": {},
     "output_type": "execute_result"
    }
   ],
   "source": [
    "df = pd.read_csv(\"lyrics_fake.csv\")\n",
    "df"
   ]
  },
  {
   "cell_type": "markdown",
   "id": "eda0c57d",
   "metadata": {
    "lang": "en"
   },
   "source": [
    "## We explore the data we have"
   ]
  },
  {
   "cell_type": "code",
   "execution_count": null,
   "id": "70d9f9a8",
   "metadata": {},
   "outputs": [],
   "source": [
    "[VERSO ]"
   ]
  },
  {
   "cell_type": "markdown",
   "id": "3999e24d",
   "metadata": {
    "lang": "en"
   },
   "source": [
    "## Mission 1: Transformation"
   ]
  },
  {
   "cell_type": "code",
   "execution_count": null,
   "id": "ec3d873d",
   "metadata": {},
   "outputs": [],
   "source": []
  },
  {
   "cell_type": "markdown",
   "id": "569e00fa",
   "metadata": {
    "lang": "en"
   },
   "source": [
    "### Let's clean it up with Regex\n",
    "We see that a pattern is fulfilled, and that is that they are phrases or words between brackets"
   ]
  },
  {
   "cell_type": "code",
   "execution_count": null,
   "id": "70315dc8",
   "metadata": {},
   "outputs": [],
   "source": []
  },
  {
   "cell_type": "markdown",
   "id": "89fbabc8",
   "metadata": {},
   "source": [
    "`removing brackets`"
   ]
  },
  {
   "cell_type": "code",
   "execution_count": null,
   "id": "b524b1e0",
   "metadata": {},
   "outputs": [],
   "source": []
  },
  {
   "cell_type": "markdown",
   "id": "806e843f",
   "metadata": {},
   "source": [
    "`changing quotes`"
   ]
  },
  {
   "cell_type": "code",
   "execution_count": null,
   "id": "c4208487",
   "metadata": {},
   "outputs": [],
   "source": []
  },
  {
   "cell_type": "code",
   "execution_count": 9,
   "id": "0b68c2be",
   "metadata": {},
   "outputs": [
    {
     "data": {
      "text/plain": [
       "\"Valle De Balas LyricsLa ciudad se encierra a ver telenovelas\\nSe levantan fortalezas, se prenden velas\\nAlla afuera los revolveres no respetan\\nPlomo revienta y nadie se alarma mas de la cuenta\\n\\nValle de balas vivo en un valle de balas\\nValle de balas mi ciudad esta brava(x2)\\n\\nCada quien cuenta su cuento de atropello\\nCada cual saque a pasear su propio miedo\\nAlla afuera los revolveres no respetan\\nPlomo revienta y nadie se alarma mas de la cuenta\\nValle de balas vivo en un valle de balas\\nValle de balas mi ciudad esta brava(x2)\\n\\nQue santifiquen a Jose Gregorio!\\nY el presidente pa'l sanatorio\\nVamo pa'lla\\n\\nCaracas\\n\\nValle de balas vivo en un valle de balas\\nValle de balas mi ciudad esta brava\\n\\nValle de balas vivo en un valle de balas\\nValle de balas mi ciudad esta brava\\n\\n(valle de balas vivo en un)\\nValle de balas vivo yo alla!You might also likeEmbed\""
      ]
     },
     "execution_count": 9,
     "metadata": {},
     "output_type": "execute_result"
    }
   ],
   "source": [
    "df[\"lyrics\"].iloc[3]"
   ]
  },
  {
   "cell_type": "code",
   "execution_count": 10,
   "id": "0885664e",
   "metadata": {},
   "outputs": [],
   "source": [
    "pattern_1 = \"\\[.*\\]\"\n",
    "pattern_2 = \"\\(.*\\)\"\n",
    "pattern_3 = \"'\""
   ]
  },
  {
   "cell_type": "code",
   "execution_count": 23,
   "id": "80ac2096",
   "metadata": {},
   "outputs": [],
   "source": [
    "df[\"lyrics\"] = df[\"lyrics\"].str.replace(pattern_1, \"\", regex=True)\n",
    "df[\"lyrics\"] = df[\"lyrics\"].str.replace(pattern_2, \"\", regex=True)\n",
    "df[\"lyrics\"] = df[\"lyrics\"].str.replace(pattern_3, \"`\", regex=True)\n",
    "df[\"lyrics\"] = df[\"lyrics\"].str.replace(\"Lyrics\", \"\", regex=True)\n",
    "df[\"lyrics\"] = df[\"lyrics\"].str.replace(\"You might also like\", \"\", regex=True)\n",
    "df[\"lyrics\"] = df[\"lyrics\"].str.replace(\"Embed\", \"\", regex=True)"
   ]
  },
  {
   "cell_type": "code",
   "execution_count": 24,
   "id": "25107e39",
   "metadata": {},
   "outputs": [
    {
     "name": "stdout",
     "output_type": "stream",
     "text": [
      "Las Caraqueñas No sé que tienen las chicas lindas\n",
      "Que de Caracas\n",
      "Con su caminar tan sabrosón\n",
      "Que a todo el mundo arrebata\n",
      "Cuando las miro al pasar\n",
      "El cuerpo se me estremece\n",
      "No puedo hablar solo mirar\n",
      "Pues mudo quedé\n",
      "Y si las miro otra vez me moriré\n",
      "\n",
      "¡y es que tienen un swing!\n",
      "No sé que tienen las chicas lindas\n",
      "Que de Caracas\n",
      "Con su caminar tan sabrosón\n",
      "Que a todo el mundo arrebata\n",
      "Cuando las miro al pasar\n",
      "El cuerpo se me estremece\n",
      "No puedo hablar solo mirar\n",
      "Pues mudo quedé\n",
      "Y si las miro otra vez me moriré\n",
      "\n",
      "\n",
      "Esas jevas de Caracas me tiene un ojo gastao\n",
      "\n",
      "Y cuando voy al litoral\n",
      "Su piel bronceada por el sol seguramente\n",
      "Mamita rica, me fascina\n",
      "\n",
      "Yo pienso que todo lo tienen\n",
      "Belleza, pureza, inteligencia\n",
      "¡cosa más grande, caraqueña!\n",
      "\n",
      "Tienen un caminao, dulce como el melao\n",
      "\n",
      "No como nada, como todo\n",
      "\n",
      "\n",
      "A las en la Metropolitana, la Santa Maria ven\n",
      "A la Católica y a la Central, canto yo\n",
      "\n",
      "Y si tu vas por Las Mercedes, Prados del Este\n",
      "Y en El Rosal te detienes\n",
      "\n",
      "¡ay pero mira que son de Caracas\n",
      "Las chicas que a mi me gustan, pa gozar!\n",
      "Macaco\n",
      "No te llevo nylon\n",
      "\n",
      "(¡mira como bailan las caraqueñas, pero mira como gozan\n",
      "Ven pa que veas!)\n",
      "¡ay cómo gozo, porque ellas bailan sabroso, sabroso!\n",
      "(¡mira como bailan las caraqueñas, pero mira como gozan\n",
      "Ven pa que veas!)\n",
      "Es que, baila con guaco este sabroso son\n",
      "Mira caraqueñas que sabroso estoy\n",
      "(¡mira como bailan las caraqueñas, pero mira como gozan\n",
      "Ven pa que veas!)\n",
      "Quin, quin......\n",
      "Les suenan las cinturas las mulatas del San Agustín\n"
     ]
    }
   ],
   "source": [
    "print(df.iloc[4][\"lyrics\"])"
   ]
  },
  {
   "cell_type": "code",
   "execution_count": 26,
   "id": "f84628de",
   "metadata": {},
   "outputs": [],
   "source": [
    "def cleaning_lyrics (df):\n",
    "    \n",
    "    pattern_1 = \"\\[.*\\]\"\n",
    "    pattern_2 = \"\\(.*\\)\"\n",
    "    pattern_3 = \"'\"\n",
    "\n",
    "    df[\"lyrics\"] = df[\"lyrics\"].str.replace(pattern_1, \"\", regex=True)\n",
    "    df[\"lyrics\"] = df[\"lyrics\"].str.replace(pattern_2, \"\", regex=True)\n",
    "    df[\"lyrics\"] = df[\"lyrics\"].str.replace(pattern_3, \"`\", regex=True)\n",
    "    df[\"lyrics\"] = df[\"lyrics\"].str.replace(\"Lyrics\", \"\", regex=True)\n",
    "    df[\"lyrics\"] = df[\"lyrics\"].str.replace(\"You might also like\", \"\", regex=True)\n",
    "    df[\"lyrics\"] = df[\"lyrics\"].str.replace(\"Embed\", \"\", regex=True)\n",
    "    \n",
    "    return df"
   ]
  },
  {
   "cell_type": "code",
   "execution_count": 27,
   "id": "1239f1a7",
   "metadata": {},
   "outputs": [],
   "source": [
    "df.to_csv(\"cleaned_lyrics_andres\", index=False)"
   ]
  }
 ],
 "metadata": {
  "kernelspec": {
   "display_name": "ironhack",
   "language": "python",
   "name": "ironhack"
  },
  "language_info": {
   "codemirror_mode": {
    "name": "ipython",
    "version": 3
   },
   "file_extension": ".py",
   "mimetype": "text/x-python",
   "name": "python",
   "nbconvert_exporter": "python",
   "pygments_lexer": "ipython3",
   "version": "3.9.12"
  },
  "nbTranslate": {
   "displayLangs": [
    "en",
    "es"
   ],
   "hotkey": "alt-a",
   "langInMainMenu": true,
   "sourceLang": "es",
   "targetLang": "en",
   "useGoogleTranslate": true
  },
  "toc": {
   "base_numbering": 1,
   "nav_menu": {},
   "number_sections": true,
   "sideBar": true,
   "skip_h1_title": true,
   "title_cell": "Table of Contents",
   "title_sidebar": "Contents",
   "toc_cell": true,
   "toc_position": {},
   "toc_section_display": true,
   "toc_window_display": false
  }
 },
 "nbformat": 4,
 "nbformat_minor": 5
}

{
 "cells": [
  {
   "cell_type": "markdown",
   "id": "congressional-reservoir",
   "metadata": {
    "toc": true
   },
   "source": [
    "<h1>Table of Contents<span class=\"tocSkip\"></span></h1>\n",
    "<div class=\"toc\"><ul class=\"toc-item\"><li><span><a href=\"#We-explore-the-data-we-have\" data-toc-modified-id=\"We-explore-the-data-we-have-1\"><span class=\"toc-item-num\">1&nbsp;&nbsp;</span>We explore the data we have</a></span></li><li><span><a href=\"#Mission-1:-Transformation\" data-toc-modified-id=\"Mission-1:-Transformation-2\"><span class=\"toc-item-num\">2&nbsp;&nbsp;</span>Mission 1: Transformation</a></span><ul class=\"toc-item\"><li><span><a href=\"#Let's-clean-it-up-with-Regex\" data-toc-modified-id=\"Let's-clean-it-up-with-Regex-2.1\"><span class=\"toc-item-num\">2.1&nbsp;&nbsp;</span>Let's clean it up with Regex</a></span></li></ul></li></ul></div>"
   ]
  },
  {
   "cell_type": "code",
   "execution_count": 3,
   "id": "1f534d21",
   "metadata": {},
   "outputs": [],
   "source": [
    "import pandas as pd\n",
    "import sqlalchemy as alch\n",
    "from getpass import getpass\n",
    "import re"
   ]
  },
  {
   "cell_type": "markdown",
   "id": "eda0c57d",
   "metadata": {
    "lang": "en"
   },
   "source": [
    "## We explore the data we have"
   ]
  },
  {
   "cell_type": "code",
   "execution_count": null,
   "id": "0b68c2be",
   "metadata": {},
   "outputs": [],
   "source": []
  },
  {
   "cell_type": "markdown",
   "id": "3999e24d",
   "metadata": {
    "lang": "en"
   },
   "source": [
    "## Mission 1: Transformation"
   ]
  },
  {
   "cell_type": "code",
   "execution_count": null,
   "id": "ec3d873d",
   "metadata": {},
   "outputs": [],
   "source": []
  },
  {
   "cell_type": "markdown",
   "id": "569e00fa",
   "metadata": {
    "lang": "en"
   },
   "source": [
    "### Let's clean it up with Regex\n",
    "We see that a pattern is fulfilled, and that is that they are phrases or words between brackets"
   ]
  },
  {
   "cell_type": "code",
   "execution_count": null,
   "id": "70315dc8",
   "metadata": {},
   "outputs": [],
   "source": []
  },
  {
   "cell_type": "markdown",
   "id": "89fbabc8",
   "metadata": {},
   "source": [
    "`removing brackets`"
   ]
  },
  {
   "cell_type": "code",
   "execution_count": null,
   "id": "b524b1e0",
   "metadata": {},
   "outputs": [],
   "source": []
  },
  {
   "cell_type": "markdown",
   "id": "806e843f",
   "metadata": {},
   "source": [
    "`changing quotes`"
   ]
  },
  {
   "cell_type": "code",
   "execution_count": null,
   "id": "c4208487",
   "metadata": {},
   "outputs": [],
   "source": []
  }
 ],
 "metadata": {
  "kernelspec": {
   "display_name": "ironhack",
   "language": "python",
   "name": "ironhack"
  },
  "language_info": {
   "codemirror_mode": {
    "name": "ipython",
    "version": 3
   },
   "file_extension": ".py",
   "mimetype": "text/x-python",
   "name": "python",
   "nbconvert_exporter": "python",
   "pygments_lexer": "ipython3",
   "version": "3.9.12"
  },
  "nbTranslate": {
   "displayLangs": [
    "en",
    "es"
   ],
   "hotkey": "alt-a",
   "langInMainMenu": true,
   "sourceLang": "es",
   "targetLang": "en",
   "useGoogleTranslate": true
  },
  "toc": {
   "base_numbering": 1,
   "nav_menu": {},
   "number_sections": true,
   "sideBar": true,
   "skip_h1_title": true,
   "title_cell": "Table of Contents",
   "title_sidebar": "Contents",
   "toc_cell": true,
   "toc_position": {},
   "toc_section_display": true,
   "toc_window_display": false
  }
 },
 "nbformat": 4,
 "nbformat_minor": 5
}

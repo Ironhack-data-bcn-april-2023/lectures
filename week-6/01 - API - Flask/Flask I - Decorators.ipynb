{
 "cells": [
  {
   "cell_type": "markdown",
   "metadata": {
    "toc": true
   },
   "source": [
    "<h1>Table of Contents<span class=\"tocSkip\"></span></h1>\n",
    "<div class=\"toc\"><ul class=\"toc-item\"><li><span><a href=\"#What-is-Flask?\" data-toc-modified-id=\"What-is-Flask?-1\"><span class=\"toc-item-num\">1&nbsp;&nbsp;</span>What is Flask?</a></span><ul class=\"toc-item\"><li><span><a href=\"#Doc-de-Flask\" data-toc-modified-id=\"Doc-de-Flask-1.1\"><span class=\"toc-item-num\">1.1&nbsp;&nbsp;</span>Doc de Flask</a></span></li><li><span><a href=\"#Other-frameworks\" data-toc-modified-id=\"Other-frameworks-1.2\"><span class=\"toc-item-num\">1.2&nbsp;&nbsp;</span>Other frameworks</a></span></li></ul></li><li><span><a href=\"#Introduction-to-decorators\" data-toc-modified-id=\"Introduction-to-decorators-2\"><span class=\"toc-item-num\">2&nbsp;&nbsp;</span>Introduction to decorators</a></span><ul class=\"toc-item\"><li><span><a href=\"#What-are-decorators?\" data-toc-modified-id=\"What-are-decorators?-2.1\"><span class=\"toc-item-num\">2.1&nbsp;&nbsp;</span>What are decorators?</a></span></li><li><span><a href=\"#Structure\" data-toc-modified-id=\"Structure-2.2\"><span class=\"toc-item-num\">2.2&nbsp;&nbsp;</span>Structure</a></span></li><li><span><a href=\"#Let's-go-there\" data-toc-modified-id=\"Let's-go-there-2.3\"><span class=\"toc-item-num\">2.3&nbsp;&nbsp;</span>Let's go there</a></span></li><li><span><a href=\"#Modifying-another-function\" data-toc-modified-id=\"Modifying-another-function-2.4\"><span class=\"toc-item-num\">2.4&nbsp;&nbsp;</span>Modifying another function</a></span></li><li><span><a href=\"#Decorators-for-exception-handlers\" data-toc-modified-id=\"Decorators-for-exception-handlers-2.5\"><span class=\"toc-item-num\">2.5&nbsp;&nbsp;</span>Decorators for exception handlers</a></span></li><li><span><a href=\"#Verbosity/error-handling\" data-toc-modified-id=\"Verbosity/error-handling-2.6\"><span class=\"toc-item-num\">2.6&nbsp;&nbsp;</span>Verbosity/error handling</a></span></li><li><span><a href=\"#Time\" data-toc-modified-id=\"Time-2.7\"><span class=\"toc-item-num\">2.7&nbsp;&nbsp;</span>Time</a></span></li></ul></li><li><span><a href=\"#Let's-create-an-API\" data-toc-modified-id=\"Let's-create-an-API-3\"><span class=\"toc-item-num\">3&nbsp;&nbsp;</span>Let's create an API</a></span><ul class=\"toc-item\"><li><span><a href=\"#Let's-go-🔥\" data-toc-modified-id=\"Let's-go-🔥-3.1\"><span class=\"toc-item-num\">3.1&nbsp;&nbsp;</span>Let's go 🔥</a></span></li></ul></li><li><span><a href=\"#Summary\" data-toc-modified-id=\"Summary-4\"><span class=\"toc-item-num\">4&nbsp;&nbsp;</span>Summary</a></span></li></ul></div>"
   ]
  },
  {
   "cell_type": "markdown",
   "metadata": {
    "lang": "en"
   },
   "source": [
    "# API WITH PYTHON"
   ]
  },
  {
   "cell_type": "markdown",
   "metadata": {
    "lang": "en"
   },
   "source": [
    "## What is Flask?"
   ]
  },
  {
   "cell_type": "markdown",
   "metadata": {
    "lang": "en"
   },
   "source": [
    "Flask is a minimalist framework written in Python that allows you to create APIs quickly and with a minimum number of lines of code."
   ]
  },
  {
   "cell_type": "markdown",
   "metadata": {},
   "source": [
    "### Doc de Flask"
   ]
  },
  {
   "cell_type": "markdown",
   "metadata": {},
   "source": [
    "- https://flask.palletsprojects.com/en/1.1.x/quickstart/#a-minimal-application"
   ]
  },
  {
   "cell_type": "markdown",
   "metadata": {
    "lang": "en"
   },
   "source": [
    "### Other frameworks"
   ]
  },
  {
   "cell_type": "markdown",
   "metadata": {},
   "source": [
    "- https://www.streamlit.io/\n",
    "- https://fastapi.tiangolo.com/"
   ]
  },
  {
   "cell_type": "markdown",
   "metadata": {
    "lang": "en"
   },
   "source": [
    "## Introduction to decorators"
   ]
  },
  {
   "cell_type": "markdown",
   "metadata": {
    "lang": "en"
   },
   "source": [
    "### What are decorators?"
   ]
  },
  {
   "cell_type": "markdown",
   "metadata": {
    "lang": "en"
   },
   "source": [
    "Decorators are themselves functions, which take a function as an argument and return another function.\n",
    "Functions that add \"functionality\" to other functions.\n",
    "There are really 3 functions:\n",
    "a, b and c\n",
    "\n",
    "Where:\n",
    "A is a function that receives as parameter B to return C\n",
    "\n",
    "\n",
    "\n",
    "Decorators were added in Python 2.4 to make it easier to read and understand the wrapper of functions and methods (a function that receives a function and returns an enhanced one). The original use case was to be able to define methods as class methods or static methods, at the head of their definition. The syntax before decorators was:\n",
    "\n",
    "```python\n",
    "class WhatFor(object):\n",
    "    define it(cls):\n",
    "        print 'work with %s' % cls\n",
    "    it = classmethod(it)\n",
    "    defuncommon():\n",
    "        print 'I could be a global function'\n",
    "    uncommon = staticmethod(uncommon)\n",
    "```\n",
    "\n",
    "This syntax became difficult to read when the methods became large, or various transformations were done on the methods.\n",
    "The decorator syntax is lighter and easier to understand:\n",
    "\n",
    "```python\n",
    "class WhatFor(object):\n",
    "    @classmethod\n",
    "    define it(cls):\n",
    "        print 'work with %s' % cls@staticmethod\n",
    "    defuncommon():\n",
    "        print 'I could be a global function'\n",
    "```"
   ]
  },
  {
   "cell_type": "markdown",
   "metadata": {
    "lang": "en"
   },
   "source": [
    "### Structure\n",
    "How to write a decorator\n",
    "There are many ways to write custom decorators, but the easiest and most readable way is to write a function that returns a subfunction that wraps the original function call.\n",
    "A generic pattern is:\n",
    "\n",
    "```python\n",
    "def mydecorator(function):\n",
    "    def _mydecorator(*args,**kw):\n",
    "        # do some stuff before the real\n",
    "        # function gets called\n",
    "        res = function(*args, **kw)\n",
    "    return _mydecorator\n",
    "```"
   ]
  },
  {
   "cell_type": "markdown",
   "metadata": {
    "lang": "en"
   },
   "source": [
    "### Let's go there\n",
    "We remember 🤔\n",
    "\n",
    "There are really 3 functions:\n",
    "a, b and c\n",
    "\n",
    "Where:\n",
    " A is a function that receives as parameter B to return C"
   ]
  },
  {
   "cell_type": "code",
   "execution_count": null,
   "metadata": {},
   "outputs": [],
   "source": [
    "def decorator_function_A(one_function_B): \n",
    "    def inner_function_C(*args,**kw): \n",
    "        # code for the inner function\n",
    "        pass\n",
    "    return inner_function_C\n",
    "\n",
    "#decorator_function  = Function A\n",
    "#one_function  = Function B\n",
    "#inner_function = Function C"
   ]
  },
  {
   "cell_type": "markdown",
   "metadata": {},
   "source": [
    "### Modifying another function"
   ]
  },
  {
   "cell_type": "code",
   "execution_count": 16,
   "metadata": {},
   "outputs": [],
   "source": [
    "import random\n",
    "\n",
    "items = [\"lettuce\", \"tomato\", \"mayo\"]"
   ]
  },
  {
   "cell_type": "code",
   "execution_count": 17,
   "metadata": {},
   "outputs": [],
   "source": [
    "def random_item (list_):\n",
    "    return random.choice(list_)"
   ]
  },
  {
   "cell_type": "code",
   "execution_count": 36,
   "metadata": {},
   "outputs": [
    {
     "data": {
      "text/plain": [
       "'tomato'"
      ]
     },
     "execution_count": 36,
     "metadata": {},
     "output_type": "execute_result"
    }
   ],
   "source": [
    "random_item(items)"
   ]
  },
  {
   "cell_type": "code",
   "execution_count": null,
   "metadata": {},
   "outputs": [],
   "source": [
    "# 1. Something: simple print\n",
    "# 2. Call the function itself"
   ]
  },
  {
   "cell_type": "code",
   "execution_count": 37,
   "metadata": {},
   "outputs": [],
   "source": [
    "def decorator_printer (fn): \n",
    "    def inner_function (*args,**kw): \n",
    "        # 1. Something: simple print\n",
    "        print(\"This is the item you chose: \")\n",
    "        \n",
    "        return fn(*args,**kw)\n",
    "    return inner_function"
   ]
  },
  {
   "cell_type": "code",
   "execution_count": 55,
   "metadata": {},
   "outputs": [],
   "source": [
    "@decorator_printer # doing stuff, then calling the function random_item\n",
    "def random_item (list_):\n",
    "    return random.choice(list_)"
   ]
  },
  {
   "cell_type": "code",
   "execution_count": 54,
   "metadata": {},
   "outputs": [
    {
     "data": {
      "text/plain": [
       "'mayo'"
      ]
     },
     "execution_count": 54,
     "metadata": {},
     "output_type": "execute_result"
    }
   ],
   "source": [
    "def random_item (list_):\n",
    "    return random.choice(list_)\n",
    "\n",
    "random_item(items)"
   ]
  },
  {
   "cell_type": "code",
   "execution_count": 61,
   "metadata": {
    "scrolled": false
   },
   "outputs": [
    {
     "name": "stdout",
     "output_type": "stream",
     "text": [
      "This is the item you chose: \n"
     ]
    },
    {
     "data": {
      "text/plain": [
       "'lettuce'"
      ]
     },
     "execution_count": 61,
     "metadata": {},
     "output_type": "execute_result"
    }
   ],
   "source": [
    "random_item (items)"
   ]
  },
  {
   "cell_type": "code",
   "execution_count": 66,
   "metadata": {},
   "outputs": [],
   "source": [
    "@decorator_printer\n",
    "def addition (a, b):\n",
    "    return a + b"
   ]
  },
  {
   "cell_type": "code",
   "execution_count": 70,
   "metadata": {},
   "outputs": [
    {
     "name": "stdout",
     "output_type": "stream",
     "text": [
      "This is the item you chose: \n"
     ]
    },
    {
     "data": {
      "text/plain": [
       "13"
      ]
     },
     "execution_count": 70,
     "metadata": {},
     "output_type": "execute_result"
    }
   ],
   "source": [
    "addition (3, 10)"
   ]
  },
  {
   "cell_type": "code",
   "execution_count": 71,
   "metadata": {},
   "outputs": [
    {
     "name": "stdout",
     "output_type": "stream",
     "text": [
      "This is the item you chose: \n"
     ]
    },
    {
     "data": {
      "text/plain": [
       "'lettuce'"
      ]
     },
     "execution_count": 71,
     "metadata": {},
     "output_type": "execute_result"
    }
   ],
   "source": [
    "random_item(items)"
   ]
  },
  {
   "cell_type": "markdown",
   "metadata": {},
   "source": [
    "### Decorators for exception handlers"
   ]
  },
  {
   "cell_type": "code",
   "execution_count": 74,
   "metadata": {},
   "outputs": [],
   "source": [
    "def area_square (length):\n",
    "    return length * length"
   ]
  },
  {
   "cell_type": "code",
   "execution_count": 76,
   "metadata": {},
   "outputs": [
    {
     "data": {
      "text/plain": [
       "36"
      ]
     },
     "execution_count": 76,
     "metadata": {},
     "output_type": "execute_result"
    }
   ],
   "source": [
    "area_square (6)"
   ]
  },
  {
   "cell_type": "code",
   "execution_count": 78,
   "metadata": {},
   "outputs": [],
   "source": [
    "def decorator_error_handler (my_user_defined): \n",
    "    def inner_function (*args,**kw): \n",
    "        try:\n",
    "            return my_user_defined(*args,**kw)\n",
    "        \n",
    "        except:\n",
    "            return f\"The function you called cannot take these arguemnts\"\n",
    "            \n",
    "        return fn(*args,**kw)\n",
    "    return inner_function"
   ]
  },
  {
   "cell_type": "code",
   "execution_count": null,
   "metadata": {},
   "outputs": [],
   "source": [
    "\"\"\"\n",
    "def decorator_error_handler (my_user_defined): \n",
    "    def inner_function (*args,**kw): \n",
    "        try:\n",
    "            return my_user_defined(*args,**kw)\n",
    "        \n",
    "        except:\n",
    "            \n",
    "        return fn(*args,**kw)\n",
    "    return inner_function\"\"\""
   ]
  },
  {
   "cell_type": "code",
   "execution_count": 79,
   "metadata": {},
   "outputs": [],
   "source": [
    "@decorator_error_handler\n",
    "def area_square (length):\n",
    "    return length * length"
   ]
  },
  {
   "cell_type": "code",
   "execution_count": 81,
   "metadata": {},
   "outputs": [
    {
     "data": {
      "text/plain": [
       "'The function you called cannot take these arguemnts'"
      ]
     },
     "execution_count": 81,
     "metadata": {},
     "output_type": "execute_result"
    }
   ],
   "source": [
    "area_square(\"2\")"
   ]
  },
  {
   "cell_type": "code",
   "execution_count": null,
   "metadata": {},
   "outputs": [],
   "source": [
    "# decorator\n",
    "    # does something\n",
    "    # calls the function underneath"
   ]
  },
  {
   "cell_type": "markdown",
   "metadata": {
    "lang": "en"
   },
   "source": [
    "### Verbosity/error handling"
   ]
  },
  {
   "cell_type": "code",
   "execution_count": 1,
   "metadata": {},
   "outputs": [],
   "source": [
    "import os"
   ]
  },
  {
   "cell_type": "code",
   "execution_count": 2,
   "metadata": {},
   "outputs": [],
   "source": [
    "def decorator_voice (my_user_defined): \n",
    "    def inner_function (*args,**kw): \n",
    "        os.system(\"say Im done\")\n",
    "        return my_user_defined(*args,**kw)            \n",
    "    return inner_function"
   ]
  },
  {
   "cell_type": "code",
   "execution_count": 3,
   "metadata": {},
   "outputs": [],
   "source": [
    "@decorator_voice\n",
    "def addition (a, b):\n",
    "    return a + b"
   ]
  },
  {
   "cell_type": "code",
   "execution_count": 6,
   "metadata": {},
   "outputs": [],
   "source": [
    "@decorator_voice\n",
    "def substractor (n, m):\n",
    "    while n > m:\n",
    "        n =-1\n",
    "    return n"
   ]
  },
  {
   "cell_type": "code",
   "execution_count": 8,
   "metadata": {},
   "outputs": [
    {
     "data": {
      "text/plain": [
       "-1"
      ]
     },
     "execution_count": 8,
     "metadata": {},
     "output_type": "execute_result"
    }
   ],
   "source": [
    "substractor (10, 5)"
   ]
  },
  {
   "cell_type": "code",
   "execution_count": 4,
   "metadata": {},
   "outputs": [
    {
     "data": {
      "text/plain": [
       "13"
      ]
     },
     "execution_count": 4,
     "metadata": {},
     "output_type": "execute_result"
    }
   ],
   "source": [
    "addition(3, 10)"
   ]
  },
  {
   "cell_type": "markdown",
   "metadata": {},
   "source": [
    "### Time"
   ]
  },
  {
   "cell_type": "code",
   "execution_count": 83,
   "metadata": {},
   "outputs": [],
   "source": [
    "from datetime import datetime"
   ]
  },
  {
   "cell_type": "code",
   "execution_count": null,
   "metadata": {},
   "outputs": [],
   "source": []
  },
  {
   "cell_type": "markdown",
   "metadata": {
    "lang": "en"
   },
   "source": [
    "## Let's create an API"
   ]
  },
  {
   "cell_type": "markdown",
   "metadata": {
    "lang": "en"
   },
   "source": [
    "API stands for Application Programming Interface.\n",
    "APIs allow your products and services to communicate with others, without the need to know how they are implemented.\n",
    "We are going to use an API as an intermediary element between a database and a user who wants to consult it without knowing programming."
   ]
  },
  {
   "cell_type": "code",
   "execution_count": null,
   "metadata": {},
   "outputs": [],
   "source": [
    "#!pip install flask"
   ]
  },
  {
   "cell_type": "code",
   "execution_count": 9,
   "metadata": {},
   "outputs": [],
   "source": [
    "import requests"
   ]
  },
  {
   "cell_type": "markdown",
   "metadata": {
    "lang": "en"
   },
   "source": [
    "### Let's go 🔥"
   ]
  },
  {
   "cell_type": "code",
   "execution_count": 72,
   "metadata": {},
   "outputs": [],
   "source": [
    "params = {\n",
    "    \"limit\": 5\n",
    "}\n",
    "import random"
   ]
  },
  {
   "cell_type": "code",
   "execution_count": 75,
   "metadata": {},
   "outputs": [],
   "source": [
    "new_employee = {\n",
    "    \"emp_no\": random.randint(9999999, 9999999),\n",
    "    \"birth_date\": \"1953-09-02\",\n",
    "    \"first_name\": \"Paul\",\n",
    "    \"last_name\": \"Bancelin\",\n",
    "    \"gender\":\"M\",\n",
    "    \"hire_date\": \"1986-06-26\"} "
   ]
  },
  {
   "cell_type": "code",
   "execution_count": 85,
   "metadata": {},
   "outputs": [
    {
     "data": {
      "text/plain": [
       "{'actor_id': 1,\n",
       " 'first_name': 'PENELOPE',\n",
       " 'last_name': 'GUINESS',\n",
       " 'last_update': 'Wed, 15 Feb 2006 04:34:33 GMT'}"
      ]
     },
     "execution_count": 85,
     "metadata": {},
     "output_type": "execute_result"
    }
   ],
   "source": [
    "import requests\n",
    "res = requests.get(\"http://127.0.0.1:5000/table/actor\", params={\"limit\":2})\n",
    "res.json()[0]"
   ]
  },
  {
   "cell_type": "code",
   "execution_count": 86,
   "metadata": {},
   "outputs": [],
   "source": [
    "#\"POST /signup?emp_no=999999&birth_date=1953-09-02&first_name=Paul&last_name=Bancelin&gender=M&hire_date=1986-06-26 HTTP/1.1"
   ]
  },
  {
   "cell_type": "code",
   "execution_count": null,
   "metadata": {},
   "outputs": [],
   "source": [
    "res.json()"
   ]
  },
  {
   "cell_type": "code",
   "execution_count": null,
   "metadata": {},
   "outputs": [
    {
     "name": "stdout",
     "output_type": "stream",
     "text": [
      " * Serving Flask app '__main__'\n",
      " * Debug mode: off\n"
     ]
    },
    {
     "name": "stderr",
     "output_type": "stream",
     "text": [
      "\u001b[31m\u001b[1mWARNING: This is a development server. Do not use it in a production deployment. Use a production WSGI server instead.\u001b[0m\n",
      " * Running on http://127.0.0.1:5000\n",
      "\u001b[33mPress CTRL+C to quit\u001b[0m\n",
      "127.0.0.1 - - [15/May/2023 11:51:56] \"GET /campus/barcelona HTTP/1.1\" 200 -\n",
      "127.0.0.1 - - [15/May/2023 11:52:03] \"GET /campus/madrid HTTP/1.1\" 200 -\n",
      "127.0.0.1 - - [15/May/2023 11:52:04] \"GET /campus/barcelona HTTP/1.1\" 200 -\n",
      "127.0.0.1 - - [15/May/2023 11:52:07] \"GET /campus/madrid HTTP/1.1\" 200 -\n"
     ]
    }
   ],
   "source": [
    "from flask import Flask\n",
    "import random\n",
    "\n",
    "\n",
    "plane = Flask(__name__)\n",
    "\n",
    "@plane.route(\"/\")\n",
    "def hello_simple ():\n",
    "    return \"Welcome!\"\n",
    "\n",
    "@plane.route(\"/hello\")\n",
    "def hello_world():\n",
    "    return f\"Hello world\"\n",
    "\n",
    "\n",
    "@plane.route(\"/campus/<location>\")\n",
    "def campus_location(location):\n",
    "    if location == \"madrid\":\n",
    "        return \"Paseo de la chopera\"\n",
    "    elif location == \"barcelona\":\n",
    "        return \"Carrer de Pamplona\"\n",
    "\n",
    "@plane.route(\"/random\")\n",
    "def random_items():\n",
    "    return random.choice([\"lettuce\", \"tomato\", \"cheese\"])\n",
    "\n",
    "plane.run()\n",
    "# server: program continuosly running"
   ]
  },
  {
   "cell_type": "markdown",
   "metadata": {},
   "source": [
    "Curious about `__name__ == \"name\"`? [Here's](https://medium.com/python-features/understanding-if-name-main-in-python-a37a3d4ab0c3) some reading.\n",
    "\n",
    "But as the article says: \"We use if __name__ == “__main__” block to prevent (certain) code from being run when the module is imported\" "
   ]
  },
  {
   "cell_type": "markdown",
   "metadata": {},
   "source": [
    "## Summary"
   ]
  },
  {
   "cell_type": "markdown",
   "metadata": {
    "lang": "en"
   },
   "source": [
    "It's your turn. What have we seen today?"
   ]
  },
  {
   "cell_type": "code",
   "execution_count": null,
   "metadata": {},
   "outputs": [],
   "source": []
  }
 ],
 "metadata": {
  "kernelspec": {
   "display_name": "ironhack",
   "language": "python",
   "name": "ironhack"
  },
  "language_info": {
   "codemirror_mode": {
    "name": "ipython",
    "version": 3
   },
   "file_extension": ".py",
   "mimetype": "text/x-python",
   "name": "python",
   "nbconvert_exporter": "python",
   "pygments_lexer": "ipython3",
   "version": "3.9.12"
  },
  "nbTranslate": {
   "displayLangs": [
    "en",
    "es"
   ],
   "hotkey": "alt-a",
   "langInMainMenu": true,
   "sourceLang": "es",
   "targetLang": "en",
   "useGoogleTranslate": true
  },
  "toc": {
   "base_numbering": 1,
   "nav_menu": {},
   "number_sections": true,
   "sideBar": true,
   "skip_h1_title": true,
   "title_cell": "Table of Contents",
   "title_sidebar": "Contents",
   "toc_cell": true,
   "toc_position": {
    "height": "calc(100% - 180px)",
    "left": "10px",
    "top": "150px",
    "width": "207.003px"
   },
   "toc_section_display": true,
   "toc_window_display": false
  }
 },
 "nbformat": 4,
 "nbformat_minor": 4
}

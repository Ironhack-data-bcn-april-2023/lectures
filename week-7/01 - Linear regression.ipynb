{
 "cells": [
  {
   "cell_type": "markdown",
   "id": "190aede4",
   "metadata": {
    "lang": "en"
   },
   "source": [
    "# Linear regression"
   ]
  },
  {
   "cell_type": "markdown",
   "id": "greek-chick",
   "metadata": {
    "toc": true
   },
   "source": [
    "<h1>Table of Contents<span class=\"tocSkip\"></span></h1>\n",
    "<div class=\"toc\"><ul class=\"toc-item\"><li><span><a href=\"#Motivation\" data-toc-modified-id=\"Motivation-1\"><span class=\"toc-item-num\">1&nbsp;&nbsp;</span>Motivation</a></span><ul class=\"toc-item\"><li><span><a href=\"#Exploratory-Analysis\" data-toc-modified-id=\"Exploratory-Analysis-1.1\"><span class=\"toc-item-num\">1.1&nbsp;&nbsp;</span>Exploratory Analysis</a></span></li></ul></li><li><span><a href=\"#Simple-linear-regression\" data-toc-modified-id=\"Simple-linear-regression-2\"><span class=\"toc-item-num\">2&nbsp;&nbsp;</span>Simple linear regression</a></span></li><li><span><a href=\"#How-good-is-our-model?\" data-toc-modified-id=\"How-good-is-our-model?-3\"><span class=\"toc-item-num\">3&nbsp;&nbsp;</span>How good is our model?</a></span></li><li><span><a href=\"#Calculate-the-R2-of-the-model\" data-toc-modified-id=\"Calculate-the-R2-of-the-model-4\"><span class=\"toc-item-num\">4&nbsp;&nbsp;</span>Calculate the R2 of the model</a></span></li><li><span><a href=\"#Linear-regression-with-sklearn\" data-toc-modified-id=\"Linear-regression-with-sklearn-5\"><span class=\"toc-item-num\">5&nbsp;&nbsp;</span>Linear regression with sklearn</a></span></li><li><span><a href=\"#Linear-regression-with-statsmodels\" data-toc-modified-id=\"Linear-regression-with-statsmodels-6\"><span class=\"toc-item-num\">6&nbsp;&nbsp;</span>Linear regression with statsmodels</a></span></li><li><span><a href=\"#OLS-Concepts\" data-toc-modified-id=\"OLS-Concepts-7\"><span class=\"toc-item-num\">7&nbsp;&nbsp;</span>OLS Concepts</a></span></li><li><span><a href=\"#Multiple-Linear-Regression\" data-toc-modified-id=\"Multiple-Linear-Regression-8\"><span class=\"toc-item-num\">8&nbsp;&nbsp;</span>Multiple Linear Regression</a></span></li><li><span><a href=\"#Categorical-variables\" data-toc-modified-id=\"Categorical-variables-9\"><span class=\"toc-item-num\">9&nbsp;&nbsp;</span>Categorical variables</a></span></li><li><span><a href=\"#Linear-model-extensions\" data-toc-modified-id=\"Linear-model-extensions-10\"><span class=\"toc-item-num\">10&nbsp;&nbsp;</span>Linear model extensions</a></span><ul class=\"toc-item\"><li><span><a href=\"#Challenging-the-additive-assumption:-synergy\" data-toc-modified-id=\"Challenging-the-additive-assumption:-synergy-10.1\"><span class=\"toc-item-num\">10.1&nbsp;&nbsp;</span>Challenging the additive assumption: synergy</a></span></li></ul></li><li><span><a href=\"#Let's-do-it\" data-toc-modified-id=\"Let's-do-it-11\"><span class=\"toc-item-num\">11&nbsp;&nbsp;</span>Let's do it</a></span><ul class=\"toc-item\"><li><span><a href=\"#$R^2$-Adjusted\" data-toc-modified-id=\"$R^2$-Adjusted-11.1\"><span class=\"toc-item-num\">11.1&nbsp;&nbsp;</span>$R^2$ Adjusted</a></span></li></ul></li><li><span><a href=\"#Potential-problems-in-linear-regression\" data-toc-modified-id=\"Potential-problems-in-linear-regression-12\"><span class=\"toc-item-num\">12&nbsp;&nbsp;</span>Potential problems in linear regression</a></span></li><li><span><a href=\"#Summary\" data-toc-modified-id=\"Summary-13\"><span class=\"toc-item-num\">13&nbsp;&nbsp;</span>Summary</a></span></li><li><span><a href=\"#Further-Materials\" data-toc-modified-id=\"Further-Materials-14\"><span class=\"toc-item-num\">14&nbsp;&nbsp;</span>Further Materials</a></span></li></ul></div>"
   ]
  },
  {
   "cell_type": "code",
   "execution_count": 4,
   "id": "0de361d5",
   "metadata": {},
   "outputs": [],
   "source": [
    "#!pip install scikit-learn"
   ]
  },
  {
   "cell_type": "code",
   "execution_count": 5,
   "id": "557d273f",
   "metadata": {},
   "outputs": [],
   "source": [
    "import pandas as pd\n",
    "import numpy as np\n",
    "\n",
    "# Viz\n",
    "import seaborn as sns\n",
    "from matplotlib import pyplot as plt\n",
    "from matplotlib import cm\n",
    "%matplotlib inline\n",
    "%config Inlinebackend.figure_format = 'retina'\n",
    "sns.set_context(\"poster\")\n",
    "sns.set(rc={\"figure.figsize\": (15.,8.)})\n",
    "sns.set_style(\"whitegrid\")\n",
    "\n",
    "# Modelling libraries\n",
    "import statsmodels.formula.api as smf\n",
    "from sklearn.linear_model import LinearRegression #sci-kit for learning, science-kit, sklearn"
   ]
  },
  {
   "cell_type": "code",
   "execution_count": 6,
   "id": "910c3b6b",
   "metadata": {},
   "outputs": [
    {
     "data": {
      "text/plain": [
       "'\\nanalysis of a trend in a dataset of two variables\\n    - dependant: changes according to another one\\n    - independant\\n    \\ncost per income: rate\\n    - dependant: cost?\\n    - independant: income?\\n'"
      ]
     },
     "execution_count": 6,
     "metadata": {},
     "output_type": "execute_result"
    }
   ],
   "source": [
    "\"\"\"\n",
    "analysis of a trend in a dataset of two variables\n",
    "    - dependant: changes according to another one\n",
    "    - independant\n",
    "    \n",
    "cost per income: rate\n",
    "    - dependant: cost?\n",
    "    - independant: income?\n",
    "\"\"\"\n"
   ]
  },
  {
   "cell_type": "markdown",
   "id": "1a25c2b2",
   "metadata": {
    "lang": "en"
   },
   "source": [
    "## Motivation"
   ]
  },
  {
   "cell_type": "markdown",
   "id": "10b1235e",
   "metadata": {
    "lang": "en"
   },
   "source": [
    "We have 100 students, and we know:\n",
    " * How many hours they studied for their exam\n",
    " * The grade they have obtained (from 0 to 100)"
   ]
  },
  {
   "cell_type": "markdown",
   "id": "7f05e727",
   "metadata": {
    "lang": "en"
   },
   "source": [
    "### Exploratory Analysis"
   ]
  },
  {
   "cell_type": "code",
   "execution_count": 7,
   "id": "2882fac5",
   "metadata": {},
   "outputs": [],
   "source": [
    "df = pd.read_csv(\"../datasets/hours_vs_mark.csv\")"
   ]
  },
  {
   "cell_type": "code",
   "execution_count": 8,
   "id": "3d1ed8b2",
   "metadata": {},
   "outputs": [
    {
     "data": {
      "text/html": [
       "<div>\n",
       "<style scoped>\n",
       "    .dataframe tbody tr th:only-of-type {\n",
       "        vertical-align: middle;\n",
       "    }\n",
       "\n",
       "    .dataframe tbody tr th {\n",
       "        vertical-align: top;\n",
       "    }\n",
       "\n",
       "    .dataframe thead th {\n",
       "        text-align: right;\n",
       "    }\n",
       "</style>\n",
       "<table border=\"1\" class=\"dataframe\">\n",
       "  <thead>\n",
       "    <tr style=\"text-align: right;\">\n",
       "      <th></th>\n",
       "      <th>hours</th>\n",
       "      <th>mark</th>\n",
       "    </tr>\n",
       "  </thead>\n",
       "  <tbody>\n",
       "    <tr>\n",
       "      <th>0</th>\n",
       "      <td>865</td>\n",
       "      <td>95</td>\n",
       "    </tr>\n",
       "    <tr>\n",
       "      <th>1</th>\n",
       "      <td>4</td>\n",
       "      <td>12</td>\n",
       "    </tr>\n",
       "    <tr>\n",
       "      <th>2</th>\n",
       "      <td>305</td>\n",
       "      <td>35</td>\n",
       "    </tr>\n",
       "    <tr>\n",
       "      <th>3</th>\n",
       "      <td>437</td>\n",
       "      <td>56</td>\n",
       "    </tr>\n",
       "    <tr>\n",
       "      <th>4</th>\n",
       "      <td>682</td>\n",
       "      <td>86</td>\n",
       "    </tr>\n",
       "    <tr>\n",
       "      <th>...</th>\n",
       "      <td>...</td>\n",
       "      <td>...</td>\n",
       "    </tr>\n",
       "    <tr>\n",
       "      <th>95</th>\n",
       "      <td>252</td>\n",
       "      <td>66</td>\n",
       "    </tr>\n",
       "    <tr>\n",
       "      <th>96</th>\n",
       "      <td>49</td>\n",
       "      <td>21</td>\n",
       "    </tr>\n",
       "    <tr>\n",
       "      <th>97</th>\n",
       "      <td>792</td>\n",
       "      <td>97</td>\n",
       "    </tr>\n",
       "    <tr>\n",
       "      <th>98</th>\n",
       "      <td>310</td>\n",
       "      <td>46</td>\n",
       "    </tr>\n",
       "    <tr>\n",
       "      <th>99</th>\n",
       "      <td>934</td>\n",
       "      <td>89</td>\n",
       "    </tr>\n",
       "  </tbody>\n",
       "</table>\n",
       "<p>100 rows × 2 columns</p>\n",
       "</div>"
      ],
      "text/plain": [
       "    hours  mark\n",
       "0     865    95\n",
       "1       4    12\n",
       "2     305    35\n",
       "3     437    56\n",
       "4     682    86\n",
       "..    ...   ...\n",
       "95    252    66\n",
       "96     49    21\n",
       "97    792    97\n",
       "98    310    46\n",
       "99    934    89\n",
       "\n",
       "[100 rows x 2 columns]"
      ]
     },
     "execution_count": 8,
     "metadata": {},
     "output_type": "execute_result"
    }
   ],
   "source": [
    "df"
   ]
  },
  {
   "cell_type": "code",
   "execution_count": 9,
   "id": "8a35a9a0",
   "metadata": {},
   "outputs": [
    {
     "data": {
      "text/html": [
       "<div>\n",
       "<style scoped>\n",
       "    .dataframe tbody tr th:only-of-type {\n",
       "        vertical-align: middle;\n",
       "    }\n",
       "\n",
       "    .dataframe tbody tr th {\n",
       "        vertical-align: top;\n",
       "    }\n",
       "\n",
       "    .dataframe thead th {\n",
       "        text-align: right;\n",
       "    }\n",
       "</style>\n",
       "<table border=\"1\" class=\"dataframe\">\n",
       "  <thead>\n",
       "    <tr style=\"text-align: right;\">\n",
       "      <th></th>\n",
       "      <th>hours</th>\n",
       "      <th>mark</th>\n",
       "    </tr>\n",
       "  </thead>\n",
       "  <tbody>\n",
       "    <tr>\n",
       "      <th>hours</th>\n",
       "      <td>1.000000</td>\n",
       "      <td>0.867072</td>\n",
       "    </tr>\n",
       "    <tr>\n",
       "      <th>mark</th>\n",
       "      <td>0.867072</td>\n",
       "      <td>1.000000</td>\n",
       "    </tr>\n",
       "  </tbody>\n",
       "</table>\n",
       "</div>"
      ],
      "text/plain": [
       "          hours      mark\n",
       "hours  1.000000  0.867072\n",
       "mark   0.867072  1.000000"
      ]
     },
     "execution_count": 9,
     "metadata": {},
     "output_type": "execute_result"
    }
   ],
   "source": [
    "df.corr()"
   ]
  },
  {
   "cell_type": "code",
   "execution_count": 10,
   "id": "d70a2b4d",
   "metadata": {},
   "outputs": [
    {
     "data": {
      "text/html": [
       "<div>\n",
       "<style scoped>\n",
       "    .dataframe tbody tr th:only-of-type {\n",
       "        vertical-align: middle;\n",
       "    }\n",
       "\n",
       "    .dataframe tbody tr th {\n",
       "        vertical-align: top;\n",
       "    }\n",
       "\n",
       "    .dataframe thead th {\n",
       "        text-align: right;\n",
       "    }\n",
       "</style>\n",
       "<table border=\"1\" class=\"dataframe\">\n",
       "  <thead>\n",
       "    <tr style=\"text-align: right;\">\n",
       "      <th></th>\n",
       "      <th>hours</th>\n",
       "      <th>mark</th>\n",
       "    </tr>\n",
       "  </thead>\n",
       "  <tbody>\n",
       "    <tr>\n",
       "      <th>count</th>\n",
       "      <td>100.000000</td>\n",
       "      <td>100.000000</td>\n",
       "    </tr>\n",
       "    <tr>\n",
       "      <th>mean</th>\n",
       "      <td>428.540000</td>\n",
       "      <td>47.940000</td>\n",
       "    </tr>\n",
       "    <tr>\n",
       "      <th>std</th>\n",
       "      <td>285.241752</td>\n",
       "      <td>27.757907</td>\n",
       "    </tr>\n",
       "    <tr>\n",
       "      <th>min</th>\n",
       "      <td>2.000000</td>\n",
       "      <td>0.000000</td>\n",
       "    </tr>\n",
       "    <tr>\n",
       "      <th>25%</th>\n",
       "      <td>167.250000</td>\n",
       "      <td>29.500000</td>\n",
       "    </tr>\n",
       "    <tr>\n",
       "      <th>50%</th>\n",
       "      <td>424.500000</td>\n",
       "      <td>44.000000</td>\n",
       "    </tr>\n",
       "    <tr>\n",
       "      <th>75%</th>\n",
       "      <td>662.500000</td>\n",
       "      <td>68.000000</td>\n",
       "    </tr>\n",
       "    <tr>\n",
       "      <th>max</th>\n",
       "      <td>986.000000</td>\n",
       "      <td>100.000000</td>\n",
       "    </tr>\n",
       "  </tbody>\n",
       "</table>\n",
       "</div>"
      ],
      "text/plain": [
       "            hours        mark\n",
       "count  100.000000  100.000000\n",
       "mean   428.540000   47.940000\n",
       "std    285.241752   27.757907\n",
       "min      2.000000    0.000000\n",
       "25%    167.250000   29.500000\n",
       "50%    424.500000   44.000000\n",
       "75%    662.500000   68.000000\n",
       "max    986.000000  100.000000"
      ]
     },
     "execution_count": 10,
     "metadata": {},
     "output_type": "execute_result"
    }
   ],
   "source": [
    "df.describe()"
   ]
  },
  {
   "cell_type": "code",
   "execution_count": 11,
   "id": "a34526ab",
   "metadata": {},
   "outputs": [
    {
     "data": {
      "text/plain": [
       "'\\nstd: 27\\ntaking a random sample, and assuming the mark will the mean (47), \\nI will be wrong by 27 points (on average)\\n'"
      ]
     },
     "execution_count": 11,
     "metadata": {},
     "output_type": "execute_result"
    }
   ],
   "source": [
    "\"\"\"\n",
    "std: 27\n",
    "taking a random sample, and assuming the mark will the mean (47), \n",
    "I will be wrong by 27 points (on average)\n",
    "\"\"\""
   ]
  },
  {
   "cell_type": "code",
   "execution_count": 12,
   "id": "3d4e29f7",
   "metadata": {},
   "outputs": [
    {
     "data": {
      "text/html": [
       "<div>\n",
       "<style scoped>\n",
       "    .dataframe tbody tr th:only-of-type {\n",
       "        vertical-align: middle;\n",
       "    }\n",
       "\n",
       "    .dataframe tbody tr th {\n",
       "        vertical-align: top;\n",
       "    }\n",
       "\n",
       "    .dataframe thead th {\n",
       "        text-align: right;\n",
       "    }\n",
       "</style>\n",
       "<table border=\"1\" class=\"dataframe\">\n",
       "  <thead>\n",
       "    <tr style=\"text-align: right;\">\n",
       "      <th></th>\n",
       "      <th>hours</th>\n",
       "      <th>mark</th>\n",
       "    </tr>\n",
       "  </thead>\n",
       "  <tbody>\n",
       "    <tr>\n",
       "      <th>65</th>\n",
       "      <td>439</td>\n",
       "      <td>48</td>\n",
       "    </tr>\n",
       "  </tbody>\n",
       "</table>\n",
       "</div>"
      ],
      "text/plain": [
       "    hours  mark\n",
       "65    439    48"
      ]
     },
     "execution_count": 12,
     "metadata": {},
     "output_type": "execute_result"
    }
   ],
   "source": [
    "df.sample()"
   ]
  },
  {
   "cell_type": "code",
   "execution_count": 13,
   "id": "dbe67a6a",
   "metadata": {},
   "outputs": [
    {
     "data": {
      "text/html": [
       "<div>\n",
       "<style scoped>\n",
       "    .dataframe tbody tr th:only-of-type {\n",
       "        vertical-align: middle;\n",
       "    }\n",
       "\n",
       "    .dataframe tbody tr th {\n",
       "        vertical-align: top;\n",
       "    }\n",
       "\n",
       "    .dataframe thead th {\n",
       "        text-align: right;\n",
       "    }\n",
       "</style>\n",
       "<table border=\"1\" class=\"dataframe\">\n",
       "  <thead>\n",
       "    <tr style=\"text-align: right;\">\n",
       "      <th></th>\n",
       "      <th>hours</th>\n",
       "      <th>mark</th>\n",
       "    </tr>\n",
       "  </thead>\n",
       "  <tbody>\n",
       "    <tr>\n",
       "      <th>69</th>\n",
       "      <td>652</td>\n",
       "      <td>56</td>\n",
       "    </tr>\n",
       "    <tr>\n",
       "      <th>6</th>\n",
       "      <td>367</td>\n",
       "      <td>26</td>\n",
       "    </tr>\n",
       "    <tr>\n",
       "      <th>30</th>\n",
       "      <td>45</td>\n",
       "      <td>0</td>\n",
       "    </tr>\n",
       "    <tr>\n",
       "      <th>82</th>\n",
       "      <td>159</td>\n",
       "      <td>37</td>\n",
       "    </tr>\n",
       "    <tr>\n",
       "      <th>33</th>\n",
       "      <td>579</td>\n",
       "      <td>74</td>\n",
       "    </tr>\n",
       "  </tbody>\n",
       "</table>\n",
       "</div>"
      ],
      "text/plain": [
       "    hours  mark\n",
       "69    652    56\n",
       "6     367    26\n",
       "30     45     0\n",
       "82    159    37\n",
       "33    579    74"
      ]
     },
     "execution_count": 13,
     "metadata": {},
     "output_type": "execute_result"
    }
   ],
   "source": [
    "df.sample(5)"
   ]
  },
  {
   "cell_type": "code",
   "execution_count": 14,
   "id": "cc2d1a15",
   "metadata": {},
   "outputs": [
    {
     "data": {
      "image/png": "[encoded data removed]",
      "text/plain": [
       "<Figure size 1080x576 with 2 Axes>"
      ]
     },
     "metadata": {},
     "output_type": "display_data"
    }
   ],
   "source": [
    "import seaborn as sns\n",
    "sns.heatmap(df.corr(), annot=True);"
   ]
  },
  {
   "cell_type": "code",
   "execution_count": 15,
   "id": "8e22deed",
   "metadata": {},
   "outputs": [
    {
     "data": {
      "text/html": [
       "<div>\n",
       "<style scoped>\n",
       "    .dataframe tbody tr th:only-of-type {\n",
       "        vertical-align: middle;\n",
       "    }\n",
       "\n",
       "    .dataframe tbody tr th {\n",
       "        vertical-align: top;\n",
       "    }\n",
       "\n",
       "    .dataframe thead th {\n",
       "        text-align: right;\n",
       "    }\n",
       "</style>\n",
       "<table border=\"1\" class=\"dataframe\">\n",
       "  <thead>\n",
       "    <tr style=\"text-align: right;\">\n",
       "      <th></th>\n",
       "      <th>hours</th>\n",
       "      <th>mark</th>\n",
       "    </tr>\n",
       "  </thead>\n",
       "  <tbody>\n",
       "    <tr>\n",
       "      <th>30</th>\n",
       "      <td>45</td>\n",
       "      <td>0</td>\n",
       "    </tr>\n",
       "  </tbody>\n",
       "</table>\n",
       "</div>"
      ],
      "text/plain": [
       "    hours  mark\n",
       "30     45     0"
      ]
     },
     "execution_count": 15,
     "metadata": {},
     "output_type": "execute_result"
    }
   ],
   "source": [
    "df.sample()"
   ]
  },
  {
   "cell_type": "code",
   "execution_count": 16,
   "id": "650e5ba2",
   "metadata": {},
   "outputs": [
    {
     "data": {
      "text/plain": [
       "<seaborn.axisgrid.PairGrid at 0x7f978a7eca90>"
      ]
     },
     "execution_count": 16,
     "metadata": {},
     "output_type": "execute_result"
    },
    {
     "data": {
      "image/png": "[encoded data removed]",
      "text/plain": [
       "<Figure size 360x360 with 6 Axes>"
      ]
     },
     "metadata": {},
     "output_type": "display_data"
    }
   ],
   "source": [
    "sns.pairplot(df)"
   ]
  },
  {
   "cell_type": "code",
   "execution_count": 17,
   "id": "abf137db",
   "metadata": {},
   "outputs": [
    {
     "data": {
      "text/plain": [
       "'\\nslope\\n'"
      ]
     },
     "execution_count": 17,
     "metadata": {},
     "output_type": "execute_result"
    },
    {
     "data": {
      "image/png": "[encoded data removed]",
      "text/plain": [
       "<Figure size 1080x576 with 1 Axes>"
      ]
     },
     "metadata": {},
     "output_type": "display_data"
    }
   ],
   "source": [
    "sns.scatterplot(x = \"mark\", y=\"hours\", data = df);\n",
    "\"\"\"\n",
    "positive correlation\n",
    "    - the more one axis, the more the other axis\n",
    "seems to be a linear relationship: straight line\n",
    "- no negative values\n",
    "    - no negative time\n",
    "    - no negative grade (we could?)\n",
    "\"\"\"\n",
    "\n",
    "\"\"\"\n",
    "slope\n",
    "\"\"\""
   ]
  },
  {
   "cell_type": "code",
   "execution_count": 18,
   "id": "a4c4fcd6",
   "metadata": {},
   "outputs": [
    {
     "data": {
      "text/plain": [
       "'\\nNot too many people study a lot\\nMost people study less -> Skewness: positive (tail goes to the positive end)\\n'"
      ]
     },
     "execution_count": 18,
     "metadata": {},
     "output_type": "execute_result"
    },
    {
     "data": {
      "image/png": "[encoded data removed]",
      "text/plain": [
       "<Figure size 1080x576 with 1 Axes>"
      ]
     },
     "metadata": {},
     "output_type": "display_data"
    }
   ],
   "source": [
    "sns.histplot(df.hours);\n",
    "\"\"\"\n",
    "Not too many people study a lot\n",
    "Most people study less -> Skewness: positive (tail goes to the positive end)\n",
    "\"\"\""
   ]
  },
  {
   "cell_type": "code",
   "execution_count": 19,
   "id": "3979f477",
   "metadata": {},
   "outputs": [
    {
     "data": {
      "text/plain": [
       "'\\nMany people fail (assuming 50 as passing grade)\\n'"
      ]
     },
     "execution_count": 19,
     "metadata": {},
     "output_type": "execute_result"
    },
    {
     "data": {
      "image/png": "[encoded data removed]",
      "text/plain": [
       "<Figure size 1080x576 with 1 Axes>"
      ]
     },
     "metadata": {},
     "output_type": "display_data"
    }
   ],
   "source": [
    "sns.histplot(df.mark)\n",
    "plt.axvline(df.mark.mean(), c=\"red\", label = \"mean\")\n",
    "plt.axvline(df.mark.median(), c=\"green\", label=\"median\")\n",
    "plt.legend();\n",
    "\n",
    "\"\"\"\n",
    "Many people fail (assuming 50 as passing grade)\n",
    "\"\"\""
   ]
  },
  {
   "cell_type": "code",
   "execution_count": 20,
   "id": "760b327a",
   "metadata": {},
   "outputs": [
    {
     "data": {
      "text/plain": [
       "\"\\n1. Size of the box: 50%: between 30-65\\n2. Outliers: none\\n3. Median: 50% of the data: 42ish. Most didn't pass. Skewness\\n4. Whiskers: min & max. 0-100\\n\""
      ]
     },
     "execution_count": 20,
     "metadata": {},
     "output_type": "execute_result"
    },
    {
     "data": {
      "image/png": "[encoded data removed]",
      "text/plain": [
       "<Figure size 1080x576 with 1 Axes>"
      ]
     },
     "metadata": {},
     "output_type": "display_data"
    }
   ],
   "source": [
    "sns.boxplot(df.mark);\n",
    "\n",
    "\"\"\"\n",
    "1. Size of the box: 50%: between 30-65\n",
    "2. Outliers: none\n",
    "3. Median: 50% of the data: 42ish. Most didn't pass. Skewness\n",
    "4. Whiskers: min & max. 0-100\n",
    "\"\"\""
   ]
  },
  {
   "cell_type": "code",
   "execution_count": 21,
   "id": "2c9857c8",
   "metadata": {},
   "outputs": [
    {
     "data": {
      "text/plain": [
       "'\\n1. Size of the box: 50%: between 190-650h\\n2. Outliers: none\\n3. Median: 50% of the data: 400ish. Slightly above the mean. Not as skewed\\n4. Whiskers: min & max. 0-1000ish\\n'"
      ]
     },
     "execution_count": 21,
     "metadata": {},
     "output_type": "execute_result"
    },
    {
     "data": {
      "image/png": "[encoded data removed]",
      "text/plain": [
       "<Figure size 1080x576 with 1 Axes>"
      ]
     },
     "metadata": {},
     "output_type": "display_data"
    }
   ],
   "source": [
    "sns.boxplot(df.hours);\n",
    "sns.boxplot(df.mark);\n",
    "\n",
    "\"\"\"\n",
    "1. Size of the box: 50%: between 190-650h\n",
    "2. Outliers: none\n",
    "3. Median: 50% of the data: 400ish. Slightly above the mean. Not as skewed\n",
    "4. Whiskers: min & max. 0-1000ish\n",
    "\"\"\""
   ]
  },
  {
   "cell_type": "markdown",
   "id": "5dca9195",
   "metadata": {
    "lang": "en"
   },
   "source": [
    "We would like to understand the relationship $$grade = f(hours)$$\n",
    "\n",
    "To be able to **predict the expected grade** that we will obtain when studying a certain number of hours"
   ]
  },
  {
   "cell_type": "code",
   "execution_count": 22,
   "id": "d313c1b8",
   "metadata": {},
   "outputs": [],
   "source": [
    "def whats_my_grade (hours):\n",
    "    possible_grade = 8 * hours\n",
    "    return possible_grade"
   ]
  },
  {
   "cell_type": "code",
   "execution_count": 24,
   "id": "fb5e014f",
   "metadata": {},
   "outputs": [
    {
     "data": {
      "text/plain": [
       "'𝑔𝑟𝑎𝑑𝑒=𝑓(ℎ𝑜𝑢𝑟𝑠)'"
      ]
     },
     "execution_count": 24,
     "metadata": {},
     "output_type": "execute_result"
    }
   ],
   "source": [
    "grade = whats_my_grade (10)\n",
    "\"\"\"𝑔𝑟𝑎𝑑𝑒=𝑓(ℎ𝑜𝑢𝑟𝑠)\"\"\""
   ]
  },
  {
   "cell_type": "code",
   "execution_count": 25,
   "id": "10d898f0",
   "metadata": {},
   "outputs": [],
   "source": [
    "# slope\n",
    "# cutting value for Y"
   ]
  },
  {
   "cell_type": "markdown",
   "id": "179b34b5",
   "metadata": {
    "lang": "en"
   },
   "source": [
    "Let's try a $$Y = m * X + n$$ linear regression\n",
    "$m$ is the slope\n",
    "$n$ is the value of $Y$ when $X=0$\n",
    "And we have to:\n",
    "$$grade = m * hours + n$$\n",
    "We want to find $m$ and $n$ that *best* model our data\n"
   ]
  },
  {
   "cell_type": "code",
   "execution_count": 26,
   "id": "122deaff",
   "metadata": {},
   "outputs": [],
   "source": [
    "df[\"prediction_1\"] = 0.1 * df.hours + 5 # 5 is the interception with Y axis\n",
    "df[\"prediction_2\"] = 0.12 * df.hours + 10"
   ]
  },
  {
   "cell_type": "markdown",
   "id": "4b0bdb01",
   "metadata": {
    "lang": "en"
   },
   "source": [
    "Which has worked better? How can we measure the error of the models?\n",
    "\n",
    "We can subtract our prediction from the grade to see what we have done wrong in each one and make the average.... we use the absolute value to remove the negative values ​​and then we talk about this error, which has a name and it is MAE (mean absolutely error)"
   ]
  },
  {
   "cell_type": "code",
   "execution_count": 27,
   "id": "6a92c3c3",
   "metadata": {},
   "outputs": [],
   "source": [
    "df # what is the best prediction?\n",
    "# substraction & sum\n",
    "df[\"error_1\"] = (df.mark - df.prediction_1).abs()\n",
    "df[\"error_2\"] = (df.mark - df.prediction_2).abs()"
   ]
  },
  {
   "cell_type": "code",
   "execution_count": 28,
   "id": "985653b2",
   "metadata": {},
   "outputs": [
    {
     "data": {
      "text/plain": [
       "12.008"
      ]
     },
     "execution_count": 28,
     "metadata": {},
     "output_type": "execute_result"
    }
   ],
   "source": [
    "mean_absolute_error_1 = sum(df.error_1) / len(df) #less error -> better prediction -> better model\n",
    "mean_absolute_error_1"
   ]
  },
  {
   "cell_type": "code",
   "execution_count": 29,
   "id": "16b01559",
   "metadata": {},
   "outputs": [
    {
     "data": {
      "text/plain": [
       "18.073599999999995"
      ]
     },
     "execution_count": 29,
     "metadata": {},
     "output_type": "execute_result"
    }
   ],
   "source": [
    "mean_absolute_error_2= sum(df.error_2) / len(df)\n",
    "mean_absolute_error_2"
   ]
  },
  {
   "cell_type": "code",
   "execution_count": 30,
   "id": "b6985259",
   "metadata": {},
   "outputs": [
    {
     "data": {
      "text/plain": [
       "12.008"
      ]
     },
     "execution_count": 30,
     "metadata": {},
     "output_type": "execute_result"
    }
   ],
   "source": [
    "mean_absolute_error_1 # is the best model out of these two"
   ]
  },
  {
   "cell_type": "code",
   "execution_count": 31,
   "id": "bd4e6680",
   "metadata": {},
   "outputs": [],
   "source": [
    "# MAE"
   ]
  },
  {
   "cell_type": "code",
   "execution_count": 32,
   "id": "779e1703",
   "metadata": {},
   "outputs": [
    {
     "data": {
      "image/png": "[encoded data removed]",
      "text/plain": [
       "<Figure size 1080x576 with 1 Axes>"
      ]
     },
     "metadata": {},
     "output_type": "display_data"
    }
   ],
   "source": [
    "sns.scatterplot(x=df.hours, y=df.mark)\n",
    "plt.plot(df.hours, df.prediction_1, c=\"green\", label=\"Prediction 1 - MAE: 12\")\n",
    "plt.plot(df.hours, df.prediction_2, c=\"red\", label=\"Prediction 2 - MAE: 18\")\n",
    "plt.legend();"
   ]
  },
  {
   "cell_type": "code",
   "execution_count": 38,
   "id": "08c5db9e",
   "metadata": {},
   "outputs": [
    {
     "data": {
      "text/plain": [
       "'\\n# slope\\n    How much the value increases in the Y axis as you increase 1 point in the X axis\\n# intercept\\n    The value of Y when X is 0\\n'"
      ]
     },
     "execution_count": 38,
     "metadata": {},
     "output_type": "execute_result"
    }
   ],
   "source": [
    "\"\"\"\n",
    "# slope\n",
    "    How much the value increases in the Y axis as you increase 1 point in the X axis\n",
    "# intercept\n",
    "    The value of Y when X is 0\n",
    "\"\"\""
   ]
  },
  {
   "cell_type": "code",
   "execution_count": 39,
   "id": "e0dc0e6d",
   "metadata": {},
   "outputs": [],
   "source": [
    "lr = LinearRegression()"
   ]
  },
  {
   "cell_type": "code",
   "execution_count": 40,
   "id": "3c703b7f",
   "metadata": {},
   "outputs": [
    {
     "data": {
      "text/html": [
       "<style>#sk-container-id-1 {color: black;background-color: white;}#sk-container-id-1 pre{padding: 0;}#sk-container-id-1 div.sk-toggleable {background-color: white;}#sk-container-id-1 label.sk-toggleable__label {cursor: pointer;display: block;width: 100%;margin-bottom: 0;padding: 0.3em;box-sizing: border-box;text-align: center;}#sk-container-id-1 label.sk-toggleable__label-arrow:before {content: \"▸\";float: left;margin-right: 0.25em;color: #696969;}#sk-container-id-1 label.sk-toggleable__label-arrow:hover:before {color: black;}#sk-container-id-1 div.sk-estimator:hover label.sk-toggleable__label-arrow:before {color: black;}#sk-container-id-1 div.sk-toggleable__content {max-height: 0;max-width: 0;overflow: hidden;text-align: left;background-color: #f0f8ff;}#sk-container-id-1 div.sk-toggleable__content pre {margin: 0.2em;color: black;border-radius: 0.25em;background-color: #f0f8ff;}#sk-container-id-1 input.sk-toggleable__control:checked~div.sk-toggleable__content {max-height: 200px;max-width: 100%;overflow: auto;}#sk-container-id-1 input.sk-toggleable__control:checked~label.sk-toggleable__label-arrow:before {content: \"▾\";}#sk-container-id-1 div.sk-estimator input.sk-toggleable__control:checked~label.sk-toggleable__label {background-color: #d4ebff;}#sk-container-id-1 div.sk-label input.sk-toggleable__control:checked~label.sk-toggleable__label {background-color: #d4ebff;}#sk-container-id-1 input.sk-hidden--visually {border: 0;clip: rect(1px 1px 1px 1px);clip: rect(1px, 1px, 1px, 1px);height: 1px;margin: -1px;overflow: hidden;padding: 0;position: absolute;width: 1px;}#sk-container-id-1 div.sk-estimator {font-family: monospace;background-color: #f0f8ff;border: 1px dotted black;border-radius: 0.25em;box-sizing: border-box;margin-bottom: 0.5em;}#sk-container-id-1 div.sk-estimator:hover {background-color: #d4ebff;}#sk-container-id-1 div.sk-parallel-item::after {content: \"\";width: 100%;border-bottom: 1px solid gray;flex-grow: 1;}#sk-container-id-1 div.sk-label:hover label.sk-toggleable__label {background-color: #d4ebff;}#sk-container-id-1 div.sk-serial::before {content: \"\";position: absolute;border-left: 1px solid gray;box-sizing: border-box;top: 0;bottom: 0;left: 50%;z-index: 0;}#sk-container-id-1 div.sk-serial {display: flex;flex-direction: column;align-items: center;background-color: white;padding-right: 0.2em;padding-left: 0.2em;position: relative;}#sk-container-id-1 div.sk-item {position: relative;z-index: 1;}#sk-container-id-1 div.sk-parallel {display: flex;align-items: stretch;justify-content: center;background-color: white;position: relative;}#sk-container-id-1 div.sk-item::before, #sk-container-id-1 div.sk-parallel-item::before {content: \"\";position: absolute;border-left: 1px solid gray;box-sizing: border-box;top: 0;bottom: 0;left: 50%;z-index: -1;}#sk-container-id-1 div.sk-parallel-item {display: flex;flex-direction: column;z-index: 1;position: relative;background-color: white;}#sk-container-id-1 div.sk-parallel-item:first-child::after {align-self: flex-end;width: 50%;}#sk-container-id-1 div.sk-parallel-item:last-child::after {align-self: flex-start;width: 50%;}#sk-container-id-1 div.sk-parallel-item:only-child::after {width: 0;}#sk-container-id-1 div.sk-dashed-wrapped {border: 1px dashed gray;margin: 0 0.4em 0.5em 0.4em;box-sizing: border-box;padding-bottom: 0.4em;background-color: white;}#sk-container-id-1 div.sk-label label {font-family: monospace;font-weight: bold;display: inline-block;line-height: 1.2em;}#sk-container-id-1 div.sk-label-container {text-align: center;}#sk-container-id-1 div.sk-container {/* jupyter's `normalize.less` sets `[hidden] { display: none; }` but bootstrap.min.css set `[hidden] { display: none !important; }` so we also need the `!important` here to be able to override the default hidden behavior on the sphinx rendered scikit-learn.org. See: https://github.com/scikit-learn/scikit-learn/issues/21755 */display: inline-block !important;position: relative;}#sk-container-id-1 div.sk-text-repr-fallback {display: none;}</style><div id=\"sk-container-id-1\" class=\"sk-top-container\"><div class=\"sk-text-repr-fallback\"><pre>LinearRegression()</pre><b>In a Jupyter environment, please rerun this cell to show the HTML representation or trust the notebook. <br />On GitHub, the HTML representation is unable to render, please try loading this page with nbviewer.org.</b></div><div class=\"sk-container\" hidden><div class=\"sk-item\"><div class=\"sk-estimator sk-toggleable\"><input class=\"sk-toggleable__control sk-hidden--visually\" id=\"sk-estimator-id-1\" type=\"checkbox\" checked><label for=\"sk-estimator-id-1\" class=\"sk-toggleable__label sk-toggleable__label-arrow\">LinearRegression</label><div class=\"sk-toggleable__content\"><pre>LinearRegression()</pre></div></div></div></div></div>"
      ],
      "text/plain": [
       "LinearRegression()"
      ]
     },
     "execution_count": 40,
     "metadata": {},
     "output_type": "execute_result"
    }
   ],
   "source": [
    "lr"
   ]
  },
  {
   "cell_type": "code",
   "execution_count": 41,
   "id": "6df60e95",
   "metadata": {},
   "outputs": [],
   "source": [
    "# hours: what we know\n",
    "# mark: to be predicted"
   ]
  },
  {
   "cell_type": "markdown",
   "id": "5fbd1f9f",
   "metadata": {
    "lang": "en"
   },
   "source": [
    "What is going to be our goal? Python and its libraries do this for us, it calculates the slope and the intercept to be able to make \"predictions\" of unknown data from data that we already have."
   ]
  },
  {
   "cell_type": "code",
   "execution_count": 42,
   "id": "aface244",
   "metadata": {},
   "outputs": [
    {
     "data": {
      "text/html": [
       "<style>#sk-container-id-2 {color: black;background-color: white;}#sk-container-id-2 pre{padding: 0;}#sk-container-id-2 div.sk-toggleable {background-color: white;}#sk-container-id-2 label.sk-toggleable__label {cursor: pointer;display: block;width: 100%;margin-bottom: 0;padding: 0.3em;box-sizing: border-box;text-align: center;}#sk-container-id-2 label.sk-toggleable__label-arrow:before {content: \"▸\";float: left;margin-right: 0.25em;color: #696969;}#sk-container-id-2 label.sk-toggleable__label-arrow:hover:before {color: black;}#sk-container-id-2 div.sk-estimator:hover label.sk-toggleable__label-arrow:before {color: black;}#sk-container-id-2 div.sk-toggleable__content {max-height: 0;max-width: 0;overflow: hidden;text-align: left;background-color: #f0f8ff;}#sk-container-id-2 div.sk-toggleable__content pre {margin: 0.2em;color: black;border-radius: 0.25em;background-color: #f0f8ff;}#sk-container-id-2 input.sk-toggleable__control:checked~div.sk-toggleable__content {max-height: 200px;max-width: 100%;overflow: auto;}#sk-container-id-2 input.sk-toggleable__control:checked~label.sk-toggleable__label-arrow:before {content: \"▾\";}#sk-container-id-2 div.sk-estimator input.sk-toggleable__control:checked~label.sk-toggleable__label {background-color: #d4ebff;}#sk-container-id-2 div.sk-label input.sk-toggleable__control:checked~label.sk-toggleable__label {background-color: #d4ebff;}#sk-container-id-2 input.sk-hidden--visually {border: 0;clip: rect(1px 1px 1px 1px);clip: rect(1px, 1px, 1px, 1px);height: 1px;margin: -1px;overflow: hidden;padding: 0;position: absolute;width: 1px;}#sk-container-id-2 div.sk-estimator {font-family: monospace;background-color: #f0f8ff;border: 1px dotted black;border-radius: 0.25em;box-sizing: border-box;margin-bottom: 0.5em;}#sk-container-id-2 div.sk-estimator:hover {background-color: #d4ebff;}#sk-container-id-2 div.sk-parallel-item::after {content: \"\";width: 100%;border-bottom: 1px solid gray;flex-grow: 1;}#sk-container-id-2 div.sk-label:hover label.sk-toggleable__label {background-color: #d4ebff;}#sk-container-id-2 div.sk-serial::before {content: \"\";position: absolute;border-left: 1px solid gray;box-sizing: border-box;top: 0;bottom: 0;left: 50%;z-index: 0;}#sk-container-id-2 div.sk-serial {display: flex;flex-direction: column;align-items: center;background-color: white;padding-right: 0.2em;padding-left: 0.2em;position: relative;}#sk-container-id-2 div.sk-item {position: relative;z-index: 1;}#sk-container-id-2 div.sk-parallel {display: flex;align-items: stretch;justify-content: center;background-color: white;position: relative;}#sk-container-id-2 div.sk-item::before, #sk-container-id-2 div.sk-parallel-item::before {content: \"\";position: absolute;border-left: 1px solid gray;box-sizing: border-box;top: 0;bottom: 0;left: 50%;z-index: -1;}#sk-container-id-2 div.sk-parallel-item {display: flex;flex-direction: column;z-index: 1;position: relative;background-color: white;}#sk-container-id-2 div.sk-parallel-item:first-child::after {align-self: flex-end;width: 50%;}#sk-container-id-2 div.sk-parallel-item:last-child::after {align-self: flex-start;width: 50%;}#sk-container-id-2 div.sk-parallel-item:only-child::after {width: 0;}#sk-container-id-2 div.sk-dashed-wrapped {border: 1px dashed gray;margin: 0 0.4em 0.5em 0.4em;box-sizing: border-box;padding-bottom: 0.4em;background-color: white;}#sk-container-id-2 div.sk-label label {font-family: monospace;font-weight: bold;display: inline-block;line-height: 1.2em;}#sk-container-id-2 div.sk-label-container {text-align: center;}#sk-container-id-2 div.sk-container {/* jupyter's `normalize.less` sets `[hidden] { display: none; }` but bootstrap.min.css set `[hidden] { display: none !important; }` so we also need the `!important` here to be able to override the default hidden behavior on the sphinx rendered scikit-learn.org. See: https://github.com/scikit-learn/scikit-learn/issues/21755 */display: inline-block !important;position: relative;}#sk-container-id-2 div.sk-text-repr-fallback {display: none;}</style><div id=\"sk-container-id-2\" class=\"sk-top-container\"><div class=\"sk-text-repr-fallback\"><pre>LinearRegression()</pre><b>In a Jupyter environment, please rerun this cell to show the HTML representation or trust the notebook. <br />On GitHub, the HTML representation is unable to render, please try loading this page with nbviewer.org.</b></div><div class=\"sk-container\" hidden><div class=\"sk-item\"><div class=\"sk-estimator sk-toggleable\"><input class=\"sk-toggleable__control sk-hidden--visually\" id=\"sk-estimator-id-2\" type=\"checkbox\" checked><label for=\"sk-estimator-id-2\" class=\"sk-toggleable__label sk-toggleable__label-arrow\">LinearRegression</label><div class=\"sk-toggleable__content\"><pre>LinearRegression()</pre></div></div></div></div></div>"
      ],
      "text/plain": [
       "LinearRegression()"
      ]
     },
     "execution_count": 42,
     "metadata": {},
     "output_type": "execute_result"
    }
   ],
   "source": [
    "# Regression task: summarize & predict\n",
    "\n",
    "lr.fit(\n",
    "    X = df[[\"hours\"]], # 2d object\n",
    "    y = df.mark) # 1d: series. target variable / to be predicted / dependant / what we don't know "
   ]
  },
  {
   "cell_type": "code",
   "execution_count": 43,
   "id": "f3fdcdec",
   "metadata": {},
   "outputs": [
    {
     "data": {
      "text/plain": [
       "array([0.08437787])"
      ]
     },
     "execution_count": 43,
     "metadata": {},
     "output_type": "execute_result"
    }
   ],
   "source": [
    "coef_ = lr.coef_\n",
    "coef_"
   ]
  },
  {
   "cell_type": "code",
   "execution_count": 44,
   "id": "c3421f53",
   "metadata": {},
   "outputs": [
    {
     "data": {
      "text/plain": [
       "11.78070717807148"
      ]
     },
     "execution_count": 44,
     "metadata": {},
     "output_type": "execute_result"
    }
   ],
   "source": [
    "intercept_ = lr.intercept_\n",
    "intercept_"
   ]
  },
  {
   "cell_type": "code",
   "execution_count": 45,
   "id": "3894c566",
   "metadata": {},
   "outputs": [],
   "source": [
    "def whats_my_grade (hours):\n",
    "    coef_ = lr.coef_\n",
    "    intercept_ = lr.intercept_\n",
    "    result =  hours * coef_ + intercept_\n",
    "\n",
    "    return result[0]"
   ]
  },
  {
   "cell_type": "code",
   "execution_count": 46,
   "id": "64b9cf5a",
   "metadata": {},
   "outputs": [
    {
     "data": {
      "text/plain": [
       "12.624485887688518"
      ]
     },
     "execution_count": 46,
     "metadata": {},
     "output_type": "execute_result"
    }
   ],
   "source": [
    "grades = whats_my_grade(10)\n",
    "grades"
   ]
  },
  {
   "cell_type": "code",
   "execution_count": 47,
   "id": "e04e8df6",
   "metadata": {},
   "outputs": [
    {
     "data": {
      "text/plain": [
       "62.407429755093716"
      ]
     },
     "execution_count": 47,
     "metadata": {},
     "output_type": "execute_result"
    }
   ],
   "source": [
    "grades = whats_my_grade(600)\n",
    "grades"
   ]
  },
  {
   "cell_type": "code",
   "execution_count": 48,
   "id": "3acc5e4a",
   "metadata": {
    "scrolled": true
   },
   "outputs": [
    {
     "data": {
      "text/html": [
       "<div>\n",
       "<style scoped>\n",
       "    .dataframe tbody tr th:only-of-type {\n",
       "        vertical-align: middle;\n",
       "    }\n",
       "\n",
       "    .dataframe tbody tr th {\n",
       "        vertical-align: top;\n",
       "    }\n",
       "\n",
       "    .dataframe thead th {\n",
       "        text-align: right;\n",
       "    }\n",
       "</style>\n",
       "<table border=\"1\" class=\"dataframe\">\n",
       "  <thead>\n",
       "    <tr style=\"text-align: right;\">\n",
       "      <th></th>\n",
       "      <th>hours</th>\n",
       "      <th>mark</th>\n",
       "      <th>prediction_1</th>\n",
       "      <th>prediction_2</th>\n",
       "      <th>error_1</th>\n",
       "      <th>error_2</th>\n",
       "    </tr>\n",
       "  </thead>\n",
       "  <tbody>\n",
       "    <tr>\n",
       "      <th>22</th>\n",
       "      <td>914</td>\n",
       "      <td>100</td>\n",
       "      <td>96.4</td>\n",
       "      <td>119.68</td>\n",
       "      <td>3.6</td>\n",
       "      <td>19.68</td>\n",
       "    </tr>\n",
       "  </tbody>\n",
       "</table>\n",
       "</div>"
      ],
      "text/plain": [
       "    hours  mark  prediction_1  prediction_2  error_1  error_2\n",
       "22    914   100          96.4        119.68      3.6    19.68"
      ]
     },
     "execution_count": 48,
     "metadata": {},
     "output_type": "execute_result"
    }
   ],
   "source": [
    "df.sample()"
   ]
  },
  {
   "cell_type": "code",
   "execution_count": 49,
   "id": "d9584578",
   "metadata": {},
   "outputs": [],
   "source": [
    "df[\"prediction_through_scikitlerarn\"] = df[\"hours\"].apply(whats_my_grade)"
   ]
  },
  {
   "cell_type": "code",
   "execution_count": 72,
   "id": "9c7f4397",
   "metadata": {},
   "outputs": [
    {
     "name": "stderr",
     "output_type": "stream",
     "text": [
      "/var/folders/pz/11hk3xjx34z9gw2tjzmjl4lm0000gn/T/ipykernel_21330/3168622607.py:1: SettingWithCopyWarning: \n",
      "A value is trying to be set on a copy of a slice from a DataFrame.\n",
      "Try using .loc[row_indexer,col_indexer] = value instead\n",
      "\n",
      "See the caveats in the documentation: https://pandas.pydata.org/pandas-docs/stable/user_guide/indexing.html#returning-a-view-versus-a-copy\n",
      "  df[\"error_scikit\"] = (df.prediction_through_scikitlerarn - df.mark)\n"
     ]
    }
   ],
   "source": [
    "df[\"error_scikit\"] = (df.prediction_through_scikitlerarn - df.mark)"
   ]
  },
  {
   "cell_type": "code",
   "execution_count": 73,
   "id": "1083ebc5",
   "metadata": {},
   "outputs": [
    {
     "data": {
      "text/plain": [
       "-5.719869022868807e-15"
      ]
     },
     "execution_count": 73,
     "metadata": {},
     "output_type": "execute_result"
    }
   ],
   "source": [
    "mean_absolute_error_scikit = df.error_scikit.mean()\n",
    "mean_absolute_error_scikit"
   ]
  },
  {
   "cell_type": "code",
   "execution_count": 74,
   "id": "b00c885f",
   "metadata": {},
   "outputs": [
    {
     "name": "stdout",
     "output_type": "stream",
     "text": [
      "12.008\n",
      "18.073599999999995\n",
      "-5.719869022868807e-15\n"
     ]
    }
   ],
   "source": [
    "print(mean_absolute_error_1)\n",
    "print(mean_absolute_error_2)\n",
    "print(mean_absolute_error_scikit)"
   ]
  },
  {
   "cell_type": "code",
   "execution_count": 75,
   "id": "8ddb140d",
   "metadata": {},
   "outputs": [
    {
     "data": {
      "text/plain": [
       "96.2429560107369"
      ]
     },
     "execution_count": 75,
     "metadata": {},
     "output_type": "execute_result"
    }
   ],
   "source": [
    "thousand_and_1 = whats_my_grade(1001)\n",
    "thousand_and_1"
   ]
  },
  {
   "cell_type": "code",
   "execution_count": 76,
   "id": "ad36d647",
   "metadata": {},
   "outputs": [
    {
     "data": {
      "text/plain": [
       "96.2429560107369"
      ]
     },
     "execution_count": 76,
     "metadata": {},
     "output_type": "execute_result"
    }
   ],
   "source": [
    "# mae: 11.4? \n",
    "\"\"\"On average\n",
    "I will be off\n",
    "by 11.4 in my prediction\n",
    "\"\"\"\n",
    "\n",
    "96.2429560107369 - mean_absolute_error_scikit"
   ]
  },
  {
   "cell_type": "code",
   "execution_count": 77,
   "id": "5cf02075",
   "metadata": {},
   "outputs": [
    {
     "data": {
      "text/plain": [
       "96.2429560107369"
      ]
     },
     "execution_count": 77,
     "metadata": {},
     "output_type": "execute_result"
    }
   ],
   "source": [
    "96.2429560107369 + mean_absolute_error_scikit"
   ]
  },
  {
   "cell_type": "code",
   "execution_count": 78,
   "id": "21bd65a6",
   "metadata": {},
   "outputs": [],
   "source": [
    "#[i for i in dir(lr)]"
   ]
  },
  {
   "cell_type": "code",
   "execution_count": 79,
   "id": "5f835b00",
   "metadata": {},
   "outputs": [
    {
     "data": {
      "text/plain": [
       "'\\ndef whats_my_grade (variable):\\n    return the_other_variable\\n\\nY = whats_my_grade (variable)\\ngrades = f (hours) #\\xa0grades/mark -> to be predicted, X: the other one\\n'"
      ]
     },
     "execution_count": 79,
     "metadata": {},
     "output_type": "execute_result"
    }
   ],
   "source": [
    "\"\"\"\n",
    "def whats_my_grade (variable):\n",
    "    return the_other_variable\n",
    "\n",
    "Y = whats_my_grade (variable)\n",
    "grades = f (hours) # grades/mark -> to be predicted, X: the other one\n",
    "\"\"\""
   ]
  },
  {
   "cell_type": "markdown",
   "id": "a4b7da30",
   "metadata": {},
   "source": [
    "Linear regression\n",
    "\n",
    "- What: \n",
    "    - The line that describes the Relationship between two variables\n",
    "    - Shows a trend\n",
    "    - A function\n",
    "    - model: stereotype\n",
    "        - summarizes\n",
    "        - predicts \n",
    "        - Good model? It will depend on error: All models are wrong but some are useful\n",
    "- Use:\n",
    "    - summarize\n",
    "    - predict\n",
    "        - 1001\n",
    "        - 600\n",
    "        - 601\n",
    "- What is it composed of\n",
    "    - slope: m*x, coefficient\n",
    "    - inrercept: n, intercept\n",
    "    - equation: `y = mx + n` \n",
    "    \n",
    "- What does MAE mean\n",
    "    - Mean ABSOLUTE error\n",
    "    - What is MAE: 12\n",
    "        - On average, you'll be wrong by 12 points (up or down)\n",
    "        - How do we choose a model?\n",
    "            - predictio_1, prediction_2, scikit-learn\n",
    "            - We want error (MAE) the lowest.\n",
    "                - 0, upperbound: no upper bound "
   ]
  },
  {
   "cell_type": "markdown",
   "id": "cc3ad931",
   "metadata": {
    "lang": "en"
   },
   "source": [
    "## Simple linear regression\n",
    "\n",
    "Simple linear regression a statistical model that assumes a linear relationship between a predictor and a target variable. Mathematically, it can be expressed as:"
   ]
  },
  {
   "cell_type": "markdown",
   "id": "trying-monthly",
   "metadata": {},
   "source": [
    "![formula](../images/formula.png)"
   ]
  },
  {
   "cell_type": "markdown",
   "id": "05109428",
   "metadata": {
    "lang": "en"
   },
   "source": [
    "If we dig a little deeper, we can find this other expression:\n",
    "\n",
    " $$ Y = \\beta_0 +  \\beta_1 X + \\epsilon$$\n",
    "\n",
    "Where:\n",
    "* $X$ = predictor variable\n",
    "* $Y$ = target variable\n",
    "* $\\beta_0$ = intercept\n",
    "* $\\beta_1$ = slope / slope\n",
    "* $\\epsilon$ = noise (gaussian)\n",
    "\n",
    "\n",
    "The above equation is known as the *population regression line*.\n",
    "The simple linear regression line usually has the form shown in the formula above, where β0 and β1 are unknown constants, representing the intercept and slope of the regression line, respectively.\n",
    "\n",
    "The intercept is the value of the dependent variable (Y) when the independent variable (X) has a value of zero (0). The slope is a measure of the rate at which the dependent variable (Y) changes when the independent variable (X) changes by one (1). The unknown constants are called the coefficients or parameters of the model. This form of the regression line is sometimes known as a population regression line and, as a probabilistic model, it roughly fits the data set hence the use of the symbol (≈) in the image. The model is called probabilistic because it does not model all the variability of the dependent variable (Y)"
   ]
  },
  {
   "cell_type": "markdown",
   "id": "e26bfe20",
   "metadata": {
    "lang": "en"
   },
   "source": [
    "## How good is our model?"
   ]
  },
  {
   "cell_type": "code",
   "execution_count": 80,
   "id": "670de9f3",
   "metadata": {},
   "outputs": [],
   "source": [
    "# MAE: one model with another model\n",
    "    # model1, model2, model3 (best one)\n",
    "    # understand on the same scale: how much (how much ill be wrong in the grade)"
   ]
  },
  {
   "cell_type": "code",
   "execution_count": 81,
   "id": "8e0a1ac2",
   "metadata": {},
   "outputs": [],
   "source": [
    "# Regression: model a quantitative variable\n",
    "    # Error: the closer to 0, the best\n",
    "        # MAE\n",
    "            # MSE\n",
    "                # RMSE\n",
    "\n",
    "    # r2: 0-1. the closer to 1, the best. \n",
    "        # rss\n",
    "        # tss"
   ]
  },
  {
   "cell_type": "markdown",
   "id": "4854b3bf",
   "metadata": {
    "lang": "en"
   },
   "source": [
    "The numerical difference between the *least squares regression line* and the actual value is called the *residual* , and it represents the error in the estimate: $e = y_i - \\hat{y}$.\n",
    "The regression line minimized the **Residual Sum of Squares** (RSS)\n",
    "\n",
    "The residual sum of squares measures the amount of error remaining between the regression function and the data set. a smaller residual sum of squares represents a regression function. The residual sum of squares, also known as the sum of squared residuals, essentially determines how well a regression model explains or represents the data in the model.\n",
    "\n",
    "$$RSS = e_1^2 + e_2^2 + \\dots + e_n ^2$$"
   ]
  },
  {
   "cell_type": "code",
   "execution_count": 82,
   "id": "52ebb84c",
   "metadata": {},
   "outputs": [],
   "source": [
    "# RSS"
   ]
  },
  {
   "cell_type": "code",
   "execution_count": 83,
   "id": "9cfadcd3",
   "metadata": {},
   "outputs": [],
   "source": [
    "df = df[[\"hours\", \"mark\", \"prediction_through_scikitlerarn\", \"error_scikit\"]]"
   ]
  },
  {
   "cell_type": "code",
   "execution_count": 84,
   "id": "e58d2985",
   "metadata": {},
   "outputs": [
    {
     "data": {
      "text/html": [
       "<div>\n",
       "<style scoped>\n",
       "    .dataframe tbody tr th:only-of-type {\n",
       "        vertical-align: middle;\n",
       "    }\n",
       "\n",
       "    .dataframe tbody tr th {\n",
       "        vertical-align: top;\n",
       "    }\n",
       "\n",
       "    .dataframe thead th {\n",
       "        text-align: right;\n",
       "    }\n",
       "</style>\n",
       "<table border=\"1\" class=\"dataframe\">\n",
       "  <thead>\n",
       "    <tr style=\"text-align: right;\">\n",
       "      <th></th>\n",
       "      <th>hours</th>\n",
       "      <th>mark</th>\n",
       "      <th>prediction_through_scikitlerarn</th>\n",
       "      <th>error_scikit</th>\n",
       "    </tr>\n",
       "  </thead>\n",
       "  <tbody>\n",
       "    <tr>\n",
       "      <th>64</th>\n",
       "      <td>508</td>\n",
       "      <td>57</td>\n",
       "      <td>54.644666</td>\n",
       "      <td>-2.355334</td>\n",
       "    </tr>\n",
       "  </tbody>\n",
       "</table>\n",
       "</div>"
      ],
      "text/plain": [
       "    hours  mark  prediction_through_scikitlerarn  error_scikit\n",
       "64    508    57                        54.644666     -2.355334"
      ]
     },
     "execution_count": 84,
     "metadata": {},
     "output_type": "execute_result"
    }
   ],
   "source": [
    "df.sample()"
   ]
  },
  {
   "cell_type": "code",
   "execution_count": 85,
   "id": "961561b7",
   "metadata": {},
   "outputs": [
    {
     "data": {
      "text/plain": [
       "18931.609105092302"
      ]
     },
     "execution_count": 85,
     "metadata": {},
     "output_type": "execute_result"
    }
   ],
   "source": [
    "RSS = ((df.prediction_through_scikitlerarn - df.mark) ** 2).sum()\n",
    "RSS"
   ]
  },
  {
   "cell_type": "markdown",
   "id": "a34f686d",
   "metadata": {
    "lang": "en"
   },
   "source": [
    "If we only used the mean as the predicted value for each prediction, the error we would make is (**total sum of squares**)\n",
    "\n",
    "$$TSS=\\Sigma(y_i - \\bar{y}_i)^2$$\n",
    "Let's consider this our starting point, make a prediction and plot it"
   ]
  },
  {
   "cell_type": "code",
   "execution_count": 86,
   "id": "70199075",
   "metadata": {},
   "outputs": [
    {
     "data": {
      "text/plain": [
       "57348.0308949077"
      ]
     },
     "execution_count": 86,
     "metadata": {},
     "output_type": "execute_result"
    }
   ],
   "source": [
    "TSS = ((df.prediction_through_scikitlerarn - df.mark.mean()) ** 2).sum()\n",
    "TSS"
   ]
  },
  {
   "cell_type": "markdown",
   "id": "c20aee76",
   "metadata": {
    "lang": "en"
   },
   "source": [
    "Recall that linear regression coefficients minimize the $RSS=Sigma(y_i - \\hat{y_i})^2$, that is, the amount of variability that remains unexplained after running the regression. The [coefficient of determination](https://en.wikipedia.org/wiki/Coefficient_of_determination):\n",
    "\n",
    "$$R^2 = \\frac{TSS -RSS}{TSS} = 1-\\frac{RSS}{TSS}$$\n",
    "\n",
    "measures the \"*proportion of variability in Y that can be explained by X*\". It is a measure of the linear relationship that exists between $X$ and $y$.\n",
    "\n",
    "**Note:** in the case of simple linear regression, the $R^2$ coefficient is nothing more than the square of the *Pearson* correlation coefficient that we already know."
   ]
  },
  {
   "cell_type": "code",
   "execution_count": 92,
   "id": "1f62fd11",
   "metadata": {},
   "outputs": [],
   "source": [
    "X = df[[\"hours\"]]\n",
    "y = df.mark"
   ]
  },
  {
   "cell_type": "code",
   "execution_count": 96,
   "id": "ec0ce462",
   "metadata": {},
   "outputs": [],
   "source": [
    "df[\"avg\"] = df[\"mark\"].mean()"
   ]
  },
  {
   "cell_type": "code",
   "execution_count": 116,
   "id": "5a02e06f",
   "metadata": {},
   "outputs": [
    {
     "data": {
      "image/png": "[encoded data removed]",
      "text/plain": [
       "<Figure size 1080x576 with 1 Axes>"
      ]
     },
     "metadata": {},
     "output_type": "display_data"
    }
   ],
   "source": [
    "plt.scatter(X, y)\n",
    "plt.plot(df.hours, df[\"prediction_through_scikitlerarn\"], c=\"green\", label=\"Prediction\")\n",
    "plt.axhline(df[\"mark\"].mean(), c=\"red\", label=\"mean\")\n",
    "plt.vlines(X,  df[\"prediction_through_scikitlerarn\"], y, lw=0.8)\n",
    "plt.title(\"Regression line on top of: Residual Sum of Squares\", size=20)\n",
    "plt.legend();"
   ]
  },
  {
   "cell_type": "code",
   "execution_count": 117,
   "id": "3a9c11e3",
   "metadata": {},
   "outputs": [
    {
     "data": {
      "image/png": "[encoded data removed]",
      "text/plain": [
       "<Figure size 1080x576 with 1 Axes>"
      ]
     },
     "metadata": {},
     "output_type": "display_data"
    }
   ],
   "source": [
    "plt.scatter(X, y)\n",
    "plt.plot(df.hours, df[\"prediction_through_scikitlerarn\"], c=\"green\", label=\"Prediction\")\n",
    "plt.axhline(df[\"mark\"].mean(), c=\"red\", label=\"mean\")\n",
    "plt.vlines(X, df[\"avg\"], y, lw=0.8)\n",
    "plt.title(\"Regression line on top of Total Sum of Squares\", size=20)\n",
    "plt.legend();"
   ]
  },
  {
   "cell_type": "code",
   "execution_count": 87,
   "id": "d56af22f",
   "metadata": {},
   "outputs": [
    {
     "data": {
      "text/plain": [
       "0.669882142252013"
      ]
     },
     "execution_count": 87,
     "metadata": {},
     "output_type": "execute_result"
    }
   ],
   "source": [
    "r_2 = 1 - RSS/TSS\n",
    "r_2 \n",
    "\n",
    "# The closer to 1, the better\n",
    "# This model explains 66% of the variance of our data"
   ]
  },
  {
   "cell_type": "markdown",
   "id": "4816a59c",
   "metadata": {
    "lang": "en"
   },
   "source": [
    "## Calculate the R2 of the model"
   ]
  },
  {
   "cell_type": "code",
   "execution_count": null,
   "id": "1a2489fc",
   "metadata": {},
   "outputs": [],
   "source": []
  },
  {
   "cell_type": "markdown",
   "id": "107c1a48",
   "metadata": {
    "lang": "en"
   },
   "source": [
    "$R^2$ measures how good our regression model is. The bigger the better. It is a value between 0 and 1\n",
    "\n",
    "**NOTE**: it is computable for any model, it does not matter if it is linear or not. Only the actual and predicted values ​​are needed."
   ]
  },
  {
   "cell_type": "code",
   "execution_count": null,
   "id": "170b9717",
   "metadata": {},
   "outputs": [],
   "source": []
  },
  {
   "cell_type": "markdown",
   "id": "73807966",
   "metadata": {
    "lang": "en"
   },
   "source": [
    "## Linear regression with sklearn"
   ]
  },
  {
   "cell_type": "code",
   "execution_count": null,
   "id": "451f5e7e",
   "metadata": {},
   "outputs": [],
   "source": []
  },
  {
   "cell_type": "markdown",
   "id": "a954f830",
   "metadata": {},
   "source": [
    "# 1. Select the data: `my_variables = X, y` # independant X, dependant y. target variable -> y (grades)\n",
    "# 2. Fit the model to the data: `my_model = lr.fit(X, y)`\n",
    "# 3. Predict with the model fitted: `predicted_y = lr.predict(X)`"
   ]
  },
  {
   "cell_type": "code",
   "execution_count": 118,
   "id": "similar-planner",
   "metadata": {},
   "outputs": [],
   "source": [
    "from sklearn import metrics"
   ]
  },
  {
   "cell_type": "markdown",
   "id": "de20e9cc",
   "metadata": {
    "lang": "en"
   },
   "source": [
    "**Calculation of the absolute mean error, the mean square error and the mean square error\n",
    "\n",
    "- **MAE** is the easiest to understand, because it is the mean error.\n",
    "- **The MSE** is more popular than the MAE, because the MSE accounts for larger errors, which is often useful in the real world.\n",
    "- **RMSE** is even more popular than MSE, it is the square root of the MSE and measures the standard deviation of the residuals.\n",
    "\n",
    "These are all **loss functions**: we want to minimize them."
   ]
  },
  {
   "cell_type": "code",
   "execution_count": 121,
   "id": "f27fb4bd",
   "metadata": {},
   "outputs": [],
   "source": [
    "mae = metrics.mean_absolute_error(df.mark, df.prediction_through_scikitlerarn)\n",
    "mse = metrics.mean_squared_error(df.mark, df.prediction_through_scikitlerarn)\n",
    "rmse = np.sqrt(mse)\n",
    "r2 = metrics.r2_score(df.mark, df.prediction_through_scikitlerarn)"
   ]
  },
  {
   "cell_type": "code",
   "execution_count": 127,
   "id": "11c0ccb0",
   "metadata": {},
   "outputs": [],
   "source": [
    "# metrics used for regression:  qtve variables"
   ]
  },
  {
   "cell_type": "code",
   "execution_count": 126,
   "id": "181b7386",
   "metadata": {},
   "outputs": [
    {
     "name": "stdout",
     "output_type": "stream",
     "text": [
      "MAE is: 11.402698299019335\n",
      "MSE is: 189.31609105092303\n",
      "RMSE is: 13.759218402617318\n",
      "r2 is: 0.7518130774464549\n"
     ]
    }
   ],
   "source": [
    "print(f\"MAE is: {mae}\")\n",
    "print(f\"MSE is: {mse}\")\n",
    "print(f\"RMSE is: {rmse}\")\n",
    "print(f\"r2 is: {r2}\")"
   ]
  },
  {
   "cell_type": "markdown",
   "id": "characteristic-spanking",
   "metadata": {
    "lang": "es"
   },
   "source": [
    "Read more about MAE, MSE, RMSE AND R2 [here](http://medium.com/analytics-vidhya/mae-mse-rmse-coefficient-of-determination-adjusted-r-squared-which-metric-is-better-cd0326a5697e)"
   ]
  },
  {
   "cell_type": "markdown",
   "id": "beb9bf74",
   "metadata": {
    "lang": "en"
   },
   "source": [
    "## Linear regression with statsmodels"
   ]
  },
  {
   "cell_type": "markdown",
   "id": "be450c43",
   "metadata": {
    "lang": "en"
   },
   "source": [
    "A bit of [documentation](https://www.statsmodels.org/stable/generated/statsmodels.regression.linear_model.OLS.html)\n",
    "\n",
    "And [this article](https://jyotiyadav99111.medium.com/statistics-how-should-i-interpret-results-of-ols-3bde1ebeec01) that summarizes how to interpret OLS summary information"
   ]
  },
  {
   "cell_type": "code",
   "execution_count": 128,
   "id": "45d880e5",
   "metadata": {},
   "outputs": [],
   "source": [
    "#lr"
   ]
  },
  {
   "cell_type": "code",
   "execution_count": 130,
   "id": "d4bb3896",
   "metadata": {},
   "outputs": [],
   "source": [
    "result = smf.ols(\"mark ~ hours\", data=df).fit()"
   ]
  },
  {
   "cell_type": "code",
   "execution_count": 134,
   "id": "a73668f6",
   "metadata": {},
   "outputs": [
    {
     "data": {
      "text/html": [
       "<table class=\"simpletable\">\n",
       "<caption>OLS Regression Results</caption>\n",
       "<tr>\n",
       "  <th>Dep. Variable:</th>          <td>mark</td>       <th>  R-squared:         </th> <td>   0.752</td>\n",
       "</tr>\n",
       "<tr>\n",
       "  <th>Model:</th>                   <td>OLS</td>       <th>  Adj. R-squared:    </th> <td>   0.749</td>\n",
       "</tr>\n",
       "<tr>\n",
       "  <th>Method:</th>             <td>Least Squares</td>  <th>  F-statistic:       </th> <td>   296.9</td>\n",
       "</tr>\n",
       "<tr>\n",
       "  <th>Date:</th>             <td>Tue, 23 May 2023</td> <th>  Prob (F-statistic):</th> <td>2.04e-31</td>\n",
       "</tr>\n",
       "<tr>\n",
       "  <th>Time:</th>                 <td>13:28:06</td>     <th>  Log-Likelihood:    </th> <td> -404.06</td>\n",
       "</tr>\n",
       "<tr>\n",
       "  <th>No. Observations:</th>      <td>   100</td>      <th>  AIC:               </th> <td>   812.1</td>\n",
       "</tr>\n",
       "<tr>\n",
       "  <th>Df Residuals:</th>          <td>    98</td>      <th>  BIC:               </th> <td>   817.3</td>\n",
       "</tr>\n",
       "<tr>\n",
       "  <th>Df Model:</th>              <td>     1</td>      <th>                     </th>     <td> </td>   \n",
       "</tr>\n",
       "<tr>\n",
       "  <th>Covariance Type:</th>      <td>nonrobust</td>    <th>                     </th>     <td> </td>   \n",
       "</tr>\n",
       "</table>\n",
       "<table class=\"simpletable\">\n",
       "<tr>\n",
       "      <td></td>         <th>coef</th>     <th>std err</th>      <th>t</th>      <th>P>|t|</th>  <th>[0.025</th>    <th>0.975]</th>  \n",
       "</tr>\n",
       "<tr>\n",
       "  <th>Intercept</th> <td>   11.7807</td> <td>    2.517</td> <td>    4.680</td> <td> 0.000</td> <td>    6.785</td> <td>   16.776</td>\n",
       "</tr>\n",
       "<tr>\n",
       "  <th>hours</th>     <td>    0.0844</td> <td>    0.005</td> <td>   17.230</td> <td> 0.000</td> <td>    0.075</td> <td>    0.094</td>\n",
       "</tr>\n",
       "</table>\n",
       "<table class=\"simpletable\">\n",
       "<tr>\n",
       "  <th>Omnibus:</th>       <td> 3.288</td> <th>  Durbin-Watson:     </th> <td>   1.712</td>\n",
       "</tr>\n",
       "<tr>\n",
       "  <th>Prob(Omnibus):</th> <td> 0.193</td> <th>  Jarque-Bera (JB):  </th> <td>   1.926</td>\n",
       "</tr>\n",
       "<tr>\n",
       "  <th>Skew:</th>          <td> 0.010</td> <th>  Prob(JB):          </th> <td>   0.382</td>\n",
       "</tr>\n",
       "<tr>\n",
       "  <th>Kurtosis:</th>      <td> 2.320</td> <th>  Cond. No.          </th> <td>    931.</td>\n",
       "</tr>\n",
       "</table><br/><br/>Notes:<br/>[1] Standard Errors assume that the covariance matrix of the errors is correctly specified."
      ],
      "text/plain": [
       "<class 'statsmodels.iolib.summary.Summary'>\n",
       "\"\"\"\n",
       "                            OLS Regression Results                            \n",
       "==============================================================================\n",
       "Dep. Variable:                   mark   R-squared:                       0.752\n",
       "Model:                            OLS   Adj. R-squared:                  0.749\n",
       "Method:                 Least Squares   F-statistic:                     296.9\n",
       "Date:                Tue, 23 May 2023   Prob (F-statistic):           2.04e-31\n",
       "Time:                        13:28:06   Log-Likelihood:                -404.06\n",
       "No. Observations:                 100   AIC:                             812.1\n",
       "Df Residuals:                      98   BIC:                             817.3\n",
       "Df Model:                           1                                         \n",
       "Covariance Type:            nonrobust                                         \n",
       "==============================================================================\n",
       "                 coef    std err          t      P>|t|      [0.025      0.975]\n",
       "------------------------------------------------------------------------------\n",
       "Intercept     11.7807      2.517      4.680      0.000       6.785      16.776\n",
       "hours          0.0844      0.005     17.230      0.000       0.075       0.094\n",
       "==============================================================================\n",
       "Omnibus:                        3.288   Durbin-Watson:                   1.712\n",
       "Prob(Omnibus):                  0.193   Jarque-Bera (JB):                1.926\n",
       "Skew:                           0.010   Prob(JB):                        0.382\n",
       "Kurtosis:                       2.320   Cond. No.                         931.\n",
       "==============================================================================\n",
       "\n",
       "Notes:\n",
       "[1] Standard Errors assume that the covariance matrix of the errors is correctly specified.\n",
       "\"\"\""
      ]
     },
     "execution_count": 134,
     "metadata": {},
     "output_type": "execute_result"
    }
   ],
   "source": [
    "result.summary()"
   ]
  },
  {
   "cell_type": "markdown",
   "id": "9cb6310f",
   "metadata": {
    "lang": "en"
   },
   "source": [
    "## OLS Concepts"
   ]
  },
  {
   "cell_type": "markdown",
   "id": "57397238",
   "metadata": {
    "lang": "en"
   },
   "source": [
    "- <b>R2</b> : The coefficient of determination measures how much of the variation of 𝑦 is explained by the model.\n",
    "If the variance of the errors or residuals 𝜎2𝑒 is zero, the model explains 100% of the variable 𝑦. If 𝜎2𝑒 is equal to the variance of 𝑦 the model explains nothing and 𝑅2 is equal to zero.\n",
    "\n",
    "\n",
    "- <b>𝑅¯2 </b> : The adjusted correlation coefficient 𝑅¯2 corrects the value of 𝑅2 by the number of variables 𝑘 (equal to 2 for the analyzed case) and the amount of data 𝑁\n",
    "\n",
    "- <b>P value </b> The p-value for each term tests the null hypothesis that the coefficient is equal to zero (has no effect). A low p-value (< 0.05) indicates that you can reject the null hypothesis. ... Typically p-values ​​are used to determine which terms should be kept in the regression model.\n",
    "\n",
    "\n",
    "Description of the p value:\n",
    "The p-value is a probability value, so it ranges between 0 and 1. The p-value shows us the probability of having obtained the result that we have obtained assuming that the null hypothesis H0 is true. It is often said that high values ​​of p do not allow H0 to be rejected, while low p values ​​do allow H0 to be rejected.\n",
    "\n",
    "In a statistical test, the null hypothesis H0 is rejected if the p-value associated with the observed result is equal to or less than an arbitrarily set $\\alpha$ significance level, conventionally 0.05 or 0.01. In other words, if the result obtained is more unusual than the expected range of results given a true null hypothesis H0 and the chosen significance level $\\alpha$, that is, if p is less than $\\alpha$, we can say that we have a statistically significant result that allows reject H0.\n",
    "\n",
    "It is important to emphasize that a hypothesis test does not allow accepting a hypothesis; he simply rejects it or does not reject it, that is to say, he dismisses it as plausible (which does not necessarily mean that it is true, simply that it is more likely to be) or implausible."
   ]
  },
  {
   "cell_type": "markdown",
   "id": "75a84594",
   "metadata": {
    "lang": "en"
   },
   "source": [
    "## Multiple Linear Regression\n",
    "\n",
    "Of course, the hours one studies are not the only important factor in getting good grades in the real world. We can think of IQ, for example, as another determining factor. In fact, we can generalize a linear model to have as many variables as we want:\n",
    "\n",
    " $$ Y = \\beta_0 + \\beta_1 X_1 + \\beta_2 X_2 + \\dots + \\beta_2 X_m + \\epsilon$$\n",
    " \n",
    " In this case, what we are going to do is add a variable that subtracts from the note, the party hours.\n",
    " Imagine that for every hour that we go out partying, neurons in our brain die and we forget information, therefore, we will lose a grade (remember that we are inventing data)"
   ]
  },
  {
   "cell_type": "code",
   "execution_count": 135,
   "id": "35a8b889",
   "metadata": {},
   "outputs": [],
   "source": [
    "# Goal: how are grades related to study_hours and party_hours?\n",
    "\n",
    "beta_0 = 10 # intercept\n",
    "beta_1 = 0.08 # coefficient_1: study hours\n",
    "beta_2 = -0.03 # coefficient_2: party hours\n",
    "num_grades = 100\n",
    "\n",
    "# y = b0 + b1*hours_study + b2*hours_partying"
   ]
  },
  {
   "cell_type": "markdown",
   "id": "247b3ea8",
   "metadata": {
    "lang": "en"
   },
   "source": [
    "The multiple linear regression coefficients are computed in a similar way to the simple linear regression case: they minimize\n",
    "\n",
    "$$RSS = \\Sigma(y_i - \\hat{y_i})^2$$\n",
    "\n",
    "\n",
    "where:\n",
    "\n",
    " $$ \\hat{y} = \\hat{beta_0} + \\hat{beta_1 X_1} + \\hat{beta_2} X_2 + \\hat + \\hat{\\beta_2} X_m$$"
   ]
  },
  {
   "cell_type": "code",
   "execution_count": 143,
   "id": "a1d7b44b",
   "metadata": {},
   "outputs": [],
   "source": [
    "# Fake the data\n",
    "\n",
    "study_hours = np.random.normal(500, 200, num_grades)\n",
    "party_hours = np.random.normal(500, 200, num_grades)"
   ]
  },
  {
   "cell_type": "code",
   "execution_count": 151,
   "id": "cb2614d7",
   "metadata": {},
   "outputs": [],
   "source": [
    "y = beta_0 + study_hours * beta_1 + party_hours * beta_2 + np.random.normal(0, 5, 100)"
   ]
  },
  {
   "cell_type": "code",
   "execution_count": 152,
   "id": "83b64095",
   "metadata": {},
   "outputs": [
    {
     "data": {
      "text/html": [
       "<div>\n",
       "<style scoped>\n",
       "    .dataframe tbody tr th:only-of-type {\n",
       "        vertical-align: middle;\n",
       "    }\n",
       "\n",
       "    .dataframe tbody tr th {\n",
       "        vertical-align: top;\n",
       "    }\n",
       "\n",
       "    .dataframe thead th {\n",
       "        text-align: right;\n",
       "    }\n",
       "</style>\n",
       "<table border=\"1\" class=\"dataframe\">\n",
       "  <thead>\n",
       "    <tr style=\"text-align: right;\">\n",
       "      <th></th>\n",
       "      <th>grades</th>\n",
       "      <th>study_hours</th>\n",
       "      <th>party_hours</th>\n",
       "    </tr>\n",
       "  </thead>\n",
       "  <tbody>\n",
       "    <tr>\n",
       "      <th>0</th>\n",
       "      <td>56.046347</td>\n",
       "      <td>651.737194</td>\n",
       "      <td>182.999472</td>\n",
       "    </tr>\n",
       "    <tr>\n",
       "      <th>1</th>\n",
       "      <td>15.780940</td>\n",
       "      <td>140.980764</td>\n",
       "      <td>667.669457</td>\n",
       "    </tr>\n",
       "    <tr>\n",
       "      <th>2</th>\n",
       "      <td>7.527074</td>\n",
       "      <td>294.512136</td>\n",
       "      <td>562.056485</td>\n",
       "    </tr>\n",
       "    <tr>\n",
       "      <th>3</th>\n",
       "      <td>45.180408</td>\n",
       "      <td>502.934612</td>\n",
       "      <td>193.837856</td>\n",
       "    </tr>\n",
       "    <tr>\n",
       "      <th>4</th>\n",
       "      <td>64.183727</td>\n",
       "      <td>843.151058</td>\n",
       "      <td>750.886885</td>\n",
       "    </tr>\n",
       "    <tr>\n",
       "      <th>...</th>\n",
       "      <td>...</td>\n",
       "      <td>...</td>\n",
       "      <td>...</td>\n",
       "    </tr>\n",
       "    <tr>\n",
       "      <th>95</th>\n",
       "      <td>24.891904</td>\n",
       "      <td>492.227152</td>\n",
       "      <td>699.678364</td>\n",
       "    </tr>\n",
       "    <tr>\n",
       "      <th>96</th>\n",
       "      <td>21.379782</td>\n",
       "      <td>442.463608</td>\n",
       "      <td>579.692889</td>\n",
       "    </tr>\n",
       "    <tr>\n",
       "      <th>97</th>\n",
       "      <td>17.477857</td>\n",
       "      <td>387.129367</td>\n",
       "      <td>624.699528</td>\n",
       "    </tr>\n",
       "    <tr>\n",
       "      <th>98</th>\n",
       "      <td>26.939627</td>\n",
       "      <td>267.333486</td>\n",
       "      <td>311.184454</td>\n",
       "    </tr>\n",
       "    <tr>\n",
       "      <th>99</th>\n",
       "      <td>43.378515</td>\n",
       "      <td>516.870269</td>\n",
       "      <td>234.554709</td>\n",
       "    </tr>\n",
       "  </tbody>\n",
       "</table>\n",
       "<p>100 rows × 3 columns</p>\n",
       "</div>"
      ],
      "text/plain": [
       "       grades  study_hours  party_hours\n",
       "0   56.046347   651.737194   182.999472\n",
       "1   15.780940   140.980764   667.669457\n",
       "2    7.527074   294.512136   562.056485\n",
       "3   45.180408   502.934612   193.837856\n",
       "4   64.183727   843.151058   750.886885\n",
       "..        ...          ...          ...\n",
       "95  24.891904   492.227152   699.678364\n",
       "96  21.379782   442.463608   579.692889\n",
       "97  17.477857   387.129367   624.699528\n",
       "98  26.939627   267.333486   311.184454\n",
       "99  43.378515   516.870269   234.554709\n",
       "\n",
       "[100 rows x 3 columns]"
      ]
     },
     "execution_count": 152,
     "metadata": {},
     "output_type": "execute_result"
    }
   ],
   "source": [
    "data = pd.DataFrame({\"grades\": y, \"study_hours\": study_hours, \"party_hours\": party_hours})\n",
    "data"
   ]
  },
  {
   "cell_type": "code",
   "execution_count": 153,
   "id": "bf8985f0",
   "metadata": {},
   "outputs": [
    {
     "data": {
      "image/png": "[encoded data removed]",
      "text/plain": [
       "<Figure size 540x540 with 12 Axes>"
      ]
     },
     "metadata": {},
     "output_type": "display_data"
    }
   ],
   "source": [
    "sns.pairplot(data);"
   ]
  },
  {
   "cell_type": "markdown",
   "id": "b5d27de8",
   "metadata": {
    "lang": "en"
   },
   "source": [
    "The coefficient is the number by which we multiply the predictor variable (X) in this case we have two, study hours and party hours.\n",
    "The positive coefficient indicates that the correlation is positive (the more hours I study, the better the grade I get) and the coefficient of party hours is negative, therefore it indicates that if that predictive variable is greater, my target variable decreases."
   ]
  },
  {
   "cell_type": "code",
   "execution_count": 154,
   "id": "8e5224c0",
   "metadata": {},
   "outputs": [
    {
     "data": {
      "text/html": [
       "<table class=\"simpletable\">\n",
       "<caption>OLS Regression Results</caption>\n",
       "<tr>\n",
       "  <th>Dep. Variable:</th>         <td>grades</td>      <th>  R-squared:         </th> <td>   0.872</td>\n",
       "</tr>\n",
       "<tr>\n",
       "  <th>Model:</th>                   <td>OLS</td>       <th>  Adj. R-squared:    </th> <td>   0.870</td>\n",
       "</tr>\n",
       "<tr>\n",
       "  <th>Method:</th>             <td>Least Squares</td>  <th>  F-statistic:       </th> <td>   330.8</td>\n",
       "</tr>\n",
       "<tr>\n",
       "  <th>Date:</th>             <td>Tue, 23 May 2023</td> <th>  Prob (F-statistic):</th> <td>4.74e-44</td>\n",
       "</tr>\n",
       "<tr>\n",
       "  <th>Time:</th>                 <td>13:59:34</td>     <th>  Log-Likelihood:    </th> <td> -322.94</td>\n",
       "</tr>\n",
       "<tr>\n",
       "  <th>No. Observations:</th>      <td>   100</td>      <th>  AIC:               </th> <td>   651.9</td>\n",
       "</tr>\n",
       "<tr>\n",
       "  <th>Df Residuals:</th>          <td>    97</td>      <th>  BIC:               </th> <td>   659.7</td>\n",
       "</tr>\n",
       "<tr>\n",
       "  <th>Df Model:</th>              <td>     2</td>      <th>                     </th>     <td> </td>   \n",
       "</tr>\n",
       "<tr>\n",
       "  <th>Covariance Type:</th>      <td>nonrobust</td>    <th>                     </th>     <td> </td>   \n",
       "</tr>\n",
       "</table>\n",
       "<table class=\"simpletable\">\n",
       "<tr>\n",
       "       <td></td>          <th>coef</th>     <th>std err</th>      <th>t</th>      <th>P>|t|</th>  <th>[0.025</th>    <th>0.975]</th>  \n",
       "</tr>\n",
       "<tr>\n",
       "  <th>Intercept</th>   <td>   10.7388</td> <td>    2.226</td> <td>    4.824</td> <td> 0.000</td> <td>    6.321</td> <td>   15.157</td>\n",
       "</tr>\n",
       "<tr>\n",
       "  <th>study_hours</th> <td>    0.0790</td> <td>    0.003</td> <td>   24.273</td> <td> 0.000</td> <td>    0.073</td> <td>    0.085</td>\n",
       "</tr>\n",
       "<tr>\n",
       "  <th>party_hours</th> <td>   -0.0292</td> <td>    0.003</td> <td>   -9.916</td> <td> 0.000</td> <td>   -0.035</td> <td>   -0.023</td>\n",
       "</tr>\n",
       "</table>\n",
       "<table class=\"simpletable\">\n",
       "<tr>\n",
       "  <th>Omnibus:</th>       <td> 1.520</td> <th>  Durbin-Watson:     </th> <td>   1.960</td>\n",
       "</tr>\n",
       "<tr>\n",
       "  <th>Prob(Omnibus):</th> <td> 0.468</td> <th>  Jarque-Bera (JB):  </th> <td>   1.228</td>\n",
       "</tr>\n",
       "<tr>\n",
       "  <th>Skew:</th>          <td>-0.270</td> <th>  Prob(JB):          </th> <td>   0.541</td>\n",
       "</tr>\n",
       "<tr>\n",
       "  <th>Kurtosis:</th>      <td> 3.047</td> <th>  Cond. No.          </th> <td>2.65e+03</td>\n",
       "</tr>\n",
       "</table><br/><br/>Notes:<br/>[1] Standard Errors assume that the covariance matrix of the errors is correctly specified.<br/>[2] The condition number is large, 2.65e+03. This might indicate that there are<br/>strong multicollinearity or other numerical problems."
      ],
      "text/plain": [
       "<class 'statsmodels.iolib.summary.Summary'>\n",
       "\"\"\"\n",
       "                            OLS Regression Results                            \n",
       "==============================================================================\n",
       "Dep. Variable:                 grades   R-squared:                       0.872\n",
       "Model:                            OLS   Adj. R-squared:                  0.870\n",
       "Method:                 Least Squares   F-statistic:                     330.8\n",
       "Date:                Tue, 23 May 2023   Prob (F-statistic):           4.74e-44\n",
       "Time:                        13:59:34   Log-Likelihood:                -322.94\n",
       "No. Observations:                 100   AIC:                             651.9\n",
       "Df Residuals:                      97   BIC:                             659.7\n",
       "Df Model:                           2                                         \n",
       "Covariance Type:            nonrobust                                         \n",
       "===============================================================================\n",
       "                  coef    std err          t      P>|t|      [0.025      0.975]\n",
       "-------------------------------------------------------------------------------\n",
       "Intercept      10.7388      2.226      4.824      0.000       6.321      15.157\n",
       "study_hours     0.0790      0.003     24.273      0.000       0.073       0.085\n",
       "party_hours    -0.0292      0.003     -9.916      0.000      -0.035      -0.023\n",
       "==============================================================================\n",
       "Omnibus:                        1.520   Durbin-Watson:                   1.960\n",
       "Prob(Omnibus):                  0.468   Jarque-Bera (JB):                1.228\n",
       "Skew:                          -0.270   Prob(JB):                        0.541\n",
       "Kurtosis:                       3.047   Cond. No.                     2.65e+03\n",
       "==============================================================================\n",
       "\n",
       "Notes:\n",
       "[1] Standard Errors assume that the covariance matrix of the errors is correctly specified.\n",
       "[2] The condition number is large, 2.65e+03. This might indicate that there are\n",
       "strong multicollinearity or other numerical problems.\n",
       "\"\"\""
      ]
     },
     "execution_count": 154,
     "metadata": {},
     "output_type": "execute_result"
    }
   ],
   "source": [
    "results = smf.ols(\"grades ~ study_hours + party_hours\", data=data).fit()\n",
    "results.summary()"
   ]
  },
  {
   "cell_type": "markdown",
   "id": "b31a870d",
   "metadata": {
    "lang": "en"
   },
   "source": [
    "## Categorical variables\n",
    "\n",
    "Very often we are faced with situations where the predictors are *qualitative* in nature. A good example could be the music they listen to which can take the values ​​$rock$ or $indie$."
   ]
  },
  {
   "cell_type": "code",
   "execution_count": 157,
   "id": "10467e0e",
   "metadata": {},
   "outputs": [
    {
     "data": {
      "text/plain": [
       "100"
      ]
     },
     "execution_count": 157,
     "metadata": {},
     "output_type": "execute_result"
    }
   ],
   "source": [
    "num_grades"
   ]
  },
  {
   "cell_type": "code",
   "execution_count": 158,
   "id": "c6ebf486",
   "metadata": {},
   "outputs": [],
   "source": [
    "data[\"music\"] = np.random.choice([\"rock\", \"indie\"], num_grades)"
   ]
  },
  {
   "cell_type": "code",
   "execution_count": 159,
   "id": "8927f7fb",
   "metadata": {},
   "outputs": [
    {
     "data": {
      "text/html": [
       "<div>\n",
       "<style scoped>\n",
       "    .dataframe tbody tr th:only-of-type {\n",
       "        vertical-align: middle;\n",
       "    }\n",
       "\n",
       "    .dataframe tbody tr th {\n",
       "        vertical-align: top;\n",
       "    }\n",
       "\n",
       "    .dataframe thead th {\n",
       "        text-align: right;\n",
       "    }\n",
       "</style>\n",
       "<table border=\"1\" class=\"dataframe\">\n",
       "  <thead>\n",
       "    <tr style=\"text-align: right;\">\n",
       "      <th></th>\n",
       "      <th>grades</th>\n",
       "      <th>study_hours</th>\n",
       "      <th>party_hours</th>\n",
       "      <th>music</th>\n",
       "    </tr>\n",
       "  </thead>\n",
       "  <tbody>\n",
       "    <tr>\n",
       "      <th>0</th>\n",
       "      <td>56.046347</td>\n",
       "      <td>651.737194</td>\n",
       "      <td>182.999472</td>\n",
       "      <td>rock</td>\n",
       "    </tr>\n",
       "    <tr>\n",
       "      <th>1</th>\n",
       "      <td>15.780940</td>\n",
       "      <td>140.980764</td>\n",
       "      <td>667.669457</td>\n",
       "      <td>indie</td>\n",
       "    </tr>\n",
       "    <tr>\n",
       "      <th>2</th>\n",
       "      <td>7.527074</td>\n",
       "      <td>294.512136</td>\n",
       "      <td>562.056485</td>\n",
       "      <td>rock</td>\n",
       "    </tr>\n",
       "    <tr>\n",
       "      <th>3</th>\n",
       "      <td>45.180408</td>\n",
       "      <td>502.934612</td>\n",
       "      <td>193.837856</td>\n",
       "      <td>indie</td>\n",
       "    </tr>\n",
       "    <tr>\n",
       "      <th>4</th>\n",
       "      <td>64.183727</td>\n",
       "      <td>843.151058</td>\n",
       "      <td>750.886885</td>\n",
       "      <td>indie</td>\n",
       "    </tr>\n",
       "    <tr>\n",
       "      <th>...</th>\n",
       "      <td>...</td>\n",
       "      <td>...</td>\n",
       "      <td>...</td>\n",
       "      <td>...</td>\n",
       "    </tr>\n",
       "    <tr>\n",
       "      <th>95</th>\n",
       "      <td>24.891904</td>\n",
       "      <td>492.227152</td>\n",
       "      <td>699.678364</td>\n",
       "      <td>rock</td>\n",
       "    </tr>\n",
       "    <tr>\n",
       "      <th>96</th>\n",
       "      <td>21.379782</td>\n",
       "      <td>442.463608</td>\n",
       "      <td>579.692889</td>\n",
       "      <td>indie</td>\n",
       "    </tr>\n",
       "    <tr>\n",
       "      <th>97</th>\n",
       "      <td>17.477857</td>\n",
       "      <td>387.129367</td>\n",
       "      <td>624.699528</td>\n",
       "      <td>indie</td>\n",
       "    </tr>\n",
       "    <tr>\n",
       "      <th>98</th>\n",
       "      <td>26.939627</td>\n",
       "      <td>267.333486</td>\n",
       "      <td>311.184454</td>\n",
       "      <td>indie</td>\n",
       "    </tr>\n",
       "    <tr>\n",
       "      <th>99</th>\n",
       "      <td>43.378515</td>\n",
       "      <td>516.870269</td>\n",
       "      <td>234.554709</td>\n",
       "      <td>rock</td>\n",
       "    </tr>\n",
       "  </tbody>\n",
       "</table>\n",
       "<p>100 rows × 4 columns</p>\n",
       "</div>"
      ],
      "text/plain": [
       "       grades  study_hours  party_hours  music\n",
       "0   56.046347   651.737194   182.999472   rock\n",
       "1   15.780940   140.980764   667.669457  indie\n",
       "2    7.527074   294.512136   562.056485   rock\n",
       "3   45.180408   502.934612   193.837856  indie\n",
       "4   64.183727   843.151058   750.886885  indie\n",
       "..        ...          ...          ...    ...\n",
       "95  24.891904   492.227152   699.678364   rock\n",
       "96  21.379782   442.463608   579.692889  indie\n",
       "97  17.477857   387.129367   624.699528  indie\n",
       "98  26.939627   267.333486   311.184454  indie\n",
       "99  43.378515   516.870269   234.554709   rock\n",
       "\n",
       "[100 rows x 4 columns]"
      ]
     },
     "execution_count": 159,
     "metadata": {},
     "output_type": "execute_result"
    }
   ],
   "source": [
    "data"
   ]
  },
  {
   "cell_type": "code",
   "execution_count": 160,
   "id": "de7d183d",
   "metadata": {},
   "outputs": [
    {
     "data": {
      "text/html": [
       "<div>\n",
       "<style scoped>\n",
       "    .dataframe tbody tr th:only-of-type {\n",
       "        vertical-align: middle;\n",
       "    }\n",
       "\n",
       "    .dataframe tbody tr th {\n",
       "        vertical-align: top;\n",
       "    }\n",
       "\n",
       "    .dataframe thead th {\n",
       "        text-align: right;\n",
       "    }\n",
       "</style>\n",
       "<table border=\"1\" class=\"dataframe\">\n",
       "  <thead>\n",
       "    <tr style=\"text-align: right;\">\n",
       "      <th></th>\n",
       "      <th>grades</th>\n",
       "      <th>study_hours</th>\n",
       "      <th>party_hours</th>\n",
       "      <th>music_indie</th>\n",
       "      <th>music_rock</th>\n",
       "    </tr>\n",
       "  </thead>\n",
       "  <tbody>\n",
       "    <tr>\n",
       "      <th>0</th>\n",
       "      <td>56.046347</td>\n",
       "      <td>651.737194</td>\n",
       "      <td>182.999472</td>\n",
       "      <td>False</td>\n",
       "      <td>True</td>\n",
       "    </tr>\n",
       "    <tr>\n",
       "      <th>1</th>\n",
       "      <td>15.780940</td>\n",
       "      <td>140.980764</td>\n",
       "      <td>667.669457</td>\n",
       "      <td>True</td>\n",
       "      <td>False</td>\n",
       "    </tr>\n",
       "    <tr>\n",
       "      <th>2</th>\n",
       "      <td>7.527074</td>\n",
       "      <td>294.512136</td>\n",
       "      <td>562.056485</td>\n",
       "      <td>False</td>\n",
       "      <td>True</td>\n",
       "    </tr>\n",
       "    <tr>\n",
       "      <th>3</th>\n",
       "      <td>45.180408</td>\n",
       "      <td>502.934612</td>\n",
       "      <td>193.837856</td>\n",
       "      <td>True</td>\n",
       "      <td>False</td>\n",
       "    </tr>\n",
       "    <tr>\n",
       "      <th>4</th>\n",
       "      <td>64.183727</td>\n",
       "      <td>843.151058</td>\n",
       "      <td>750.886885</td>\n",
       "      <td>True</td>\n",
       "      <td>False</td>\n",
       "    </tr>\n",
       "    <tr>\n",
       "      <th>...</th>\n",
       "      <td>...</td>\n",
       "      <td>...</td>\n",
       "      <td>...</td>\n",
       "      <td>...</td>\n",
       "      <td>...</td>\n",
       "    </tr>\n",
       "    <tr>\n",
       "      <th>95</th>\n",
       "      <td>24.891904</td>\n",
       "      <td>492.227152</td>\n",
       "      <td>699.678364</td>\n",
       "      <td>False</td>\n",
       "      <td>True</td>\n",
       "    </tr>\n",
       "    <tr>\n",
       "      <th>96</th>\n",
       "      <td>21.379782</td>\n",
       "      <td>442.463608</td>\n",
       "      <td>579.692889</td>\n",
       "      <td>True</td>\n",
       "      <td>False</td>\n",
       "    </tr>\n",
       "    <tr>\n",
       "      <th>97</th>\n",
       "      <td>17.477857</td>\n",
       "      <td>387.129367</td>\n",
       "      <td>624.699528</td>\n",
       "      <td>True</td>\n",
       "      <td>False</td>\n",
       "    </tr>\n",
       "    <tr>\n",
       "      <th>98</th>\n",
       "      <td>26.939627</td>\n",
       "      <td>267.333486</td>\n",
       "      <td>311.184454</td>\n",
       "      <td>True</td>\n",
       "      <td>False</td>\n",
       "    </tr>\n",
       "    <tr>\n",
       "      <th>99</th>\n",
       "      <td>43.378515</td>\n",
       "      <td>516.870269</td>\n",
       "      <td>234.554709</td>\n",
       "      <td>False</td>\n",
       "      <td>True</td>\n",
       "    </tr>\n",
       "  </tbody>\n",
       "</table>\n",
       "<p>100 rows × 5 columns</p>\n",
       "</div>"
      ],
      "text/plain": [
       "       grades  study_hours  party_hours  music_indie  music_rock\n",
       "0   56.046347   651.737194   182.999472        False        True\n",
       "1   15.780940   140.980764   667.669457         True       False\n",
       "2    7.527074   294.512136   562.056485        False        True\n",
       "3   45.180408   502.934612   193.837856         True       False\n",
       "4   64.183727   843.151058   750.886885         True       False\n",
       "..        ...          ...          ...          ...         ...\n",
       "95  24.891904   492.227152   699.678364        False        True\n",
       "96  21.379782   442.463608   579.692889         True       False\n",
       "97  17.477857   387.129367   624.699528         True       False\n",
       "98  26.939627   267.333486   311.184454         True       False\n",
       "99  43.378515   516.870269   234.554709        False        True\n",
       "\n",
       "[100 rows x 5 columns]"
      ]
     },
     "execution_count": 160,
     "metadata": {},
     "output_type": "execute_result"
    }
   ],
   "source": [
    "pd.get_dummies(data)"
   ]
  },
  {
   "cell_type": "code",
   "execution_count": 161,
   "id": "689208c5",
   "metadata": {},
   "outputs": [
    {
     "data": {
      "text/html": [
       "<div>\n",
       "<style scoped>\n",
       "    .dataframe tbody tr th:only-of-type {\n",
       "        vertical-align: middle;\n",
       "    }\n",
       "\n",
       "    .dataframe tbody tr th {\n",
       "        vertical-align: top;\n",
       "    }\n",
       "\n",
       "    .dataframe thead th {\n",
       "        text-align: right;\n",
       "    }\n",
       "</style>\n",
       "<table border=\"1\" class=\"dataframe\">\n",
       "  <thead>\n",
       "    <tr style=\"text-align: right;\">\n",
       "      <th></th>\n",
       "      <th>grades</th>\n",
       "      <th>study_hours</th>\n",
       "      <th>party_hours</th>\n",
       "      <th>music</th>\n",
       "      <th>music_rock</th>\n",
       "    </tr>\n",
       "  </thead>\n",
       "  <tbody>\n",
       "    <tr>\n",
       "      <th>0</th>\n",
       "      <td>56.046347</td>\n",
       "      <td>651.737194</td>\n",
       "      <td>182.999472</td>\n",
       "      <td>rock</td>\n",
       "      <td>0</td>\n",
       "    </tr>\n",
       "    <tr>\n",
       "      <th>1</th>\n",
       "      <td>15.780940</td>\n",
       "      <td>140.980764</td>\n",
       "      <td>667.669457</td>\n",
       "      <td>indie</td>\n",
       "      <td>1</td>\n",
       "    </tr>\n",
       "    <tr>\n",
       "      <th>2</th>\n",
       "      <td>7.527074</td>\n",
       "      <td>294.512136</td>\n",
       "      <td>562.056485</td>\n",
       "      <td>rock</td>\n",
       "      <td>0</td>\n",
       "    </tr>\n",
       "    <tr>\n",
       "      <th>3</th>\n",
       "      <td>45.180408</td>\n",
       "      <td>502.934612</td>\n",
       "      <td>193.837856</td>\n",
       "      <td>indie</td>\n",
       "      <td>1</td>\n",
       "    </tr>\n",
       "    <tr>\n",
       "      <th>4</th>\n",
       "      <td>64.183727</td>\n",
       "      <td>843.151058</td>\n",
       "      <td>750.886885</td>\n",
       "      <td>indie</td>\n",
       "      <td>1</td>\n",
       "    </tr>\n",
       "    <tr>\n",
       "      <th>...</th>\n",
       "      <td>...</td>\n",
       "      <td>...</td>\n",
       "      <td>...</td>\n",
       "      <td>...</td>\n",
       "      <td>...</td>\n",
       "    </tr>\n",
       "    <tr>\n",
       "      <th>95</th>\n",
       "      <td>24.891904</td>\n",
       "      <td>492.227152</td>\n",
       "      <td>699.678364</td>\n",
       "      <td>rock</td>\n",
       "      <td>0</td>\n",
       "    </tr>\n",
       "    <tr>\n",
       "      <th>96</th>\n",
       "      <td>21.379782</td>\n",
       "      <td>442.463608</td>\n",
       "      <td>579.692889</td>\n",
       "      <td>indie</td>\n",
       "      <td>1</td>\n",
       "    </tr>\n",
       "    <tr>\n",
       "      <th>97</th>\n",
       "      <td>17.477857</td>\n",
       "      <td>387.129367</td>\n",
       "      <td>624.699528</td>\n",
       "      <td>indie</td>\n",
       "      <td>1</td>\n",
       "    </tr>\n",
       "    <tr>\n",
       "      <th>98</th>\n",
       "      <td>26.939627</td>\n",
       "      <td>267.333486</td>\n",
       "      <td>311.184454</td>\n",
       "      <td>indie</td>\n",
       "      <td>1</td>\n",
       "    </tr>\n",
       "    <tr>\n",
       "      <th>99</th>\n",
       "      <td>43.378515</td>\n",
       "      <td>516.870269</td>\n",
       "      <td>234.554709</td>\n",
       "      <td>rock</td>\n",
       "      <td>0</td>\n",
       "    </tr>\n",
       "  </tbody>\n",
       "</table>\n",
       "<p>100 rows × 5 columns</p>\n",
       "</div>"
      ],
      "text/plain": [
       "       grades  study_hours  party_hours  music  music_rock\n",
       "0   56.046347   651.737194   182.999472   rock           0\n",
       "1   15.780940   140.980764   667.669457  indie           1\n",
       "2    7.527074   294.512136   562.056485   rock           0\n",
       "3   45.180408   502.934612   193.837856  indie           1\n",
       "4   64.183727   843.151058   750.886885  indie           1\n",
       "..        ...          ...          ...    ...         ...\n",
       "95  24.891904   492.227152   699.678364   rock           0\n",
       "96  21.379782   442.463608   579.692889  indie           1\n",
       "97  17.477857   387.129367   624.699528  indie           1\n",
       "98  26.939627   267.333486   311.184454  indie           1\n",
       "99  43.378515   516.870269   234.554709   rock           0\n",
       "\n",
       "[100 rows x 5 columns]"
      ]
     },
     "execution_count": 161,
     "metadata": {},
     "output_type": "execute_result"
    }
   ],
   "source": [
    "data[\"music_rock\"] = data.music.str.get_dummies(\"rock\")\n",
    "data"
   ]
  },
  {
   "cell_type": "code",
   "execution_count": 162,
   "id": "4877c56f",
   "metadata": {},
   "outputs": [
    {
     "data": {
      "text/html": [
       "<table class=\"simpletable\">\n",
       "<caption>OLS Regression Results</caption>\n",
       "<tr>\n",
       "  <th>Dep. Variable:</th>         <td>grades</td>      <th>  R-squared:         </th> <td>   0.874</td>\n",
       "</tr>\n",
       "<tr>\n",
       "  <th>Model:</th>                   <td>OLS</td>       <th>  Adj. R-squared:    </th> <td>   0.870</td>\n",
       "</tr>\n",
       "<tr>\n",
       "  <th>Method:</th>             <td>Least Squares</td>  <th>  F-statistic:       </th> <td>   221.6</td>\n",
       "</tr>\n",
       "<tr>\n",
       "  <th>Date:</th>             <td>Tue, 23 May 2023</td> <th>  Prob (F-statistic):</th> <td>5.17e-43</td>\n",
       "</tr>\n",
       "<tr>\n",
       "  <th>Time:</th>                 <td>14:07:24</td>     <th>  Log-Likelihood:    </th> <td> -322.28</td>\n",
       "</tr>\n",
       "<tr>\n",
       "  <th>No. Observations:</th>      <td>   100</td>      <th>  AIC:               </th> <td>   652.6</td>\n",
       "</tr>\n",
       "<tr>\n",
       "  <th>Df Residuals:</th>          <td>    96</td>      <th>  BIC:               </th> <td>   663.0</td>\n",
       "</tr>\n",
       "<tr>\n",
       "  <th>Df Model:</th>              <td>     3</td>      <th>                     </th>     <td> </td>   \n",
       "</tr>\n",
       "<tr>\n",
       "  <th>Covariance Type:</th>      <td>nonrobust</td>    <th>                     </th>     <td> </td>   \n",
       "</tr>\n",
       "</table>\n",
       "<table class=\"simpletable\">\n",
       "<tr>\n",
       "       <td></td>          <th>coef</th>     <th>std err</th>      <th>t</th>      <th>P>|t|</th>  <th>[0.025</th>    <th>0.975]</th>  \n",
       "</tr>\n",
       "<tr>\n",
       "  <th>Intercept</th>   <td>   10.2007</td> <td>    2.273</td> <td>    4.488</td> <td> 0.000</td> <td>    5.689</td> <td>   14.713</td>\n",
       "</tr>\n",
       "<tr>\n",
       "  <th>study_hours</th> <td>    0.0785</td> <td>    0.003</td> <td>   23.949</td> <td> 0.000</td> <td>    0.072</td> <td>    0.085</td>\n",
       "</tr>\n",
       "<tr>\n",
       "  <th>party_hours</th> <td>   -0.0289</td> <td>    0.003</td> <td>   -9.815</td> <td> 0.000</td> <td>   -0.035</td> <td>   -0.023</td>\n",
       "</tr>\n",
       "<tr>\n",
       "  <th>music_rock</th>  <td>    1.4224</td> <td>    1.257</td> <td>    1.131</td> <td> 0.261</td> <td>   -1.073</td> <td>    3.918</td>\n",
       "</tr>\n",
       "</table>\n",
       "<table class=\"simpletable\">\n",
       "<tr>\n",
       "  <th>Omnibus:</th>       <td> 1.420</td> <th>  Durbin-Watson:     </th> <td>   2.006</td>\n",
       "</tr>\n",
       "<tr>\n",
       "  <th>Prob(Omnibus):</th> <td> 0.492</td> <th>  Jarque-Bera (JB):  </th> <td>   1.134</td>\n",
       "</tr>\n",
       "<tr>\n",
       "  <th>Skew:</th>          <td>-0.260</td> <th>  Prob(JB):          </th> <td>   0.567</td>\n",
       "</tr>\n",
       "<tr>\n",
       "  <th>Kurtosis:</th>      <td> 3.047</td> <th>  Cond. No.          </th> <td>2.74e+03</td>\n",
       "</tr>\n",
       "</table><br/><br/>Notes:<br/>[1] Standard Errors assume that the covariance matrix of the errors is correctly specified.<br/>[2] The condition number is large, 2.74e+03. This might indicate that there are<br/>strong multicollinearity or other numerical problems."
      ],
      "text/plain": [
       "<class 'statsmodels.iolib.summary.Summary'>\n",
       "\"\"\"\n",
       "                            OLS Regression Results                            \n",
       "==============================================================================\n",
       "Dep. Variable:                 grades   R-squared:                       0.874\n",
       "Model:                            OLS   Adj. R-squared:                  0.870\n",
       "Method:                 Least Squares   F-statistic:                     221.6\n",
       "Date:                Tue, 23 May 2023   Prob (F-statistic):           5.17e-43\n",
       "Time:                        14:07:24   Log-Likelihood:                -322.28\n",
       "No. Observations:                 100   AIC:                             652.6\n",
       "Df Residuals:                      96   BIC:                             663.0\n",
       "Df Model:                           3                                         \n",
       "Covariance Type:            nonrobust                                         \n",
       "===============================================================================\n",
       "                  coef    std err          t      P>|t|      [0.025      0.975]\n",
       "-------------------------------------------------------------------------------\n",
       "Intercept      10.2007      2.273      4.488      0.000       5.689      14.713\n",
       "study_hours     0.0785      0.003     23.949      0.000       0.072       0.085\n",
       "party_hours    -0.0289      0.003     -9.815      0.000      -0.035      -0.023\n",
       "music_rock      1.4224      1.257      1.131      0.261      -1.073       3.918\n",
       "==============================================================================\n",
       "Omnibus:                        1.420   Durbin-Watson:                   2.006\n",
       "Prob(Omnibus):                  0.492   Jarque-Bera (JB):                1.134\n",
       "Skew:                          -0.260   Prob(JB):                        0.567\n",
       "Kurtosis:                       3.047   Cond. No.                     2.74e+03\n",
       "==============================================================================\n",
       "\n",
       "Notes:\n",
       "[1] Standard Errors assume that the covariance matrix of the errors is correctly specified.\n",
       "[2] The condition number is large, 2.74e+03. This might indicate that there are\n",
       "strong multicollinearity or other numerical problems.\n",
       "\"\"\""
      ]
     },
     "execution_count": 162,
     "metadata": {},
     "output_type": "execute_result"
    }
   ],
   "source": [
    "results = smf.ols(\"grades ~ study_hours + party_hours + music_rock\", data=data).fit().summary()\n",
    "results"
   ]
  },
  {
   "cell_type": "code",
   "execution_count": 164,
   "id": "4a07e65b",
   "metadata": {},
   "outputs": [],
   "source": [
    "data[\"music_new\"] = np.random.choice([\"indie\", \"rock\", \"pop\"], num_grades)\n",
    "data[\"music_pop\"] = data.music_new.str.get_dummies()[\"pop\"]"
   ]
  },
  {
   "cell_type": "code",
   "execution_count": 166,
   "id": "1687cdb7",
   "metadata": {},
   "outputs": [
    {
     "data": {
      "text/html": [
       "<table class=\"simpletable\">\n",
       "<caption>OLS Regression Results</caption>\n",
       "<tr>\n",
       "  <th>Dep. Variable:</th>         <td>grades</td>      <th>  R-squared:         </th> <td>   0.876</td>\n",
       "</tr>\n",
       "<tr>\n",
       "  <th>Model:</th>                   <td>OLS</td>       <th>  Adj. R-squared:    </th> <td>   0.871</td>\n",
       "</tr>\n",
       "<tr>\n",
       "  <th>Method:</th>             <td>Least Squares</td>  <th>  F-statistic:       </th> <td>   168.4</td>\n",
       "</tr>\n",
       "<tr>\n",
       "  <th>Date:</th>             <td>Tue, 23 May 2023</td> <th>  Prob (F-statistic):</th> <td>3.19e-42</td>\n",
       "</tr>\n",
       "<tr>\n",
       "  <th>Time:</th>                 <td>14:10:20</td>     <th>  Log-Likelihood:    </th> <td> -321.26</td>\n",
       "</tr>\n",
       "<tr>\n",
       "  <th>No. Observations:</th>      <td>   100</td>      <th>  AIC:               </th> <td>   652.5</td>\n",
       "</tr>\n",
       "<tr>\n",
       "  <th>Df Residuals:</th>          <td>    95</td>      <th>  BIC:               </th> <td>   665.5</td>\n",
       "</tr>\n",
       "<tr>\n",
       "  <th>Df Model:</th>              <td>     4</td>      <th>                     </th>     <td> </td>   \n",
       "</tr>\n",
       "<tr>\n",
       "  <th>Covariance Type:</th>      <td>nonrobust</td>    <th>                     </th>     <td> </td>   \n",
       "</tr>\n",
       "</table>\n",
       "<table class=\"simpletable\">\n",
       "<tr>\n",
       "       <td></td>          <th>coef</th>     <th>std err</th>      <th>t</th>      <th>P>|t|</th>  <th>[0.025</th>    <th>0.975]</th>  \n",
       "</tr>\n",
       "<tr>\n",
       "  <th>Intercept</th>   <td>   10.7265</td> <td>    2.293</td> <td>    4.678</td> <td> 0.000</td> <td>    6.175</td> <td>   15.278</td>\n",
       "</tr>\n",
       "<tr>\n",
       "  <th>study_hours</th> <td>    0.0791</td> <td>    0.003</td> <td>   24.060</td> <td> 0.000</td> <td>    0.073</td> <td>    0.086</td>\n",
       "</tr>\n",
       "<tr>\n",
       "  <th>party_hours</th> <td>   -0.0290</td> <td>    0.003</td> <td>   -9.888</td> <td> 0.000</td> <td>   -0.035</td> <td>   -0.023</td>\n",
       "</tr>\n",
       "<tr>\n",
       "  <th>music_rock</th>  <td>    1.3318</td> <td>    1.253</td> <td>    1.063</td> <td> 0.290</td> <td>   -1.155</td> <td>    3.819</td>\n",
       "</tr>\n",
       "<tr>\n",
       "  <th>music_pop</th>   <td>   -1.7693</td> <td>    1.264</td> <td>   -1.400</td> <td> 0.165</td> <td>   -4.279</td> <td>    0.740</td>\n",
       "</tr>\n",
       "</table>\n",
       "<table class=\"simpletable\">\n",
       "<tr>\n",
       "  <th>Omnibus:</th>       <td> 0.849</td> <th>  Durbin-Watson:     </th> <td>   2.009</td>\n",
       "</tr>\n",
       "<tr>\n",
       "  <th>Prob(Omnibus):</th> <td> 0.654</td> <th>  Jarque-Bera (JB):  </th> <td>   0.719</td>\n",
       "</tr>\n",
       "<tr>\n",
       "  <th>Skew:</th>          <td>-0.207</td> <th>  Prob(JB):          </th> <td>   0.698</td>\n",
       "</tr>\n",
       "<tr>\n",
       "  <th>Kurtosis:</th>      <td> 2.961</td> <th>  Cond. No.          </th> <td>2.79e+03</td>\n",
       "</tr>\n",
       "</table><br/><br/>Notes:<br/>[1] Standard Errors assume that the covariance matrix of the errors is correctly specified.<br/>[2] The condition number is large, 2.79e+03. This might indicate that there are<br/>strong multicollinearity or other numerical problems."
      ],
      "text/plain": [
       "<class 'statsmodels.iolib.summary.Summary'>\n",
       "\"\"\"\n",
       "                            OLS Regression Results                            \n",
       "==============================================================================\n",
       "Dep. Variable:                 grades   R-squared:                       0.876\n",
       "Model:                            OLS   Adj. R-squared:                  0.871\n",
       "Method:                 Least Squares   F-statistic:                     168.4\n",
       "Date:                Tue, 23 May 2023   Prob (F-statistic):           3.19e-42\n",
       "Time:                        14:10:20   Log-Likelihood:                -321.26\n",
       "No. Observations:                 100   AIC:                             652.5\n",
       "Df Residuals:                      95   BIC:                             665.5\n",
       "Df Model:                           4                                         \n",
       "Covariance Type:            nonrobust                                         \n",
       "===============================================================================\n",
       "                  coef    std err          t      P>|t|      [0.025      0.975]\n",
       "-------------------------------------------------------------------------------\n",
       "Intercept      10.7265      2.293      4.678      0.000       6.175      15.278\n",
       "study_hours     0.0791      0.003     24.060      0.000       0.073       0.086\n",
       "party_hours    -0.0290      0.003     -9.888      0.000      -0.035      -0.023\n",
       "music_rock      1.3318      1.253      1.063      0.290      -1.155       3.819\n",
       "music_pop      -1.7693      1.264     -1.400      0.165      -4.279       0.740\n",
       "==============================================================================\n",
       "Omnibus:                        0.849   Durbin-Watson:                   2.009\n",
       "Prob(Omnibus):                  0.654   Jarque-Bera (JB):                0.719\n",
       "Skew:                          -0.207   Prob(JB):                        0.698\n",
       "Kurtosis:                       2.961   Cond. No.                     2.79e+03\n",
       "==============================================================================\n",
       "\n",
       "Notes:\n",
       "[1] Standard Errors assume that the covariance matrix of the errors is correctly specified.\n",
       "[2] The condition number is large, 2.79e+03. This might indicate that there are\n",
       "strong multicollinearity or other numerical problems.\n",
       "\"\"\""
      ]
     },
     "execution_count": 166,
     "metadata": {},
     "output_type": "execute_result"
    }
   ],
   "source": [
    "results = smf.ols(\"grades ~ study_hours + party_hours + music_rock + music_pop\", data=data).fit().summary()\n",
    "results"
   ]
  },
  {
   "cell_type": "markdown",
   "id": "22fdb526",
   "metadata": {
    "lang": "en"
   },
   "source": [
    "We include this information in the model through a *dummy* variable:\n",
    "$$\n",
    "x_i= \\left\\{\n",
    "\\begin{array}{ll}\n",
    "      1  \\quad \\text{if listens to rock} \\\\\n",
    "      0  \\quad \\text{if listens to indie} \\\\\n",
    "\\end{array} \n",
    "\\right. \n",
    "$$\n",
    "\n",
    "\n",
    "If this is our only variable, this results in a model:\n",
    "\n",
    "$$y_i = \\beta_0 + \\beta_1 x_i +\\epsilon_i = \\left\\{\n",
    "\\begin{array}{ll}\n",
    "      \\beta_0 + \\beta_1 +\\epsilon_i  \\quad \\text{if listens to rock} \\\\\n",
    "      \\beta_0 + \\epsilon_i  \\quad \\text{if listens to indie} \\\\\n",
    "\\end{array} \n",
    "\\right.  $$\n",
    "\n",
    "In this case, $\\beta_0$ represents the average score of people who listen to rock, and $\\beta_0 + \\beta_1$ the average score of people who listen to indie."
   ]
  },
  {
   "cell_type": "code",
   "execution_count": null,
   "id": "adverse-scheduling",
   "metadata": {
    "scrolled": false
   },
   "outputs": [],
   "source": []
  },
  {
   "cell_type": "markdown",
   "id": "888c5380",
   "metadata": {
    "lang": "en"
   },
   "source": [
    "## Linear model extensions\n",
    "\n",
    "There are several assumptions used when fitting a linear model.\n",
    "Linear model assumptions \n",
    "[VIDEO](https://www.youtube.com/watch?v=hVe2F9krrWk)\n",
    "\n",
    "* Errors are normally distributed and have constant variance: luxury items\n",
    "* Errors are not correlated with each other\n",
    "\n",
    "***Additive Assumption** The effect of changes in a predictor $X_j$ on the response $Y$ is independent of the values ​​of the other predictors.\n",
    "\n",
    "***Linear Assumption**The change in the answer for a unit increase in $X_j$ is the same regardless of the value of $X_j$.\n",
    "\n",
    "### Challenging the additive assumption: synergy\n",
    "\n",
    "Sometimes our variables will have natural interactions. For example, we may think that the more our ads are heard on the radio, the more effective our TV ads will be. That is, the effect of both is *greater* (or *lesser*) than the sum of the parts.\n",
    "\n",
    "This is a commonly studied topic in [marketing](https://smallbusiness.chron.com/definition-synergy-marketing-21786.html)"
   ]
  },
  {
   "cell_type": "code",
   "execution_count": null,
   "id": "b963cc5c",
   "metadata": {},
   "outputs": [],
   "source": []
  },
  {
   "cell_type": "markdown",
   "id": "45ece35f",
   "metadata": {
    "lang": "en"
   },
   "source": [
    "## Let's do it\n",
    "* Create three independent simple linear regression models\n",
    "* Interpret the results\n",
    "* Create a multivariate model with the three predictors\n",
    "* Interpret the results"
   ]
  },
  {
   "cell_type": "code",
   "execution_count": null,
   "id": "laughing-patent",
   "metadata": {},
   "outputs": [],
   "source": []
  },
  {
   "cell_type": "markdown",
   "id": "4bb4540c",
   "metadata": {
    "lang": "en"
   },
   "source": [
    "The difference is that the covariance gives us the direction (positive or negative) between the variables and the correlation gives us this plus the strength of it."
   ]
  },
  {
   "cell_type": "markdown",
   "id": "1fcfd1e4",
   "metadata": {
    "lang": "en"
   },
   "source": [
    "Remember the **hierarchical principle:**\n",
    "\n",
    "\"*If we include an interaction in a model, we must also include the main effects, even if the p-values ​​associated with its coefficients are not significant*\""
   ]
  },
  {
   "cell_type": "markdown",
   "id": "dd1ff73f",
   "metadata": {
    "lang": "en"
   },
   "source": [
    "### $R^2$ Adjusted\n",
    "There is a curious thing with $R^2$. Look what happens when we include *random* variables!\n",
    "\n",
    "\"It decreases when a predictor improves the model by less than expected. Typically, the adjusted R-squared is positive, not negative. It is always lower than the R-squared.\""
   ]
  },
  {
   "cell_type": "code",
   "execution_count": 170,
   "id": "6878be22",
   "metadata": {},
   "outputs": [
    {
     "data": {
      "text/html": [
       "<div>\n",
       "<style scoped>\n",
       "    .dataframe tbody tr th:only-of-type {\n",
       "        vertical-align: middle;\n",
       "    }\n",
       "\n",
       "    .dataframe tbody tr th {\n",
       "        vertical-align: top;\n",
       "    }\n",
       "\n",
       "    .dataframe thead th {\n",
       "        text-align: right;\n",
       "    }\n",
       "</style>\n",
       "<table border=\"1\" class=\"dataframe\">\n",
       "  <thead>\n",
       "    <tr style=\"text-align: right;\">\n",
       "      <th></th>\n",
       "      <th>TV</th>\n",
       "      <th>Radio</th>\n",
       "      <th>Newspaper</th>\n",
       "      <th>Sales</th>\n",
       "    </tr>\n",
       "  </thead>\n",
       "  <tbody>\n",
       "    <tr>\n",
       "      <th>0</th>\n",
       "      <td>230.1</td>\n",
       "      <td>37.8</td>\n",
       "      <td>69.2</td>\n",
       "      <td>22.1</td>\n",
       "    </tr>\n",
       "    <tr>\n",
       "      <th>1</th>\n",
       "      <td>44.5</td>\n",
       "      <td>39.3</td>\n",
       "      <td>45.1</td>\n",
       "      <td>10.4</td>\n",
       "    </tr>\n",
       "    <tr>\n",
       "      <th>2</th>\n",
       "      <td>17.2</td>\n",
       "      <td>45.9</td>\n",
       "      <td>69.3</td>\n",
       "      <td>9.3</td>\n",
       "    </tr>\n",
       "    <tr>\n",
       "      <th>3</th>\n",
       "      <td>151.5</td>\n",
       "      <td>41.3</td>\n",
       "      <td>58.5</td>\n",
       "      <td>18.5</td>\n",
       "    </tr>\n",
       "    <tr>\n",
       "      <th>4</th>\n",
       "      <td>180.8</td>\n",
       "      <td>10.8</td>\n",
       "      <td>58.4</td>\n",
       "      <td>12.9</td>\n",
       "    </tr>\n",
       "    <tr>\n",
       "      <th>...</th>\n",
       "      <td>...</td>\n",
       "      <td>...</td>\n",
       "      <td>...</td>\n",
       "      <td>...</td>\n",
       "    </tr>\n",
       "    <tr>\n",
       "      <th>195</th>\n",
       "      <td>38.2</td>\n",
       "      <td>3.7</td>\n",
       "      <td>13.8</td>\n",
       "      <td>7.6</td>\n",
       "    </tr>\n",
       "    <tr>\n",
       "      <th>196</th>\n",
       "      <td>94.2</td>\n",
       "      <td>4.9</td>\n",
       "      <td>8.1</td>\n",
       "      <td>9.7</td>\n",
       "    </tr>\n",
       "    <tr>\n",
       "      <th>197</th>\n",
       "      <td>177.0</td>\n",
       "      <td>9.3</td>\n",
       "      <td>6.4</td>\n",
       "      <td>12.8</td>\n",
       "    </tr>\n",
       "    <tr>\n",
       "      <th>198</th>\n",
       "      <td>283.6</td>\n",
       "      <td>42.0</td>\n",
       "      <td>66.2</td>\n",
       "      <td>25.5</td>\n",
       "    </tr>\n",
       "    <tr>\n",
       "      <th>199</th>\n",
       "      <td>232.1</td>\n",
       "      <td>8.6</td>\n",
       "      <td>8.7</td>\n",
       "      <td>13.4</td>\n",
       "    </tr>\n",
       "  </tbody>\n",
       "</table>\n",
       "<p>200 rows × 4 columns</p>\n",
       "</div>"
      ],
      "text/plain": [
       "        TV  Radio  Newspaper  Sales\n",
       "0    230.1   37.8       69.2   22.1\n",
       "1     44.5   39.3       45.1   10.4\n",
       "2     17.2   45.9       69.3    9.3\n",
       "3    151.5   41.3       58.5   18.5\n",
       "4    180.8   10.8       58.4   12.9\n",
       "..     ...    ...        ...    ...\n",
       "195   38.2    3.7       13.8    7.6\n",
       "196   94.2    4.9        8.1    9.7\n",
       "197  177.0    9.3        6.4   12.8\n",
       "198  283.6   42.0       66.2   25.5\n",
       "199  232.1    8.6        8.7   13.4\n",
       "\n",
       "[200 rows x 4 columns]"
      ]
     },
     "execution_count": 170,
     "metadata": {},
     "output_type": "execute_result"
    }
   ],
   "source": [
    "df_adv = pd.read_csv(\"../datasets/Advertising.csv\")\n",
    "df_adv"
   ]
  },
  {
   "cell_type": "code",
   "execution_count": 171,
   "id": "812a3d2f",
   "metadata": {},
   "outputs": [
    {
     "data": {
      "text/html": [
       "<table class=\"simpletable\">\n",
       "<caption>OLS Regression Results</caption>\n",
       "<tr>\n",
       "  <th>Dep. Variable:</th>          <td>Sales</td>      <th>  R-squared:         </th> <td>   0.897</td>\n",
       "</tr>\n",
       "<tr>\n",
       "  <th>Model:</th>                   <td>OLS</td>       <th>  Adj. R-squared:    </th> <td>   0.896</td>\n",
       "</tr>\n",
       "<tr>\n",
       "  <th>Method:</th>             <td>Least Squares</td>  <th>  F-statistic:       </th> <td>   570.3</td>\n",
       "</tr>\n",
       "<tr>\n",
       "  <th>Date:</th>             <td>Tue, 23 May 2023</td> <th>  Prob (F-statistic):</th> <td>1.58e-96</td>\n",
       "</tr>\n",
       "<tr>\n",
       "  <th>Time:</th>                 <td>14:19:09</td>     <th>  Log-Likelihood:    </th> <td> -386.18</td>\n",
       "</tr>\n",
       "<tr>\n",
       "  <th>No. Observations:</th>      <td>   200</td>      <th>  AIC:               </th> <td>   780.4</td>\n",
       "</tr>\n",
       "<tr>\n",
       "  <th>Df Residuals:</th>          <td>   196</td>      <th>  BIC:               </th> <td>   793.6</td>\n",
       "</tr>\n",
       "<tr>\n",
       "  <th>Df Model:</th>              <td>     3</td>      <th>                     </th>     <td> </td>   \n",
       "</tr>\n",
       "<tr>\n",
       "  <th>Covariance Type:</th>      <td>nonrobust</td>    <th>                     </th>     <td> </td>   \n",
       "</tr>\n",
       "</table>\n",
       "<table class=\"simpletable\">\n",
       "<tr>\n",
       "      <td></td>         <th>coef</th>     <th>std err</th>      <th>t</th>      <th>P>|t|</th>  <th>[0.025</th>    <th>0.975]</th>  \n",
       "</tr>\n",
       "<tr>\n",
       "  <th>Intercept</th> <td>    2.9389</td> <td>    0.312</td> <td>    9.422</td> <td> 0.000</td> <td>    2.324</td> <td>    3.554</td>\n",
       "</tr>\n",
       "<tr>\n",
       "  <th>TV</th>        <td>    0.0458</td> <td>    0.001</td> <td>   32.809</td> <td> 0.000</td> <td>    0.043</td> <td>    0.049</td>\n",
       "</tr>\n",
       "<tr>\n",
       "  <th>Radio</th>     <td>    0.1885</td> <td>    0.009</td> <td>   21.893</td> <td> 0.000</td> <td>    0.172</td> <td>    0.206</td>\n",
       "</tr>\n",
       "<tr>\n",
       "  <th>Newspaper</th> <td>   -0.0010</td> <td>    0.006</td> <td>   -0.177</td> <td> 0.860</td> <td>   -0.013</td> <td>    0.011</td>\n",
       "</tr>\n",
       "</table>\n",
       "<table class=\"simpletable\">\n",
       "<tr>\n",
       "  <th>Omnibus:</th>       <td>60.414</td> <th>  Durbin-Watson:     </th> <td>   2.084</td>\n",
       "</tr>\n",
       "<tr>\n",
       "  <th>Prob(Omnibus):</th> <td> 0.000</td> <th>  Jarque-Bera (JB):  </th> <td> 151.241</td>\n",
       "</tr>\n",
       "<tr>\n",
       "  <th>Skew:</th>          <td>-1.327</td> <th>  Prob(JB):          </th> <td>1.44e-33</td>\n",
       "</tr>\n",
       "<tr>\n",
       "  <th>Kurtosis:</th>      <td> 6.332</td> <th>  Cond. No.          </th> <td>    454.</td>\n",
       "</tr>\n",
       "</table><br/><br/>Notes:<br/>[1] Standard Errors assume that the covariance matrix of the errors is correctly specified."
      ],
      "text/plain": [
       "<class 'statsmodels.iolib.summary.Summary'>\n",
       "\"\"\"\n",
       "                            OLS Regression Results                            \n",
       "==============================================================================\n",
       "Dep. Variable:                  Sales   R-squared:                       0.897\n",
       "Model:                            OLS   Adj. R-squared:                  0.896\n",
       "Method:                 Least Squares   F-statistic:                     570.3\n",
       "Date:                Tue, 23 May 2023   Prob (F-statistic):           1.58e-96\n",
       "Time:                        14:19:09   Log-Likelihood:                -386.18\n",
       "No. Observations:                 200   AIC:                             780.4\n",
       "Df Residuals:                     196   BIC:                             793.6\n",
       "Df Model:                           3                                         \n",
       "Covariance Type:            nonrobust                                         \n",
       "==============================================================================\n",
       "                 coef    std err          t      P>|t|      [0.025      0.975]\n",
       "------------------------------------------------------------------------------\n",
       "Intercept      2.9389      0.312      9.422      0.000       2.324       3.554\n",
       "TV             0.0458      0.001     32.809      0.000       0.043       0.049\n",
       "Radio          0.1885      0.009     21.893      0.000       0.172       0.206\n",
       "Newspaper     -0.0010      0.006     -0.177      0.860      -0.013       0.011\n",
       "==============================================================================\n",
       "Omnibus:                       60.414   Durbin-Watson:                   2.084\n",
       "Prob(Omnibus):                  0.000   Jarque-Bera (JB):              151.241\n",
       "Skew:                          -1.327   Prob(JB):                     1.44e-33\n",
       "Kurtosis:                       6.332   Cond. No.                         454.\n",
       "==============================================================================\n",
       "\n",
       "Notes:\n",
       "[1] Standard Errors assume that the covariance matrix of the errors is correctly specified.\n",
       "\"\"\""
      ]
     },
     "execution_count": 171,
     "metadata": {},
     "output_type": "execute_result"
    }
   ],
   "source": [
    "smf.ols(\"Sales ~ TV + Radio + Newspaper\", data=df_adv).fit().summary()"
   ]
  },
  {
   "cell_type": "code",
   "execution_count": 172,
   "id": "24d24b86",
   "metadata": {},
   "outputs": [],
   "source": [
    "df_adv[\"rand_1\"] = np.random.normal(size=200)\n",
    "df_adv[\"rand_2\"] = np.random.normal(size=200)\n",
    "df_adv[\"rand_3\"] = np.random.normal(size=200)\n",
    "df_adv[\"rand_4\"] = np.random.normal(size=200)\n",
    "df_adv[\"rand_5\"] = np.random.normal(size=200)\n",
    "df_adv[\"rand_6\"] = np.random.normal(size=200)\n",
    "df_adv[\"rand_7\"] = np.random.normal(size=200)\n",
    "df_adv[\"rand_8\"] = np.random.normal(size=200)"
   ]
  },
  {
   "cell_type": "code",
   "execution_count": 173,
   "id": "f7d5911a",
   "metadata": {},
   "outputs": [
    {
     "data": {
      "text/html": [
       "<table class=\"simpletable\">\n",
       "<caption>OLS Regression Results</caption>\n",
       "<tr>\n",
       "  <th>Dep. Variable:</th>          <td>Sales</td>      <th>  R-squared:         </th> <td>   0.902</td>\n",
       "</tr>\n",
       "<tr>\n",
       "  <th>Model:</th>                   <td>OLS</td>       <th>  Adj. R-squared:    </th> <td>   0.896</td>\n",
       "</tr>\n",
       "<tr>\n",
       "  <th>Method:</th>             <td>Least Squares</td>  <th>  F-statistic:       </th> <td>   156.9</td>\n",
       "</tr>\n",
       "<tr>\n",
       "  <th>Date:</th>             <td>Tue, 23 May 2023</td> <th>  Prob (F-statistic):</th> <td>1.97e-88</td>\n",
       "</tr>\n",
       "<tr>\n",
       "  <th>Time:</th>                 <td>14:20:04</td>     <th>  Log-Likelihood:    </th> <td> -381.66</td>\n",
       "</tr>\n",
       "<tr>\n",
       "  <th>No. Observations:</th>      <td>   200</td>      <th>  AIC:               </th> <td>   787.3</td>\n",
       "</tr>\n",
       "<tr>\n",
       "  <th>Df Residuals:</th>          <td>   188</td>      <th>  BIC:               </th> <td>   826.9</td>\n",
       "</tr>\n",
       "<tr>\n",
       "  <th>Df Model:</th>              <td>    11</td>      <th>                     </th>     <td> </td>   \n",
       "</tr>\n",
       "<tr>\n",
       "  <th>Covariance Type:</th>      <td>nonrobust</td>    <th>                     </th>     <td> </td>   \n",
       "</tr>\n",
       "</table>\n",
       "<table class=\"simpletable\">\n",
       "<tr>\n",
       "      <td></td>         <th>coef</th>     <th>std err</th>      <th>t</th>      <th>P>|t|</th>  <th>[0.025</th>    <th>0.975]</th>  \n",
       "</tr>\n",
       "<tr>\n",
       "  <th>Intercept</th> <td>    2.8994</td> <td>    0.316</td> <td>    9.170</td> <td> 0.000</td> <td>    2.276</td> <td>    3.523</td>\n",
       "</tr>\n",
       "<tr>\n",
       "  <th>TV</th>        <td>    0.0459</td> <td>    0.001</td> <td>   32.478</td> <td> 0.000</td> <td>    0.043</td> <td>    0.049</td>\n",
       "</tr>\n",
       "<tr>\n",
       "  <th>Radio</th>     <td>    0.1930</td> <td>    0.009</td> <td>   21.816</td> <td> 0.000</td> <td>    0.176</td> <td>    0.210</td>\n",
       "</tr>\n",
       "<tr>\n",
       "  <th>Newspaper</th> <td>   -0.0036</td> <td>    0.006</td> <td>   -0.600</td> <td> 0.549</td> <td>   -0.015</td> <td>    0.008</td>\n",
       "</tr>\n",
       "<tr>\n",
       "  <th>rand_1</th>    <td>    0.2207</td> <td>    0.132</td> <td>    1.674</td> <td> 0.096</td> <td>   -0.039</td> <td>    0.481</td>\n",
       "</tr>\n",
       "<tr>\n",
       "  <th>rand_2</th>    <td>    0.0685</td> <td>    0.129</td> <td>    0.531</td> <td> 0.596</td> <td>   -0.186</td> <td>    0.323</td>\n",
       "</tr>\n",
       "<tr>\n",
       "  <th>rand_3</th>    <td>   -0.0861</td> <td>    0.121</td> <td>   -0.711</td> <td> 0.478</td> <td>   -0.325</td> <td>    0.153</td>\n",
       "</tr>\n",
       "<tr>\n",
       "  <th>rand_4</th>    <td>    0.1765</td> <td>    0.122</td> <td>    1.450</td> <td> 0.149</td> <td>   -0.064</td> <td>    0.417</td>\n",
       "</tr>\n",
       "<tr>\n",
       "  <th>rand_5</th>    <td>    0.1861</td> <td>    0.135</td> <td>    1.374</td> <td> 0.171</td> <td>   -0.081</td> <td>    0.453</td>\n",
       "</tr>\n",
       "<tr>\n",
       "  <th>rand_6</th>    <td>    0.0665</td> <td>    0.121</td> <td>    0.551</td> <td> 0.582</td> <td>   -0.172</td> <td>    0.305</td>\n",
       "</tr>\n",
       "<tr>\n",
       "  <th>rand_7</th>    <td>   -0.0975</td> <td>    0.120</td> <td>   -0.816</td> <td> 0.415</td> <td>   -0.333</td> <td>    0.138</td>\n",
       "</tr>\n",
       "<tr>\n",
       "  <th>rand_8</th>    <td>    0.0141</td> <td>    0.119</td> <td>    0.119</td> <td> 0.906</td> <td>   -0.221</td> <td>    0.249</td>\n",
       "</tr>\n",
       "</table>\n",
       "<table class=\"simpletable\">\n",
       "<tr>\n",
       "  <th>Omnibus:</th>       <td>63.232</td> <th>  Durbin-Watson:     </th> <td>   2.054</td>\n",
       "</tr>\n",
       "<tr>\n",
       "  <th>Prob(Omnibus):</th> <td> 0.000</td> <th>  Jarque-Bera (JB):  </th> <td> 171.317</td>\n",
       "</tr>\n",
       "<tr>\n",
       "  <th>Skew:</th>          <td>-1.354</td> <th>  Prob(JB):          </th> <td>6.29e-38</td>\n",
       "</tr>\n",
       "<tr>\n",
       "  <th>Kurtosis:</th>      <td> 6.636</td> <th>  Cond. No.          </th> <td>    463.</td>\n",
       "</tr>\n",
       "</table><br/><br/>Notes:<br/>[1] Standard Errors assume that the covariance matrix of the errors is correctly specified."
      ],
      "text/plain": [
       "<class 'statsmodels.iolib.summary.Summary'>\n",
       "\"\"\"\n",
       "                            OLS Regression Results                            \n",
       "==============================================================================\n",
       "Dep. Variable:                  Sales   R-squared:                       0.902\n",
       "Model:                            OLS   Adj. R-squared:                  0.896\n",
       "Method:                 Least Squares   F-statistic:                     156.9\n",
       "Date:                Tue, 23 May 2023   Prob (F-statistic):           1.97e-88\n",
       "Time:                        14:20:04   Log-Likelihood:                -381.66\n",
       "No. Observations:                 200   AIC:                             787.3\n",
       "Df Residuals:                     188   BIC:                             826.9\n",
       "Df Model:                          11                                         \n",
       "Covariance Type:            nonrobust                                         \n",
       "==============================================================================\n",
       "                 coef    std err          t      P>|t|      [0.025      0.975]\n",
       "------------------------------------------------------------------------------\n",
       "Intercept      2.8994      0.316      9.170      0.000       2.276       3.523\n",
       "TV             0.0459      0.001     32.478      0.000       0.043       0.049\n",
       "Radio          0.1930      0.009     21.816      0.000       0.176       0.210\n",
       "Newspaper     -0.0036      0.006     -0.600      0.549      -0.015       0.008\n",
       "rand_1         0.2207      0.132      1.674      0.096      -0.039       0.481\n",
       "rand_2         0.0685      0.129      0.531      0.596      -0.186       0.323\n",
       "rand_3        -0.0861      0.121     -0.711      0.478      -0.325       0.153\n",
       "rand_4         0.1765      0.122      1.450      0.149      -0.064       0.417\n",
       "rand_5         0.1861      0.135      1.374      0.171      -0.081       0.453\n",
       "rand_6         0.0665      0.121      0.551      0.582      -0.172       0.305\n",
       "rand_7        -0.0975      0.120     -0.816      0.415      -0.333       0.138\n",
       "rand_8         0.0141      0.119      0.119      0.906      -0.221       0.249\n",
       "==============================================================================\n",
       "Omnibus:                       63.232   Durbin-Watson:                   2.054\n",
       "Prob(Omnibus):                  0.000   Jarque-Bera (JB):              171.317\n",
       "Skew:                          -1.354   Prob(JB):                     6.29e-38\n",
       "Kurtosis:                       6.636   Cond. No.                         463.\n",
       "==============================================================================\n",
       "\n",
       "Notes:\n",
       "[1] Standard Errors assume that the covariance matrix of the errors is correctly specified.\n",
       "\"\"\""
      ]
     },
     "execution_count": 173,
     "metadata": {},
     "output_type": "execute_result"
    }
   ],
   "source": [
    "smf.ols(\"Sales ~ TV + Radio + Newspaper + rand_1 + rand_2 + rand_3 + rand_4 + rand_5 + rand_6 + rand_7 + + rand_8\", data=df_adv).fit().summary()\n"
   ]
  },
  {
   "cell_type": "markdown",
   "id": "348bd1c0",
   "metadata": {
    "lang": "en"
   },
   "source": [
    "## Potential problems in linear regression\n",
    "\n",
    "The main assumptions of a linear model are:\n",
    "\n",
    "* Data is linear\n",
    "* Errors are not correlated\n",
    "* The variance of the error terms is constant\n",
    "\n",
    "What happens if these assumptions are not met?\n",
    "\n",
    "In addition, our models can suffer from other problems such as:\n",
    "* Outliers\n",
    "* Collinearity\n",
    "* Missing values\n",
    "\n",
    "See this [video](https://www.youtube.com/watch?v=hVe2F9krrWk) for an introduction to the topic."
   ]
  },
  {
   "cell_type": "code",
   "execution_count": null,
   "id": "e9c703b8",
   "metadata": {},
   "outputs": [],
   "source": []
  },
  {
   "cell_type": "markdown",
   "id": "2759e222",
   "metadata": {
    "lang": "en"
   },
   "source": [
    "These four data sets are different, but they happen to have the same arithmetic mean and variance of the x and y values, the same correlation, the same correlation coefficient, and the same regression line. some with 2 or 3 decimal places. They are the Anscombe Quartet, named for F.J. Anscombe, a statistical mathematician who published them in 1973. They are often used to teach that in addition to calculating the statistical properties of data, it is convenient to visualize them.\n",
    "\n",
    "In all cases, the representations tell us something more about the data: the first ones seem somewhat random but related, the second ones show a clear but remarkably different pattern; in the third and fourth there are other patterns clouded by some outliers. These values ​​can be errors, real data that is just out of the ordinary, or even artificially produced data to make it all fit together.\n",
    "\n",
    "Moral: don't blindly trust the data and neither the statistics you get from them; also try to set up a visualization to understand them.\n",
    "![anscombe](../images/anscombe.png)"
   ]
  },
  {
   "cell_type": "markdown",
   "id": "f3344eca",
   "metadata": {
    "lang": "en"
   },
   "source": [
    "## Summary"
   ]
  },
  {
   "cell_type": "code",
   "execution_count": null,
   "id": "62995837",
   "metadata": {},
   "outputs": [],
   "source": []
  },
  {
   "cell_type": "markdown",
   "id": "competitive-enough",
   "metadata": {},
   "source": [
    "## Further Materials \n",
    "\n",
    "* One example of [linear regression with the Boston data set](https://towardsdatascience.com/linear-regression-on-boston-housing-dataset-f409b7e4a155)"
   ]
  }
 ],
 "metadata": {
  "kernelspec": {
   "display_name": "ironhack",
   "language": "python",
   "name": "ironhack"
  },
  "language_info": {
   "codemirror_mode": {
    "name": "ipython",
    "version": 3
   },
   "file_extension": ".py",
   "mimetype": "text/x-python",
   "name": "python",
   "nbconvert_exporter": "python",
   "pygments_lexer": "ipython3",
   "version": "3.9.12"
  },
  "nbTranslate": {
   "displayLangs": [
    "en",
    "es"
   ],
   "hotkey": "alt-a",
   "langInMainMenu": true,
   "sourceLang": "es",
   "targetLang": "en",
   "useGoogleTranslate": true
  },
  "toc": {
   "base_numbering": 1,
   "nav_menu": {},
   "number_sections": true,
   "sideBar": true,
   "skip_h1_title": true,
   "title_cell": "Table of Contents",
   "title_sidebar": "Contents",
   "toc_cell": true,
   "toc_position": {
    "height": "calc(100% - 180px)",
    "left": "10px",
    "top": "150px",
    "width": "230.007px"
   },
   "toc_section_display": true,
   "toc_window_display": false
  }
 },
 "nbformat": 4,
 "nbformat_minor": 5
}

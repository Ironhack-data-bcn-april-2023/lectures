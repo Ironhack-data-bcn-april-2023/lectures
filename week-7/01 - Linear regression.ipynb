{
 "cells": [
  {
   "cell_type": "markdown",
   "id": "190aede4",
   "metadata": {
    "lang": "en"
   },
   "source": [
    "# Linear regression"
   ]
  },
  {
   "cell_type": "markdown",
   "id": "greek-chick",
   "metadata": {
    "toc": true
   },
   "source": [
    "<h1>Table of Contents<span class=\"tocSkip\"></span></h1>\n",
    "<div class=\"toc\"><ul class=\"toc-item\"><li><span><a href=\"#Motivation\" data-toc-modified-id=\"Motivation-1\"><span class=\"toc-item-num\">1&nbsp;&nbsp;</span>Motivation</a></span><ul class=\"toc-item\"><li><span><a href=\"#Exploratory-Analysis\" data-toc-modified-id=\"Exploratory-Analysis-1.1\"><span class=\"toc-item-num\">1.1&nbsp;&nbsp;</span>Exploratory Analysis</a></span></li></ul></li><li><span><a href=\"#Simple-linear-regression\" data-toc-modified-id=\"Simple-linear-regression-2\"><span class=\"toc-item-num\">2&nbsp;&nbsp;</span>Simple linear regression</a></span><ul class=\"toc-item\"><li><span><a href=\"#Let's-do-it-backwards\" data-toc-modified-id=\"Let's-do-it-backwards-2.1\"><span class=\"toc-item-num\">2.1&nbsp;&nbsp;</span>Let's do it backwards</a></span></li></ul></li><li><span><a href=\"#We-generate-data-to-explain-in-an-&quot;inverse&quot;-way-to-what-was-seen-a-moment-ago\" data-toc-modified-id=\"We-generate-data-to-explain-in-an-&quot;inverse&quot;-way-to-what-was-seen-a-moment-ago-3\"><span class=\"toc-item-num\">3&nbsp;&nbsp;</span>We generate data to explain in an \"inverse\" way to what was seen a moment ago</a></span></li><li><span><a href=\"#We-draw-the-regression-line\" data-toc-modified-id=\"We-draw-the-regression-line-4\"><span class=\"toc-item-num\">4&nbsp;&nbsp;</span>We draw the regression line</a></span></li><li><span><a href=\"#How-good-is-our-model?\" data-toc-modified-id=\"How-good-is-our-model?-5\"><span class=\"toc-item-num\">5&nbsp;&nbsp;</span>How good is our model?</a></span></li><li><span><a href=\"#Calculate-the-R2-of-the-model\" data-toc-modified-id=\"Calculate-the-R2-of-the-model-6\"><span class=\"toc-item-num\">6&nbsp;&nbsp;</span>Calculate the R2 of the model</a></span></li><li><span><a href=\"#Linear-regression-with-sklearn\" data-toc-modified-id=\"Linear-regression-with-sklearn-7\"><span class=\"toc-item-num\">7&nbsp;&nbsp;</span>Linear regression with sklearn</a></span></li><li><span><a href=\"#Linear-regression-with-statsmodels\" data-toc-modified-id=\"Linear-regression-with-statsmodels-8\"><span class=\"toc-item-num\">8&nbsp;&nbsp;</span>Linear regression with statsmodels</a></span></li><li><span><a href=\"#OLS-Concepts\" data-toc-modified-id=\"OLS-Concepts-9\"><span class=\"toc-item-num\">9&nbsp;&nbsp;</span>OLS Concepts</a></span></li><li><span><a href=\"#Multiple-Linear-Regression\" data-toc-modified-id=\"Multiple-Linear-Regression-10\"><span class=\"toc-item-num\">10&nbsp;&nbsp;</span>Multiple Linear Regression</a></span></li><li><span><a href=\"#Categorical-variables\" data-toc-modified-id=\"Categorical-variables-11\"><span class=\"toc-item-num\">11&nbsp;&nbsp;</span>Categorical variables</a></span></li><li><span><a href=\"#Linear-model-extensions\" data-toc-modified-id=\"Linear-model-extensions-12\"><span class=\"toc-item-num\">12&nbsp;&nbsp;</span>Linear model extensions</a></span><ul class=\"toc-item\"><li><span><a href=\"#Challenging-the-additive-assumption:-synergy\" data-toc-modified-id=\"Challenging-the-additive-assumption:-synergy-12.1\"><span class=\"toc-item-num\">12.1&nbsp;&nbsp;</span>Challenging the additive assumption: synergy</a></span></li></ul></li><li><span><a href=\"#Let's-do-it\" data-toc-modified-id=\"Let's-do-it-13\"><span class=\"toc-item-num\">13&nbsp;&nbsp;</span>Let's do it</a></span><ul class=\"toc-item\"><li><span><a href=\"#$R^2$-Adjusted\" data-toc-modified-id=\"$R^2$-Adjusted-13.1\"><span class=\"toc-item-num\">13.1&nbsp;&nbsp;</span>$R^2$ Adjusted</a></span></li></ul></li><li><span><a href=\"#Potential-problems-in-linear-regression\" data-toc-modified-id=\"Potential-problems-in-linear-regression-14\"><span class=\"toc-item-num\">14&nbsp;&nbsp;</span>Potential problems in linear regression</a></span></li><li><span><a href=\"#Summary\" data-toc-modified-id=\"Summary-15\"><span class=\"toc-item-num\">15&nbsp;&nbsp;</span>Summary</a></span></li><li><span><a href=\"#Further-Materials\" data-toc-modified-id=\"Further-Materials-16\"><span class=\"toc-item-num\">16&nbsp;&nbsp;</span>Further Materials</a></span></li></ul></div>"
   ]
  },
  {
   "cell_type": "code",
   "execution_count": 129,
   "id": "0de361d5",
   "metadata": {},
   "outputs": [],
   "source": [
    "#!pip install scikit-learn"
   ]
  },
  {
   "cell_type": "code",
   "execution_count": 1,
   "id": "557d273f",
   "metadata": {},
   "outputs": [],
   "source": [
    "import pandas as pd\n",
    "import numpy as np\n",
    "\n",
    "# Viz\n",
    "import seaborn as sns\n",
    "from matplotlib import pyplot as plt\n",
    "from matplotlib import cm\n",
    "%matplotlib inline\n",
    "%config Inlinebackend.figure_format = 'retina'\n",
    "sns.set_context(\"poster\")\n",
    "sns.set(rc={\"figure.figsize\": (15.,8.)})\n",
    "sns.set_style(\"whitegrid\")\n",
    "\n",
    "# Modelling libraries\n",
    "import statsmodels.formula.api as smf\n",
    "from sklearn.linear_model import LinearRegression #sci-kit for learning, science-kit, sklearn"
   ]
  },
  {
   "cell_type": "code",
   "execution_count": 3,
   "id": "4b0979e2",
   "metadata": {},
   "outputs": [
    {
     "data": {
      "text/plain": [
       "'\\nanalysis of a trend in a dataset of two variables\\n    - dependant: changes according to another one\\n    - independant\\n    \\ncost per income: rate\\n    - dependant: cost?\\n    - independant: income?\\n'"
      ]
     },
     "execution_count": 3,
     "metadata": {},
     "output_type": "execute_result"
    }
   ],
   "source": [
    "\"\"\"\n",
    "analysis of a trend in a dataset of two variables\n",
    "    - dependant: changes according to another one\n",
    "    - independant\n",
    "    \n",
    "cost per income: rate\n",
    "    - dependant: cost?\n",
    "    - independant: income?\n",
    "\"\"\"\n"
   ]
  },
  {
   "cell_type": "markdown",
   "id": "1a25c2b2",
   "metadata": {
    "lang": "en"
   },
   "source": [
    "## Motivation"
   ]
  },
  {
   "cell_type": "markdown",
   "id": "ba53a53b",
   "metadata": {},
   "source": [
    "- \"creating a line that estimates the value\n",
    "of a specific variable given the value of other variables\"\n",
    "- \"the line that minimizes the distance between itself \n",
    "and the observations\" (tautológico -> circular definition)\n",
    "- \"function that summurizes the data\"\n",
    "    - \"variables that affect the result\"\n",
    "    - \"equation\"\n",
    "- function, equation\n",
    "    - function (parameter) = output\n",
    "    - result = whatever is in this part (inside of the function)\n",
    "\n",
    "- summary\n",
    "- predicting\n",
    "    - estimations\n",
    "    - minimizing error: future predictions"
   ]
  },
  {
   "cell_type": "markdown",
   "id": "10b1235e",
   "metadata": {
    "lang": "en"
   },
   "source": [
    "We have 100 students, and we know:\n",
    " * How many hours they studied for their exam\n",
    " * The grade they have obtained (from 0 to 100)"
   ]
  },
  {
   "cell_type": "markdown",
   "id": "7f05e727",
   "metadata": {
    "lang": "en"
   },
   "source": [
    "### Exploratory Analysis"
   ]
  },
  {
   "cell_type": "code",
   "execution_count": 4,
   "id": "2882fac5",
   "metadata": {},
   "outputs": [],
   "source": [
    "df = pd.read_csv(\"../datasets/hours_vs_mark.csv\")"
   ]
  },
  {
   "cell_type": "code",
   "execution_count": 6,
   "id": "2e898be9",
   "metadata": {},
   "outputs": [
    {
     "data": {
      "text/html": [
       "<div>\n",
       "<style scoped>\n",
       "    .dataframe tbody tr th:only-of-type {\n",
       "        vertical-align: middle;\n",
       "    }\n",
       "\n",
       "    .dataframe tbody tr th {\n",
       "        vertical-align: top;\n",
       "    }\n",
       "\n",
       "    .dataframe thead th {\n",
       "        text-align: right;\n",
       "    }\n",
       "</style>\n",
       "<table border=\"1\" class=\"dataframe\">\n",
       "  <thead>\n",
       "    <tr style=\"text-align: right;\">\n",
       "      <th></th>\n",
       "      <th>hours</th>\n",
       "      <th>mark</th>\n",
       "    </tr>\n",
       "  </thead>\n",
       "  <tbody>\n",
       "    <tr>\n",
       "      <th>0</th>\n",
       "      <td>865</td>\n",
       "      <td>95</td>\n",
       "    </tr>\n",
       "    <tr>\n",
       "      <th>1</th>\n",
       "      <td>4</td>\n",
       "      <td>12</td>\n",
       "    </tr>\n",
       "    <tr>\n",
       "      <th>2</th>\n",
       "      <td>305</td>\n",
       "      <td>35</td>\n",
       "    </tr>\n",
       "    <tr>\n",
       "      <th>3</th>\n",
       "      <td>437</td>\n",
       "      <td>56</td>\n",
       "    </tr>\n",
       "    <tr>\n",
       "      <th>4</th>\n",
       "      <td>682</td>\n",
       "      <td>86</td>\n",
       "    </tr>\n",
       "    <tr>\n",
       "      <th>...</th>\n",
       "      <td>...</td>\n",
       "      <td>...</td>\n",
       "    </tr>\n",
       "    <tr>\n",
       "      <th>95</th>\n",
       "      <td>252</td>\n",
       "      <td>66</td>\n",
       "    </tr>\n",
       "    <tr>\n",
       "      <th>96</th>\n",
       "      <td>49</td>\n",
       "      <td>21</td>\n",
       "    </tr>\n",
       "    <tr>\n",
       "      <th>97</th>\n",
       "      <td>792</td>\n",
       "      <td>97</td>\n",
       "    </tr>\n",
       "    <tr>\n",
       "      <th>98</th>\n",
       "      <td>310</td>\n",
       "      <td>46</td>\n",
       "    </tr>\n",
       "    <tr>\n",
       "      <th>99</th>\n",
       "      <td>934</td>\n",
       "      <td>89</td>\n",
       "    </tr>\n",
       "  </tbody>\n",
       "</table>\n",
       "<p>100 rows × 2 columns</p>\n",
       "</div>"
      ],
      "text/plain": [
       "    hours  mark\n",
       "0     865    95\n",
       "1       4    12\n",
       "2     305    35\n",
       "3     437    56\n",
       "4     682    86\n",
       "..    ...   ...\n",
       "95    252    66\n",
       "96     49    21\n",
       "97    792    97\n",
       "98    310    46\n",
       "99    934    89\n",
       "\n",
       "[100 rows x 2 columns]"
      ]
     },
     "execution_count": 6,
     "metadata": {},
     "output_type": "execute_result"
    }
   ],
   "source": [
    "df"
   ]
  },
  {
   "cell_type": "code",
   "execution_count": 7,
   "id": "863142e5",
   "metadata": {},
   "outputs": [
    {
     "data": {
      "text/html": [
       "<div>\n",
       "<style scoped>\n",
       "    .dataframe tbody tr th:only-of-type {\n",
       "        vertical-align: middle;\n",
       "    }\n",
       "\n",
       "    .dataframe tbody tr th {\n",
       "        vertical-align: top;\n",
       "    }\n",
       "\n",
       "    .dataframe thead th {\n",
       "        text-align: right;\n",
       "    }\n",
       "</style>\n",
       "<table border=\"1\" class=\"dataframe\">\n",
       "  <thead>\n",
       "    <tr style=\"text-align: right;\">\n",
       "      <th></th>\n",
       "      <th>hours</th>\n",
       "      <th>mark</th>\n",
       "    </tr>\n",
       "  </thead>\n",
       "  <tbody>\n",
       "    <tr>\n",
       "      <th>hours</th>\n",
       "      <td>1.000000</td>\n",
       "      <td>0.867072</td>\n",
       "    </tr>\n",
       "    <tr>\n",
       "      <th>mark</th>\n",
       "      <td>0.867072</td>\n",
       "      <td>1.000000</td>\n",
       "    </tr>\n",
       "  </tbody>\n",
       "</table>\n",
       "</div>"
      ],
      "text/plain": [
       "          hours      mark\n",
       "hours  1.000000  0.867072\n",
       "mark   0.867072  1.000000"
      ]
     },
     "execution_count": 7,
     "metadata": {},
     "output_type": "execute_result"
    }
   ],
   "source": [
    "df.corr()"
   ]
  },
  {
   "cell_type": "code",
   "execution_count": 8,
   "id": "2db58375",
   "metadata": {},
   "outputs": [
    {
     "data": {
      "text/html": [
       "<div>\n",
       "<style scoped>\n",
       "    .dataframe tbody tr th:only-of-type {\n",
       "        vertical-align: middle;\n",
       "    }\n",
       "\n",
       "    .dataframe tbody tr th {\n",
       "        vertical-align: top;\n",
       "    }\n",
       "\n",
       "    .dataframe thead th {\n",
       "        text-align: right;\n",
       "    }\n",
       "</style>\n",
       "<table border=\"1\" class=\"dataframe\">\n",
       "  <thead>\n",
       "    <tr style=\"text-align: right;\">\n",
       "      <th></th>\n",
       "      <th>hours</th>\n",
       "      <th>mark</th>\n",
       "    </tr>\n",
       "  </thead>\n",
       "  <tbody>\n",
       "    <tr>\n",
       "      <th>count</th>\n",
       "      <td>100.000000</td>\n",
       "      <td>100.000000</td>\n",
       "    </tr>\n",
       "    <tr>\n",
       "      <th>mean</th>\n",
       "      <td>428.540000</td>\n",
       "      <td>47.940000</td>\n",
       "    </tr>\n",
       "    <tr>\n",
       "      <th>std</th>\n",
       "      <td>285.241752</td>\n",
       "      <td>27.757907</td>\n",
       "    </tr>\n",
       "    <tr>\n",
       "      <th>min</th>\n",
       "      <td>2.000000</td>\n",
       "      <td>0.000000</td>\n",
       "    </tr>\n",
       "    <tr>\n",
       "      <th>25%</th>\n",
       "      <td>167.250000</td>\n",
       "      <td>29.500000</td>\n",
       "    </tr>\n",
       "    <tr>\n",
       "      <th>50%</th>\n",
       "      <td>424.500000</td>\n",
       "      <td>44.000000</td>\n",
       "    </tr>\n",
       "    <tr>\n",
       "      <th>75%</th>\n",
       "      <td>662.500000</td>\n",
       "      <td>68.000000</td>\n",
       "    </tr>\n",
       "    <tr>\n",
       "      <th>max</th>\n",
       "      <td>986.000000</td>\n",
       "      <td>100.000000</td>\n",
       "    </tr>\n",
       "  </tbody>\n",
       "</table>\n",
       "</div>"
      ],
      "text/plain": [
       "            hours        mark\n",
       "count  100.000000  100.000000\n",
       "mean   428.540000   47.940000\n",
       "std    285.241752   27.757907\n",
       "min      2.000000    0.000000\n",
       "25%    167.250000   29.500000\n",
       "50%    424.500000   44.000000\n",
       "75%    662.500000   68.000000\n",
       "max    986.000000  100.000000"
      ]
     },
     "execution_count": 8,
     "metadata": {},
     "output_type": "execute_result"
    }
   ],
   "source": [
    "df.describe()"
   ]
  },
  {
   "cell_type": "code",
   "execution_count": null,
   "id": "b629b739",
   "metadata": {},
   "outputs": [],
   "source": [
    "\"\"\"\n",
    "std: 27\n",
    "taking a random sample, and assuming the mark will the mean (47), \n",
    "I will be wrong by 27 points (on average)\n",
    "\"\"\""
   ]
  },
  {
   "cell_type": "code",
   "execution_count": 9,
   "id": "ef940b23",
   "metadata": {},
   "outputs": [
    {
     "data": {
      "text/html": [
       "<div>\n",
       "<style scoped>\n",
       "    .dataframe tbody tr th:only-of-type {\n",
       "        vertical-align: middle;\n",
       "    }\n",
       "\n",
       "    .dataframe tbody tr th {\n",
       "        vertical-align: top;\n",
       "    }\n",
       "\n",
       "    .dataframe thead th {\n",
       "        text-align: right;\n",
       "    }\n",
       "</style>\n",
       "<table border=\"1\" class=\"dataframe\">\n",
       "  <thead>\n",
       "    <tr style=\"text-align: right;\">\n",
       "      <th></th>\n",
       "      <th>hours</th>\n",
       "      <th>mark</th>\n",
       "    </tr>\n",
       "  </thead>\n",
       "  <tbody>\n",
       "    <tr>\n",
       "      <th>79</th>\n",
       "      <td>698</td>\n",
       "      <td>83</td>\n",
       "    </tr>\n",
       "  </tbody>\n",
       "</table>\n",
       "</div>"
      ],
      "text/plain": [
       "    hours  mark\n",
       "79    698    83"
      ]
     },
     "execution_count": 9,
     "metadata": {},
     "output_type": "execute_result"
    }
   ],
   "source": [
    "df.sample()"
   ]
  },
  {
   "cell_type": "code",
   "execution_count": 12,
   "id": "e6d1c0bd",
   "metadata": {},
   "outputs": [
    {
     "data": {
      "text/html": [
       "<div>\n",
       "<style scoped>\n",
       "    .dataframe tbody tr th:only-of-type {\n",
       "        vertical-align: middle;\n",
       "    }\n",
       "\n",
       "    .dataframe tbody tr th {\n",
       "        vertical-align: top;\n",
       "    }\n",
       "\n",
       "    .dataframe thead th {\n",
       "        text-align: right;\n",
       "    }\n",
       "</style>\n",
       "<table border=\"1\" class=\"dataframe\">\n",
       "  <thead>\n",
       "    <tr style=\"text-align: right;\">\n",
       "      <th></th>\n",
       "      <th>hours</th>\n",
       "      <th>mark</th>\n",
       "    </tr>\n",
       "  </thead>\n",
       "  <tbody>\n",
       "    <tr>\n",
       "      <th>39</th>\n",
       "      <td>211</td>\n",
       "      <td>36</td>\n",
       "    </tr>\n",
       "    <tr>\n",
       "      <th>83</th>\n",
       "      <td>84</td>\n",
       "      <td>0</td>\n",
       "    </tr>\n",
       "    <tr>\n",
       "      <th>82</th>\n",
       "      <td>159</td>\n",
       "      <td>37</td>\n",
       "    </tr>\n",
       "    <tr>\n",
       "      <th>46</th>\n",
       "      <td>131</td>\n",
       "      <td>39</td>\n",
       "    </tr>\n",
       "    <tr>\n",
       "      <th>57</th>\n",
       "      <td>193</td>\n",
       "      <td>30</td>\n",
       "    </tr>\n",
       "  </tbody>\n",
       "</table>\n",
       "</div>"
      ],
      "text/plain": [
       "    hours  mark\n",
       "39    211    36\n",
       "83     84     0\n",
       "82    159    37\n",
       "46    131    39\n",
       "57    193    30"
      ]
     },
     "execution_count": 12,
     "metadata": {},
     "output_type": "execute_result"
    }
   ],
   "source": [
    "df.sample(5)"
   ]
  },
  {
   "cell_type": "code",
   "execution_count": 18,
   "id": "9a64b7fb",
   "metadata": {},
   "outputs": [
    {
     "data": {
      "image/png": "[encoded data removed]",
      "text/plain": [
       "<Figure size 1080x576 with 2 Axes>"
      ]
     },
     "metadata": {},
     "output_type": "display_data"
    }
   ],
   "source": [
    "import seaborn as sns\n",
    "sns.heatmap(df.corr(), annot=True);"
   ]
  },
  {
   "cell_type": "code",
   "execution_count": 19,
   "id": "190506af",
   "metadata": {},
   "outputs": [
    {
     "data": {
      "text/html": [
       "<div>\n",
       "<style scoped>\n",
       "    .dataframe tbody tr th:only-of-type {\n",
       "        vertical-align: middle;\n",
       "    }\n",
       "\n",
       "    .dataframe tbody tr th {\n",
       "        vertical-align: top;\n",
       "    }\n",
       "\n",
       "    .dataframe thead th {\n",
       "        text-align: right;\n",
       "    }\n",
       "</style>\n",
       "<table border=\"1\" class=\"dataframe\">\n",
       "  <thead>\n",
       "    <tr style=\"text-align: right;\">\n",
       "      <th></th>\n",
       "      <th>hours</th>\n",
       "      <th>mark</th>\n",
       "    </tr>\n",
       "  </thead>\n",
       "  <tbody>\n",
       "    <tr>\n",
       "      <th>3</th>\n",
       "      <td>437</td>\n",
       "      <td>56</td>\n",
       "    </tr>\n",
       "  </tbody>\n",
       "</table>\n",
       "</div>"
      ],
      "text/plain": [
       "   hours  mark\n",
       "3    437    56"
      ]
     },
     "execution_count": 19,
     "metadata": {},
     "output_type": "execute_result"
    }
   ],
   "source": [
    "df.sample()"
   ]
  },
  {
   "cell_type": "code",
   "execution_count": 21,
   "id": "f8639402",
   "metadata": {},
   "outputs": [
    {
     "data": {
      "text/plain": [
       "<seaborn.axisgrid.PairGrid at 0x7f846d9f6130>"
      ]
     },
     "execution_count": 21,
     "metadata": {},
     "output_type": "execute_result"
    },
    {
     "data": {
      "image/png": "[encoded data removed]",
      "text/plain": [
       "<Figure size 360x360 with 6 Axes>"
      ]
     },
     "metadata": {},
     "output_type": "display_data"
    }
   ],
   "source": [
    "sns.pairplot(df)"
   ]
  },
  {
   "cell_type": "code",
   "execution_count": 38,
   "id": "c11f638c",
   "metadata": {},
   "outputs": [
    {
     "data": {
      "image/png": "[encoded data removed]",
      "text/plain": [
       "<Figure size 1080x576 with 1 Axes>"
      ]
     },
     "metadata": {},
     "output_type": "display_data"
    }
   ],
   "source": [
    "sns.scatterplot(x = \"mark\", y=\"hours\", data = df);\n",
    "\"\"\"\n",
    "positive correlation\n",
    "    - the more one axis, the more the other axis\n",
    "seems to be a linear relationship: straight line\n",
    "- no negative values\n",
    "    - no negative time\n",
    "    - no negative grade (we could?)\n",
    "\"\"\"\n",
    "\n",
    "\"\"\"\n",
    "slope\n",
    "\"\"\""
   ]
  },
  {
   "cell_type": "code",
   "execution_count": 23,
   "id": "1b0211d1",
   "metadata": {},
   "outputs": [
    {
     "data": {
      "image/png": "[encoded data removed]",
      "text/plain": [
       "<Figure size 1080x576 with 1 Axes>"
      ]
     },
     "metadata": {},
     "output_type": "display_data"
    }
   ],
   "source": [
    "sns.histplot(df.hours);\n",
    "\"\"\"\n",
    "Not too many people study a lot\n",
    "Most people study less -> Skewness: positive (tail goes to the positive end)\n",
    "\"\"\""
   ]
  },
  {
   "cell_type": "code",
   "execution_count": 35,
   "id": "fb40dfce",
   "metadata": {},
   "outputs": [
    {
     "data": {
      "text/plain": [
       "'\\nMany people fail (assuming 50 as passing grade)\\n'"
      ]
     },
     "execution_count": 35,
     "metadata": {},
     "output_type": "execute_result"
    },
    {
     "data": {
      "image/png": "[encoded data removed]",
      "text/plain": [
       "<Figure size 1080x576 with 1 Axes>"
      ]
     },
     "metadata": {},
     "output_type": "display_data"
    }
   ],
   "source": [
    "sns.histplot(df.mark)\n",
    "plt.axvline(df.mark.mean(), c=\"red\", label = \"mean\")\n",
    "plt.axvline(df.mark.median(), c=\"green\", label=\"median\")\n",
    "plt.legend();\n",
    "\n",
    "\"\"\"\n",
    "Many people fail (assuming 50 as passing grade)\n",
    "\"\"\""
   ]
  },
  {
   "cell_type": "code",
   "execution_count": 29,
   "id": "7897294c",
   "metadata": {},
   "outputs": [
    {
     "data": {
      "image/png": "[encoded data removed]",
      "text/plain": [
       "<Figure size 1080x576 with 1 Axes>"
      ]
     },
     "metadata": {},
     "output_type": "display_data"
    }
   ],
   "source": [
    "sns.boxplot(df.mark);\n",
    "\n",
    "\"\"\"\n",
    "1. Size of the box: 50%: between 30-65\n",
    "2. Outliers: none\n",
    "3. Median: 50% of the data: 42ish. Most didn't pass. Skewness\n",
    "4. Whiskers: min & max. 0-100\n",
    "\"\"\""
   ]
  },
  {
   "cell_type": "code",
   "execution_count": 32,
   "id": "99b7eed7",
   "metadata": {},
   "outputs": [
    {
     "data": {
      "image/png": "[encoded data removed]",
      "text/plain": [
       "<Figure size 1080x576 with 1 Axes>"
      ]
     },
     "metadata": {},
     "output_type": "display_data"
    }
   ],
   "source": [
    "sns.boxplot(df.hours);\n",
    "sns.boxplot(df.mark);\n",
    "\n",
    "\"\"\"\n",
    "1. Size of the box: 50%: between 190-650h\n",
    "2. Outliers: none\n",
    "3. Median: 50% of the data: 400ish. Slightly above the mean. Not as skewed\n",
    "4. Whiskers: min & max. 0-1000ish\n",
    "\"\"\""
   ]
  },
  {
   "cell_type": "markdown",
   "id": "5dca9195",
   "metadata": {
    "lang": "en"
   },
   "source": [
    "We would like to understand the relationship $$grade = f(hours)$$\n",
    "\n",
    "To be able to **predict the expected grade** that we will obtain when studying a certain number of hours"
   ]
  },
  {
   "cell_type": "code",
   "execution_count": 48,
   "id": "d313c1b8",
   "metadata": {},
   "outputs": [],
   "source": [
    "def whats_my_grade (hours):\n",
    "    possible_grade = 8 * hours\n",
    "    return possible_grade"
   ]
  },
  {
   "cell_type": "code",
   "execution_count": 49,
   "id": "23ea7d8e",
   "metadata": {},
   "outputs": [
    {
     "data": {
      "text/plain": [
       "80"
      ]
     },
     "execution_count": 49,
     "metadata": {},
     "output_type": "execute_result"
    }
   ],
   "source": [
    "grade = whats_my_grade (hours)\n",
    "\"\"\"𝑔𝑟𝑎𝑑𝑒=𝑓(ℎ𝑜𝑢𝑟𝑠)\"\"\""
   ]
  },
  {
   "cell_type": "code",
   "execution_count": null,
   "id": "c26f5b81",
   "metadata": {},
   "outputs": [],
   "source": [
    "# slope\n",
    "# cutting value for Y"
   ]
  },
  {
   "cell_type": "markdown",
   "id": "179b34b5",
   "metadata": {
    "lang": "en"
   },
   "source": [
    "Let's try a $$Y = m * X + n$$ linear regression\n",
    "$m$ is the slope\n",
    "$n$ is the value of $Y$ when $X=0$\n",
    "And we have to:\n",
    "$$grade = m * hours + n$$\n",
    "We want to find $m$ and $n$ that *best* model our data\n"
   ]
  },
  {
   "cell_type": "code",
   "execution_count": 51,
   "id": "067388db",
   "metadata": {},
   "outputs": [],
   "source": [
    "df[\"prediction_1\"] = 0.1 * df.hours + 5 # 5 is the interception with Y axis\n",
    "df[\"prediction_2\"] = 0.12 * df.hours + 10"
   ]
  },
  {
   "cell_type": "markdown",
   "id": "4b0bdb01",
   "metadata": {
    "lang": "en"
   },
   "source": [
    "Which has worked better? How can we measure the error of the models?\n",
    "\n",
    "We can subtract our prediction from the grade to see what we have done wrong in each one and make the average.... we use the absolute value to remove the negative values ​​and then we talk about this error, which has a name and it is MAE (mean absolutely error)"
   ]
  },
  {
   "cell_type": "code",
   "execution_count": 54,
   "id": "a92cc17e",
   "metadata": {},
   "outputs": [],
   "source": [
    "df # what is the best prediction?\n",
    "# substraction & sum\n",
    "df[\"error_1\"] = (df.mark - df.prediction_1).abs()\n",
    "df[\"error_2\"] = (df.mark - df.prediction_2).abs()"
   ]
  },
  {
   "cell_type": "code",
   "execution_count": 65,
   "id": "4032ca53",
   "metadata": {},
   "outputs": [
    {
     "data": {
      "text/plain": [
       "12.008"
      ]
     },
     "execution_count": 65,
     "metadata": {},
     "output_type": "execute_result"
    }
   ],
   "source": [
    "mean_absolute_error_1 = sum(df.error_1) / len(df) #less error -> better prediction -> better model\n",
    "mean_absolute_error_1"
   ]
  },
  {
   "cell_type": "code",
   "execution_count": 66,
   "id": "6364d2b8",
   "metadata": {},
   "outputs": [
    {
     "data": {
      "text/plain": [
       "18.073599999999995"
      ]
     },
     "execution_count": 66,
     "metadata": {},
     "output_type": "execute_result"
    }
   ],
   "source": [
    "mean_absolute_error_2= sum(df.error_2) / len(df)\n",
    "mean_absolute_error_2"
   ]
  },
  {
   "cell_type": "code",
   "execution_count": null,
   "id": "9f9d5d9d",
   "metadata": {},
   "outputs": [],
   "source": [
    "mean_absolute_error_1 # is the best model out of these two"
   ]
  },
  {
   "cell_type": "code",
   "execution_count": null,
   "id": "beb1ec44",
   "metadata": {},
   "outputs": [],
   "source": [
    "# MAE"
   ]
  },
  {
   "cell_type": "code",
   "execution_count": 72,
   "id": "df8b7c17",
   "metadata": {},
   "outputs": [
    {
     "data": {
      "image/png": "[encoded data removed]",
      "text/plain": [
       "<Figure size 1080x576 with 1 Axes>"
      ]
     },
     "metadata": {},
     "output_type": "display_data"
    }
   ],
   "source": [
    "sns.scatterplot(x=df.hours, y=df.mark)\n",
    "plt.plot(df.hours, df.prediction_1, c=\"green\", label=\"Prediction 1 - MAE: 12\")\n",
    "plt.plot(df.hours, df.prediction_2, c=\"red\", label=\"Prediction 2 - MAE: 18\")\n",
    "plt.legend();"
   ]
  },
  {
   "cell_type": "code",
   "execution_count": null,
   "id": "441d8794",
   "metadata": {},
   "outputs": [],
   "source": [
    "# slope\n",
    "    \"\"\"How much the value increases in the Y axis as you increase 1 point in the X axis\"\"\"\n",
    "# intercept\n",
    "    \"\"\"The value of Y when X is 0\"\"\""
   ]
  },
  {
   "cell_type": "code",
   "execution_count": 75,
   "id": "91a299f7",
   "metadata": {},
   "outputs": [],
   "source": [
    "lr = LinearRegression()"
   ]
  },
  {
   "cell_type": "code",
   "execution_count": 76,
   "id": "87319643",
   "metadata": {},
   "outputs": [
    {
     "data": {
      "text/html": [
       "<style>#sk-container-id-1 {color: black;background-color: white;}#sk-container-id-1 pre{padding: 0;}#sk-container-id-1 div.sk-toggleable {background-color: white;}#sk-container-id-1 label.sk-toggleable__label {cursor: pointer;display: block;width: 100%;margin-bottom: 0;padding: 0.3em;box-sizing: border-box;text-align: center;}#sk-container-id-1 label.sk-toggleable__label-arrow:before {content: \"▸\";float: left;margin-right: 0.25em;color: #696969;}#sk-container-id-1 label.sk-toggleable__label-arrow:hover:before {color: black;}#sk-container-id-1 div.sk-estimator:hover label.sk-toggleable__label-arrow:before {color: black;}#sk-container-id-1 div.sk-toggleable__content {max-height: 0;max-width: 0;overflow: hidden;text-align: left;background-color: #f0f8ff;}#sk-container-id-1 div.sk-toggleable__content pre {margin: 0.2em;color: black;border-radius: 0.25em;background-color: #f0f8ff;}#sk-container-id-1 input.sk-toggleable__control:checked~div.sk-toggleable__content {max-height: 200px;max-width: 100%;overflow: auto;}#sk-container-id-1 input.sk-toggleable__control:checked~label.sk-toggleable__label-arrow:before {content: \"▾\";}#sk-container-id-1 div.sk-estimator input.sk-toggleable__control:checked~label.sk-toggleable__label {background-color: #d4ebff;}#sk-container-id-1 div.sk-label input.sk-toggleable__control:checked~label.sk-toggleable__label {background-color: #d4ebff;}#sk-container-id-1 input.sk-hidden--visually {border: 0;clip: rect(1px 1px 1px 1px);clip: rect(1px, 1px, 1px, 1px);height: 1px;margin: -1px;overflow: hidden;padding: 0;position: absolute;width: 1px;}#sk-container-id-1 div.sk-estimator {font-family: monospace;background-color: #f0f8ff;border: 1px dotted black;border-radius: 0.25em;box-sizing: border-box;margin-bottom: 0.5em;}#sk-container-id-1 div.sk-estimator:hover {background-color: #d4ebff;}#sk-container-id-1 div.sk-parallel-item::after {content: \"\";width: 100%;border-bottom: 1px solid gray;flex-grow: 1;}#sk-container-id-1 div.sk-label:hover label.sk-toggleable__label {background-color: #d4ebff;}#sk-container-id-1 div.sk-serial::before {content: \"\";position: absolute;border-left: 1px solid gray;box-sizing: border-box;top: 0;bottom: 0;left: 50%;z-index: 0;}#sk-container-id-1 div.sk-serial {display: flex;flex-direction: column;align-items: center;background-color: white;padding-right: 0.2em;padding-left: 0.2em;position: relative;}#sk-container-id-1 div.sk-item {position: relative;z-index: 1;}#sk-container-id-1 div.sk-parallel {display: flex;align-items: stretch;justify-content: center;background-color: white;position: relative;}#sk-container-id-1 div.sk-item::before, #sk-container-id-1 div.sk-parallel-item::before {content: \"\";position: absolute;border-left: 1px solid gray;box-sizing: border-box;top: 0;bottom: 0;left: 50%;z-index: -1;}#sk-container-id-1 div.sk-parallel-item {display: flex;flex-direction: column;z-index: 1;position: relative;background-color: white;}#sk-container-id-1 div.sk-parallel-item:first-child::after {align-self: flex-end;width: 50%;}#sk-container-id-1 div.sk-parallel-item:last-child::after {align-self: flex-start;width: 50%;}#sk-container-id-1 div.sk-parallel-item:only-child::after {width: 0;}#sk-container-id-1 div.sk-dashed-wrapped {border: 1px dashed gray;margin: 0 0.4em 0.5em 0.4em;box-sizing: border-box;padding-bottom: 0.4em;background-color: white;}#sk-container-id-1 div.sk-label label {font-family: monospace;font-weight: bold;display: inline-block;line-height: 1.2em;}#sk-container-id-1 div.sk-label-container {text-align: center;}#sk-container-id-1 div.sk-container {/* jupyter's `normalize.less` sets `[hidden] { display: none; }` but bootstrap.min.css set `[hidden] { display: none !important; }` so we also need the `!important` here to be able to override the default hidden behavior on the sphinx rendered scikit-learn.org. See: https://github.com/scikit-learn/scikit-learn/issues/21755 */display: inline-block !important;position: relative;}#sk-container-id-1 div.sk-text-repr-fallback {display: none;}</style><div id=\"sk-container-id-1\" class=\"sk-top-container\"><div class=\"sk-text-repr-fallback\"><pre>LinearRegression()</pre><b>In a Jupyter environment, please rerun this cell to show the HTML representation or trust the notebook. <br />On GitHub, the HTML representation is unable to render, please try loading this page with nbviewer.org.</b></div><div class=\"sk-container\" hidden><div class=\"sk-item\"><div class=\"sk-estimator sk-toggleable\"><input class=\"sk-toggleable__control sk-hidden--visually\" id=\"sk-estimator-id-1\" type=\"checkbox\" checked><label for=\"sk-estimator-id-1\" class=\"sk-toggleable__label sk-toggleable__label-arrow\">LinearRegression</label><div class=\"sk-toggleable__content\"><pre>LinearRegression()</pre></div></div></div></div></div>"
      ],
      "text/plain": [
       "LinearRegression()"
      ]
     },
     "execution_count": 76,
     "metadata": {},
     "output_type": "execute_result"
    }
   ],
   "source": [
    "lr"
   ]
  },
  {
   "cell_type": "code",
   "execution_count": null,
   "id": "be0848a1",
   "metadata": {},
   "outputs": [],
   "source": [
    "# hours: what we know\n",
    "# mark: to be predicted"
   ]
  },
  {
   "cell_type": "markdown",
   "id": "5fbd1f9f",
   "metadata": {
    "lang": "en"
   },
   "source": [
    "What is going to be our goal? Python and its libraries do this for us, it calculates the slope and the intercept to be able to make \"predictions\" of unknown data from data that we already have."
   ]
  },
  {
   "cell_type": "code",
   "execution_count": 79,
   "id": "36fcadd3",
   "metadata": {},
   "outputs": [
    {
     "data": {
      "text/html": [
       "<style>#sk-container-id-2 {color: black;background-color: white;}#sk-container-id-2 pre{padding: 0;}#sk-container-id-2 div.sk-toggleable {background-color: white;}#sk-container-id-2 label.sk-toggleable__label {cursor: pointer;display: block;width: 100%;margin-bottom: 0;padding: 0.3em;box-sizing: border-box;text-align: center;}#sk-container-id-2 label.sk-toggleable__label-arrow:before {content: \"▸\";float: left;margin-right: 0.25em;color: #696969;}#sk-container-id-2 label.sk-toggleable__label-arrow:hover:before {color: black;}#sk-container-id-2 div.sk-estimator:hover label.sk-toggleable__label-arrow:before {color: black;}#sk-container-id-2 div.sk-toggleable__content {max-height: 0;max-width: 0;overflow: hidden;text-align: left;background-color: #f0f8ff;}#sk-container-id-2 div.sk-toggleable__content pre {margin: 0.2em;color: black;border-radius: 0.25em;background-color: #f0f8ff;}#sk-container-id-2 input.sk-toggleable__control:checked~div.sk-toggleable__content {max-height: 200px;max-width: 100%;overflow: auto;}#sk-container-id-2 input.sk-toggleable__control:checked~label.sk-toggleable__label-arrow:before {content: \"▾\";}#sk-container-id-2 div.sk-estimator input.sk-toggleable__control:checked~label.sk-toggleable__label {background-color: #d4ebff;}#sk-container-id-2 div.sk-label input.sk-toggleable__control:checked~label.sk-toggleable__label {background-color: #d4ebff;}#sk-container-id-2 input.sk-hidden--visually {border: 0;clip: rect(1px 1px 1px 1px);clip: rect(1px, 1px, 1px, 1px);height: 1px;margin: -1px;overflow: hidden;padding: 0;position: absolute;width: 1px;}#sk-container-id-2 div.sk-estimator {font-family: monospace;background-color: #f0f8ff;border: 1px dotted black;border-radius: 0.25em;box-sizing: border-box;margin-bottom: 0.5em;}#sk-container-id-2 div.sk-estimator:hover {background-color: #d4ebff;}#sk-container-id-2 div.sk-parallel-item::after {content: \"\";width: 100%;border-bottom: 1px solid gray;flex-grow: 1;}#sk-container-id-2 div.sk-label:hover label.sk-toggleable__label {background-color: #d4ebff;}#sk-container-id-2 div.sk-serial::before {content: \"\";position: absolute;border-left: 1px solid gray;box-sizing: border-box;top: 0;bottom: 0;left: 50%;z-index: 0;}#sk-container-id-2 div.sk-serial {display: flex;flex-direction: column;align-items: center;background-color: white;padding-right: 0.2em;padding-left: 0.2em;position: relative;}#sk-container-id-2 div.sk-item {position: relative;z-index: 1;}#sk-container-id-2 div.sk-parallel {display: flex;align-items: stretch;justify-content: center;background-color: white;position: relative;}#sk-container-id-2 div.sk-item::before, #sk-container-id-2 div.sk-parallel-item::before {content: \"\";position: absolute;border-left: 1px solid gray;box-sizing: border-box;top: 0;bottom: 0;left: 50%;z-index: -1;}#sk-container-id-2 div.sk-parallel-item {display: flex;flex-direction: column;z-index: 1;position: relative;background-color: white;}#sk-container-id-2 div.sk-parallel-item:first-child::after {align-self: flex-end;width: 50%;}#sk-container-id-2 div.sk-parallel-item:last-child::after {align-self: flex-start;width: 50%;}#sk-container-id-2 div.sk-parallel-item:only-child::after {width: 0;}#sk-container-id-2 div.sk-dashed-wrapped {border: 1px dashed gray;margin: 0 0.4em 0.5em 0.4em;box-sizing: border-box;padding-bottom: 0.4em;background-color: white;}#sk-container-id-2 div.sk-label label {font-family: monospace;font-weight: bold;display: inline-block;line-height: 1.2em;}#sk-container-id-2 div.sk-label-container {text-align: center;}#sk-container-id-2 div.sk-container {/* jupyter's `normalize.less` sets `[hidden] { display: none; }` but bootstrap.min.css set `[hidden] { display: none !important; }` so we also need the `!important` here to be able to override the default hidden behavior on the sphinx rendered scikit-learn.org. See: https://github.com/scikit-learn/scikit-learn/issues/21755 */display: inline-block !important;position: relative;}#sk-container-id-2 div.sk-text-repr-fallback {display: none;}</style><div id=\"sk-container-id-2\" class=\"sk-top-container\"><div class=\"sk-text-repr-fallback\"><pre>LinearRegression()</pre><b>In a Jupyter environment, please rerun this cell to show the HTML representation or trust the notebook. <br />On GitHub, the HTML representation is unable to render, please try loading this page with nbviewer.org.</b></div><div class=\"sk-container\" hidden><div class=\"sk-item\"><div class=\"sk-estimator sk-toggleable\"><input class=\"sk-toggleable__control sk-hidden--visually\" id=\"sk-estimator-id-2\" type=\"checkbox\" checked><label for=\"sk-estimator-id-2\" class=\"sk-toggleable__label sk-toggleable__label-arrow\">LinearRegression</label><div class=\"sk-toggleable__content\"><pre>LinearRegression()</pre></div></div></div></div></div>"
      ],
      "text/plain": [
       "LinearRegression()"
      ]
     },
     "execution_count": 79,
     "metadata": {},
     "output_type": "execute_result"
    }
   ],
   "source": [
    "# Regression task: summarize & predict\n",
    "\n",
    "lr.fit(\n",
    "    X = df[[\"hours\"]], # 2d object\n",
    "    y = df.mark) # 1d: series. target variable / to be predicted / dependant / what we don't know "
   ]
  },
  {
   "cell_type": "code",
   "execution_count": 81,
   "id": "5809f6b4",
   "metadata": {},
   "outputs": [
    {
     "data": {
      "text/plain": [
       "array([0.08437787])"
      ]
     },
     "execution_count": 81,
     "metadata": {},
     "output_type": "execute_result"
    }
   ],
   "source": [
    "coef_ = lr.coef_\n",
    "coef_"
   ]
  },
  {
   "cell_type": "code",
   "execution_count": 82,
   "id": "5132e908",
   "metadata": {},
   "outputs": [
    {
     "data": {
      "text/plain": [
       "11.78070717807148"
      ]
     },
     "execution_count": 82,
     "metadata": {},
     "output_type": "execute_result"
    }
   ],
   "source": [
    "intercept_ = lr.intercept_\n",
    "intercept_"
   ]
  },
  {
   "cell_type": "code",
   "execution_count": 94,
   "id": "3a2e30b6",
   "metadata": {},
   "outputs": [],
   "source": [
    "def whats_my_grade (hours):\n",
    "    coef_ = lr.coef_\n",
    "    intercept_ = lr.intercept_\n",
    "    result =  hours * coef_ + intercept_\n",
    "\n",
    "    return result[0]"
   ]
  },
  {
   "cell_type": "code",
   "execution_count": 95,
   "id": "280117ea",
   "metadata": {},
   "outputs": [
    {
     "data": {
      "text/plain": [
       "12.624485887688518"
      ]
     },
     "execution_count": 95,
     "metadata": {},
     "output_type": "execute_result"
    }
   ],
   "source": [
    "grades = whats_my_grade(10)\n",
    "grades"
   ]
  },
  {
   "cell_type": "code",
   "execution_count": 96,
   "id": "aa16d425",
   "metadata": {},
   "outputs": [
    {
     "data": {
      "text/plain": [
       "62.407429755093716"
      ]
     },
     "execution_count": 96,
     "metadata": {},
     "output_type": "execute_result"
    }
   ],
   "source": [
    "grades = whats_my_grade(600)\n",
    "grades"
   ]
  },
  {
   "cell_type": "code",
   "execution_count": 97,
   "id": "c467dccd",
   "metadata": {
    "scrolled": true
   },
   "outputs": [
    {
     "data": {
      "text/html": [
       "<div>\n",
       "<style scoped>\n",
       "    .dataframe tbody tr th:only-of-type {\n",
       "        vertical-align: middle;\n",
       "    }\n",
       "\n",
       "    .dataframe tbody tr th {\n",
       "        vertical-align: top;\n",
       "    }\n",
       "\n",
       "    .dataframe thead th {\n",
       "        text-align: right;\n",
       "    }\n",
       "</style>\n",
       "<table border=\"1\" class=\"dataframe\">\n",
       "  <thead>\n",
       "    <tr style=\"text-align: right;\">\n",
       "      <th></th>\n",
       "      <th>hours</th>\n",
       "      <th>mark</th>\n",
       "      <th>prediction_1</th>\n",
       "      <th>prediction_2</th>\n",
       "      <th>error_1</th>\n",
       "      <th>error_2</th>\n",
       "      <th>prediction_through_scikitlerarn</th>\n",
       "    </tr>\n",
       "  </thead>\n",
       "  <tbody>\n",
       "    <tr>\n",
       "      <th>66</th>\n",
       "      <td>392</td>\n",
       "      <td>27</td>\n",
       "      <td>44.2</td>\n",
       "      <td>57.04</td>\n",
       "      <td>17.2</td>\n",
       "      <td>30.04</td>\n",
       "      <td>[44.85683259505934]</td>\n",
       "    </tr>\n",
       "  </tbody>\n",
       "</table>\n",
       "</div>"
      ],
      "text/plain": [
       "    hours  mark  prediction_1  prediction_2  error_1  error_2   \n",
       "66    392    27          44.2         57.04     17.2    30.04  \\\n",
       "\n",
       "   prediction_through_scikitlerarn  \n",
       "66             [44.85683259505934]  "
      ]
     },
     "execution_count": 97,
     "metadata": {},
     "output_type": "execute_result"
    }
   ],
   "source": [
    "df.sample()"
   ]
  },
  {
   "cell_type": "code",
   "execution_count": 98,
   "id": "63a445ea",
   "metadata": {},
   "outputs": [],
   "source": [
    "df[\"prediction_through_scikitlerarn\"] = df[\"hours\"].apply(whats_my_grade)"
   ]
  },
  {
   "cell_type": "code",
   "execution_count": 100,
   "id": "d6056c33",
   "metadata": {},
   "outputs": [],
   "source": [
    "df[\"error_scikit\"] = (df.prediction_through_scikitlerarn - df.mark).abs()"
   ]
  },
  {
   "cell_type": "code",
   "execution_count": 103,
   "id": "51be7876",
   "metadata": {},
   "outputs": [
    {
     "data": {
      "text/plain": [
       "11.402698299019335"
      ]
     },
     "execution_count": 103,
     "metadata": {},
     "output_type": "execute_result"
    }
   ],
   "source": [
    "mean_absolute_error_scikit = df.error_scikit.mean()\n",
    "mean_absolute_error_scikit"
   ]
  },
  {
   "cell_type": "code",
   "execution_count": 104,
   "id": "b350b03c",
   "metadata": {},
   "outputs": [
    {
     "name": "stdout",
     "output_type": "stream",
     "text": [
      "12.008\n",
      "18.073599999999995\n",
      "11.402698299019335\n"
     ]
    }
   ],
   "source": [
    "print(mean_absolute_error_1)\n",
    "print(mean_absolute_error_2)\n",
    "print(mean_absolute_error_scikit)"
   ]
  },
  {
   "cell_type": "code",
   "execution_count": 105,
   "id": "83b98769",
   "metadata": {},
   "outputs": [
    {
     "data": {
      "text/plain": [
       "96.2429560107369"
      ]
     },
     "execution_count": 105,
     "metadata": {},
     "output_type": "execute_result"
    }
   ],
   "source": [
    "thousand_and_1 = whats_my_grade(1001)\n",
    "thousand_and_1"
   ]
  },
  {
   "cell_type": "code",
   "execution_count": 106,
   "id": "ca2b1110",
   "metadata": {},
   "outputs": [
    {
     "data": {
      "text/plain": [
       "84.84025771171757"
      ]
     },
     "execution_count": 106,
     "metadata": {},
     "output_type": "execute_result"
    }
   ],
   "source": [
    "# mae: 11.4? \n",
    "\"\"\"On average\n",
    "I will be off\n",
    "by 11.4 in my prediction\n",
    "\"\"\"\n",
    "\n",
    "96.2429560107369 - mean_absolute_error_scikit"
   ]
  },
  {
   "cell_type": "code",
   "execution_count": 107,
   "id": "5cec3c86",
   "metadata": {},
   "outputs": [
    {
     "data": {
      "text/plain": [
       "107.64565430975624"
      ]
     },
     "execution_count": 107,
     "metadata": {},
     "output_type": "execute_result"
    }
   ],
   "source": [
    "96.2429560107369 + mean_absolute_error_scikit"
   ]
  },
  {
   "cell_type": "code",
   "execution_count": 86,
   "id": "9250b60d",
   "metadata": {},
   "outputs": [],
   "source": [
    "#[i for i in dir(lr)]"
   ]
  },
  {
   "cell_type": "code",
   "execution_count": 77,
   "id": "506f0486",
   "metadata": {},
   "outputs": [
    {
     "data": {
      "text/plain": [
       "'\\ndef whats_my_grade (variable):\\n    return the_other_variable\\n\\nY = whats_my_grade (variable)\\ngrades = f (hours) #\\xa0grades/mark -> to be predicted, X: the other one\\n'"
      ]
     },
     "execution_count": 77,
     "metadata": {},
     "output_type": "execute_result"
    }
   ],
   "source": [
    "\"\"\"\n",
    "def whats_my_grade (variable):\n",
    "    return the_other_variable\n",
    "\n",
    "Y = whats_my_grade (variable)\n",
    "grades = f (hours) # grades/mark -> to be predicted, X: the other one\n",
    "\"\"\""
   ]
  },
  {
   "cell_type": "markdown",
   "id": "bdf5cb61",
   "metadata": {},
   "source": [
    "Linear regression\n",
    "\n",
    "- What: \n",
    "    - The line that describes the Relationship between two variables\n",
    "    - Shows a trend\n",
    "    - A function\n",
    "    - model: stereotype\n",
    "        - summarizes\n",
    "        - predicts \n",
    "        - Good model? It will depend on error: All models are wrong but some are useful\n",
    "- Use:\n",
    "    - summarize\n",
    "    - predict\n",
    "        - 1001\n",
    "        - 600\n",
    "        - 601\n",
    "- What is it composed of\n",
    "    - slope: m*x, coefficient\n",
    "    - inrercept: n, intercept\n",
    "    - equation: `y = mx + n` \n",
    "    \n",
    "- What does MAE mean\n",
    "    - Mean ABSOLUTE error\n",
    "    - What is MAE: 12\n",
    "        - On average, you'll be wrong by 12 points (up or down)\n",
    "        - How do we choose a model?\n",
    "            - predictio_1, prediction_2, scikit-learn\n",
    "            - We want error (MAE) the lowest.\n",
    "                - 0, upperbound: no upper bound "
   ]
  },
  {
   "cell_type": "markdown",
   "id": "cc3ad931",
   "metadata": {
    "lang": "en"
   },
   "source": [
    "## Simple linear regression\n",
    "\n",
    "Simple linear regression a statistical model that assumes a linear relationship between a predictor and a target variable. Mathematically, it can be expressed as:"
   ]
  },
  {
   "cell_type": "markdown",
   "id": "trying-monthly",
   "metadata": {},
   "source": [
    "![formula](../images/formula.png)"
   ]
  },
  {
   "cell_type": "markdown",
   "id": "05109428",
   "metadata": {
    "lang": "en"
   },
   "source": [
    "If we dig a little deeper, we can find this other expression:\n",
    "\n",
    " $$ Y = \\beta_0 +  \\beta_1 X + \\epsilon$$\n",
    "\n",
    "Where:\n",
    "* $X$ = predictor variable\n",
    "* $Y$ = target variable\n",
    "* $\\beta_0$ = intercept\n",
    "* $\\beta_1$ = slope / slope\n",
    "* $\\epsilon$ = noise (gaussian)\n",
    "\n",
    "\n",
    "The above equation is known as the *population regression line*.\n",
    "The simple linear regression line usually has the form shown in the formula above, where β0 and β1 are unknown constants, representing the intercept and slope of the regression line, respectively.\n",
    "\n",
    "The intercept is the value of the dependent variable (Y) when the independent variable (X) has a value of zero (0). The slope is a measure of the rate at which the dependent variable (Y) changes when the independent variable (X) changes by one (1). The unknown constants are called the coefficients or parameters of the model. This form of the regression line is sometimes known as a population regression line and, as a probabilistic model, it roughly fits the data set hence the use of the symbol (≈) in the image. The model is called probabilistic because it does not model all the variability of the dependent variable (Y)"
   ]
  },
  {
   "cell_type": "markdown",
   "id": "e26bfe20",
   "metadata": {
    "lang": "en"
   },
   "source": [
    "## How good is our model?"
   ]
  },
  {
   "cell_type": "markdown",
   "id": "4854b3bf",
   "metadata": {
    "lang": "en"
   },
   "source": [
    "The numerical difference between the *least squares regression line* and the actual value is called the *residual* , and it represents the error in the estimate: $e = y_i - \\hat{y}$.\n",
    "The regression line minimized the **Residual Sum of Squares** (RSS)\n",
    "\n",
    "The residual sum of squares measures the amount of error remaining between the regression function and the data set. a smaller residual sum of squares represents a regression function. The residual sum of squares, also known as the sum of squared residuals, essentially determines how well a regression model explains or represents the data in the model.\n",
    "\n",
    "$$RSS = e_1^2 + e_2^2 + \\dots + e_n ^2$$"
   ]
  },
  {
   "cell_type": "code",
   "execution_count": null,
   "id": "52ebb84c",
   "metadata": {},
   "outputs": [],
   "source": []
  },
  {
   "cell_type": "markdown",
   "id": "a34f686d",
   "metadata": {
    "lang": "en"
   },
   "source": [
    "If we only used the mean as the predicted value for each prediction, the error we would make is (**total sum of squares**)\n",
    "\n",
    "$$TSS=\\Sigma(y_i - \\bar{y}_i)^2$$\n",
    "Let's consider this our starting point, make a prediction and plot it"
   ]
  },
  {
   "cell_type": "code",
   "execution_count": null,
   "id": "70199075",
   "metadata": {},
   "outputs": [],
   "source": []
  },
  {
   "cell_type": "markdown",
   "id": "c20aee76",
   "metadata": {
    "lang": "en"
   },
   "source": [
    "Recall that linear regression coefficients minimize the $RSS=Sigma(y_i - \\hat{y_i})^2$, that is, the amount of variability that remains unexplained after running the regression. The [coefficient of determination](https://en.wikipedia.org/wiki/Coefficient_of_determination):\n",
    "\n",
    "$$R^2 = \\frac{TSS -RSS}{TSS} = 1-\\frac{RSS}{TSS}$$\n",
    "\n",
    "measures the \"*proportion of variability in Y that can be explained by X*\". It is a measure of the linear relationship that exists between $X$ and $y$.\n",
    "\n",
    "**Note:** in the case of simple linear regression, the $R^2$ coefficient is nothing more than the square of the *Pearson* correlation coefficient that we already know."
   ]
  },
  {
   "cell_type": "code",
   "execution_count": null,
   "id": "d56af22f",
   "metadata": {},
   "outputs": [],
   "source": []
  },
  {
   "cell_type": "markdown",
   "id": "4816a59c",
   "metadata": {
    "lang": "en"
   },
   "source": [
    "## Calculate the R2 of the model"
   ]
  },
  {
   "cell_type": "code",
   "execution_count": null,
   "id": "1a2489fc",
   "metadata": {},
   "outputs": [],
   "source": []
  },
  {
   "cell_type": "markdown",
   "id": "107c1a48",
   "metadata": {
    "lang": "en"
   },
   "source": [
    "$R^2$ measures how good our regression model is. The bigger the better. It is a value between 0 and 1\n",
    "\n",
    "**NOTE**: it is computable for any model, it does not matter if it is linear or not. Only the actual and predicted values ​​are needed."
   ]
  },
  {
   "cell_type": "code",
   "execution_count": null,
   "id": "170b9717",
   "metadata": {},
   "outputs": [],
   "source": []
  },
  {
   "cell_type": "markdown",
   "id": "73807966",
   "metadata": {
    "lang": "en"
   },
   "source": [
    "## Linear regression with sklearn"
   ]
  },
  {
   "cell_type": "code",
   "execution_count": null,
   "id": "451f5e7e",
   "metadata": {},
   "outputs": [],
   "source": []
  },
  {
   "cell_type": "markdown",
   "id": "a954f830",
   "metadata": {},
   "source": [
    "# 1. Select the data: `my_variables = X, y` # independant X, dependant y. target variable -> y (grades)\n",
    "# 2. Fit the model to the data: `my_model = lr.fit(X, y)`\n",
    "# 3. Predict with the model fitted: `predicted_y = lr.predict(X)`"
   ]
  },
  {
   "cell_type": "code",
   "execution_count": null,
   "id": "b993c72b",
   "metadata": {},
   "outputs": [],
   "source": []
  },
  {
   "cell_type": "code",
   "execution_count": 101,
   "id": "similar-planner",
   "metadata": {},
   "outputs": [],
   "source": [
    "from sklearn import metrics"
   ]
  },
  {
   "cell_type": "markdown",
   "id": "de20e9cc",
   "metadata": {
    "lang": "en"
   },
   "source": [
    "**Calculation of the absolute mean error, the mean square error and the mean square error\n",
    "\n",
    "- **MAE** is the easiest to understand, because it is the mean error.\n",
    "- **The MSE** is more popular than the MAE, because the MSE accounts for larger errors, which is often useful in the real world.\n",
    "- **RMSE** is even more popular than MSE, it is the square root of the MSE and measures the standard deviation of the residuals.\n",
    "\n",
    "These are all **loss functions**: we want to minimize them."
   ]
  },
  {
   "cell_type": "code",
   "execution_count": null,
   "id": "f27fb4bd",
   "metadata": {},
   "outputs": [],
   "source": []
  },
  {
   "cell_type": "markdown",
   "id": "characteristic-spanking",
   "metadata": {
    "lang": "es"
   },
   "source": [
    "Read more about MAE, MSE, RMSE AND R2 [here](http://medium.com/analytics-vidhya/mae-mse-rmse-coefficient-of-determination-adjusted-r-squared-which-metric-is-better-cd0326a5697e)"
   ]
  },
  {
   "cell_type": "code",
   "execution_count": null,
   "id": "b90f34ee",
   "metadata": {},
   "outputs": [],
   "source": []
  },
  {
   "cell_type": "markdown",
   "id": "beb9bf74",
   "metadata": {
    "lang": "en"
   },
   "source": [
    "## Linear regression with statsmodels"
   ]
  },
  {
   "cell_type": "markdown",
   "id": "be450c43",
   "metadata": {
    "lang": "en"
   },
   "source": [
    "A bit of [documentation](https://www.statsmodels.org/stable/generated/statsmodels.regression.linear_model.OLS.html)\n",
    "\n",
    "And [this article](https://jyotiyadav99111.medium.com/statistics-how-should-i-interpret-results-of-ols-3bde1ebeec01) that summarizes how to interpret OLS summary information"
   ]
  },
  {
   "cell_type": "code",
   "execution_count": null,
   "id": "9fc06e16",
   "metadata": {},
   "outputs": [],
   "source": []
  },
  {
   "cell_type": "markdown",
   "id": "9cb6310f",
   "metadata": {
    "lang": "en"
   },
   "source": [
    "## OLS Concepts"
   ]
  },
  {
   "cell_type": "markdown",
   "id": "57397238",
   "metadata": {
    "lang": "en"
   },
   "source": [
    "- <b>R2</b> : The coefficient of determination measures how much of the variation of 𝑦 is explained by the model.\n",
    "If the variance of the errors or residuals 𝜎2𝑒 is zero, the model explains 100% of the variable 𝑦. If 𝜎2𝑒 is equal to the variance of 𝑦 the model explains nothing and 𝑅2 is equal to zero.\n",
    "\n",
    "\n",
    "- <b>𝑅¯2 </b> : The adjusted correlation coefficient 𝑅¯2 corrects the value of 𝑅2 by the number of variables 𝑘 (equal to 2 for the analyzed case) and the amount of data 𝑁\n",
    "\n",
    "- <b>P value </b> The p-value for each term tests the null hypothesis that the coefficient is equal to zero (has no effect). A low p-value (< 0.05) indicates that you can reject the null hypothesis. ... Typically p-values ​​are used to determine which terms should be kept in the regression model.\n",
    "\n",
    "\n",
    "Description of the p value:\n",
    "The p-value is a probability value, so it ranges between 0 and 1. The p-value shows us the probability of having obtained the result that we have obtained assuming that the null hypothesis H0 is true. It is often said that high values ​​of p do not allow H0 to be rejected, while low p values ​​do allow H0 to be rejected.\n",
    "\n",
    "In a statistical test, the null hypothesis H0 is rejected if the p-value associated with the observed result is equal to or less than an arbitrarily set $\\alpha$ significance level, conventionally 0.05 or 0.01. In other words, if the result obtained is more unusual than the expected range of results given a true null hypothesis H0 and the chosen significance level $\\alpha$, that is, if p is less than $\\alpha$, we can say that we have a statistically significant result that allows reject H0.\n",
    "\n",
    "It is important to emphasize that a hypothesis test does not allow accepting a hypothesis; he simply rejects it or does not reject it, that is to say, he dismisses it as plausible (which does not necessarily mean that it is true, simply that it is more likely to be) or implausible."
   ]
  },
  {
   "cell_type": "markdown",
   "id": "75a84594",
   "metadata": {
    "lang": "en"
   },
   "source": [
    "## Multiple Linear Regression\n",
    "\n",
    "Of course, the hours one studies are not the only important factor in getting good grades in the real world. We can think of IQ, for example, as another determining factor. In fact, we can generalize a linear model to have as many variables as we want:\n",
    "\n",
    " $$ Y = \\beta_0 + \\beta_1 X_1 + \\beta_2 X_2 + \\dots + \\beta_2 X_m + \\epsilon$$\n",
    " \n",
    " In this case, what we are going to do is add a variable that subtracts from the note, the party hours.\n",
    " Imagine that for every hour that we go out partying, neurons in our brain die and we forget information, therefore, we will lose a grade (remember that we are inventing data)"
   ]
  },
  {
   "cell_type": "code",
   "execution_count": null,
   "id": "35a8b889",
   "metadata": {},
   "outputs": [],
   "source": []
  },
  {
   "cell_type": "markdown",
   "id": "247b3ea8",
   "metadata": {
    "lang": "en"
   },
   "source": [
    "The multiple linear regression coefficients are computed in a similar way to the simple linear regression case: they minimize\n",
    "\n",
    "$$RSS = \\Sigma(y_i - \\hat{y_i})^2$$\n",
    "\n",
    "\n",
    "where:\n",
    "\n",
    " $$ \\hat{y} = \\hat{beta_0} + \\hat{beta_1 X_1} + \\hat{beta_2} X_2 + \\hat + \\hat{\\beta_2} X_m$$"
   ]
  },
  {
   "cell_type": "code",
   "execution_count": null,
   "id": "a1d7b44b",
   "metadata": {},
   "outputs": [],
   "source": []
  },
  {
   "cell_type": "markdown",
   "id": "b5d27de8",
   "metadata": {
    "lang": "en"
   },
   "source": [
    "The coefficient is the number by which we multiply the predictor variable (X) in this case we have two, study hours and party hours.\n",
    "The positive coefficient indicates that the correlation is positive (the more hours I study, the better the grade I get) and the coefficient of party hours is negative, therefore it indicates that if that predictive variable is greater, my target variable decreases."
   ]
  },
  {
   "cell_type": "code",
   "execution_count": null,
   "id": "8e5224c0",
   "metadata": {},
   "outputs": [],
   "source": []
  },
  {
   "cell_type": "markdown",
   "id": "b31a870d",
   "metadata": {
    "lang": "en"
   },
   "source": [
    "## Categorical variables\n",
    "\n",
    "Very often we are faced with situations where the predictors are *qualitative* in nature. A good example could be the music they listen to which can take the values ​​$rock$ or $indie$."
   ]
  },
  {
   "cell_type": "code",
   "execution_count": null,
   "id": "c6ebf486",
   "metadata": {},
   "outputs": [],
   "source": []
  },
  {
   "cell_type": "markdown",
   "id": "22fdb526",
   "metadata": {
    "lang": "en"
   },
   "source": [
    "We include this information in the model through a *dummy* variable:\n",
    "$$\n",
    "x_i= \\left\\{\n",
    "\\begin{array}{ll}\n",
    "      1  \\quad \\text{if listens to rock} \\\\\n",
    "      0  \\quad \\text{if listens to indie} \\\\\n",
    "\\end{array} \n",
    "\\right. \n",
    "$$\n",
    "\n",
    "\n",
    "If this is our only variable, this results in a model:\n",
    "\n",
    "$$y_i = \\beta_0 + \\beta_1 x_i +\\epsilon_i = \\left\\{\n",
    "\\begin{array}{ll}\n",
    "      \\beta_0 + \\beta_1 +\\epsilon_i  \\quad \\text{if listens to rock} \\\\\n",
    "      \\beta_0 + \\epsilon_i  \\quad \\text{if listens to indie} \\\\\n",
    "\\end{array} \n",
    "\\right.  $$\n",
    "\n",
    "In this case, $\\beta_0$ represents the average score of people who listen to rock, and $\\beta_0 + \\beta_1$ the average score of people who listen to indie."
   ]
  },
  {
   "cell_type": "code",
   "execution_count": null,
   "id": "adverse-scheduling",
   "metadata": {
    "scrolled": false
   },
   "outputs": [],
   "source": []
  },
  {
   "cell_type": "markdown",
   "id": "888c5380",
   "metadata": {
    "lang": "en"
   },
   "source": [
    "## Linear model extensions\n",
    "\n",
    "There are several assumptions used when fitting a linear model.\n",
    "Linear model assumptions \n",
    "[VIDEO](https://www.youtube.com/watch?v=hVe2F9krrWk)\n",
    "\n",
    "* Errors are normally distributed and have constant variance: luxury items\n",
    "* Errors are not correlated with each other\n",
    "\n",
    "***Additive Assumption** The effect of changes in a predictor $X_j$ on the response $Y$ is independent of the values ​​of the other predictors.\n",
    "\n",
    "***Linear Assumption**The change in the answer for a unit increase in $X_j$ is the same regardless of the value of $X_j$.\n",
    "\n",
    "### Challenging the additive assumption: synergy\n",
    "\n",
    "Sometimes our variables will have natural interactions. For example, we may think that the more our ads are heard on the radio, the more effective our TV ads will be. That is, the effect of both is *greater* (or *lesser*) than the sum of the parts.\n",
    "\n",
    "This is a commonly studied topic in [marketing](https://smallbusiness.chron.com/definition-synergy-marketing-21786.html)"
   ]
  },
  {
   "cell_type": "code",
   "execution_count": null,
   "id": "b963cc5c",
   "metadata": {},
   "outputs": [],
   "source": []
  },
  {
   "cell_type": "markdown",
   "id": "45ece35f",
   "metadata": {
    "lang": "en"
   },
   "source": [
    "## Let's do it\n",
    "* Create three independent simple linear regression models\n",
    "* Interpret the results\n",
    "* Create a multivariate model with the three predictors\n",
    "* Interpret the results"
   ]
  },
  {
   "cell_type": "code",
   "execution_count": null,
   "id": "laughing-patent",
   "metadata": {},
   "outputs": [],
   "source": []
  },
  {
   "cell_type": "markdown",
   "id": "4bb4540c",
   "metadata": {
    "lang": "en"
   },
   "source": [
    "The difference is that the covariance gives us the direction (positive or negative) between the variables and the correlation gives us this plus the strength of it."
   ]
  },
  {
   "cell_type": "markdown",
   "id": "1fcfd1e4",
   "metadata": {
    "lang": "en"
   },
   "source": [
    "Remember the **hierarchical principle:**\n",
    "\n",
    "\"*If we include an interaction in a model, we must also include the main effects, even if the p-values ​​associated with its coefficients are not significant*\""
   ]
  },
  {
   "cell_type": "markdown",
   "id": "dd1ff73f",
   "metadata": {
    "lang": "en"
   },
   "source": [
    "### $R^2$ Adjusted\n",
    "There is a curious thing with $R^2$. Look what happens when we include *random* variables!\n",
    "\n",
    "\"It decreases when a predictor improves the model by less than expected. Typically, the adjusted R-squared is positive, not negative. It is always lower than the R-squared.\""
   ]
  },
  {
   "cell_type": "code",
   "execution_count": null,
   "id": "6878be22",
   "metadata": {},
   "outputs": [],
   "source": []
  },
  {
   "cell_type": "markdown",
   "id": "348bd1c0",
   "metadata": {
    "lang": "en"
   },
   "source": [
    "## Potential problems in linear regression\n",
    "\n",
    "The main assumptions of a linear model are:\n",
    "\n",
    "* Data is linear\n",
    "* Errors are not correlated\n",
    "* The variance of the error terms is constant\n",
    "\n",
    "What happens if these assumptions are not met?\n",
    "\n",
    "In addition, our models can suffer from other problems such as:\n",
    "* Outliers\n",
    "* Collinearity\n",
    "* Missing values\n",
    "\n",
    "See this [video](https://www.youtube.com/watch?v=hVe2F9krrWk) for an introduction to the topic."
   ]
  },
  {
   "cell_type": "code",
   "execution_count": null,
   "id": "e9c703b8",
   "metadata": {},
   "outputs": [],
   "source": []
  },
  {
   "cell_type": "markdown",
   "id": "2759e222",
   "metadata": {
    "lang": "en"
   },
   "source": [
    "These four data sets are different, but they happen to have the same arithmetic mean and variance of the x and y values, the same correlation, the same correlation coefficient, and the same regression line. some with 2 or 3 decimal places. They are the Anscombe Quartet, named for F.J. Anscombe, a statistical mathematician who published them in 1973. They are often used to teach that in addition to calculating the statistical properties of data, it is convenient to visualize them.\n",
    "\n",
    "In all cases, the representations tell us something more about the data: the first ones seem somewhat random but related, the second ones show a clear but remarkably different pattern; in the third and fourth there are other patterns clouded by some outliers. These values ​​can be errors, real data that is just out of the ordinary, or even artificially produced data to make it all fit together.\n",
    "\n",
    "Moral: don't blindly trust the data and neither the statistics you get from them; also try to set up a visualization to understand them.\n",
    "![anscombe](../images/anscombe.png)"
   ]
  },
  {
   "cell_type": "markdown",
   "id": "f3344eca",
   "metadata": {
    "lang": "en"
   },
   "source": [
    "## Summary"
   ]
  },
  {
   "cell_type": "code",
   "execution_count": null,
   "id": "62995837",
   "metadata": {},
   "outputs": [],
   "source": []
  },
  {
   "cell_type": "markdown",
   "id": "competitive-enough",
   "metadata": {},
   "source": [
    "## Further Materials \n",
    "\n",
    "* One example of [linear regression with the Boston data set](https://towardsdatascience.com/linear-regression-on-boston-housing-dataset-f409b7e4a155)"
   ]
  }
 ],
 "metadata": {
  "kernelspec": {
   "display_name": "ironhack",
   "language": "python",
   "name": "ironhack"
  },
  "language_info": {
   "codemirror_mode": {
    "name": "ipython",
    "version": 3
   },
   "file_extension": ".py",
   "mimetype": "text/x-python",
   "name": "python",
   "nbconvert_exporter": "python",
   "pygments_lexer": "ipython3",
   "version": "3.9.12"
  },
  "nbTranslate": {
   "displayLangs": [
    "en",
    "es"
   ],
   "hotkey": "alt-a",
   "langInMainMenu": true,
   "sourceLang": "es",
   "targetLang": "en",
   "useGoogleTranslate": true
  },
  "toc": {
   "base_numbering": 1,
   "nav_menu": {},
   "number_sections": true,
   "sideBar": true,
   "skip_h1_title": true,
   "title_cell": "Table of Contents",
   "title_sidebar": "Contents",
   "toc_cell": true,
   "toc_position": {
    "height": "calc(100% - 180px)",
    "left": "10px",
    "top": "150px",
    "width": "230.007px"
   },
   "toc_section_display": true,
   "toc_window_display": false
  }
 },
 "nbformat": 4,
 "nbformat_minor": 5
}

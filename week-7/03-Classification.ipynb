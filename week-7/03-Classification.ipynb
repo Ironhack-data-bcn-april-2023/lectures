{
 "cells": [
  {
   "cell_type": "markdown",
   "id": "comparable-lancaster",
   "metadata": {},
   "source": [
    "# Machine Learning - Supervised learning - Classification"
   ]
  },
  {
   "cell_type": "markdown",
   "id": "satellite-baseline",
   "metadata": {
    "toc": true
   },
   "source": [
    "<h1>Table of Contents<span class=\"tocSkip\"></span></h1>\n",
    "<div class=\"toc\"><ul class=\"toc-item\"><li><span><a href=\"#Exploring-the-data\" data-toc-modified-id=\"Exploring-the-data-1\"><span class=\"toc-item-num\">1&nbsp;&nbsp;</span>Exploring the data</a></span></li><li><span><a href=\"#Logistic-regression\" data-toc-modified-id=\"Logistic-regression-2\"><span class=\"toc-item-num\">2&nbsp;&nbsp;</span>Logistic regression</a></span></li><li><span><a href=\"#Let's-do-it\" data-toc-modified-id=\"Let's-do-it-3\"><span class=\"toc-item-num\">3&nbsp;&nbsp;</span>Let's do it</a></span><ul class=\"toc-item\"><li><span><a href=\"#Let's-train-a-model:-without-splitting-just-yet\" data-toc-modified-id=\"Let's-train-a-model:-without-splitting-just-yet-3.1\"><span class=\"toc-item-num\">3.1&nbsp;&nbsp;</span>Let's train a model: without splitting just yet</a></span></li><li><span><a href=\"#Let's-create-a-prediction-column-for-the-entire-dataframe:-skipping-metrics-for-now\" data-toc-modified-id=\"Let's-create-a-prediction-column-for-the-entire-dataframe:-skipping-metrics-for-now-3.2\"><span class=\"toc-item-num\">3.2&nbsp;&nbsp;</span>Let's create a prediction column for the entire dataframe: skipping metrics for now</a></span></li><li><span><a href=\"#Confusion-matrix-with-our-data\" data-toc-modified-id=\"Confusion-matrix-with-our-data-3.3\"><span class=\"toc-item-num\">3.3&nbsp;&nbsp;</span>Confusion matrix with our data</a></span></li></ul></li><li><span><a href=\"#We-do-the-same-with-many-predictors\" data-toc-modified-id=\"We-do-the-same-with-many-predictors-4\"><span class=\"toc-item-num\">4&nbsp;&nbsp;</span>We do the same with many predictors</a></span><ul class=\"toc-item\"><li><span><a href=\"#Review-of-Train-Test-Split-/-DIVISION-IN-TRAIN-TEST\" data-toc-modified-id=\"Review-of-Train-Test-Split-/-DIVISION-IN-TRAIN-TEST-4.1\"><span class=\"toc-item-num\">4.1&nbsp;&nbsp;</span>Review of Train Test Split / DIVISION IN TRAIN TEST</a></span></li><li><span><a href=\"#Let's-see-what-we-got\" data-toc-modified-id=\"Let's-see-what-we-got-4.2\"><span class=\"toc-item-num\">4.2&nbsp;&nbsp;</span>Let's see what we got</a></span><ul class=\"toc-item\"><li><span><a href=\"#part-of-train\" data-toc-modified-id=\"part-of-train-4.2.1\"><span class=\"toc-item-num\">4.2.1&nbsp;&nbsp;</span>part of train</a></span></li><li><span><a href=\"#test-part\" data-toc-modified-id=\"test-part-4.2.2\"><span class=\"toc-item-num\">4.2.2&nbsp;&nbsp;</span>test part</a></span></li></ul></li></ul></li><li><span><a href=\"#Predict-Proba\" data-toc-modified-id=\"Predict-Proba-5\"><span class=\"toc-item-num\">5&nbsp;&nbsp;</span>Predict Proba</a></span></li><li><span><a href=\"#Metrics!\" data-toc-modified-id=\"Metrics!-6\"><span class=\"toc-item-num\">6&nbsp;&nbsp;</span>Metrics!</a></span><ul class=\"toc-item\"><li><span><a href=\"#Confusion-matrix\" data-toc-modified-id=\"Confusion-matrix-6.1\"><span class=\"toc-item-num\">6.1&nbsp;&nbsp;</span>Confusion matrix</a></span></li><li><span><a href=\"#Accuracy\" data-toc-modified-id=\"Accuracy-6.2\"><span class=\"toc-item-num\">6.2&nbsp;&nbsp;</span>Accuracy</a></span></li><li><span><a href=\"#Precision\" data-toc-modified-id=\"Precision-6.3\"><span class=\"toc-item-num\">6.3&nbsp;&nbsp;</span>Precision</a></span></li><li><span><a href=\"#Recall\" data-toc-modified-id=\"Recall-6.4\"><span class=\"toc-item-num\">6.4&nbsp;&nbsp;</span>Recall</a></span></li><li><span><a href=\"#Differentiating-precision-and-recall\" data-toc-modified-id=\"Differentiating-precision-and-recall-6.5\"><span class=\"toc-item-num\">6.5&nbsp;&nbsp;</span>Differentiating precision and recall</a></span></li><li><span><a href=\"#F1-Score\" data-toc-modified-id=\"F1-Score-6.6\"><span class=\"toc-item-num\">6.6&nbsp;&nbsp;</span>F1 Score</a></span></li></ul></li><li><span><a href=\"#Other-classification-models\" data-toc-modified-id=\"Other-classification-models-7\"><span class=\"toc-item-num\">7&nbsp;&nbsp;</span>Other classification models</a></span></li><li><span><a href=\"#We-make-predictions-and-measure\" data-toc-modified-id=\"We-make-predictions-and-measure-8\"><span class=\"toc-item-num\">8&nbsp;&nbsp;</span>We make predictions and measure</a></span></li><li><span><a href=\"#Summary\" data-toc-modified-id=\"Summary-9\"><span class=\"toc-item-num\">9&nbsp;&nbsp;</span>Summary</a></span></li></ul></div>"
   ]
  },
  {
   "cell_type": "code",
   "execution_count": 3,
   "id": "computational-efficiency",
   "metadata": {
    "scrolled": true
   },
   "outputs": [],
   "source": [
    "import warnings\n",
    "warnings.filterwarnings(\"ignore\")\n",
    "\n",
    "import pandas as pd\n",
    "import numpy as np\n",
    "import seaborn as sns\n",
    "\n",
    "\n",
    "# Viz mantra\n",
    "\n",
    "from matplotlib import pyplot as plt\n",
    "%matplotlib inline\n",
    "%config Inlinebackend.figure_format = 'retina'\n",
    "\n",
    "import seaborn as sns\n",
    "sns.set_context('poster')\n",
    "sns.set(rc={'figure.figsize': (16., 9.)})\n",
    "sns.set_style('whitegrid')"
   ]
  },
  {
   "cell_type": "code",
   "execution_count": 4,
   "id": "424ec5cb",
   "metadata": {
    "scrolled": true
   },
   "outputs": [],
   "source": [
    "# Model & split\n",
    "from sklearn.linear_model import LogisticRegression\n",
    "from sklearn.model_selection import train_test_split\n",
    "\n",
    "\n",
    "# Metrics\n",
    "from sklearn.metrics import confusion_matrix\n",
    "from sklearn.metrics import precision_score\n",
    "from sklearn.metrics import accuracy_score\n",
    "from sklearn.metrics import recall_score\n",
    "from sklearn.metrics import f1_score"
   ]
  },
  {
   "cell_type": "markdown",
   "id": "85fbe915",
   "metadata": {
    "lang": "en"
   },
   "source": [
    "* **regression** models are used when the target variable is **quantitative**:\n",
    "  - wages\n",
    "  - gas emission\n",
    "  - age of the person in a photo\n",
    "  \n",
    "* **classification**: models are used when the target variable is **qualitative**:\n",
    "  - survive (or not) the Titanic\n",
    "  - repay (or not) a loan\n",
    "  - identify a dog (or not) in a photo\n",
    "  - decide which of 3 plant species this is\n",
    "  - ..."
   ]
  },
  {
   "cell_type": "markdown",
   "id": "cacc16b9",
   "metadata": {
    "lang": "en"
   },
   "source": [
    "## Exploring the data"
   ]
  },
  {
   "cell_type": "code",
   "execution_count": 7,
   "id": "f0671685",
   "metadata": {
    "scrolled": true
   },
   "outputs": [],
   "source": [
    "df = pd.read_csv(\"breast_cancer.csv\")"
   ]
  },
  {
   "cell_type": "code",
   "execution_count": 8,
   "id": "04ef30ff",
   "metadata": {},
   "outputs": [
    {
     "data": {
      "text/html": [
       "<div>\n",
       "<style scoped>\n",
       "    .dataframe tbody tr th:only-of-type {\n",
       "        vertical-align: middle;\n",
       "    }\n",
       "\n",
       "    .dataframe tbody tr th {\n",
       "        vertical-align: top;\n",
       "    }\n",
       "\n",
       "    .dataframe thead th {\n",
       "        text-align: right;\n",
       "    }\n",
       "</style>\n",
       "<table border=\"1\" class=\"dataframe\">\n",
       "  <thead>\n",
       "    <tr style=\"text-align: right;\">\n",
       "      <th></th>\n",
       "      <th>mean_radius</th>\n",
       "      <th>mean_texture</th>\n",
       "      <th>mean_perimeter</th>\n",
       "      <th>mean_area</th>\n",
       "      <th>mean_smoothness</th>\n",
       "      <th>mean_compactness</th>\n",
       "      <th>mean_concavity</th>\n",
       "      <th>mean_concave_points</th>\n",
       "      <th>mean_symmetry</th>\n",
       "      <th>mean_fractal_dimension</th>\n",
       "      <th>...</th>\n",
       "      <th>worst_texture</th>\n",
       "      <th>worst_perimeter</th>\n",
       "      <th>worst_area</th>\n",
       "      <th>worst_smoothness</th>\n",
       "      <th>worst_compactness</th>\n",
       "      <th>worst_concavity</th>\n",
       "      <th>worst_concave_points</th>\n",
       "      <th>worst_symmetry</th>\n",
       "      <th>worst_fractal_dimension</th>\n",
       "      <th>is_cancer</th>\n",
       "    </tr>\n",
       "  </thead>\n",
       "  <tbody>\n",
       "    <tr>\n",
       "      <th>0</th>\n",
       "      <td>17.99</td>\n",
       "      <td>10.38</td>\n",
       "      <td>122.80</td>\n",
       "      <td>1001.0</td>\n",
       "      <td>0.11840</td>\n",
       "      <td>0.27760</td>\n",
       "      <td>0.30010</td>\n",
       "      <td>0.14710</td>\n",
       "      <td>0.2419</td>\n",
       "      <td>0.07871</td>\n",
       "      <td>...</td>\n",
       "      <td>17.33</td>\n",
       "      <td>184.60</td>\n",
       "      <td>2019.0</td>\n",
       "      <td>0.16220</td>\n",
       "      <td>0.66560</td>\n",
       "      <td>0.7119</td>\n",
       "      <td>0.2654</td>\n",
       "      <td>0.4601</td>\n",
       "      <td>0.11890</td>\n",
       "      <td>1</td>\n",
       "    </tr>\n",
       "    <tr>\n",
       "      <th>1</th>\n",
       "      <td>20.57</td>\n",
       "      <td>17.77</td>\n",
       "      <td>132.90</td>\n",
       "      <td>1326.0</td>\n",
       "      <td>0.08474</td>\n",
       "      <td>0.07864</td>\n",
       "      <td>0.08690</td>\n",
       "      <td>0.07017</td>\n",
       "      <td>0.1812</td>\n",
       "      <td>0.05667</td>\n",
       "      <td>...</td>\n",
       "      <td>23.41</td>\n",
       "      <td>158.80</td>\n",
       "      <td>1956.0</td>\n",
       "      <td>0.12380</td>\n",
       "      <td>0.18660</td>\n",
       "      <td>0.2416</td>\n",
       "      <td>0.1860</td>\n",
       "      <td>0.2750</td>\n",
       "      <td>0.08902</td>\n",
       "      <td>1</td>\n",
       "    </tr>\n",
       "    <tr>\n",
       "      <th>2</th>\n",
       "      <td>19.69</td>\n",
       "      <td>21.25</td>\n",
       "      <td>130.00</td>\n",
       "      <td>1203.0</td>\n",
       "      <td>0.10960</td>\n",
       "      <td>0.15990</td>\n",
       "      <td>0.19740</td>\n",
       "      <td>0.12790</td>\n",
       "      <td>0.2069</td>\n",
       "      <td>0.05999</td>\n",
       "      <td>...</td>\n",
       "      <td>25.53</td>\n",
       "      <td>152.50</td>\n",
       "      <td>1709.0</td>\n",
       "      <td>0.14440</td>\n",
       "      <td>0.42450</td>\n",
       "      <td>0.4504</td>\n",
       "      <td>0.2430</td>\n",
       "      <td>0.3613</td>\n",
       "      <td>0.08758</td>\n",
       "      <td>1</td>\n",
       "    </tr>\n",
       "    <tr>\n",
       "      <th>3</th>\n",
       "      <td>11.42</td>\n",
       "      <td>20.38</td>\n",
       "      <td>77.58</td>\n",
       "      <td>386.1</td>\n",
       "      <td>0.14250</td>\n",
       "      <td>0.28390</td>\n",
       "      <td>0.24140</td>\n",
       "      <td>0.10520</td>\n",
       "      <td>0.2597</td>\n",
       "      <td>0.09744</td>\n",
       "      <td>...</td>\n",
       "      <td>26.50</td>\n",
       "      <td>98.87</td>\n",
       "      <td>567.7</td>\n",
       "      <td>0.20980</td>\n",
       "      <td>0.86630</td>\n",
       "      <td>0.6869</td>\n",
       "      <td>0.2575</td>\n",
       "      <td>0.6638</td>\n",
       "      <td>0.17300</td>\n",
       "      <td>1</td>\n",
       "    </tr>\n",
       "    <tr>\n",
       "      <th>4</th>\n",
       "      <td>20.29</td>\n",
       "      <td>14.34</td>\n",
       "      <td>135.10</td>\n",
       "      <td>1297.0</td>\n",
       "      <td>0.10030</td>\n",
       "      <td>0.13280</td>\n",
       "      <td>0.19800</td>\n",
       "      <td>0.10430</td>\n",
       "      <td>0.1809</td>\n",
       "      <td>0.05883</td>\n",
       "      <td>...</td>\n",
       "      <td>16.67</td>\n",
       "      <td>152.20</td>\n",
       "      <td>1575.0</td>\n",
       "      <td>0.13740</td>\n",
       "      <td>0.20500</td>\n",
       "      <td>0.4000</td>\n",
       "      <td>0.1625</td>\n",
       "      <td>0.2364</td>\n",
       "      <td>0.07678</td>\n",
       "      <td>1</td>\n",
       "    </tr>\n",
       "    <tr>\n",
       "      <th>...</th>\n",
       "      <td>...</td>\n",
       "      <td>...</td>\n",
       "      <td>...</td>\n",
       "      <td>...</td>\n",
       "      <td>...</td>\n",
       "      <td>...</td>\n",
       "      <td>...</td>\n",
       "      <td>...</td>\n",
       "      <td>...</td>\n",
       "      <td>...</td>\n",
       "      <td>...</td>\n",
       "      <td>...</td>\n",
       "      <td>...</td>\n",
       "      <td>...</td>\n",
       "      <td>...</td>\n",
       "      <td>...</td>\n",
       "      <td>...</td>\n",
       "      <td>...</td>\n",
       "      <td>...</td>\n",
       "      <td>...</td>\n",
       "      <td>...</td>\n",
       "    </tr>\n",
       "    <tr>\n",
       "      <th>564</th>\n",
       "      <td>21.56</td>\n",
       "      <td>22.39</td>\n",
       "      <td>142.00</td>\n",
       "      <td>1479.0</td>\n",
       "      <td>0.11100</td>\n",
       "      <td>0.11590</td>\n",
       "      <td>0.24390</td>\n",
       "      <td>0.13890</td>\n",
       "      <td>0.1726</td>\n",
       "      <td>0.05623</td>\n",
       "      <td>...</td>\n",
       "      <td>26.40</td>\n",
       "      <td>166.10</td>\n",
       "      <td>2027.0</td>\n",
       "      <td>0.14100</td>\n",
       "      <td>0.21130</td>\n",
       "      <td>0.4107</td>\n",
       "      <td>0.2216</td>\n",
       "      <td>0.2060</td>\n",
       "      <td>0.07115</td>\n",
       "      <td>1</td>\n",
       "    </tr>\n",
       "    <tr>\n",
       "      <th>565</th>\n",
       "      <td>20.13</td>\n",
       "      <td>28.25</td>\n",
       "      <td>131.20</td>\n",
       "      <td>1261.0</td>\n",
       "      <td>0.09780</td>\n",
       "      <td>0.10340</td>\n",
       "      <td>0.14400</td>\n",
       "      <td>0.09791</td>\n",
       "      <td>0.1752</td>\n",
       "      <td>0.05533</td>\n",
       "      <td>...</td>\n",
       "      <td>38.25</td>\n",
       "      <td>155.00</td>\n",
       "      <td>1731.0</td>\n",
       "      <td>0.11660</td>\n",
       "      <td>0.19220</td>\n",
       "      <td>0.3215</td>\n",
       "      <td>0.1628</td>\n",
       "      <td>0.2572</td>\n",
       "      <td>0.06637</td>\n",
       "      <td>1</td>\n",
       "    </tr>\n",
       "    <tr>\n",
       "      <th>566</th>\n",
       "      <td>16.60</td>\n",
       "      <td>28.08</td>\n",
       "      <td>108.30</td>\n",
       "      <td>858.1</td>\n",
       "      <td>0.08455</td>\n",
       "      <td>0.10230</td>\n",
       "      <td>0.09251</td>\n",
       "      <td>0.05302</td>\n",
       "      <td>0.1590</td>\n",
       "      <td>0.05648</td>\n",
       "      <td>...</td>\n",
       "      <td>34.12</td>\n",
       "      <td>126.70</td>\n",
       "      <td>1124.0</td>\n",
       "      <td>0.11390</td>\n",
       "      <td>0.30940</td>\n",
       "      <td>0.3403</td>\n",
       "      <td>0.1418</td>\n",
       "      <td>0.2218</td>\n",
       "      <td>0.07820</td>\n",
       "      <td>1</td>\n",
       "    </tr>\n",
       "    <tr>\n",
       "      <th>567</th>\n",
       "      <td>20.60</td>\n",
       "      <td>29.33</td>\n",
       "      <td>140.10</td>\n",
       "      <td>1265.0</td>\n",
       "      <td>0.11780</td>\n",
       "      <td>0.27700</td>\n",
       "      <td>0.35140</td>\n",
       "      <td>0.15200</td>\n",
       "      <td>0.2397</td>\n",
       "      <td>0.07016</td>\n",
       "      <td>...</td>\n",
       "      <td>39.42</td>\n",
       "      <td>184.60</td>\n",
       "      <td>1821.0</td>\n",
       "      <td>0.16500</td>\n",
       "      <td>0.86810</td>\n",
       "      <td>0.9387</td>\n",
       "      <td>0.2650</td>\n",
       "      <td>0.4087</td>\n",
       "      <td>0.12400</td>\n",
       "      <td>1</td>\n",
       "    </tr>\n",
       "    <tr>\n",
       "      <th>568</th>\n",
       "      <td>7.76</td>\n",
       "      <td>24.54</td>\n",
       "      <td>47.92</td>\n",
       "      <td>181.0</td>\n",
       "      <td>0.05263</td>\n",
       "      <td>0.04362</td>\n",
       "      <td>0.00000</td>\n",
       "      <td>0.00000</td>\n",
       "      <td>0.1587</td>\n",
       "      <td>0.05884</td>\n",
       "      <td>...</td>\n",
       "      <td>30.37</td>\n",
       "      <td>59.16</td>\n",
       "      <td>268.6</td>\n",
       "      <td>0.08996</td>\n",
       "      <td>0.06444</td>\n",
       "      <td>0.0000</td>\n",
       "      <td>0.0000</td>\n",
       "      <td>0.2871</td>\n",
       "      <td>0.07039</td>\n",
       "      <td>0</td>\n",
       "    </tr>\n",
       "  </tbody>\n",
       "</table>\n",
       "<p>569 rows × 31 columns</p>\n",
       "</div>"
      ],
      "text/plain": [
       "     mean_radius  mean_texture  mean_perimeter  mean_area  mean_smoothness  \\\n",
       "0          17.99         10.38          122.80     1001.0          0.11840   \n",
       "1          20.57         17.77          132.90     1326.0          0.08474   \n",
       "2          19.69         21.25          130.00     1203.0          0.10960   \n",
       "3          11.42         20.38           77.58      386.1          0.14250   \n",
       "4          20.29         14.34          135.10     1297.0          0.10030   \n",
       "..           ...           ...             ...        ...              ...   \n",
       "564        21.56         22.39          142.00     1479.0          0.11100   \n",
       "565        20.13         28.25          131.20     1261.0          0.09780   \n",
       "566        16.60         28.08          108.30      858.1          0.08455   \n",
       "567        20.60         29.33          140.10     1265.0          0.11780   \n",
       "568         7.76         24.54           47.92      181.0          0.05263   \n",
       "\n",
       "     mean_compactness  mean_concavity  mean_concave_points  mean_symmetry  \\\n",
       "0             0.27760         0.30010              0.14710         0.2419   \n",
       "1             0.07864         0.08690              0.07017         0.1812   \n",
       "2             0.15990         0.19740              0.12790         0.2069   \n",
       "3             0.28390         0.24140              0.10520         0.2597   \n",
       "4             0.13280         0.19800              0.10430         0.1809   \n",
       "..                ...             ...                  ...            ...   \n",
       "564           0.11590         0.24390              0.13890         0.1726   \n",
       "565           0.10340         0.14400              0.09791         0.1752   \n",
       "566           0.10230         0.09251              0.05302         0.1590   \n",
       "567           0.27700         0.35140              0.15200         0.2397   \n",
       "568           0.04362         0.00000              0.00000         0.1587   \n",
       "\n",
       "     mean_fractal_dimension  ...  worst_texture  worst_perimeter  worst_area  \\\n",
       "0                   0.07871  ...          17.33           184.60      2019.0   \n",
       "1                   0.05667  ...          23.41           158.80      1956.0   \n",
       "2                   0.05999  ...          25.53           152.50      1709.0   \n",
       "3                   0.09744  ...          26.50            98.87       567.7   \n",
       "4                   0.05883  ...          16.67           152.20      1575.0   \n",
       "..                      ...  ...            ...              ...         ...   \n",
       "564                 0.05623  ...          26.40           166.10      2027.0   \n",
       "565                 0.05533  ...          38.25           155.00      1731.0   \n",
       "566                 0.05648  ...          34.12           126.70      1124.0   \n",
       "567                 0.07016  ...          39.42           184.60      1821.0   \n",
       "568                 0.05884  ...          30.37            59.16       268.6   \n",
       "\n",
       "     worst_smoothness  worst_compactness  worst_concavity  \\\n",
       "0             0.16220            0.66560           0.7119   \n",
       "1             0.12380            0.18660           0.2416   \n",
       "2             0.14440            0.42450           0.4504   \n",
       "3             0.20980            0.86630           0.6869   \n",
       "4             0.13740            0.20500           0.4000   \n",
       "..                ...                ...              ...   \n",
       "564           0.14100            0.21130           0.4107   \n",
       "565           0.11660            0.19220           0.3215   \n",
       "566           0.11390            0.30940           0.3403   \n",
       "567           0.16500            0.86810           0.9387   \n",
       "568           0.08996            0.06444           0.0000   \n",
       "\n",
       "     worst_concave_points  worst_symmetry  worst_fractal_dimension  is_cancer  \n",
       "0                  0.2654          0.4601                  0.11890          1  \n",
       "1                  0.1860          0.2750                  0.08902          1  \n",
       "2                  0.2430          0.3613                  0.08758          1  \n",
       "3                  0.2575          0.6638                  0.17300          1  \n",
       "4                  0.1625          0.2364                  0.07678          1  \n",
       "..                    ...             ...                      ...        ...  \n",
       "564                0.2216          0.2060                  0.07115          1  \n",
       "565                0.1628          0.2572                  0.06637          1  \n",
       "566                0.1418          0.2218                  0.07820          1  \n",
       "567                0.2650          0.4087                  0.12400          1  \n",
       "568                0.0000          0.2871                  0.07039          0  \n",
       "\n",
       "[569 rows x 31 columns]"
      ]
     },
     "execution_count": 8,
     "metadata": {},
     "output_type": "execute_result"
    }
   ],
   "source": [
    "df"
   ]
  },
  {
   "cell_type": "markdown",
   "id": "central-applicant",
   "metadata": {
    "lang": "es"
   },
   "source": [
    "Documentation:  \n",
    "a) radius (mean of distances from center to points on the perimeter)  \n",
    "b) texture (standard deviation of gray-scale values)  \n",
    "c) perimeter  \n",
    "d) area  \n",
    "e) smoothness (local variation in radius lengths)  \n",
    "f) compactness (perimeter^2 / area - 1.0)  \n",
    "g) concavity (severity of concave portions of the contour)  \n",
    "h) concave points (number of concave portions of the contour)  \n",
    "i) symmetry  \n",
    "j) fractal dimension (\"coastline approximation\" - 1)  "
   ]
  },
  {
   "cell_type": "markdown",
   "id": "e8c952f8",
   "metadata": {
    "lang": "en"
   },
   "source": [
    "The target variable is `is_cancer`.\n",
    "\n",
    "It is a categorical variable, which takes the possible values ​​$0$ and $1$"
   ]
  },
  {
   "cell_type": "code",
   "execution_count": 9,
   "id": "15271b9c",
   "metadata": {},
   "outputs": [
    {
     "data": {
      "image/png": "[encoded data removed]",
      "text/plain": [
       "<Figure size 1152x648 with 1 Axes>"
      ]
     },
     "metadata": {},
     "output_type": "display_data"
    }
   ],
   "source": [
    "sns.countplot(x=df.is_cancer);"
   ]
  },
  {
   "cell_type": "markdown",
   "id": "3ed697c5",
   "metadata": {
    "lang": "en"
   },
   "source": [
    "## Logistic regression\n",
    "Logistic regression is one of the most popular and used algorithms for classification problems. Since it is also relatively uncomplicated and easy to implement, it is often used as a starting model, although it can also produce very high-performance results used in production. Here we are going to talk about Binomial Logistic Regression, which is used for binary results. Multinomial Logistic Regression exists and can be used for multiclass classification problems, but it is used less frequently. We will not cover it in this lesson.\n",
    "\n",
    "Logistic regression is actually a transformed linear regression function. We can see in the image below that if we tried to fit a linear regression to some data with a binary result, we would fit a line that does not predict very well for any value that is not in the extreme values: in the middle there is a lot of area where the line is very far from the points. To make our function closer to the data, we have to transform the function we are using. In this case, it is useful to use a sigmoid function, which estimates an \"S\" shape. Now we can see that our line fits the data much better."
   ]
  },
  {
   "cell_type": "markdown",
   "id": "great-supervision",
   "metadata": {},
   "source": [
    "![regresiónlogística](http://res.cloudinary.com/dyd911kmh/image/upload/f_auto,q_auto:best/v1534281070/linear_vs_logistic_regression_edxw03.png)"
   ]
  },
  {
   "cell_type": "markdown",
   "id": "appreciated-people",
   "metadata": {},
   "source": [
    "Refs:\n",
    "\n",
    "https://scikit-learn.org/stable/modules/generated/sklearn.linear_model.LogisticRegression.html     \n",
    "https://techdifferences.com/difference-between-linear-and-logistic-regression.html    \n",
    "https://stackoverflow.com/questions/12146914/what-is-the-difference-between-linear-regression-and-logistic-regression"
   ]
  },
  {
   "cell_type": "markdown",
   "id": "e9882453",
   "metadata": {
    "lang": "en"
   },
   "source": [
    "## Let's do it"
   ]
  },
  {
   "cell_type": "markdown",
   "id": "90d362ca",
   "metadata": {
    "lang": "en"
   },
   "source": [
    "Let's try to predict `is_cancer` using only `mean_radius` as a predictor."
   ]
  },
  {
   "cell_type": "code",
   "execution_count": 10,
   "id": "fd6b92d9",
   "metadata": {},
   "outputs": [
    {
     "data": {
      "text/html": [
       "<div>\n",
       "<style scoped>\n",
       "    .dataframe tbody tr th:only-of-type {\n",
       "        vertical-align: middle;\n",
       "    }\n",
       "\n",
       "    .dataframe tbody tr th {\n",
       "        vertical-align: top;\n",
       "    }\n",
       "\n",
       "    .dataframe thead th {\n",
       "        text-align: right;\n",
       "    }\n",
       "</style>\n",
       "<table border=\"1\" class=\"dataframe\">\n",
       "  <thead>\n",
       "    <tr style=\"text-align: right;\">\n",
       "      <th></th>\n",
       "      <th>mean_radius</th>\n",
       "      <th>mean_texture</th>\n",
       "      <th>mean_perimeter</th>\n",
       "      <th>mean_area</th>\n",
       "      <th>mean_smoothness</th>\n",
       "      <th>mean_compactness</th>\n",
       "      <th>mean_concavity</th>\n",
       "      <th>mean_concave_points</th>\n",
       "      <th>mean_symmetry</th>\n",
       "      <th>mean_fractal_dimension</th>\n",
       "      <th>...</th>\n",
       "      <th>worst_texture</th>\n",
       "      <th>worst_perimeter</th>\n",
       "      <th>worst_area</th>\n",
       "      <th>worst_smoothness</th>\n",
       "      <th>worst_compactness</th>\n",
       "      <th>worst_concavity</th>\n",
       "      <th>worst_concave_points</th>\n",
       "      <th>worst_symmetry</th>\n",
       "      <th>worst_fractal_dimension</th>\n",
       "      <th>is_cancer</th>\n",
       "    </tr>\n",
       "  </thead>\n",
       "  <tbody>\n",
       "    <tr>\n",
       "      <th>74</th>\n",
       "      <td>12.31</td>\n",
       "      <td>16.52</td>\n",
       "      <td>79.19</td>\n",
       "      <td>470.9</td>\n",
       "      <td>0.09172</td>\n",
       "      <td>0.06829</td>\n",
       "      <td>0.03372</td>\n",
       "      <td>0.02272</td>\n",
       "      <td>0.172</td>\n",
       "      <td>0.05914</td>\n",
       "      <td>...</td>\n",
       "      <td>23.21</td>\n",
       "      <td>89.71</td>\n",
       "      <td>611.1</td>\n",
       "      <td>0.1176</td>\n",
       "      <td>0.1843</td>\n",
       "      <td>0.1703</td>\n",
       "      <td>0.0866</td>\n",
       "      <td>0.2618</td>\n",
       "      <td>0.07609</td>\n",
       "      <td>0</td>\n",
       "    </tr>\n",
       "  </tbody>\n",
       "</table>\n",
       "<p>1 rows × 31 columns</p>\n",
       "</div>"
      ],
      "text/plain": [
       "    mean_radius  mean_texture  mean_perimeter  mean_area  mean_smoothness  \\\n",
       "74        12.31         16.52           79.19      470.9          0.09172   \n",
       "\n",
       "    mean_compactness  mean_concavity  mean_concave_points  mean_symmetry  \\\n",
       "74           0.06829         0.03372              0.02272          0.172   \n",
       "\n",
       "    mean_fractal_dimension  ...  worst_texture  worst_perimeter  worst_area  \\\n",
       "74                 0.05914  ...          23.21            89.71       611.1   \n",
       "\n",
       "    worst_smoothness  worst_compactness  worst_concavity  \\\n",
       "74            0.1176             0.1843           0.1703   \n",
       "\n",
       "    worst_concave_points  worst_symmetry  worst_fractal_dimension  is_cancer  \n",
       "74                0.0866          0.2618                  0.07609          0  \n",
       "\n",
       "[1 rows x 31 columns]"
      ]
     },
     "execution_count": 10,
     "metadata": {},
     "output_type": "execute_result"
    }
   ],
   "source": [
    "df.sample()"
   ]
  },
  {
   "cell_type": "markdown",
   "id": "3fa4958f",
   "metadata": {
    "lang": "en"
   },
   "source": [
    "### Let's train a model: without splitting just yet"
   ]
  },
  {
   "cell_type": "code",
   "execution_count": 11,
   "id": "binding-interview",
   "metadata": {
    "scrolled": true
   },
   "outputs": [],
   "source": [
    "from sklearn.linear_model import LogisticRegression #instead of LinearRegression()"
   ]
  },
  {
   "cell_type": "code",
   "execution_count": null,
   "id": "2cf43fa0",
   "metadata": {},
   "outputs": [],
   "source": [
    "# 1. only using one feature\n",
    "# 2. train/test split"
   ]
  },
  {
   "cell_type": "code",
   "execution_count": 12,
   "id": "b2170ad3",
   "metadata": {},
   "outputs": [],
   "source": [
    "lr  = LogisticRegression()"
   ]
  },
  {
   "cell_type": "code",
   "execution_count": 13,
   "id": "c1534a4e",
   "metadata": {},
   "outputs": [
    {
     "data": {
      "text/html": [
       "<div>\n",
       "<style scoped>\n",
       "    .dataframe tbody tr th:only-of-type {\n",
       "        vertical-align: middle;\n",
       "    }\n",
       "\n",
       "    .dataframe tbody tr th {\n",
       "        vertical-align: top;\n",
       "    }\n",
       "\n",
       "    .dataframe thead th {\n",
       "        text-align: right;\n",
       "    }\n",
       "</style>\n",
       "<table border=\"1\" class=\"dataframe\">\n",
       "  <thead>\n",
       "    <tr style=\"text-align: right;\">\n",
       "      <th></th>\n",
       "      <th>mean_radius</th>\n",
       "      <th>mean_texture</th>\n",
       "      <th>mean_perimeter</th>\n",
       "      <th>mean_area</th>\n",
       "      <th>mean_smoothness</th>\n",
       "      <th>mean_compactness</th>\n",
       "      <th>mean_concavity</th>\n",
       "      <th>mean_concave_points</th>\n",
       "      <th>mean_symmetry</th>\n",
       "      <th>mean_fractal_dimension</th>\n",
       "      <th>...</th>\n",
       "      <th>worst_texture</th>\n",
       "      <th>worst_perimeter</th>\n",
       "      <th>worst_area</th>\n",
       "      <th>worst_smoothness</th>\n",
       "      <th>worst_compactness</th>\n",
       "      <th>worst_concavity</th>\n",
       "      <th>worst_concave_points</th>\n",
       "      <th>worst_symmetry</th>\n",
       "      <th>worst_fractal_dimension</th>\n",
       "      <th>is_cancer</th>\n",
       "    </tr>\n",
       "  </thead>\n",
       "  <tbody>\n",
       "    <tr>\n",
       "      <th>85</th>\n",
       "      <td>18.46</td>\n",
       "      <td>18.52</td>\n",
       "      <td>121.1</td>\n",
       "      <td>1075.0</td>\n",
       "      <td>0.09874</td>\n",
       "      <td>0.1053</td>\n",
       "      <td>0.1335</td>\n",
       "      <td>0.08795</td>\n",
       "      <td>0.2132</td>\n",
       "      <td>0.06022</td>\n",
       "      <td>...</td>\n",
       "      <td>27.68</td>\n",
       "      <td>152.2</td>\n",
       "      <td>1603.0</td>\n",
       "      <td>0.1398</td>\n",
       "      <td>0.2089</td>\n",
       "      <td>0.3157</td>\n",
       "      <td>0.1642</td>\n",
       "      <td>0.3695</td>\n",
       "      <td>0.08579</td>\n",
       "      <td>1</td>\n",
       "    </tr>\n",
       "  </tbody>\n",
       "</table>\n",
       "<p>1 rows × 31 columns</p>\n",
       "</div>"
      ],
      "text/plain": [
       "    mean_radius  mean_texture  mean_perimeter  mean_area  mean_smoothness  \\\n",
       "85        18.46         18.52           121.1     1075.0          0.09874   \n",
       "\n",
       "    mean_compactness  mean_concavity  mean_concave_points  mean_symmetry  \\\n",
       "85            0.1053          0.1335              0.08795         0.2132   \n",
       "\n",
       "    mean_fractal_dimension  ...  worst_texture  worst_perimeter  worst_area  \\\n",
       "85                 0.06022  ...          27.68            152.2      1603.0   \n",
       "\n",
       "    worst_smoothness  worst_compactness  worst_concavity  \\\n",
       "85            0.1398             0.2089           0.3157   \n",
       "\n",
       "    worst_concave_points  worst_symmetry  worst_fractal_dimension  is_cancer  \n",
       "85                0.1642          0.3695                  0.08579          1  \n",
       "\n",
       "[1 rows x 31 columns]"
      ]
     },
     "execution_count": 13,
     "metadata": {},
     "output_type": "execute_result"
    }
   ],
   "source": [
    "df.sample() # mean radius & is_cancer"
   ]
  },
  {
   "cell_type": "code",
   "execution_count": 14,
   "id": "2da7a769",
   "metadata": {},
   "outputs": [],
   "source": [
    "X = df[[\"mean_radius\"]] # df\n",
    "y = df.is_cancer # series"
   ]
  },
  {
   "cell_type": "code",
   "execution_count": 17,
   "id": "00e441c6",
   "metadata": {},
   "outputs": [
    {
     "data": {
      "text/plain": [
       "(569, 1)"
      ]
     },
     "execution_count": 17,
     "metadata": {},
     "output_type": "execute_result"
    }
   ],
   "source": [
    "X.shape"
   ]
  },
  {
   "cell_type": "code",
   "execution_count": 18,
   "id": "d33b8d2a",
   "metadata": {},
   "outputs": [
    {
     "data": {
      "text/plain": [
       "(569,)"
      ]
     },
     "execution_count": 18,
     "metadata": {},
     "output_type": "execute_result"
    }
   ],
   "source": [
    "y.shape"
   ]
  },
  {
   "cell_type": "code",
   "execution_count": 19,
   "id": "9ad40ad5",
   "metadata": {},
   "outputs": [
    {
     "data": {
      "text/plain": [
       "LogisticRegression()"
      ]
     },
     "execution_count": 19,
     "metadata": {},
     "output_type": "execute_result"
    }
   ],
   "source": [
    "lr.fit(X, y)"
   ]
  },
  {
   "cell_type": "code",
   "execution_count": 20,
   "id": "ad0a6fb9",
   "metadata": {},
   "outputs": [],
   "source": [
    "y_pred = lr.predict(X)"
   ]
  },
  {
   "cell_type": "code",
   "execution_count": 21,
   "id": "5821ccf9",
   "metadata": {},
   "outputs": [
    {
     "data": {
      "text/plain": [
       "array([1, 1, 1, 0, 1, 0, 1, 0, 0, 0, 1, 1, 1, 1, 0, 0, 0, 1, 1, 0, 0, 0,\n",
       "       1, 1, 1, 1, 0, 1, 1, 1, 1, 0, 1, 1, 1, 1, 0, 0, 1, 0, 0, 0, 1, 0,\n",
       "       0, 1, 0, 0, 0, 0, 0, 0, 0, 1, 1, 0, 1, 0, 0, 0, 0, 0, 0, 0, 0, 1,\n",
       "       0, 0, 0, 0, 1, 0, 1, 0, 0, 1, 0, 1, 1, 0, 0, 0, 1, 1, 0, 1, 0, 1,\n",
       "       0, 0, 0, 1, 0, 0, 1, 1, 0, 0, 0, 0, 0, 0, 0, 0, 0, 0, 0, 0, 1, 0,\n",
       "       0, 0, 0, 0, 0, 0, 0, 1, 1, 1, 0, 1, 1, 0, 0, 0, 0, 1, 1, 1, 0, 1,\n",
       "       1, 1, 1, 0, 0, 0, 1, 0, 0, 1, 0, 0, 0, 0, 0, 1, 0, 0, 0, 0, 0, 0,\n",
       "       0, 0, 1, 1, 0, 0, 0, 1, 1, 0, 1, 1, 0, 1, 1, 1, 0, 0, 1, 0, 0, 0,\n",
       "       0, 1, 0, 0, 1, 1, 1, 0, 1, 0, 1, 0, 0, 0, 0, 0, 0, 0, 1, 0, 0, 1,\n",
       "       1, 0, 0, 1, 1, 0, 0, 1, 0, 1, 0, 1, 1, 0, 1, 1, 0, 0, 0, 0, 1, 1,\n",
       "       0, 0, 0, 1, 0, 0, 0, 1, 0, 0, 1, 0, 0, 1, 0, 0, 1, 1, 0, 1, 0, 0,\n",
       "       0, 0, 1, 0, 0, 0, 0, 0, 1, 0, 1, 1, 1, 0, 1, 1, 1, 1, 1, 1, 1, 1,\n",
       "       1, 1, 0, 0, 0, 0, 0, 0, 1, 0, 1, 0, 0, 1, 0, 0, 1, 0, 1, 1, 0, 0,\n",
       "       0, 0, 0, 0, 0, 1, 0, 0, 0, 0, 0, 0, 0, 0, 1, 0, 1, 0, 0, 0, 0, 0,\n",
       "       0, 0, 0, 0, 0, 0, 0, 0, 0, 1, 0, 0, 0, 1, 0, 1, 0, 0, 0, 0, 1, 1,\n",
       "       1, 0, 0, 0, 0, 1, 0, 1, 0, 1, 0, 0, 0, 1, 0, 0, 0, 1, 0, 0, 0, 1,\n",
       "       1, 1, 0, 0, 0, 0, 0, 0, 0, 0, 0, 1, 0, 1, 1, 0, 1, 1, 1, 1, 1, 1,\n",
       "       0, 1, 0, 0, 0, 0, 0, 0, 0, 0, 0, 0, 0, 0, 0, 1, 0, 0, 1, 1, 0, 0,\n",
       "       0, 0, 0, 0, 1, 0, 0, 0, 0, 0, 1, 0, 1, 0, 0, 0, 0, 1, 1, 0, 0, 1,\n",
       "       0, 0, 0, 0, 0, 0, 0, 0, 0, 0, 0, 0, 1, 0, 1, 1, 1, 0, 0, 0, 0, 0,\n",
       "       0, 1, 0, 0, 1, 0, 1, 1, 0, 1, 0, 1, 0, 0, 0, 0, 0, 0, 0, 0, 1, 1,\n",
       "       0, 0, 0, 0, 0, 0, 1, 0, 0, 0, 1, 0, 0, 0, 0, 0, 0, 1, 0, 0, 0, 0,\n",
       "       1, 0, 0, 1, 0, 1, 0, 1, 1, 0, 0, 1, 0, 0, 1, 1, 1, 0, 0, 1, 0, 0,\n",
       "       0, 0, 1, 1, 0, 1, 0, 0, 1, 0, 1, 1, 0, 0, 0, 1, 0, 0, 0, 0, 0, 0,\n",
       "       0, 0, 0, 0, 0, 1, 0, 1, 0, 0, 0, 0, 0, 0, 0, 0, 0, 0, 0, 0, 0, 0,\n",
       "       0, 0, 0, 0, 0, 0, 0, 0, 0, 0, 0, 0, 1, 1, 1, 1, 1, 1, 0])"
      ]
     },
     "execution_count": 21,
     "metadata": {},
     "output_type": "execute_result"
    }
   ],
   "source": [
    "y_pred # [0, 1, 1]"
   ]
  },
  {
   "cell_type": "code",
   "execution_count": null,
   "id": "ec558d03",
   "metadata": {},
   "outputs": [],
   "source": [
    "# 333 -> common 0 -> \n",
    "    # we're right 333 times when it is not\n",
    "    \n",
    "# 167 ->   we're right when it is cancer 167"
   ]
  },
  {
   "cell_type": "code",
   "execution_count": 29,
   "id": "7fb71f9b",
   "metadata": {},
   "outputs": [
    {
     "data": {
      "text/html": [
       "<div>\n",
       "<style scoped>\n",
       "    .dataframe tbody tr th:only-of-type {\n",
       "        vertical-align: middle;\n",
       "    }\n",
       "\n",
       "    .dataframe tbody tr th {\n",
       "        vertical-align: top;\n",
       "    }\n",
       "\n",
       "    .dataframe thead th {\n",
       "        text-align: right;\n",
       "    }\n",
       "</style>\n",
       "<table border=\"1\" class=\"dataframe\">\n",
       "  <thead>\n",
       "    <tr style=\"text-align: right;\">\n",
       "      <th>y: truth</th>\n",
       "      <th>0</th>\n",
       "      <th>1</th>\n",
       "    </tr>\n",
       "    <tr>\n",
       "      <th>y_pred: 🔮</th>\n",
       "      <th></th>\n",
       "      <th></th>\n",
       "    </tr>\n",
       "  </thead>\n",
       "  <tbody>\n",
       "    <tr>\n",
       "      <th>0</th>\n",
       "      <td>333</td>\n",
       "      <td>24</td>\n",
       "    </tr>\n",
       "    <tr>\n",
       "      <th>1</th>\n",
       "      <td>45</td>\n",
       "      <td>167</td>\n",
       "    </tr>\n",
       "  </tbody>\n",
       "</table>\n",
       "</div>"
      ],
      "text/plain": [
       "y: truth     0    1\n",
       "y_pred: 🔮          \n",
       "0          333   24\n",
       "1           45  167"
      ]
     },
     "execution_count": 29,
     "metadata": {},
     "output_type": "execute_result"
    }
   ],
   "source": [
    "pd.crosstab(y,\n",
    "           y_pred,\n",
    "           rownames=[\"y_pred: 🔮\"],\n",
    "           colnames=[\"y: truth\"])"
   ]
  },
  {
   "cell_type": "code",
   "execution_count": null,
   "id": "a3978335",
   "metadata": {},
   "outputs": [],
   "source": [
    "\"\"\"\n",
    "Good\n",
    "333: True Negative: TN\n",
    "167: True Positive: TP\n",
    "\n",
    "Bad\n",
    "24: I have covid, but test says I don't: FN\n",
    "45: 45 will be positive, and they were not. Failed / False  positive: FP\n",
    "\n",
    "\"\"\""
   ]
  },
  {
   "cell_type": "markdown",
   "id": "ec7a8f9e",
   "metadata": {
    "lang": "en"
   },
   "source": [
    "### Let's create a prediction column for the entire dataframe: skipping metrics for now"
   ]
  },
  {
   "cell_type": "code",
   "execution_count": 33,
   "id": "6fe8efd5",
   "metadata": {},
   "outputs": [
    {
     "data": {
      "image/png": "[encoded data removed]",
      "text/plain": [
       "<Figure size 1152x648 with 1 Axes>"
      ]
     },
     "metadata": {},
     "output_type": "display_data"
    }
   ],
   "source": [
    "x = np.linspace(df.mean_radius.min(), df.mean_radius.max(), 100)\n",
    "y = lr.predict(x.reshape(-1 ,1))\n",
    "\n",
    "sns.scatterplot(x = df.mean_radius, y = df.is_cancer)\n",
    "plt.plot(x, y, c=\"red\");"
   ]
  },
  {
   "cell_type": "markdown",
   "id": "e1b5fb0e",
   "metadata": {
    "lang": "en"
   },
   "source": [
    "### Confusion matrix with our data"
   ]
  },
  {
   "cell_type": "code",
   "execution_count": null,
   "id": "3afe5ce1",
   "metadata": {},
   "outputs": [],
   "source": []
  },
  {
   "cell_type": "markdown",
   "id": "5d7e3bd4",
   "metadata": {
    "lang": "en"
   },
   "source": [
    "* 333 times - **We have predicted NO and it is NO** -> True\n",
    "* 24 times - We have predicted YES and it is NO -> False\n",
    "* 45 times - We have preached NO and it is YES -> False\n",
    "* 167 times - **We have predicted YES and it is YES** -> True"
   ]
  },
  {
   "cell_type": "code",
   "execution_count": null,
   "id": "7a173fee",
   "metadata": {},
   "outputs": [],
   "source": []
  },
  {
   "cell_type": "markdown",
   "id": "7c140935",
   "metadata": {
    "lang": "en"
   },
   "source": [
    "## We do the same with many predictors"
   ]
  },
  {
   "cell_type": "markdown",
   "id": "7e2a9a24",
   "metadata": {
    "lang": "en"
   },
   "source": [
    "### Review of Train Test Split / DIVISION IN TRAIN TEST"
   ]
  },
  {
   "cell_type": "markdown",
   "id": "faca1bd7",
   "metadata": {},
   "source": [
    "![divisióntraintest](../images/traintest.png)"
   ]
  },
  {
   "cell_type": "markdown",
   "id": "67a5ed16",
   "metadata": {},
   "source": [
    "https://scikit-learn.org/stable/modules/generated/sklearn.model_selection.train_test_split.html"
   ]
  },
  {
   "cell_type": "code",
   "execution_count": null,
   "id": "b70f477d",
   "metadata": {},
   "outputs": [],
   "source": [
    "df = pd.read_csv(\"breast_cancer.csv\")"
   ]
  },
  {
   "cell_type": "code",
   "execution_count": 36,
   "id": "112eb778",
   "metadata": {},
   "outputs": [],
   "source": [
    "X = df.drop(\"is_cancer\", axis=1) # df\n",
    "y = df.is_cancer # series"
   ]
  },
  {
   "cell_type": "code",
   "execution_count": 37,
   "id": "2c92c833",
   "metadata": {
    "scrolled": true
   },
   "outputs": [],
   "source": [
    "from sklearn.model_selection import train_test_split"
   ]
  },
  {
   "cell_type": "code",
   "execution_count": 38,
   "id": "1b48b450",
   "metadata": {},
   "outputs": [],
   "source": [
    "X_train, X_test, y_train, y_test = train_test_split(X, y)"
   ]
  },
  {
   "cell_type": "markdown",
   "id": "48df8055",
   "metadata": {
    "lang": "en"
   },
   "source": [
    "Kit-kat (max iter)\n",
    "I get this warning... we'll see hyperparameter tuning, but basically I have to scale my data or make the model more complex with more iterations.\n",
    "```\n",
    "/usr/local/Caskroom/miniconda/base/envs/ironhack/lib/python3.8/site-packages/sklearn/linear_model/_logistic.py:814: ConvergenceWarning: lbfgs failed to converge (status =1):\n",
    "STOP: TOTAL NO. of ITERATIONS REACHED LIMIT.\n",
    "\n",
    "Increase the number of iterations (max_iter) or scale the data as shown in:\n",
    "    https://scikit-learn.org/stable/modules/preprocessing.html\n",
    "Please also refer to the documentation for alternative solver options:\n",
    "    https://scikit-learn.org/stable/modules/linear_model.html#logistic-regression\n",
    "  n_iter_i = _check_optimize_result(\n",
    "```"
   ]
  },
  {
   "cell_type": "markdown",
   "id": "d1d001a3",
   "metadata": {
    "lang": "en"
   },
   "source": [
    "### Let's see what we got\n",
    "#### part of train"
   ]
  },
  {
   "cell_type": "code",
   "execution_count": 40,
   "id": "5b46ceae",
   "metadata": {},
   "outputs": [
    {
     "data": {
      "text/plain": [
       "(426, 30)"
      ]
     },
     "execution_count": 40,
     "metadata": {},
     "output_type": "execute_result"
    }
   ],
   "source": [
    "X_train.shape"
   ]
  },
  {
   "cell_type": "code",
   "execution_count": 44,
   "id": "958070d7",
   "metadata": {},
   "outputs": [
    {
     "data": {
      "text/plain": [
       "(426,)"
      ]
     },
     "execution_count": 44,
     "metadata": {},
     "output_type": "execute_result"
    }
   ],
   "source": [
    "y_train.shape"
   ]
  },
  {
   "cell_type": "markdown",
   "id": "f2d9d212",
   "metadata": {
    "lang": "en"
   },
   "source": [
    "#### test part"
   ]
  },
  {
   "cell_type": "code",
   "execution_count": 42,
   "id": "fc45a761",
   "metadata": {
    "scrolled": true
   },
   "outputs": [
    {
     "data": {
      "text/plain": [
       "(143, 30)"
      ]
     },
     "execution_count": 42,
     "metadata": {},
     "output_type": "execute_result"
    }
   ],
   "source": [
    "X_test.shape"
   ]
  },
  {
   "cell_type": "code",
   "execution_count": 46,
   "id": "d448e087",
   "metadata": {},
   "outputs": [
    {
     "data": {
      "text/plain": [
       "(143,)"
      ]
     },
     "execution_count": 46,
     "metadata": {},
     "output_type": "execute_result"
    }
   ],
   "source": [
    "y_test.shape"
   ]
  },
  {
   "cell_type": "code",
   "execution_count": 47,
   "id": "90b1ae1d",
   "metadata": {},
   "outputs": [],
   "source": [
    "lr = LogisticRegression()"
   ]
  },
  {
   "cell_type": "code",
   "execution_count": 48,
   "id": "7f7f7186",
   "metadata": {},
   "outputs": [
    {
     "data": {
      "text/plain": [
       "LogisticRegression()"
      ]
     },
     "execution_count": 48,
     "metadata": {},
     "output_type": "execute_result"
    }
   ],
   "source": [
    "lr.fit(X_train, y_train)"
   ]
  },
  {
   "cell_type": "code",
   "execution_count": 50,
   "id": "41115e93",
   "metadata": {},
   "outputs": [
    {
     "data": {
      "text/plain": [
       "array([0, 0, 1, 0, 1, 0, 0, 1, 0, 0, 0, 0, 1, 0, 0, 0, 0, 0, 1, 0, 1, 0,\n",
       "       0, 0, 0, 0, 0, 0, 1, 1, 0, 0, 1, 1, 0, 0, 0, 0, 0, 1, 0, 1, 0, 1,\n",
       "       0, 1, 1, 1, 0, 1, 1, 0, 0, 0, 0, 0, 0, 0, 0, 1, 0, 0, 1, 1, 1, 0,\n",
       "       0, 0, 0, 0, 0, 1, 0, 1, 0, 0, 0, 1, 0, 0, 0, 1, 1, 0, 0, 0, 0, 1,\n",
       "       1, 1, 0, 1, 1, 1, 0, 0, 0, 0, 0, 0, 1, 0, 1, 0, 0, 0, 0, 0, 0, 1,\n",
       "       1, 0, 0, 0, 0, 1, 0, 0, 0, 0, 0, 0, 1, 0, 0, 0, 0, 0, 1, 1, 1, 0,\n",
       "       0, 0, 0, 0, 0, 0, 0, 1, 1, 0, 0])"
      ]
     },
     "execution_count": 50,
     "metadata": {},
     "output_type": "execute_result"
    }
   ],
   "source": [
    "y_pred = lr.predict(X_test)\n",
    "y_pred"
   ]
  },
  {
   "cell_type": "code",
   "execution_count": 52,
   "id": "56e2c3bc",
   "metadata": {},
   "outputs": [
    {
     "data": {
      "text/html": [
       "<div>\n",
       "<style scoped>\n",
       "    .dataframe tbody tr th:only-of-type {\n",
       "        vertical-align: middle;\n",
       "    }\n",
       "\n",
       "    .dataframe tbody tr th {\n",
       "        vertical-align: top;\n",
       "    }\n",
       "\n",
       "    .dataframe thead th {\n",
       "        text-align: right;\n",
       "    }\n",
       "</style>\n",
       "<table border=\"1\" class=\"dataframe\">\n",
       "  <thead>\n",
       "    <tr style=\"text-align: right;\">\n",
       "      <th>TEST</th>\n",
       "      <th>0</th>\n",
       "      <th>1</th>\n",
       "    </tr>\n",
       "    <tr>\n",
       "      <th>THE TRUTH</th>\n",
       "      <th></th>\n",
       "      <th></th>\n",
       "    </tr>\n",
       "  </thead>\n",
       "  <tbody>\n",
       "    <tr>\n",
       "      <th>0</th>\n",
       "      <td>90</td>\n",
       "      <td>4</td>\n",
       "    </tr>\n",
       "    <tr>\n",
       "      <th>1</th>\n",
       "      <td>9</td>\n",
       "      <td>40</td>\n",
       "    </tr>\n",
       "  </tbody>\n",
       "</table>\n",
       "</div>"
      ],
      "text/plain": [
       "TEST        0   1\n",
       "THE TRUTH        \n",
       "0          90   4\n",
       "1           9  40"
      ]
     },
     "execution_count": 52,
     "metadata": {},
     "output_type": "execute_result"
    }
   ],
   "source": [
    "pd.crosstab(\n",
    "    y_test,\n",
    "    y_pred,\n",
    "    rownames=[\"THE TRUTH\"],\n",
    "    colnames=[\"TEST\"]\n",
    ")\n",
    "\n",
    "# 90: TN\n",
    "# 40: TP\n",
    "\n",
    "# 9: FN -> It's positive, test says im not. False Negative\n",
    "# 4: FP -> Im actually negative, test says positive. False Positive"
   ]
  },
  {
   "cell_type": "markdown",
   "id": "47246bd4",
   "metadata": {},
   "source": [
    "## Predict Proba"
   ]
  },
  {
   "cell_type": "code",
   "execution_count": 64,
   "id": "9c7fb73c",
   "metadata": {},
   "outputs": [
    {
     "data": {
      "text/plain": [
       "[mean_radius                  17.990000\n",
       " mean_texture                 10.380000\n",
       " mean_perimeter              122.800000\n",
       " mean_area                  1001.000000\n",
       " mean_smoothness               0.118400\n",
       " mean_compactness              0.277600\n",
       " mean_concavity                0.300100\n",
       " mean_concave_points           0.147100\n",
       " mean_symmetry                 0.241900\n",
       " mean_fractal_dimension        0.078710\n",
       " radius_error                  1.095000\n",
       " texture_error                 0.905300\n",
       " perimeter_error               8.589000\n",
       " area_error                  153.400000\n",
       " smoothness_error              0.006399\n",
       " compactness_error             0.049040\n",
       " concavity_error               0.053730\n",
       " concave_points_error          0.015870\n",
       " symmetry_error                0.030030\n",
       " fractal_dimension_error       0.006193\n",
       " worst_radius                 25.380000\n",
       " worst_texture                17.330000\n",
       " worst_perimeter             184.600000\n",
       " worst_area                 2019.000000\n",
       " worst_smoothness              0.162200\n",
       " worst_compactness             0.665600\n",
       " worst_concavity               0.711900\n",
       " worst_concave_points          0.265400\n",
       " worst_symmetry                0.460100\n",
       " worst_fractal_dimension       0.118900\n",
       " Name: 0, dtype: float64]"
      ]
     },
     "execution_count": 64,
     "metadata": {},
     "output_type": "execute_result"
    }
   ],
   "source": [
    "first_row = [df.iloc[0][:-1]]\n",
    "first_row"
   ]
  },
  {
   "cell_type": "code",
   "execution_count": 66,
   "id": "a1a8959a",
   "metadata": {},
   "outputs": [
    {
     "data": {
      "text/plain": [
       "array([[3.10862447e-15, 1.00000000e+00]])"
      ]
     },
     "execution_count": 66,
     "metadata": {},
     "output_type": "execute_result"
    }
   ],
   "source": [
    "predicted_prob = lr.predict_proba(first_row)\n",
    "predicted_prob"
   ]
  },
  {
   "cell_type": "code",
   "execution_count": 68,
   "id": "472ec85c",
   "metadata": {},
   "outputs": [
    {
     "name": "stdout",
     "output_type": "stream",
     "text": [
      "cancer\n"
     ]
    }
   ],
   "source": [
    "if predicted_prob[0][0] > predicted_prob[0][1]:\n",
    "    print(\"NOT cancer\")\n",
    "else:\n",
    "    print(\"cancer\")"
   ]
  },
  {
   "cell_type": "code",
   "execution_count": 70,
   "id": "3133001d",
   "metadata": {
    "scrolled": true
   },
   "outputs": [
    {
     "data": {
      "text/plain": [
       "1.0"
      ]
     },
     "execution_count": 70,
     "metadata": {},
     "output_type": "execute_result"
    }
   ],
   "source": [
    "predicted_prob[0][0] + predicted_prob[0][1]"
   ]
  },
  {
   "cell_type": "markdown",
   "id": "4a23de6e",
   "metadata": {
    "lang": "en"
   },
   "source": [
    "## Metrics!"
   ]
  },
  {
   "cell_type": "code",
   "execution_count": 71,
   "id": "caroline-reply",
   "metadata": {
    "scrolled": true
   },
   "outputs": [],
   "source": [
    "from sklearn.metrics import accuracy_score, precision_score, recall_score, f1_score, fbeta_score, confusion_matrix"
   ]
  },
  {
   "cell_type": "markdown",
   "id": "570699fa",
   "metadata": {
    "lang": "en"
   },
   "source": [
    "### Confusion matrix"
   ]
  },
  {
   "cell_type": "markdown",
   "id": "c1615ea5",
   "metadata": {},
   "source": [
    "`metrics`: binary and multi-lable classification [towardsdatasciece](https://towardsdatascience.com/micro-macro-weighted-averages-of-f1-score-clearly-explained-b603420b292f)"
   ]
  },
  {
   "cell_type": "markdown",
   "id": "74b5b377",
   "metadata": {
    "lang": "en"
   },
   "source": [
    "Confusion Matrix\n",
    "We are going to explain how the confusion matrix works with a hypothetical marketing example. In this example, we contact 100 customers and 80 of them tell us that they are not interested and 20 of them that they are.\n",
    "\n",
    "Our model (in the example) is not very good, although depending on what metric we use it might appear to be better than it is.\n",
    "\n",
    "We have used as values ​​of the binary classification:\n",
    "\n",
    "- 0: not interested\n",
    "- 1: yes you are interested"
   ]
  },
  {
   "cell_type": "markdown",
   "id": "exotic-mountain",
   "metadata": {},
   "source": [
    "![matrizdeconfusión](https://www.iartificial.net/wp-content/uploads/2019/11/Matriz-Confusion-Ejemplo.webp)"
   ]
  },
  {
   "cell_type": "markdown",
   "id": "965ce0f2",
   "metadata": {
    "lang": "en"
   },
   "source": [
    "In the confusion matrix on the left you can see the values ​​for this example. In the confusion matrix on the right, the generic names when we use the English nomenclature: True Negative [TN], True Positive [TP], False Positive [FP], False Negative [FN].\n",
    "\n",
    "Tip: to easily remember the confusion matrix:\n",
    "\n",
    "Positive (Positive) or Negative (Negative): refers to the prediction. If the model predicts 1 then it will be positive, and if it predicts 0 it will be negative.\n",
    "True (True) or False (False): refers to whether the prediction is correct or not."
   ]
  },
  {
   "cell_type": "markdown",
   "id": "deluxe-thompson",
   "metadata": {},
   "source": [
    "<img src=\"https://github.com/andrewwlong/classification_metrics_sklearn/raw/541a0d065ffb8b3ff705161f6d16088d434b2ea7/img/conf_matrix.png\">"
   ]
  },
  {
   "cell_type": "markdown",
   "id": "da995598",
   "metadata": {
    "lang": "en"
   },
   "source": [
    "Equivalent with sklearn"
   ]
  },
  {
   "cell_type": "code",
   "execution_count": 72,
   "id": "focused-clearance",
   "metadata": {
    "scrolled": true
   },
   "outputs": [],
   "source": [
    "from sklearn.metrics import confusion_matrix"
   ]
  },
  {
   "cell_type": "code",
   "execution_count": 73,
   "id": "09925f9f",
   "metadata": {
    "scrolled": true
   },
   "outputs": [
    {
     "data": {
      "text/plain": [
       "array([[90,  9],\n",
       "       [ 4, 40]])"
      ]
     },
     "execution_count": 73,
     "metadata": {},
     "output_type": "execute_result"
    }
   ],
   "source": [
    "confusion_matrix(y_pred, y_test)"
   ]
  },
  {
   "cell_type": "code",
   "execution_count": null,
   "id": "c5bf2b10",
   "metadata": {},
   "outputs": [],
   "source": [
    "# MAE\n",
    "# MSE\n",
    "# RMSE\n",
    "\n",
    "# R2: TSS/RSS "
   ]
  },
  {
   "cell_type": "code",
   "execution_count": null,
   "id": "4b7b8e98",
   "metadata": {},
   "outputs": [],
   "source": [
    "# Accuracy: how many I got right out of everything\n",
    "# Precision\n",
    "# Recall \n",
    "\n",
    "# F1: precision & recall"
   ]
  },
  {
   "cell_type": "markdown",
   "id": "300e17c7",
   "metadata": {
    "lang": "en"
   },
   "source": [
    "### Accuracy"
   ]
  },
  {
   "cell_type": "markdown",
   "id": "74313f6e",
   "metadata": {
    "lang": "en"
   },
   "source": [
    "Accuracy measures the percentage of cases that the model has got right. This is one of the most used and favorite metrics… that I recommend you avoid! The problem with accuracy is that it can lead to deception, that is, it can make a bad model appear to be much better than it is.\n",
    "The problem of using accuracy on unbalanced data.....\n",
    "\n",
    "• Example: In a data set with 990 positives and 10\n",
    "negatives, a classifier that always predicts “positive”,\n",
    "would have a 0.99 hit rate And yet it's bad!\n",
    "\n",
    "Represents the proportion of samples correctly predicted\n",
    " * The most common metric for ranking 🤔👀\n",
    " * It is useful when\n",
    "  - the data set has balanced classes (similar proportion of True and False)\n",
    "  - there is symmetry between True and False (for example, prediction of \"male\" or \"female\")\n",
    " * **Often misused!** since:\n",
    "  - many problems are not symmetrical (for example, cancer vs. non-cancer)\n",
    "\n",
    "The accuracy is calculated with the following formula:\n",
    "\n",
    "$$accuracy = \\frac{TP + TN}{TP + TN + FP + FN}$$"
   ]
  },
  {
   "cell_type": "code",
   "execution_count": null,
   "id": "dimensional-olympus",
   "metadata": {
    "scrolled": true
   },
   "outputs": [],
   "source": [
    "from sklearn.metrics import accuracy_score"
   ]
  },
  {
   "cell_type": "code",
   "execution_count": 74,
   "id": "19bb2dd3",
   "metadata": {},
   "outputs": [
    {
     "data": {
      "text/plain": [
       "0.9090909090909091"
      ]
     },
     "execution_count": 74,
     "metadata": {},
     "output_type": "execute_result"
    }
   ],
   "source": [
    "accuracy_score(y_test, y_pred)"
   ]
  },
  {
   "cell_type": "markdown",
   "id": "50fc82f6",
   "metadata": {
    "lang": "en"
   },
   "source": [
    "Interpreting this metric, we see that the model has been correct 96% of the diagnoses, that is, it will be wrong 4% of the times it predicts."
   ]
  },
  {
   "cell_type": "markdown",
   "id": "30ed0cdd",
   "metadata": {
    "lang": "en"
   },
   "source": [
    "### Precision"
   ]
  },
  {
   "cell_type": "markdown",
   "id": "826bfa8a",
   "metadata": {
    "lang": "en"
   },
   "source": [
    "With the precision metric we can measure the quality of the machine learning model in classification tasks. In the example, it means that accuracy is the answer to the question: what percentage of the customers we contact will be interested?\n",
    "\n",
    "To calculate the precision we will use the following formula:\n",
    "\n",
    "$$precision = \\frac{TP}{TP + FP}$$\n",
    "\n",
    "It is the fraction of predicted positive events that are actually positive as shown below\n",
    "\n",
    "This metric is defined as the number of true positive cases over the total number of everything you said was positive. In other words, of everything that the algorithm predicted as positive, it evaluates how much of it was true. One of the examples proposed [here](https://towardsdatascience.com/accuracy-precision-recall-or-f1-331fb37c5cb9) is to mark an email as spam, when it really was not. Imagine that an anti-spam system has a low precision and marks an email as spam even though it is not, and you end up not reading your sister's wedding invitation.\n",
    "One of the cases where this metric can be used, as the post says, is when the number of false positives has a very important impact. Imagine a classifier that mistakes a diagnosis and you end up amputating a patient's healthy leg.\n",
    "\n",
    "This image marks the data sets selected when calculating precision."
   ]
  },
  {
   "cell_type": "markdown",
   "id": "finnish-difficulty",
   "metadata": {},
   "source": [
    "<img src=\"https://www.iartificial.net/wp-content/uploads/2019/11/precision.webp\">"
   ]
  },
  {
   "cell_type": "markdown",
   "id": "c7001e79",
   "metadata": {
    "lang": "en"
   },
   "source": [
    "Precision = Percentage of POSITIVE predictions that were correct.\n",
    "What proportion of the predicted Positives is actually Positive?\n",
    "We have to look at the total number of predicted Positives (True Positives plus False Positives, TP+FP), and see how many of them are True Positives (TP)."
   ]
  },
  {
   "cell_type": "code",
   "execution_count": null,
   "id": "hairy-atmosphere",
   "metadata": {
    "scrolled": true
   },
   "outputs": [],
   "source": [
    "from sklearn.metrics import precision_score"
   ]
  },
  {
   "cell_type": "code",
   "execution_count": 77,
   "id": "b9ad555f",
   "metadata": {},
   "outputs": [
    {
     "data": {
      "text/plain": [
       "0.9090909090909091"
      ]
     },
     "execution_count": 77,
     "metadata": {},
     "output_type": "execute_result"
    }
   ],
   "source": [
    "precision_score(y_test, y_pred)"
   ]
  },
  {
   "cell_type": "markdown",
   "id": "bb82f8fd",
   "metadata": {
    "lang": "en"
   },
   "source": [
    "### Recall"
   ]
  },
  {
   "cell_type": "markdown",
   "id": "8b82dc3a",
   "metadata": {
    "lang": "en"
   },
   "source": [
    "The recall metric will inform us about the amount that the machine learning model is capable of identifying. In the example, it refers to the fact that recall is the answer to the question: what percentage of customers are interested are we able to identify?\n",
    "\n",
    "To calculate recall we will use the following formula:\n",
    "\n",
    "$$recall = \\frac{TP}{TP + FN}$$"
   ]
  },
  {
   "cell_type": "markdown",
   "id": "conceptual-tamil",
   "metadata": {},
   "source": [
    "<img src=\"https://www.iartificial.net/wp-content/uploads/2019/11/recall-exhaustividad.webp\">"
   ]
  },
  {
   "cell_type": "markdown",
   "id": "6083d090",
   "metadata": {
    "lang": "en"
   },
   "source": [
    "It answers a different question: what proportion of real positives is correctly classified?\n",
    "Percentage of positive cases that I have captured."
   ]
  },
  {
   "cell_type": "code",
   "execution_count": null,
   "id": "former-pendant",
   "metadata": {
    "scrolled": true
   },
   "outputs": [],
   "source": [
    "from sklearn.metrics import recall_score"
   ]
  },
  {
   "cell_type": "code",
   "execution_count": 76,
   "id": "ec025db5",
   "metadata": {
    "scrolled": true
   },
   "outputs": [
    {
     "data": {
      "text/plain": [
       "0.8163265306122449"
      ]
     },
     "execution_count": 76,
     "metadata": {},
     "output_type": "execute_result"
    }
   ],
   "source": [
    "recall_score(y_test, y_pred)"
   ]
  },
  {
   "cell_type": "markdown",
   "id": "b2b2e89b",
   "metadata": {
    "lang": "en"
   },
   "source": [
    "### Differentiating precision and recall\n",
    "Despite being similar, they have subtle distinctions.\n",
    "\n",
    "- Precision: How many times is what my model says really true?\n",
    "- Recall: How many times is my model able to identify the truth?\n",
    "\n",
    "Precision focuses on what the model says and then compares it to reality. On the other hand, recall starts from reality, and then evaluates how good the model is at recognizing it."
   ]
  },
  {
   "attachments": {
    "image.png": {
     "image/png": "[encoded data removed]"
    }
   },
   "cell_type": "markdown",
   "id": "73f1ff99",
   "metadata": {},
   "source": [
    "![image.png](attachment:image.png)"
   ]
  },
  {
   "cell_type": "markdown",
   "id": "psychological-parish",
   "metadata": {},
   "source": [
    "### F1 Score"
   ]
  },
  {
   "cell_type": "markdown",
   "id": "c851aaf1",
   "metadata": {
    "lang": "en"
   },
   "source": [
    "The F1 value is used to combine the precision and recall measurements into a single value. This is handy because it makes it easier to compare the combined accuracy and recall performance between various solutions.\n",
    "\n",
    "F1 is calculated by taking the harmonic mean between precision and recall:\n",
    "\n",
    "$$F1 = 2 \\cdot \\frac{precision \\cdot recall}{precision + recall}$$"
   ]
  },
  {
   "cell_type": "code",
   "execution_count": null,
   "id": "domestic-loading",
   "metadata": {
    "scrolled": true
   },
   "outputs": [],
   "source": [
    "from sklearn.metrics import f1_score"
   ]
  },
  {
   "cell_type": "code",
   "execution_count": 75,
   "id": "9973553a",
   "metadata": {},
   "outputs": [
    {
     "data": {
      "text/plain": [
       "0.8602150537634408"
      ]
     },
     "execution_count": 75,
     "metadata": {},
     "output_type": "execute_result"
    }
   ],
   "source": [
    "f1_score(y_test, y_pred)"
   ]
  },
  {
   "cell_type": "code",
   "execution_count": 83,
   "id": "e83c9ff4",
   "metadata": {},
   "outputs": [
    {
     "name": "stdout",
     "output_type": "stream",
     "text": [
      "Accuracy: 0.9090909090909091\n",
      "Precision: 0.9090909090909091\n",
      "Recall: 0.8163265306122449\n",
      "-------------\n",
      "F1 score: 0.8602150537634408\n"
     ]
    }
   ],
   "source": [
    "print(f\"Accuracy: {accuracy_score(y_test, y_pred)}\")\n",
    "print(f\"Precision: {precision_score(y_test, y_pred)}\")\n",
    "print(f\"Recall: {recall_score(y_test, y_pred)}\")\n",
    "print(\"-------------\")\n",
    "print(f\"F1 score: {f1_score(y_test, y_pred)}\")"
   ]
  },
  {
   "cell_type": "markdown",
   "id": "aa19e74b",
   "metadata": {
    "lang": "en"
   },
   "source": [
    "I have extracted documentation of the metrics from [this](https://www.iartificial.net/precision-recall-f1-accuracy-in-classification/) exceptionally explained article.\n",
    "But here I leave you more:\n",
    "- https://towardsdatascience.com/accuracy-precision-recall-or-f1-331fb37c5cb9\n",
    "- https://blog.exsilio.com/all/accuracy-precision-recall-f1-score-interpretation-of-performance-measures/\n",
    "- https://wiki.pathmind.com/accuracy-precision-recall-f1"
   ]
  },
  {
   "cell_type": "markdown",
   "id": "ad49f9b3",
   "metadata": {
    "lang": "en"
   },
   "source": [
    "## Other classification models"
   ]
  },
  {
   "cell_type": "code",
   "execution_count": 85,
   "id": "previous-publication",
   "metadata": {
    "scrolled": true
   },
   "outputs": [],
   "source": [
    "from sklearn.discriminant_analysis import LinearDiscriminantAnalysis\n",
    "from sklearn.neighbors import KNeighborsClassifier\n",
    "from sklearn.naive_bayes import GaussianNB\n",
    "from sklearn.tree import DecisionTreeClassifier\n",
    "from sklearn.svm import SVC"
   ]
  },
  {
   "cell_type": "code",
   "execution_count": 86,
   "id": "69e5e835",
   "metadata": {},
   "outputs": [],
   "source": [
    "models = {\n",
    "    \"disc_analysis\": LinearDiscriminantAnalysis(),\n",
    "    \"knc\": KNeighborsClassifier(),\n",
    "    \"GaussianNB\": GaussianNB(),\n",
    "    \"DecisionTreeClassifier\": DecisionTreeClassifier(),\n",
    "    \"svc\": SVC()\n",
    "}"
   ]
  },
  {
   "cell_type": "code",
   "execution_count": null,
   "id": "d5c0aab8",
   "metadata": {},
   "outputs": [],
   "source": [
    "# train, test, split"
   ]
  },
  {
   "cell_type": "code",
   "execution_count": 87,
   "id": "8a2005fe",
   "metadata": {},
   "outputs": [
    {
     "name": "stdout",
     "output_type": "stream",
     "text": [
      "Training: disc_analysis\n",
      "Training: knc\n",
      "Training: GaussianNB\n",
      "Training: DecisionTreeClassifier\n",
      "Training: svc\n"
     ]
    }
   ],
   "source": [
    "for name, model in models.items():\n",
    "    print(f\"Training: {name}\")\n",
    "    model.fit(X_train, y_train)"
   ]
  },
  {
   "cell_type": "markdown",
   "id": "1dcfad00",
   "metadata": {
    "lang": "en"
   },
   "source": [
    "## We make predictions and measure"
   ]
  },
  {
   "cell_type": "code",
   "execution_count": 88,
   "id": "applied-cleveland",
   "metadata": {
    "scrolled": false
   },
   "outputs": [
    {
     "name": "stdout",
     "output_type": "stream",
     "text": [
      "------------------\n",
      "LinearDiscriminantAnalysis()\n",
      "Accuracy: 0.9440559440559441\n",
      "Precision: 1.0\n",
      "Recall: 0.8367346938775511\n",
      "F1 score: 0.9111111111111111\n",
      "------------------\n",
      "KNeighborsClassifier()\n",
      "Accuracy: 0.9020979020979021\n",
      "Precision: 0.8888888888888888\n",
      "Recall: 0.8163265306122449\n",
      "F1 score: 0.851063829787234\n",
      "------------------\n",
      "GaussianNB()\n",
      "Accuracy: 0.9440559440559441\n",
      "Precision: 0.9555555555555556\n",
      "Recall: 0.8775510204081632\n",
      "F1 score: 0.9148936170212767\n",
      "------------------\n",
      "DecisionTreeClassifier()\n",
      "Accuracy: 0.916083916083916\n",
      "Precision: 0.8627450980392157\n",
      "Recall: 0.8979591836734694\n",
      "F1 score: 0.8799999999999999\n",
      "------------------\n",
      "SVC()\n",
      "Accuracy: 0.8951048951048951\n",
      "Precision: 1.0\n",
      "Recall: 0.6938775510204082\n",
      "F1 score: 0.819277108433735\n"
     ]
    }
   ],
   "source": [
    "for name, model in models.items():\n",
    "    print(f\"------------------\")\n",
    "    print(model)\n",
    "    y_pred = model.predict(X_test)\n",
    "    print(f\"Accuracy: {accuracy_score(y_test, y_pred)}\")\n",
    "    print(f\"Precision: {precision_score(y_test, y_pred)}\")\n",
    "    print(f\"Recall: {recall_score(y_test, y_pred)}\")\n",
    "    print(f\"F1 score: {f1_score(y_test, y_pred)}\")"
   ]
  },
  {
   "cell_type": "code",
   "execution_count": 89,
   "id": "d4431cf2",
   "metadata": {},
   "outputs": [],
   "source": [
    "gnb = GaussianNB()"
   ]
  },
  {
   "cell_type": "code",
   "execution_count": 97,
   "id": "7b04959f",
   "metadata": {},
   "outputs": [
    {
     "data": {
      "text/plain": [
       "GaussianNB()"
      ]
     },
     "execution_count": 97,
     "metadata": {},
     "output_type": "execute_result"
    }
   ],
   "source": [
    "gnb.fit(X_train, y_train)"
   ]
  },
  {
   "cell_type": "code",
   "execution_count": 104,
   "id": "4ffbfcfd",
   "metadata": {},
   "outputs": [
    {
     "data": {
      "text/plain": [
       "[mean_radius                  20.570000\n",
       " mean_texture                 17.770000\n",
       " mean_perimeter              132.900000\n",
       " mean_area                  1326.000000\n",
       " mean_smoothness               0.084740\n",
       " mean_compactness              0.078640\n",
       " mean_concavity                0.086900\n",
       " mean_concave_points           0.070170\n",
       " mean_symmetry                 0.181200\n",
       " mean_fractal_dimension        0.056670\n",
       " radius_error                  0.543500\n",
       " texture_error                 0.733900\n",
       " perimeter_error               3.398000\n",
       " area_error                   74.080000\n",
       " smoothness_error              0.005225\n",
       " compactness_error             0.013080\n",
       " concavity_error               0.018600\n",
       " concave_points_error          0.013400\n",
       " symmetry_error                0.013890\n",
       " fractal_dimension_error       0.003532\n",
       " worst_radius                 24.990000\n",
       " worst_texture                23.410000\n",
       " worst_perimeter             158.800000\n",
       " worst_area                 1956.000000\n",
       " worst_smoothness              0.123800\n",
       " worst_compactness             0.186600\n",
       " worst_concavity               0.241600\n",
       " worst_concave_points          0.186000\n",
       " worst_symmetry                0.275000\n",
       " worst_fractal_dimension       0.089020\n",
       " Name: 1, dtype: float64]"
      ]
     },
     "execution_count": 104,
     "metadata": {},
     "output_type": "execute_result"
    }
   ],
   "source": [
    "example = [df.iloc[1][:-1]]\n",
    "example"
   ]
  },
  {
   "cell_type": "code",
   "execution_count": 110,
   "id": "d283cc44",
   "metadata": {},
   "outputs": [
    {
     "data": {
      "text/plain": [
       "1.0"
      ]
     },
     "execution_count": 110,
     "metadata": {},
     "output_type": "execute_result"
    }
   ],
   "source": [
    "df.iloc[1][-1]"
   ]
  },
  {
   "cell_type": "code",
   "execution_count": 111,
   "id": "95e2fb9f",
   "metadata": {},
   "outputs": [
    {
     "data": {
      "text/plain": [
       "array([1])"
      ]
     },
     "execution_count": 111,
     "metadata": {},
     "output_type": "execute_result"
    }
   ],
   "source": [
    "gnb.predict(example) #F1: 0.91"
   ]
  },
  {
   "cell_type": "markdown",
   "id": "464937e6",
   "metadata": {},
   "source": [
    "# Logistic regression: visual example (only three features)"
   ]
  },
  {
   "cell_type": "code",
   "execution_count": null,
   "id": "29e0b925",
   "metadata": {},
   "outputs": [],
   "source": [
    "import numpy as np\n",
    "import pandas as pd\n",
    "from sklearn.linear_model import LogisticRegression\n",
    "from mpl_toolkits.mplot3d import Axes3D\n",
    "import matplotlib.pyplot as plt\n",
    "import plotly.graph_objects as go\n",
    "import plotly.io as pio\n",
    "\n",
    "# Load your dataset\n",
    "data = pd.read_csv('../datasets/breast_cancer.csv')  # Replace 'your_dataset.csv' with your actual dataset file path\n",
    "\n",
    "# Split the data into features and target\n",
    "X = data[[\"mean_radius\", \"mean_area\", \"mean_symmetry\"]]\n",
    "y = data['is_cancer']\n",
    "\n",
    "# Fit the logistic regression model\n",
    "model = LogisticRegression()\n",
    "model.fit(X, y)\n",
    "\n",
    "# Generate predictions\n",
    "y_pred = model.predict(X)\n",
    "\n",
    "# Create a 3D interactive plot with decision boundary\n",
    "fig = go.Figure(data=[\n",
    "    go.Scatter3d(\n",
    "        x=X['mean_radius'],\n",
    "        y=X['mean_area'],\n",
    "        z=X['mean_symmetry'],\n",
    "        mode='markers',\n",
    "        marker=dict(\n",
    "            size=4,\n",
    "            color=y,\n",
    "            colorscale='Viridis',\n",
    "            opacity=0.8\n",
    "        )\n",
    "    )\n",
    "])\n",
    "\n",
    "# Generate a meshgrid of points to create decision boundary\n",
    "x_min, x_max = X['mean_radius'].min() - 1, X['mean_radius'].max() + 1\n",
    "y_min, y_max = X['mean_area'].min() - 1, X['mean_area'].max() + 1\n",
    "z_min, z_max = X['mean_symmetry'].min() - 1, X['mean_symmetry'].max() + 1\n",
    "\n",
    "xx, yy, zz = np.meshgrid(np.arange(x_min, x_max, 0.1),\n",
    "                         np.arange(y_min, y_max, 0.1),\n",
    "                         np.arange(z_min, z_max, 0.1))\n",
    "\n",
    "# Predict the probabilities for the meshgrid points\n",
    "mesh_predictions = model.predict_proba(np.c_[xx.ravel(), yy.ravel(), zz.ravel()])\n",
    "mesh_predictions = mesh_predictions[:, 1].reshape(xx.shape)\n",
    "\n",
    "# Add the decision boundary surface to the plot\n",
    "fig.add_trace(go.Surface(x=xx, y=yy, z=zz, name='Decision Boundary',\n",
    "                         surfacecolor=mesh_predictions, colorscale='RdBu',\n",
    "                         showscale=False, opacity=0.9, cmin=0, cmax=1))\n",
    "\n",
    "# Update the layout to have a better viewing angle\n",
    "camera = dict(\n",
    "    up=dict(x=0, y=0, z=1),\n",
    "    center=dict(x=0, y=0, z=0),\n",
    "    eye=dict(x=1.25, y=1.25, z=1.25)\n",
    ")\n",
    "fig.update_layout(scene_camera=camera)\n",
    "\n",
    "# Display the plot\n",
    "pio.show(fig)"
   ]
  },
  {
   "cell_type": "markdown",
   "id": "28df2537",
   "metadata": {},
   "source": [
    "# Extra: dog or cat?"
   ]
  },
  {
   "cell_type": "code",
   "execution_count": null,
   "id": "647c7ed9",
   "metadata": {},
   "outputs": [],
   "source": [
    "import os\n",
    "import numpy as np\n",
    "import cv2 # pip install opencv-python\n",
    "from sklearn.model_selection import train_test_split\n",
    "from sklearn.svm import SVC\n",
    "from sklearn.metrics import accuracy_score"
   ]
  },
  {
   "cell_type": "code",
   "execution_count": null,
   "id": "031125d5",
   "metadata": {},
   "outputs": [],
   "source": [
    "base_directory = \"/Users/fernandocosta/Downloads/dogs-vs-cats/\""
   ]
  },
  {
   "cell_type": "code",
   "execution_count": null,
   "id": "6a524ac4",
   "metadata": {},
   "outputs": [],
   "source": [
    "\n",
    "# Function to load and preprocess the image data\n",
    "def load_images(directory, label):\n",
    "    images = []\n",
    "    labels = []\n",
    "    for filename in os.listdir(directory):\n",
    "        if filename.endswith(\".jpg\") or filename.endswith(\".png\"):\n",
    "            img = cv2.imread(os.path.join(directory, filename))\n",
    "            img = cv2.resize(img, (100, 100))  # Resize the image to a fixed size\n",
    "            img = cv2.cvtColor(img, cv2.COLOR_BGR2GRAY)  # Convert the image to grayscale\n",
    "            images.append(img.flatten())  # Flatten the image and add it to the list\n",
    "            labels.append(label)\n",
    "    return images, labels\n",
    "\n",
    "# Load cat images and assign labels (0 for cats)\n",
    "cat_images, cat_labels = load_images(base_directory + \"cats\", 0)\n",
    "\n",
    "# Load dog images and assign labels (1 for dogs)\n",
    "dog_images, dog_labels = load_images(base_directory + \"dogs\", 1)\n",
    "\n",
    "# Combine the cat and dog images and labels\n",
    "images = cat_images + dog_images\n",
    "labels = cat_labels + dog_labels\n",
    "\n",
    "# Convert the data to numpy arrays\n",
    "X = np.array(images)\n",
    "y = np.array(labels)\n",
    "\n",
    "# Split the data into training and testing sets\n",
    "X_train, X_test, y_train, y_test = train_test_split(X, y, test_size=0.2, random_state=42)\n",
    "\n",
    "# Create a support vector machine (SVM) classifier\n",
    "svm_classifier = SVC()\n",
    "\n",
    "# Train the classifier\n",
    "svm_classifier.fit(X_train, y_train)\n",
    "\n",
    "# Make predictions on the test set\n",
    "y_pred = svm_classifier.predict(X_test)\n",
    "\n",
    "# Calculate the accuracy of the model\n",
    "accuracy = accuracy_score(y_test, y_pred)\n",
    "print(\"Accuracy: {:.2f}%\".format(accuracy * 100))\n"
   ]
  },
  {
   "cell_type": "markdown",
   "id": "a449babb",
   "metadata": {
    "lang": "en"
   },
   "source": [
    "## Summary\n",
    "It's your turn, what have we learned today?"
   ]
  },
  {
   "cell_type": "markdown",
   "id": "63e5cb14",
   "metadata": {},
   "source": [
    "**Goal**\n",
    "   - predict \n",
    "       - find patterns\n",
    "   - summarize / describe in a simple way\n",
    "       - 50000 rows -> bars\n",
    "\n",
    "**Process**\n",
    "- 1. Extract data\n",
    "- 2. Pre-process: get_dummies...\n",
    "- 3. Features & Target\n",
    "- 4. Split: train & test -> to not overfit\n",
    "- 5. model.fit() -> get the line\n",
    "- 6. model.predict() -> y_pred\n",
    "- 7. Get metrics -> look at error\n",
    "    - How wrong I am\n",
    "    - How good the model is\n",
    "    - Regression: MAE, MSE, RMSE, r2\n",
    "    - Classification: Accuracy, Precision, Recall, F1\n",
    "- 8. Iterate\n",
    "   - Pre-process data differnetly\n",
    "   - Split the data differently: cvs\n",
    "   - Other modelsd\n",
    "   - If it doesn't work -> get rid of it and start from scratch? :( \n",
    "       \n",
    "- You have your pipeline!"
   ]
  }
 ],
 "metadata": {
  "kernelspec": {
   "display_name": "computervision",
   "language": "python",
   "name": "computervision"
  },
  "language_info": {
   "codemirror_mode": {
    "name": "ipython",
    "version": 3
   },
   "file_extension": ".py",
   "mimetype": "text/x-python",
   "name": "python",
   "nbconvert_exporter": "python",
   "pygments_lexer": "ipython3",
   "version": "3.7.5"
  },
  "nbTranslate": {
   "displayLangs": [
    "en",
    "es"
   ],
   "hotkey": "alt-a",
   "langInMainMenu": true,
   "sourceLang": "es",
   "targetLang": "en",
   "useGoogleTranslate": true
  },
  "toc": {
   "base_numbering": 1,
   "nav_menu": {},
   "number_sections": true,
   "sideBar": true,
   "skip_h1_title": true,
   "title_cell": "Table of Contents",
   "title_sidebar": "Contents",
   "toc_cell": true,
   "toc_position": {
    "height": "calc(100% - 180px)",
    "left": "10px",
    "top": "150px",
    "width": "165px"
   },
   "toc_section_display": true,
   "toc_window_display": false
  }
 },
 "nbformat": 4,
 "nbformat_minor": 5
}

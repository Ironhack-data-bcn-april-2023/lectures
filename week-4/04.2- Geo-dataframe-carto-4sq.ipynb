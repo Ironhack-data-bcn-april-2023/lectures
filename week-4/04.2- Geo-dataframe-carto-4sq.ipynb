{
 "cells": [
  {
   "cell_type": "markdown",
   "metadata": {
    "toc": true
   },
   "source": [
    "<h1>Table of Contents<span class=\"tocSkip\"></span></h1>\n",
    "<div class=\"toc\"><ul class=\"toc-item\"><li><ul class=\"toc-item\"><li><span><a href=\"#GeoDataframe-/-Carto\" data-toc-modified-id=\"GeoDataframe-/-Carto-0.1\"><span class=\"toc-item-num\">0.1&nbsp;&nbsp;</span>GeoDataframe / Carto</a></span></li></ul></li><li><span><a href=\"#Geocode-API\" data-toc-modified-id=\"Geocode-API-1\"><span class=\"toc-item-num\">1&nbsp;&nbsp;</span>Geocode API</a></span></li><li><span><a href=\"#Foursquare-API\" data-toc-modified-id=\"Foursquare-API-2\"><span class=\"toc-item-num\">2&nbsp;&nbsp;</span>Foursquare API</a></span><ul class=\"toc-item\"><li><span><a href=\"#I-want-to-see-all-the-bookstores--in-Madrid-on-Foursquare\" data-toc-modified-id=\"I-want-to-see-all-the-bookstores--in-Madrid-on-Foursquare-2.1\"><span class=\"toc-item-num\">2.1&nbsp;&nbsp;</span>I want to see all the bookstores  in Madrid on Foursquare</a></span><ul class=\"toc-item\"><li><span><a href=\"#Setting-up\" data-toc-modified-id=\"Setting-up-2.1.1\"><span class=\"toc-item-num\">2.1.1&nbsp;&nbsp;</span>Setting up</a></span></li><li><span><a href=\"#Ready-to-query:-url-&amp;-headers\" data-toc-modified-id=\"Ready-to-query:-url-&amp;-headers-2.1.2\"><span class=\"toc-item-num\">2.1.2&nbsp;&nbsp;</span>Ready to query: url &amp; headers</a></span></li></ul></li></ul></li><li><span><a href=\"#Processing-the-response\" data-toc-modified-id=\"Processing-the-response-3\"><span class=\"toc-item-num\">3&nbsp;&nbsp;</span>Processing the response</a></span><ul class=\"toc-item\"><li><span><a href=\"#What-elements-do-I-want?\" data-toc-modified-id=\"What-elements-do-I-want?-3.1\"><span class=\"toc-item-num\">3.1&nbsp;&nbsp;</span>What elements do I want?</a></span></li><li><span><a href=\"#Extraction\" data-toc-modified-id=\"Extraction-3.2\"><span class=\"toc-item-num\">3.2&nbsp;&nbsp;</span>Extraction</a></span></li><li><span><a href=\"#Transformation\" data-toc-modified-id=\"Transformation-3.3\"><span class=\"toc-item-num\">3.3&nbsp;&nbsp;</span>Transformation</a></span></li></ul></li><li><span><a href=\"#The-CartoFrames-Map\" data-toc-modified-id=\"The-CartoFrames-Map-4\"><span class=\"toc-item-num\">4&nbsp;&nbsp;</span>The CartoFrames Map</a></span></li><li><span><a href=\"#We-export/import-to-MongoDB\" data-toc-modified-id=\"We-export/import-to-MongoDB-5\"><span class=\"toc-item-num\">5&nbsp;&nbsp;</span>We export/import to MongoDB</a></span><ul class=\"toc-item\"><li><span><a href=\"#Exporting\" data-toc-modified-id=\"Exporting-5.1\"><span class=\"toc-item-num\">5.1&nbsp;&nbsp;</span>Exporting</a></span></li><li><span><a href=\"#Importing\" data-toc-modified-id=\"Importing-5.2\"><span class=\"toc-item-num\">5.2&nbsp;&nbsp;</span>Importing</a></span></li><li><span><a href=\"#Load-into-Mongo\" data-toc-modified-id=\"Load-into-Mongo-5.3\"><span class=\"toc-item-num\">5.3&nbsp;&nbsp;</span>Load into Mongo</a></span><ul class=\"toc-item\"><li><ul class=\"toc-item\"><li><span><a href=\"#1.-Extraction\" data-toc-modified-id=\"1.-Extraction-5.3.0.1\"><span class=\"toc-item-num\">5.3.0.1&nbsp;&nbsp;</span>1. Extraction</a></span></li><li><span><a href=\"#2.-Processing-/-transformation\" data-toc-modified-id=\"2.-Processing-/-transformation-5.3.0.2\"><span class=\"toc-item-num\">5.3.0.2&nbsp;&nbsp;</span>2. Processing / transformation</a></span></li><li><span><a href=\"#3.-Visualization\" data-toc-modified-id=\"3.-Visualization-5.3.0.3\"><span class=\"toc-item-num\">5.3.0.3&nbsp;&nbsp;</span>3. Visualization</a></span></li><li><span><a href=\"#4.-Loading-into-a-database\" data-toc-modified-id=\"4.-Loading-into-a-database-5.3.0.4\"><span class=\"toc-item-num\">5.3.0.4&nbsp;&nbsp;</span>4. Loading into a database</a></span></li></ul></li></ul></li><li><span><a href=\"#Sanity-check:-are-you-in-Kenya?\" data-toc-modified-id=\"Sanity-check:-are-you-in-Kenya?-5.4\"><span class=\"toc-item-num\">5.4&nbsp;&nbsp;</span>Sanity check: are you in Kenya?</a></span></li><li><span><a href=\"#token-must-be-hidden-and-deleted-from-the-notebook\" data-toc-modified-id=\"token-must-be-hidden-and-deleted-from-the-notebook-5.5\"><span class=\"toc-item-num\">5.5&nbsp;&nbsp;</span>token must be hidden and deleted from the notebook</a></span></li><li><span><a href=\"#limit-your-queries-until-you-know-for-sure-it-works,-then-scale-it-up\" data-toc-modified-id=\"limit-your-queries-until-you-know-for-sure-it-works,-then-scale-it-up-5.6\"><span class=\"toc-item-num\">5.6&nbsp;&nbsp;</span>limit your queries until you know for sure it works, then scale it up</a></span></li></ul></li></ul></div>"
   ]
  },
  {
   "cell_type": "markdown",
   "metadata": {},
   "source": [
    "### GeoDataframe / Carto"
   ]
  },
  {
   "cell_type": "markdown",
   "metadata": {},
   "source": [
    "![mapa](../images/geo_portada.jpg)"
   ]
  },
  {
   "cell_type": "code",
   "execution_count": null,
   "metadata": {},
   "outputs": [],
   "source": [
    "#! pip install cartoframes"
   ]
  },
  {
   "cell_type": "code",
   "execution_count": null,
   "metadata": {},
   "outputs": [],
   "source": [
    "import os\n",
    "import requests\n",
    "import json\n",
    "from dotenv import load_dotenv # pip install python-dotenv\n",
    "import pandas as pd \n",
    "\n",
    "#import geopandas as gpd\n",
    "from cartoframes.viz import Map, Layer, popup_element"
   ]
  },
  {
   "cell_type": "markdown",
   "metadata": {},
   "source": [
    "⚠️\n",
    "\n",
    "ImportError: cannot import name 'soft_unicode' from 'markupsafe' (/Users/user/opt/anaconda3/envs/ironhack/lib/python3.8/site-packages/markupsafe/__init__.py) ?\n",
    "\n",
    "`pip install markupsafe==2.0.1` ?"
   ]
  },
  {
   "cell_type": "markdown",
   "metadata": {},
   "source": [
    "1. Geocode API\n",
    "2. Foursquare API\n",
    "3. Cartomap"
   ]
  },
  {
   "cell_type": "markdown",
   "metadata": {},
   "source": [
    "## Geocode API"
   ]
  },
  {
   "cell_type": "markdown",
   "metadata": {
    "lang": "en"
   },
   "source": [
    "There are APIs for a lot of things, here I leave you [Geocode](https://geocode.xyz/)"
   ]
  },
  {
   "cell_type": "code",
   "execution_count": null,
   "metadata": {},
   "outputs": [],
   "source": [
    "# Location"
   ]
  },
  {
   "cell_type": "code",
   "execution_count": null,
   "metadata": {},
   "outputs": [],
   "source": [
    "where = \"Madrid, Spain\""
   ]
  },
  {
   "cell_type": "code",
   "execution_count": null,
   "metadata": {},
   "outputs": [],
   "source": [
    "# Expected coordinates"
   ]
  },
  {
   "cell_type": "markdown",
   "metadata": {},
   "source": [
    "`mad_long = 40.4107367` <br>\n",
    "`mad_lat = -3.707267119`"
   ]
  },
  {
   "cell_type": "code",
   "execution_count": null,
   "metadata": {},
   "outputs": [],
   "source": [
    "# How to get coordinates from a location"
   ]
  },
  {
   "cell_type": "markdown",
   "metadata": {
    "lang": "en"
   },
   "source": [
    "```python\n",
    "url_geocode = f\"https://geocode.xyz/{Adress I want to convert}?json=1\"\n",
    "```"
   ]
  },
  {
   "cell_type": "markdown",
   "metadata": {
    "lang": "en"
   },
   "source": [
    "What is type point?\n",
    "```python\n",
    "place_coordinates = {\"type\": \"Point\", \"coordinates\": [latitude, longitude]}\n",
    "```"
   ]
  },
  {
   "cell_type": "code",
   "execution_count": null,
   "metadata": {},
   "outputs": [],
   "source": [
    "url_geocode = f\"https://geocode.xyz/{where}?json=1\""
   ]
  },
  {
   "cell_type": "code",
   "execution_count": null,
   "metadata": {},
   "outputs": [],
   "source": [
    "requests.get(url_geocode).json()"
   ]
  },
  {
   "cell_type": "code",
   "execution_count": null,
   "metadata": {},
   "outputs": [],
   "source": [
    "import time"
   ]
  },
  {
   "cell_type": "code",
   "execution_count": null,
   "metadata": {},
   "outputs": [],
   "source": [
    "def get_coordinates (where):\n",
    "\n",
    "    url_geocode = f\"https://geocode.xyz/{where}?json=1\"\n",
    "    \n",
    "    try:\n",
    "        res = requests.get(url_geocode).json()\n",
    "        return res[\"longt\"], res[\"latt\"]\n",
    "    \n",
    "    except:\n",
    "        print(f\"Sorry, no matches for {where}\")\n",
    "        time.sleep(3)\n",
    "        get_coordinates(where)\n",
    "        "
   ]
  },
  {
   "cell_type": "code",
   "execution_count": null,
   "metadata": {
    "scrolled": true
   },
   "outputs": [],
   "source": [
    "lat, long = get_coordinates (\"Madrid, Spain\")\n",
    "print(lat)\n",
    "print(long)"
   ]
  },
  {
   "cell_type": "code",
   "execution_count": null,
   "metadata": {},
   "outputs": [],
   "source": [
    "madrid"
   ]
  },
  {
   "cell_type": "code",
   "execution_count": null,
   "metadata": {},
   "outputs": [],
   "source": [
    "lon = madrid[0]\n",
    "lat = madrid[1]"
   ]
  },
  {
   "cell_type": "markdown",
   "metadata": {
    "lang": "en"
   },
   "source": [
    "Sometimes Geocode Fails, so plan is to get the coordinates from the web"
   ]
  },
  {
   "cell_type": "code",
   "execution_count": null,
   "metadata": {},
   "outputs": [],
   "source": []
  },
  {
   "cell_type": "markdown",
   "metadata": {},
   "source": [
    "## Foursquare API"
   ]
  },
  {
   "cell_type": "markdown",
   "metadata": {},
   "source": [
    "### I want to see all the bookstores  in Madrid on Foursquare"
   ]
  },
  {
   "cell_type": "markdown",
   "metadata": {},
   "source": [
    "#### Setting up"
   ]
  },
  {
   "cell_type": "markdown",
   "metadata": {
    "lang": "en"
   },
   "source": [
    "I'm sorry to tell you that the first thing is to read the API documentation.\n",
    "- https://developer.foursquare.com/docs/places-api-overview\n",
    "- https://developer.foursquare.com/reference/api-explorer-overview"
   ]
  },
  {
   "cell_type": "markdown",
   "metadata": {},
   "source": [
    "1. Sign-up for the foursquare places API [here](https://foursquare.com/products/places-api/)\n",
    "2. Create a New Project\n",
    "3. Generate `CLIENT_ID` & `CLIENT_SECRET` so that you can generate TOKEN\n",
    "4. Save your credentials locally on a `.env` file on the root of your project"
   ]
  },
  {
   "cell_type": "markdown",
   "metadata": {},
   "source": [
    "1. https://foursquare.com/developers/orgs/62e1bdd8a3409370dc466164/projects/63598a1b1cdc2f7d810cf839/settings\n",
    "2. https://developer.foursquare.com/reference/place-search"
   ]
  },
  {
   "cell_type": "markdown",
   "metadata": {},
   "source": [
    "```shell\n",
    "!touch .env #creates the file\n",
    "!echo \"token='mytoken' >> .env\" #appends into the file\n",
    "!touch .gitignore\n",
    "!echo \".env\" >> .gitignore\n",
    "```"
   ]
  },
  {
   "cell_type": "code",
   "execution_count": null,
   "metadata": {},
   "outputs": [],
   "source": [
    "from getpass import getpass"
   ]
  },
  {
   "cell_type": "code",
   "execution_count": null,
   "metadata": {},
   "outputs": [],
   "source": [
    "load_dotenv() # '.env'"
   ]
  },
  {
   "cell_type": "code",
   "execution_count": null,
   "metadata": {},
   "outputs": [],
   "source": [
    "token = os.getenv(\"token\")"
   ]
  },
  {
   "cell_type": "markdown",
   "metadata": {},
   "source": [
    "#### Ready to query: url & headers"
   ]
  },
  {
   "cell_type": "markdown",
   "metadata": {
    "lang": "en"
   },
   "source": [
    "Foursquare parameters are explained [here.](https://developer.foursquare.com/docs/places-api-overview)"
   ]
  },
  {
   "cell_type": "code",
   "execution_count": null,
   "metadata": {},
   "outputs": [],
   "source": [
    "import requests\n",
    "\n",
    "url = \"https://api.foursquare.com/v3/places/search?query=librerias&radius=500&limit=2\"\n",
    "\n",
    "headers = {\n",
    "    \"accept\": \"application/json\",\n",
    "    \"Authorization\": token\n",
    "}\n",
    "\n",
    "response = requests.get(url, headers=headers)"
   ]
  },
  {
   "cell_type": "code",
   "execution_count": null,
   "metadata": {},
   "outputs": [],
   "source": [
    "response"
   ]
  },
  {
   "cell_type": "code",
   "execution_count": null,
   "metadata": {},
   "outputs": [],
   "source": [
    "response.json()"
   ]
  },
  {
   "cell_type": "code",
   "execution_count": null,
   "metadata": {},
   "outputs": [],
   "source": [
    "import requests\n",
    "\n",
    "url = \"https://api.foursquare.com/v3/places/search?query=librerias&ll=40.42894%2C-3.68047&radius=500&limit=10\"\n",
    "\n",
    "headers = {\n",
    "    \"accept\": \"application/json\",\n",
    "    \"Authorization\": token\n",
    "}\n",
    "\n",
    "response = requests.get(url, headers=headers).json()\n",
    "response"
   ]
  },
  {
   "cell_type": "code",
   "execution_count": null,
   "metadata": {},
   "outputs": [],
   "source": [
    "def query_from_frousquare (query, lon, lat, radius, limit):\n",
    "    \n",
    "    \n",
    "    url = f\"https://api.foursquare.com/v3/places/search?query={query}&ll={lon}%2C{lat}&radius={radius}&limit={limit}\"\n",
    "\n",
    "    headers = {\n",
    "        \"accept\": \"application/json\",\n",
    "        \"Authorization\": token\n",
    "    }\n",
    "\n",
    "    response = requests.get(url, headers=headers).json()\n",
    "    return response"
   ]
  },
  {
   "cell_type": "code",
   "execution_count": null,
   "metadata": {},
   "outputs": [],
   "source": [
    "query_from_frousquare (\"bar\", madrid[1], madrid[0], 500, 5)"
   ]
  },
  {
   "cell_type": "code",
   "execution_count": null,
   "metadata": {},
   "outputs": [],
   "source": [
    "response"
   ]
  },
  {
   "cell_type": "code",
   "execution_count": null,
   "metadata": {},
   "outputs": [],
   "source": [
    "one_bookstore = response[\"results\"][0]\n",
    "one_bookstore"
   ]
  },
  {
   "cell_type": "code",
   "execution_count": null,
   "metadata": {},
   "outputs": [],
   "source": [
    "address = one_bookstore[\"location\"][\"formatted_address\"]\n",
    "address"
   ]
  },
  {
   "cell_type": "code",
   "execution_count": null,
   "metadata": {},
   "outputs": [],
   "source": [
    "name = one_bookstore[\"name\"]\n",
    "name"
   ]
  },
  {
   "cell_type": "code",
   "execution_count": null,
   "metadata": {},
   "outputs": [],
   "source": [
    "zip_code = one_bookstore[\"location\"][\"postcode\"]\n",
    "zip_code"
   ]
  },
  {
   "cell_type": "code",
   "execution_count": null,
   "metadata": {},
   "outputs": [],
   "source": [
    "lat = one_bookstore[\"geocodes\"][\"main\"][\"latitude\"]\n",
    "lon = one_bookstore[\"geocodes\"][\"main\"][\"longitude\"]"
   ]
  },
  {
   "cell_type": "code",
   "execution_count": null,
   "metadata": {},
   "outputs": [],
   "source": [
    "def everything_from_foursquare (one_element):\n",
    "    \n",
    "    \n",
    "    address = one_element[\"location\"][\"formatted_address\"]\n",
    "    name = one_element[\"name\"]\n",
    "    zip_code = one_element[\"location\"][\"postcode\"]\n",
    "    lat = one_element[\"geocodes\"][\"main\"][\"latitude\"]\n",
    "    lon = one_element[\"geocodes\"][\"main\"][\"longitude\"]\n",
    "    \n",
    "    dict_ = {\"name\": name, \"address\":address, \"zip_code\": zip_code, \"lat\": lat, \"lon\": lon}\n",
    "    \n",
    "    return dict_\n"
   ]
  },
  {
   "cell_type": "code",
   "execution_count": null,
   "metadata": {},
   "outputs": [],
   "source": [
    "everything_from_foursquare (response[\"results\"][0])"
   ]
  },
  {
   "cell_type": "code",
   "execution_count": null,
   "metadata": {},
   "outputs": [],
   "source": [
    "everything_from_foursquare (response[\"results\"][1])"
   ]
  },
  {
   "cell_type": "code",
   "execution_count": null,
   "metadata": {},
   "outputs": [],
   "source": [
    "new_list = []\n",
    "for i in response[\"results\"]:\n",
    "    new_list.append(everything_from_foursquare (i))\n",
    "\n",
    "df = pd.DataFrame(new_list)"
   ]
  },
  {
   "cell_type": "code",
   "execution_count": null,
   "metadata": {},
   "outputs": [],
   "source": [
    "df"
   ]
  },
  {
   "cell_type": "markdown",
   "metadata": {},
   "source": [
    "## Processing the response"
   ]
  },
  {
   "cell_type": "markdown",
   "metadata": {},
   "source": [
    "### What elements do I want?"
   ]
  },
  {
   "cell_type": "code",
   "execution_count": null,
   "metadata": {},
   "outputs": [],
   "source": []
  },
  {
   "cell_type": "markdown",
   "metadata": {},
   "source": [
    "# RECAP\n",
    "\n",
    "### Extraction\n",
    "\n",
    "0. Get the token\n",
    "1. Went into the docs tried an example through here: https://developer.foursquare.com/reference/place-search\n",
    "2. You copy the code into python\n",
    "3. Check that it works\n",
    "4. Parameters: \"&query=libreria\" -> f\"&query={query}\"\n",
    "5. Save into a function FOR QUERYING THE API\n",
    "\n",
    "--------\n",
    "### Transformation\n",
    "\n",
    "6. Process the result of that function to target meaningful info\n",
    "    - Testing one by one: one item at a time\n",
    "7. Loop the result of the first function to get the info for each element\n",
    "8. A list of dictionaties -> dataframe"
   ]
  },
  {
   "cell_type": "markdown",
   "metadata": {
    "lang": "en"
   },
   "source": [
    "## The CartoFrames Map"
   ]
  },
  {
   "cell_type": "markdown",
   "metadata": {
    "lang": "en"
   },
   "source": [
    "For the geometry column we have to put in this order Longitude, Latitude ⚠️🚨"
   ]
  },
  {
   "cell_type": "code",
   "execution_count": null,
   "metadata": {},
   "outputs": [],
   "source": []
  },
  {
   "cell_type": "markdown",
   "metadata": {
    "lang": "en"
   },
   "source": [
    "https://carto.com/developers/cartoframes/"
   ]
  },
  {
   "cell_type": "code",
   "execution_count": null,
   "metadata": {},
   "outputs": [],
   "source": [
    "import geopandas as gdp"
   ]
  },
  {
   "cell_type": "code",
   "execution_count": null,
   "metadata": {},
   "outputs": [],
   "source": [
    "df"
   ]
  },
  {
   "cell_type": "code",
   "execution_count": null,
   "metadata": {},
   "outputs": [],
   "source": [
    "gdf = gdp.GeoDataFrame(df, geometry = gdp.points_from_xy(df[\"lon\"], df[\"lat\"]))"
   ]
  },
  {
   "cell_type": "code",
   "execution_count": null,
   "metadata": {},
   "outputs": [],
   "source": [
    "gdf"
   ]
  },
  {
   "cell_type": "code",
   "execution_count": null,
   "metadata": {},
   "outputs": [],
   "source": [
    "Map(Layer(gdf, \"color:purple\", popup_hover = [popup_element(\"name\", \"Librerías\")]))"
   ]
  },
  {
   "cell_type": "markdown",
   "metadata": {},
   "source": [
    "## We export/import to MongoDB"
   ]
  },
  {
   "cell_type": "markdown",
   "metadata": {},
   "source": [
    "### Exporting"
   ]
  },
  {
   "cell_type": "code",
   "execution_count": null,
   "metadata": {},
   "outputs": [],
   "source": [
    "new_list"
   ]
  },
  {
   "cell_type": "code",
   "execution_count": null,
   "metadata": {},
   "outputs": [],
   "source": [
    "# https://www.freecodecamp.org/news/with-open-in-python-with-statement-syntax-example/"
   ]
  },
  {
   "cell_type": "code",
   "execution_count": null,
   "metadata": {},
   "outputs": [],
   "source": [
    "with open(\"bookstores.json\", \"w\") as f:\n",
    "    json.dump(new_list, f)"
   ]
  },
  {
   "cell_type": "code",
   "execution_count": null,
   "metadata": {},
   "outputs": [],
   "source": [
    "with open(\"bookstores.json\") as anything:\n",
    "    new = json.load(anything)\n",
    "    df = pd.DataFrame(new)\n",
    "df"
   ]
  },
  {
   "cell_type": "markdown",
   "metadata": {},
   "source": [
    "### Importing"
   ]
  },
  {
   "cell_type": "code",
   "execution_count": null,
   "metadata": {},
   "outputs": [],
   "source": [
    "import pymongo\n",
    "\n",
    "client = pymongo.MongoClient(\"localhost:27017\")\n",
    "db = client[\"Ironhack\"] #bookstores\n",
    "c = db.get_collection(\"BOOK\")\n",
    "c.insert_one({\"hello\":\"world\"})"
   ]
  },
  {
   "cell_type": "markdown",
   "metadata": {},
   "source": [
    "### Load into Mongo"
   ]
  },
  {
   "cell_type": "code",
   "execution_count": null,
   "metadata": {},
   "outputs": [],
   "source": [
    "new_list"
   ]
  },
  {
   "cell_type": "code",
   "execution_count": null,
   "metadata": {},
   "outputs": [],
   "source": [
    "df"
   ]
  },
  {
   "cell_type": "code",
   "execution_count": null,
   "metadata": {},
   "outputs": [],
   "source": [
    "for index, row in df.iterrows():\n",
    "    c.insert_one(dict(row))"
   ]
  },
  {
   "cell_type": "markdown",
   "metadata": {},
   "source": [
    "# Recap\n"
   ]
  },
  {
   "cell_type": "markdown",
   "metadata": {},
   "source": [
    "##### 1. Extraction\n",
    "\n",
    "- Signed up for foursquare API as a developer\n",
    "- We created an project AND got a token\n",
    "- Explored the examples to do requests from the docs\n",
    "- We did requests\n",
    "- We gathered the code into functions\n",
    "\n",
    "##### 2. Processing / transformation\n",
    "- We processed the results of the requests\n",
    "- Saved into a list\n",
    "\n",
    "##### 3. Visualization\n",
    "\n",
    "- Geopandas to plot things\n",
    "    - Create a new column from lat and lon -> geometry\n",
    "- With geometry column -> carto map\n",
    "\n",
    "\n",
    "##### 4. Loading into a database\n",
    "- Loop the dictionary to insert_one(document)\n"
   ]
  },
  {
   "cell_type": "markdown",
   "metadata": {},
   "source": [
    "# TIPS\n",
    "### Sanity check: are you in Kenya?\n",
    "### token must be hidden and deleted from the notebook\n",
    "### limit your queries until you know for sure it works, then scale it up"
   ]
  }
 ],
 "metadata": {
  "kernelspec": {
   "display_name": "ironhack",
   "language": "python",
   "name": "ironhack"
  },
  "language_info": {
   "codemirror_mode": {
    "name": "ipython",
    "version": 3
   },
   "file_extension": ".py",
   "mimetype": "text/x-python",
   "name": "python",
   "nbconvert_exporter": "python",
   "pygments_lexer": "ipython3",
   "version": "3.9.12"
  },
  "nbTranslate": {
   "displayLangs": [
    "en",
    "es"
   ],
   "hotkey": "alt-a",
   "langInMainMenu": true,
   "sourceLang": "es",
   "targetLang": "en",
   "useGoogleTranslate": true
  },
  "toc": {
   "base_numbering": 1,
   "nav_menu": {},
   "number_sections": true,
   "sideBar": true,
   "skip_h1_title": true,
   "title_cell": "Table of Contents",
   "title_sidebar": "Contents",
   "toc_cell": true,
   "toc_position": {
    "height": "calc(100% - 180px)",
    "left": "10px",
    "top": "150px",
    "width": "207px"
   },
   "toc_section_display": true,
   "toc_window_display": false
  }
 },
 "nbformat": 4,
 "nbformat_minor": 4
}

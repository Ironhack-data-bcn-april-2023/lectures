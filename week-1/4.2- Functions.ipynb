{
 "cells": [
  {
   "cell_type": "markdown",
   "id": "9eb0f57b",
   "metadata": {
    "lang": "en"
   },
   "source": [
    "# Functional Programming"
   ]
  },
  {
   "cell_type": "markdown",
   "id": "conceptual-behalf",
   "metadata": {},
   "source": [
    "![elgif](https://media.giphy.com/media/CuMiNoTRz2bYc/giphy.gif)"
   ]
  },
  {
   "cell_type": "markdown",
   "id": "incorrect-serum",
   "metadata": {
    "toc": true
   },
   "source": [
    "<h1>Table of Contents<span class=\"tocSkip\"></span></h1>\n",
    "<div class=\"toc\"><ul class=\"toc-item\"><li><span><a href=\"#Your-contributions-🚀\" data-toc-modified-id=\"Your-contributions-🚀-1\"><span class=\"toc-item-num\">1&nbsp;&nbsp;</span>Your contributions 🚀</a></span></li><li><span><a href=\"#What-is-functional-programming?:-paradigms\" data-toc-modified-id=\"What-is-functional-programming?:-paradigms-2\"><span class=\"toc-item-num\">2&nbsp;&nbsp;</span>What is functional programming?: paradigms</a></span></li><li><span><a href=\"#Built-in-functions\" data-toc-modified-id=\"Built-in-functions-3\"><span class=\"toc-item-num\">3&nbsp;&nbsp;</span>Built-in functions</a></span></li><li><span><a href=\"#USER---DEFINED-FUNCTIONS\" data-toc-modified-id=\"USER---DEFINED-FUNCTIONS-4\"><span class=\"toc-item-num\">4&nbsp;&nbsp;</span>USER - DEFINED FUNCTIONS</a></span><ul class=\"toc-item\"><li><span><a href=\"#def\" data-toc-modified-id=\"def-4.1\"><span class=\"toc-item-num\">4.1&nbsp;&nbsp;</span>def</a></span></li><li><span><a href=\"#name\" data-toc-modified-id=\"name-4.2\"><span class=\"toc-item-num\">4.2&nbsp;&nbsp;</span>name</a></span></li><li><span><a href=\"#parameters\" data-toc-modified-id=\"parameters-4.3\"><span class=\"toc-item-num\">4.3&nbsp;&nbsp;</span>parameters</a></span></li><li><span><a href=\"#arguments\" data-toc-modified-id=\"arguments-4.4\"><span class=\"toc-item-num\">4.4&nbsp;&nbsp;</span>arguments</a></span><ul class=\"toc-item\"><li><span><a href=\"#default-parameters\" data-toc-modified-id=\"default-parameters-4.4.1\"><span class=\"toc-item-num\">4.4.1&nbsp;&nbsp;</span>default parameters</a></span></li><li><span><a href=\"#positional-arguments-&amp;-keyword-arguments\" data-toc-modified-id=\"positional-arguments-&amp;-keyword-arguments-4.4.2\"><span class=\"toc-item-num\">4.4.2&nbsp;&nbsp;</span>positional arguments &amp; keyword arguments</a></span></li><li><span><a href=\"#*args\" data-toc-modified-id=\"*args-4.4.3\"><span class=\"toc-item-num\">4.4.3&nbsp;&nbsp;</span><code>*args</code></a></span></li><li><span><a href=\"#**kwargs\" data-toc-modified-id=\"**kwargs-4.4.4\"><span class=\"toc-item-num\">4.4.4&nbsp;&nbsp;</span>**kwargs</a></span></li><li><span><a href=\"#order\" data-toc-modified-id=\"order-4.4.5\"><span class=\"toc-item-num\">4.4.5&nbsp;&nbsp;</span>order</a></span></li></ul></li><li><span><a href=\"#return\" data-toc-modified-id=\"return-4.5\"><span class=\"toc-item-num\">4.5&nbsp;&nbsp;</span>return</a></span></li><li><span><a href=\"#Docstrings:-documentation-strings\" data-toc-modified-id=\"Docstrings:-documentation-strings-4.6\"><span class=\"toc-item-num\">4.6&nbsp;&nbsp;</span>Docstrings: documentation strings</a></span></li><li><span><a href=\"#source-code\" data-toc-modified-id=\"source-code-4.7\"><span class=\"toc-item-num\">4.7&nbsp;&nbsp;</span>source code</a></span></li></ul></li><li><span><a href=\"#Scope-of-functions\" data-toc-modified-id=\"Scope-of-functions-5\"><span class=\"toc-item-num\">5&nbsp;&nbsp;</span>Scope of functions</a></span></li><li><span><a href=\"#Lambda\" data-toc-modified-id=\"Lambda-6\"><span class=\"toc-item-num\">6&nbsp;&nbsp;</span>Lambda</a></span><ul class=\"toc-item\"><li><span><a href=\"#Syntax-of-a-lambda\" data-toc-modified-id=\"Syntax-of-a-lambda-6.1\"><span class=\"toc-item-num\">6.1&nbsp;&nbsp;</span>Syntax of a lambda</a></span></li><li><span><a href=\"#lambda-examples\" data-toc-modified-id=\"lambda-examples-6.2\"><span class=\"toc-item-num\">6.2&nbsp;&nbsp;</span>lambda examples</a></span></li><li><span><a href=\"#lambda--as-the-option-of-some-other-built-in-functions\" data-toc-modified-id=\"lambda--as-the-option-of-some-other-built-in-functions-6.3\"><span class=\"toc-item-num\">6.3&nbsp;&nbsp;</span><code>lambda</code>  as the option of some other built-in functions</a></span></li></ul></li><li><span><a href=\"#Functions:-functions-as-return-of-another-function\" data-toc-modified-id=\"Functions:-functions-as-return-of-another-function-7\"><span class=\"toc-item-num\">7&nbsp;&nbsp;</span>Functions: functions as return of another function</a></span></li><li><span><a href=\"#Recursion\" data-toc-modified-id=\"Recursion-8\"><span class=\"toc-item-num\">8&nbsp;&nbsp;</span>Recursion</a></span></li><li><span><a href=\"#Summary\" data-toc-modified-id=\"Summary-9\"><span class=\"toc-item-num\">9&nbsp;&nbsp;</span>Summary</a></span></li></ul></div>"
   ]
  },
  {
   "cell_type": "markdown",
   "id": "ce4c4623",
   "metadata": {},
   "source": [
    "\n",
    "- sets have unique vfalues\n",
    "- navigating the terminal: ls\n",
    "- download a file from git: git clone\n",
    "- print: debugging\n",
    "- fork: copy a repo under your name\n",
    "- commit: take a screenshot of the repo\n",
    "- github: VSC & groups & cloud\n",
    "- ITERATIONS: for loops & while loops\n",
    "    - action that is repeated for as long as something\n",
    "        - when there's a condition (while)\n",
    "            - for loop going over the elements of a structure/data type\n",
    "        - when there's things: elements in a list\n",
    "- method: code that does things. \n",
    "- slice: method? (no)\n",
    "    - separates things inside of a structure (could also be strings)\n",
    "    - list_[]\n",
    "    - through the index! \n",
    "- add, remove\n",
    "- ITERATIONS: iterables. Lists, tuples, sets and dicts & strings\n",
    "- Control flow: \n",
    "    - pass, break, continue\n",
    "    - if/else/elif\n",
    "        - if: many condtions\n",
    "        - elif: different levels\n",
    "        - else: everything else\n",
    "      \n",
    "    - if vs if/elif: \n",
    "        - if & if: met a lot of conditions\n",
    "        - if & elif: mutually exclusive conditions"
   ]
  },
  {
   "cell_type": "markdown",
   "id": "c8dbbad6",
   "metadata": {
    "lang": "en"
   },
   "source": [
    "## Your contributions 🚀\n",
    "What do you think functions do/what properties do they have? Whare they useful for?"
   ]
  },
  {
   "cell_type": "markdown",
   "id": "67819644",
   "metadata": {},
   "source": [
    "#### A function is/does: ...\n",
    "\n",
    "- \"make the programm do something specific\" -> specificity\n",
    "- \"Functions return results\" -> return\n",
    "- \"You can call it later\" -> defining & calling / re-use\n",
    "- \"It's adaptable to your needs\" -> parameters\n",
    "- \"Individual\" -> user-defined\n",
    "- \"you can define functions\"\n",
    "- \"- method: code that does things. \"\n",
    "- \"Method is a function\" \n",
    "- \"Functions can be imported/exported\"\n",
    "- \"You can iterate passing a function\"\n",
    "\n",
    "\n",
    "\n",
    "- Can you export functions?: imports/exports"
   ]
  },
  {
   "cell_type": "markdown",
   "id": "199cb1a8",
   "metadata": {
    "lang": "en"
   },
   "source": [
    "## What is functional programming?: paradigms\n",
    "What does it mean that Python is multi-paradigm?\n",
    "According to Wikipedia:\n",
    "\n",
    "“Python is an interpreted programming language whose philosophy emphasizes the readability of its code. It is a multiparadigm programming language, since it supports object orientation, imperative programming and, to a lesser extent, functional programming.\n",
    "\n",
    "It means that it accepts different ways of working with language. Basically there are 3 predominant paradigms, or in other words, 3 global formats to organize a code."
   ]
  },
  {
   "cell_type": "markdown",
   "id": "1a292435",
   "metadata": {},
   "source": [
    "- **Imperative programming (structured)**: the code will be executed from the beginning of the file to the end without following any type of deviation. Its biggest advantage lies in its simplicity and low weight. Its danger is the spaghetti code, files with hundreds or thousands of lines where only a few human beings are able to modify and emerge victorious. It can look like this:"
   ]
  },
  {
   "cell_type": "code",
   "execution_count": 10,
   "id": "0272d6e3",
   "metadata": {},
   "outputs": [
    {
     "data": {
      "text/html": [
       "<div>\n",
       "<style scoped>\n",
       "    .dataframe tbody tr th:only-of-type {\n",
       "        vertical-align: middle;\n",
       "    }\n",
       "\n",
       "    .dataframe tbody tr th {\n",
       "        vertical-align: top;\n",
       "    }\n",
       "\n",
       "    .dataframe thead th {\n",
       "        text-align: right;\n",
       "    }\n",
       "</style>\n",
       "<table border=\"1\" class=\"dataframe\">\n",
       "  <thead>\n",
       "    <tr style=\"text-align: right;\">\n",
       "      <th></th>\n",
       "      <th>Date</th>\n",
       "      <th>AveragePrice</th>\n",
       "    </tr>\n",
       "  </thead>\n",
       "  <tbody>\n",
       "    <tr>\n",
       "      <th>0</th>\n",
       "      <td>2015-12-27</td>\n",
       "      <td>1.33</td>\n",
       "    </tr>\n",
       "    <tr>\n",
       "      <th>1</th>\n",
       "      <td>2015-12-20</td>\n",
       "      <td>1.35</td>\n",
       "    </tr>\n",
       "    <tr>\n",
       "      <th>2</th>\n",
       "      <td>2015-12-13</td>\n",
       "      <td>0.93</td>\n",
       "    </tr>\n",
       "    <tr>\n",
       "      <th>3</th>\n",
       "      <td>2015-12-06</td>\n",
       "      <td>1.08</td>\n",
       "    </tr>\n",
       "    <tr>\n",
       "      <th>4</th>\n",
       "      <td>2015-11-29</td>\n",
       "      <td>1.28</td>\n",
       "    </tr>\n",
       "    <tr>\n",
       "      <th>...</th>\n",
       "      <td>...</td>\n",
       "      <td>...</td>\n",
       "    </tr>\n",
       "    <tr>\n",
       "      <th>18244</th>\n",
       "      <td>2018-02-04</td>\n",
       "      <td>1.63</td>\n",
       "    </tr>\n",
       "    <tr>\n",
       "      <th>18245</th>\n",
       "      <td>2018-01-28</td>\n",
       "      <td>1.71</td>\n",
       "    </tr>\n",
       "    <tr>\n",
       "      <th>18246</th>\n",
       "      <td>2018-01-21</td>\n",
       "      <td>1.87</td>\n",
       "    </tr>\n",
       "    <tr>\n",
       "      <th>18247</th>\n",
       "      <td>2018-01-14</td>\n",
       "      <td>1.93</td>\n",
       "    </tr>\n",
       "    <tr>\n",
       "      <th>18248</th>\n",
       "      <td>2018-01-07</td>\n",
       "      <td>1.62</td>\n",
       "    </tr>\n",
       "  </tbody>\n",
       "</table>\n",
       "<p>18249 rows × 2 columns</p>\n",
       "</div>"
      ],
      "text/plain": [
       "             Date  AveragePrice\n",
       "0      2015-12-27          1.33\n",
       "1      2015-12-20          1.35\n",
       "2      2015-12-13          0.93\n",
       "3      2015-12-06          1.08\n",
       "4      2015-11-29          1.28\n",
       "...           ...           ...\n",
       "18244  2018-02-04          1.63\n",
       "18245  2018-01-28          1.71\n",
       "18246  2018-01-21          1.87\n",
       "18247  2018-01-14          1.93\n",
       "18248  2018-01-07          1.62\n",
       "\n",
       "[18249 rows x 2 columns]"
      ]
     },
     "execution_count": 10,
     "metadata": {},
     "output_type": "execute_result"
    }
   ],
   "source": [
    "import pandas as pd\n",
    "df = pd.read_csv(\"../datasets/avocado_kaggle.csv\")\n",
    "df.drop(columns=[\"Unnamed: 0\"], inplace=True)\n",
    "df[[\"Date\", \"AveragePrice\"]]"
   ]
  },
  {
   "cell_type": "markdown",
   "id": "02cb1e2b",
   "metadata": {},
   "source": [
    "- **Object Oriented Programming (OOP or Object Oriented Programming)**: where variables and functions are encapsulated in small modules capable of being cloned and modified. Its strong point is the ability to reuse and isolate to avoid problems with other features. The negative part lies in the complexity of creating good objects and debugging. It can look like this:\n"
   ]
  },
  {
   "cell_type": "markdown",
   "id": "c4c3acde",
   "metadata": {},
   "source": [
    "```python\n",
    "class Car(object):\n",
    "    def __init__(self, model, passengers, color, speed):\n",
    "        self.model = model\n",
    "        self.passengers = passengers\n",
    "        self.color = color\n",
    "        self.speed = speed\n",
    "\n",
    "    def accelerate(self):\n",
    "        self.speed = self.speed + 2\n",
    "        print (self.speed)\n",
    "\n",
    "bmw = Car(\"BMW\", 4, \"red\", 5)\n",
    "ferrari = Car(\"Ferrari\", 2, \"black\", 10)\n",
    "ford = Car(\"Ford\", 6, \"blue\", 6)\n",
    "\n",
    "bmw.accelerate()\n",
    "print (bmw.color)\n",
    "\n",
    "ferrari.accelerate()\n",
    "print (ferrari.color)\n",
    "ferrari.accelerate() \n",
    "\n",
    "print (ford.passengers)\n",
    "ford.accelerate()\n",
    "```"
   ]
  },
  {
   "cell_type": "code",
   "execution_count": 12,
   "id": "5a4b887b",
   "metadata": {},
   "outputs": [],
   "source": [
    "class Car(object):\n",
    "    def __init__(self, model, passengers, color, speed):\n",
    "        self.model = model\n",
    "        self.passengers = passengers\n",
    "        self.color = color\n",
    "        self.speed = speed\n",
    "\n",
    "    def accelerate(self):\n",
    "        self.speed = self.speed + 2\n",
    "        print (self.speed)"
   ]
  },
  {
   "cell_type": "code",
   "execution_count": 17,
   "id": "d03ef4cc",
   "metadata": {},
   "outputs": [
    {
     "name": "stdout",
     "output_type": "stream",
     "text": [
      "7\n",
      "red\n",
      "12\n"
     ]
    }
   ],
   "source": [
    "bmw = Car(\"BMW\", 4, \"red\", 5)\n",
    "ferrari = Car(\"Ferrari\", 2, \"black\", 10)\n",
    "ford = Car(\"Ford\", 6, \"blue\", 6)\n",
    "\n",
    "bmw.accelerate()\n",
    "print (bmw.color)\n",
    "\n",
    "\n",
    "ferrari.accelerate()"
   ]
  },
  {
   "cell_type": "markdown",
   "id": "2a679fd0",
   "metadata": {},
   "source": [
    "- **Functional programming (FP or Functional programming)**: where the code is divided into simple functions capable of being invoked with variables or other functions. Its ease of use by atomicity achieves robust maintainability and compatibility with almost any language. In addition, its immutability of variables avoids many of the problems that object-oriented programming suffers."
   ]
  },
  {
   "cell_type": "code",
   "execution_count": 18,
   "id": "8a9c96f4",
   "metadata": {},
   "outputs": [],
   "source": [
    "# Functions\n",
    "\n",
    "def greetings (name):\n",
    "    return f\"Hello! My name is {name}\""
   ]
  },
  {
   "cell_type": "code",
   "execution_count": 19,
   "id": "04b4c6c8",
   "metadata": {},
   "outputs": [
    {
     "data": {
      "text/plain": [
       "'Hello! My name is Santi'"
      ]
     },
     "execution_count": 19,
     "metadata": {},
     "output_type": "execute_result"
    }
   ],
   "source": [
    "greetings(\"Santi\")"
   ]
  },
  {
   "cell_type": "code",
   "execution_count": 20,
   "id": "be6dd97b",
   "metadata": {},
   "outputs": [
    {
     "data": {
      "text/plain": [
       "'Hello! My name is Clara'"
      ]
     },
     "execution_count": 20,
     "metadata": {},
     "output_type": "execute_result"
    }
   ],
   "source": [
    "greetings(\"Clara\")"
   ]
  },
  {
   "cell_type": "code",
   "execution_count": 21,
   "id": "69c09a7a",
   "metadata": {},
   "outputs": [
    {
     "data": {
      "text/plain": [
       "'Hello! My name is Laura'"
      ]
     },
     "execution_count": 21,
     "metadata": {},
     "output_type": "execute_result"
    }
   ],
   "source": [
    "greetings(\"Laura\")"
   ]
  },
  {
   "cell_type": "code",
   "execution_count": 33,
   "id": "12782a77",
   "metadata": {},
   "outputs": [],
   "source": [
    "def addition (x, y):\n",
    "    return x + y"
   ]
  },
  {
   "cell_type": "code",
   "execution_count": 34,
   "id": "c090d005",
   "metadata": {},
   "outputs": [
    {
     "data": {
      "text/plain": [
       "8"
      ]
     },
     "execution_count": 34,
     "metadata": {},
     "output_type": "execute_result"
    }
   ],
   "source": [
    "addition(3, 5)"
   ]
  },
  {
   "cell_type": "markdown",
   "id": "7f89fd70",
   "metadata": {
    "lang": "en"
   },
   "source": [
    "## Built-in functions"
   ]
  },
  {
   "cell_type": "markdown",
   "id": "80919246",
   "metadata": {
    "lang": "en"
   },
   "source": [
    "The Python interpreter has a number of built-in functions and types that are always available. They are listed [here](https://docs.python.org/3/library/functions.html) in alphabetical order."
   ]
  },
  {
   "cell_type": "code",
   "execution_count": 35,
   "id": "b8e2371a",
   "metadata": {},
   "outputs": [
    {
     "name": "stdout",
     "output_type": "stream",
     "text": [
      "Hello!\n"
     ]
    }
   ],
   "source": [
    "print(\"Hello!\")"
   ]
  },
  {
   "cell_type": "markdown",
   "id": "d36c02f5",
   "metadata": {
    "lang": "en"
   },
   "source": [
    "In case of built-in functions we can't extract the code with inspect, since Python itself is written in C... the Print function looks like this 👇🏻"
   ]
  },
  {
   "cell_type": "markdown",
   "id": "through-silicon",
   "metadata": {},
   "source": [
    "```C\n",
    "static PyObject *\n",
    "builtin_print(PyObject *self, PyObject *args, PyObject *kwds)\n",
    "{\n",
    "    static char *kwlist[] = {\"sep\", \"end\", \"file\", 0};\n",
    "    static PyObject *dummy_args = NULL;\n",
    "    static PyObject *unicode_newline = NULL, *unicode_space = NULL;\n",
    "    static PyObject *str_newline = NULL, *str_space = NULL;\n",
    "    PyObject *newline, *space;\n",
    "    PyObject *sep = NULL, *end = NULL, *file = NULL;\n",
    "    int i, err, use_unicode = 0;\n",
    "\n",
    "    if (dummy_args == NULL) {\n",
    "        if (!(dummy_args = PyTuple_New(0)))\n",
    "            return NULL;\n",
    "    }\n",
    "    if (str_newline == NULL) {\n",
    "        str_newline = PyString_FromString(\"\\n\");\n",
    "        if (str_newline == NULL)\n",
    "            return NULL;\n",
    "        str_space = PyString_FromString(\" \");\n",
    "        if (str_space == NULL) {\n",
    "            Py_CLEAR(str_newline);\n",
    "            return NULL;\n",
    "        }\n",
    "#ifdef Py_USING_UNICODE\n",
    "        unicode_newline = PyUnicode_FromString(\"\\n\");\n",
    "        if (unicode_newline == NULL) {\n",
    "            Py_CLEAR(str_newline);\n",
    "            Py_CLEAR(str_space);\n",
    "            return NULL;\n",
    "        }\n",
    "        unicode_space = PyUnicode_FromString(\" \");\n",
    "        if (unicode_space == NULL) {\n",
    "            Py_CLEAR(str_newline);\n",
    "            Py_CLEAR(str_space);\n",
    "            Py_CLEAR(unicode_space);\n",
    "            return NULL;\n",
    "        }\n",
    "#endif\n",
    "    }\n",
    "    if (!PyArg_ParseTupleAndKeywords(dummy_args, kwds, \"|OOO:print\",\n",
    "                                     kwlist, &sep, &end, &file))\n",
    "        return NULL;\n",
    "    if (file == NULL || file == Py_None) {\n",
    "        file = PySys_GetObject(\"stdout\");\n",
    "        /* sys.stdout may be None when FILE* stdout isn't connected */\n",
    "        if (file == Py_None)\n",
    "            Py_RETURN_NONE;\n",
    "    }\n",
    "    if (sep == Py_None) {\n",
    "        sep = NULL;\n",
    "    }\n",
    "    else if (sep) {\n",
    "        if (PyUnicode_Check(sep)) {\n",
    "            use_unicode = 1;\n",
    "        }\n",
    "        else if (!PyString_Check(sep)) {\n",
    "            PyErr_Format(PyExc_TypeError,\n",
    "                         \"sep must be None, str or unicode, not %.200s\",\n",
    "                         sep->ob_type->tp_name);\n",
    "            return NULL;\n",
    "        }\n",
    "    }\n",
    "    if (end == Py_None)\n",
    "        end = NULL;\n",
    "    else if (end) {\n",
    "        if (PyUnicode_Check(end)) {\n",
    "            use_unicode = 1;\n",
    "        }\n",
    "        else if (!PyString_Check(end)) {\n",
    "            PyErr_Format(PyExc_TypeError,\n",
    "                         \"end must be None, str or unicode, not %.200s\",\n",
    "                         end->ob_type->tp_name);\n",
    "            return NULL;\n",
    "        }\n",
    "    }\n",
    "\n",
    "    if (!use_unicode) {\n",
    "        for (i = 0; i < PyTuple_Size(args); i++) {\n",
    "            if (PyUnicode_Check(PyTuple_GET_ITEM(args, i))) {\n",
    "                use_unicode = 1;\n",
    "                break;\n",
    "            }\n",
    "        }\n",
    "    }\n",
    "    if (use_unicode) {\n",
    "        newline = unicode_newline;\n",
    "        space = unicode_space;\n",
    "    }\n",
    "    else {\n",
    "        newline = str_newline;\n",
    "        space = str_space;\n",
    "    }\n",
    "\n",
    "    for (i = 0; i < PyTuple_Size(args); i++) {\n",
    "        if (i > 0) {\n",
    "            if (sep == NULL)\n",
    "                err = PyFile_WriteObject(space, file,\n",
    "                                         Py_PRINT_RAW);\n",
    "            else\n",
    "                err = PyFile_WriteObject(sep, file,\n",
    "                                         Py_PRINT_RAW);\n",
    "            if (err)\n",
    "                return NULL;\n",
    "        }\n",
    "        err = PyFile_WriteObject(PyTuple_GetItem(args, i), file,\n",
    "                                 Py_PRINT_RAW);\n",
    "        if (err)\n",
    "            return NULL;\n",
    "    }\n",
    "\n",
    "    if (end == NULL)\n",
    "        err = PyFile_WriteObject(newline, file, Py_PRINT_RAW);\n",
    "    else\n",
    "        err = PyFile_WriteObject(end, file, Py_PRINT_RAW);\n",
    "    if (err)\n",
    "        return NULL;\n",
    "\n",
    "    Py_RETURN_NONE;\n",
    "}\n",
    "```"
   ]
  },
  {
   "cell_type": "code",
   "execution_count": 36,
   "id": "f7695035",
   "metadata": {},
   "outputs": [
    {
     "name": "stdout",
     "output_type": "stream",
     "text": [
      "hi!\n"
     ]
    }
   ],
   "source": [
    "print(\"hi!\")"
   ]
  },
  {
   "cell_type": "code",
   "execution_count": 37,
   "id": "b2c28c92",
   "metadata": {},
   "outputs": [],
   "source": [
    "my_string = \"This is a string\""
   ]
  },
  {
   "cell_type": "code",
   "execution_count": 38,
   "id": "ec241c60",
   "metadata": {},
   "outputs": [
    {
     "name": "stdout",
     "output_type": "stream",
     "text": [
      "This is a string\n"
     ]
    }
   ],
   "source": [
    "print(my_string)"
   ]
  },
  {
   "cell_type": "code",
   "execution_count": 39,
   "id": "8f07bb82",
   "metadata": {},
   "outputs": [
    {
     "data": {
      "text/plain": [
       "'THIS IS A STRING'"
      ]
     },
     "execution_count": 39,
     "metadata": {},
     "output_type": "execute_result"
    }
   ],
   "source": [
    "my_string.upper()"
   ]
  },
  {
   "cell_type": "markdown",
   "id": "9197a86b",
   "metadata": {},
   "source": [
    "## USER - DEFINED FUNCTIONS"
   ]
  },
  {
   "cell_type": "markdown",
   "id": "054f974c",
   "metadata": {},
   "source": [
    "- `def` \n",
    "- `name` \n",
    "- `params` \n",
    "- `args` \n",
    "-  `return`\n",
    "- `docstrings` \n",
    "\n",
    "- `source code`"
   ]
  },
  {
   "cell_type": "markdown",
   "id": "85d6428d",
   "metadata": {
    "lang": "en"
   },
   "source": [
    "**Syntax for DEFINING a function**\n",
    "```python\n",
    "\n",
    "def name_function(input params):\n",
    "    # the colon and the indentation imply being in the function\n",
    "    take an action\n",
    "    return() # return a certain value\n",
    "\n",
    "```\n",
    "\n",
    "**Syntax for CALLING a function**\n",
    "\n",
    "`name_of_the_function(argument1, argument2, ...)`\n",
    "\n",
    "or, if you want to save the result in a variable\n",
    "\n",
    "`result = name_of_the_function(argument1, argument2, ...)`"
   ]
  },
  {
   "cell_type": "markdown",
   "id": "d14ec799",
   "metadata": {},
   "source": [
    "### def"
   ]
  },
  {
   "cell_type": "code",
   "execution_count": 42,
   "id": "758fc928",
   "metadata": {},
   "outputs": [],
   "source": [
    "def addition (a, b):\n",
    "    result = a * b\n",
    "    #print(f\"Hello! The result is {result}\")\n",
    "    return result"
   ]
  },
  {
   "cell_type": "code",
   "execution_count": 43,
   "id": "51ebc5b0",
   "metadata": {},
   "outputs": [
    {
     "data": {
      "text/plain": [
       "20"
      ]
     },
     "execution_count": 43,
     "metadata": {},
     "output_type": "execute_result"
    }
   ],
   "source": [
    "addition(10, 2)"
   ]
  },
  {
   "cell_type": "markdown",
   "id": "f2e75efb",
   "metadata": {},
   "source": [
    "### name"
   ]
  },
  {
   "cell_type": "code",
   "execution_count": null,
   "id": "f654d98a",
   "metadata": {},
   "outputs": [],
   "source": [
    "def adder ():\n",
    "    return "
   ]
  },
  {
   "cell_type": "code",
   "execution_count": null,
   "id": "2376e1bb",
   "metadata": {},
   "outputs": [],
   "source": [
    "def number_adder ():\n",
    "    return "
   ]
  },
  {
   "cell_type": "code",
   "execution_count": 44,
   "id": "20fcf39a",
   "metadata": {},
   "outputs": [],
   "source": [
    "def number_adder_of_numbers (): #snake_case\n",
    "    return "
   ]
  },
  {
   "cell_type": "code",
   "execution_count": null,
   "id": "f5fcd56a",
   "metadata": {},
   "outputs": [],
   "source": [
    "# not recommended -> JavaScript\n",
    "def CamelCase (): #CamelCase\n",
    "    return "
   ]
  },
  {
   "cell_type": "markdown",
   "id": "80ee81e1",
   "metadata": {},
   "source": [
    "### parameters"
   ]
  },
  {
   "cell_type": "markdown",
   "id": "5ddcf19e",
   "metadata": {},
   "source": [
    "`()`"
   ]
  },
  {
   "cell_type": "code",
   "execution_count": 45,
   "id": "fdb563e9",
   "metadata": {},
   "outputs": [],
   "source": [
    "def greetings ():\n",
    "    return f\"Hello!\""
   ]
  },
  {
   "cell_type": "code",
   "execution_count": 50,
   "id": "0b8760cb",
   "metadata": {},
   "outputs": [
    {
     "data": {
      "text/plain": [
       "'Hello!'"
      ]
     },
     "execution_count": 50,
     "metadata": {},
     "output_type": "execute_result"
    }
   ],
   "source": [
    "greetings()"
   ]
  },
  {
   "cell_type": "markdown",
   "id": "93588783",
   "metadata": {},
   "source": [
    "`(param_1, param_2)`"
   ]
  },
  {
   "cell_type": "code",
   "execution_count": 65,
   "id": "6a08a012",
   "metadata": {},
   "outputs": [],
   "source": [
    "def greetings (other_person, myself):\n",
    "    return f\"Hello {other_person}! My name is {myself}\""
   ]
  },
  {
   "cell_type": "markdown",
   "id": "5308ad65",
   "metadata": {},
   "source": [
    "### arguments"
   ]
  },
  {
   "cell_type": "code",
   "execution_count": 66,
   "id": "875542a9",
   "metadata": {},
   "outputs": [
    {
     "data": {
      "text/plain": [
       "'Hello Santi! My name is Clara'"
      ]
     },
     "execution_count": 66,
     "metadata": {},
     "output_type": "execute_result"
    }
   ],
   "source": [
    "greetings(\"Santi\", \"Clara\")"
   ]
  },
  {
   "cell_type": "code",
   "execution_count": 67,
   "id": "5deb1105",
   "metadata": {},
   "outputs": [
    {
     "data": {
      "text/plain": [
       "'Hello Larua! My name is Albert'"
      ]
     },
     "execution_count": 67,
     "metadata": {},
     "output_type": "execute_result"
    }
   ],
   "source": [
    "greetings(\"Larua\", \"Albert\")"
   ]
  },
  {
   "cell_type": "code",
   "execution_count": 68,
   "id": "a0011706",
   "metadata": {},
   "outputs": [
    {
     "ename": "TypeError",
     "evalue": "greetings() takes 2 positional arguments but 3 were given",
     "output_type": "error",
     "traceback": [
      "\u001b[0;31m---------------------------------------------------------------------------\u001b[0m",
      "\u001b[0;31mTypeError\u001b[0m                                 Traceback (most recent call last)",
      "Input \u001b[0;32mIn [68]\u001b[0m, in \u001b[0;36m<cell line: 1>\u001b[0;34m()\u001b[0m\n\u001b[0;32m----> 1\u001b[0m \u001b[43mgreetings\u001b[49m\u001b[43m(\u001b[49m\u001b[38;5;124;43m\"\u001b[39;49m\u001b[38;5;124;43mLaura\u001b[39;49m\u001b[38;5;124;43m\"\u001b[39;49m\u001b[43m,\u001b[49m\u001b[43m \u001b[49m\u001b[38;5;124;43m\"\u001b[39;49m\u001b[38;5;124;43mAlbert\u001b[39;49m\u001b[38;5;124;43m\"\u001b[39;49m\u001b[43m,\u001b[49m\u001b[43m \u001b[49m\u001b[38;5;124;43m\"\u001b[39;49m\u001b[38;5;124;43mSanti\u001b[39;49m\u001b[38;5;124;43m\"\u001b[39;49m\u001b[43m)\u001b[49m\n",
      "\u001b[0;31mTypeError\u001b[0m: greetings() takes 2 positional arguments but 3 were given"
     ]
    }
   ],
   "source": [
    "greetings(\"Laura\", \"Albert\", \"Santi\")"
   ]
  },
  {
   "cell_type": "markdown",
   "id": "9791b430",
   "metadata": {},
   "source": [
    "Formal parameters for a function are listed in the function declaration and used in the body of the function definition.\n",
    "\n",
    "An argument is what is used when referring to parameters. When you write a function call, the arguments are listed in parentheses after the function name. When the function call is executed, the arguments are inserted for the parameters.\n",
    "\n",
    "Let's say then that the parameters are those \"imaginary\" variables that will have the same name in the definition and in the body of the function.\n",
    "The arguments are the REAL DATA that we use when we call the function."
   ]
  },
  {
   "cell_type": "markdown",
   "id": "ade26130",
   "metadata": {},
   "source": [
    "#### default parameters"
   ]
  },
  {
   "cell_type": "markdown",
   "id": "6cda5b22",
   "metadata": {},
   "source": [
    "`(param_1, param_default = defaultvalue)` "
   ]
  },
  {
   "cell_type": "markdown",
   "id": "62729a1e",
   "metadata": {},
   "source": [
    "1. `greetings_default(myself, someone_else, language=\"en\")`"
   ]
  },
  {
   "cell_type": "code",
   "execution_count": 69,
   "id": "d6af2d5d",
   "metadata": {},
   "outputs": [],
   "source": [
    "def greetings_default(myself, someone_else, language=\"en\"):\n",
    "    if language == \"en\":\n",
    "        return f\"Hello {someone_else}! I'm {myself}\"\n",
    "    else:\n",
    "        return f\"Hola! {someone_else}, soy {myself}\""
   ]
  },
  {
   "cell_type": "code",
   "execution_count": 70,
   "id": "7dc6a214",
   "metadata": {},
   "outputs": [
    {
     "data": {
      "text/plain": [
       "\"Hello Santi! I'm Fer\""
      ]
     },
     "execution_count": 70,
     "metadata": {},
     "output_type": "execute_result"
    }
   ],
   "source": [
    "greetings_default(\"Fer\", \"Santi\", language=\"en\")"
   ]
  },
  {
   "cell_type": "code",
   "execution_count": 73,
   "id": "0400ad84",
   "metadata": {},
   "outputs": [
    {
     "data": {
      "text/plain": [
       "\"Hello Santi! I'm Fer\""
      ]
     },
     "execution_count": 73,
     "metadata": {},
     "output_type": "execute_result"
    }
   ],
   "source": [
    "greetings_default(\"Fer\", \"Santi\")"
   ]
  },
  {
   "cell_type": "code",
   "execution_count": 75,
   "id": "3851fff3",
   "metadata": {},
   "outputs": [
    {
     "data": {
      "text/plain": [
       "'Hola! Santi, soy Fer'"
      ]
     },
     "execution_count": 75,
     "metadata": {},
     "output_type": "execute_result"
    }
   ],
   "source": [
    "greetings_default(\"Fer\", \"Santi\", \"es\")"
   ]
  },
  {
   "cell_type": "code",
   "execution_count": 80,
   "id": "b4db809c",
   "metadata": {},
   "outputs": [
    {
     "name": "stdout",
     "output_type": "stream",
     "text": [
      "Please enter a number: 345\n"
     ]
    }
   ],
   "source": [
    "number_input = input(\"Please enter a number: \")"
   ]
  },
  {
   "cell_type": "code",
   "execution_count": 79,
   "id": "909497c1",
   "metadata": {},
   "outputs": [
    {
     "name": "stdout",
     "output_type": "stream",
     "text": [
      "Please enter a number: 456\n"
     ]
    }
   ],
   "source": [
    "number_input = input(prompt=\"Please enter a number: \")"
   ]
  },
  {
   "cell_type": "markdown",
   "id": "ee22d185",
   "metadata": {},
   "source": [
    "2. `calculation (num_1, num_2, operation=\"+\")`"
   ]
  },
  {
   "cell_type": "code",
   "execution_count": 82,
   "id": "5910d035",
   "metadata": {},
   "outputs": [],
   "source": [
    "# default arguments\n",
    "\n",
    "# Operation\n",
    "    # By default: add two numbers\n",
    "    # Multiply or divide two numbers"
   ]
  },
  {
   "cell_type": "code",
   "execution_count": 94,
   "id": "8071738a",
   "metadata": {},
   "outputs": [],
   "source": [
    "def calculation (num1, num2, operation=\"+\"):\n",
    "    #  add two numbers\n",
    "    if operation == \"+\":\n",
    "        return num1 + num2\n",
    "    \n",
    "    # multiply\n",
    "    elif operation == \"*\":\n",
    "        return num1 * num2\n",
    "    \n",
    "    # divide: \"/\"\n",
    "    elif operation == \"/\":\n",
    "        return num1 / num2\n",
    "    \n",
    "    else:\n",
    "        return \"Watch out. This is not permitted\""
   ]
  },
  {
   "cell_type": "code",
   "execution_count": 95,
   "id": "b51305b5",
   "metadata": {},
   "outputs": [],
   "source": [
    "def calculation_to_avoid (num1, num2, operation=\"+\"):\n",
    "    #  add two numbers\n",
    "    if operation == \"+\":\n",
    "        return num1 + num2\n",
    "    \n",
    "    # multiply\n",
    "    elif operation == \"*\":\n",
    "        return num1 * num2\n",
    "    \n",
    "    else:\n",
    "        return num1/num2"
   ]
  },
  {
   "cell_type": "code",
   "execution_count": 96,
   "id": "ca002027",
   "metadata": {},
   "outputs": [
    {
     "data": {
      "text/plain": [
       "14"
      ]
     },
     "execution_count": 96,
     "metadata": {},
     "output_type": "execute_result"
    }
   ],
   "source": [
    "calculation (10, 4, operation=\"+\")"
   ]
  },
  {
   "cell_type": "code",
   "execution_count": 97,
   "id": "6f820fe9",
   "metadata": {},
   "outputs": [
    {
     "data": {
      "text/plain": [
       "14"
      ]
     },
     "execution_count": 97,
     "metadata": {},
     "output_type": "execute_result"
    }
   ],
   "source": [
    "calculation (10, 4) # defaults we don't need to call"
   ]
  },
  {
   "cell_type": "code",
   "execution_count": 98,
   "id": "222da863",
   "metadata": {},
   "outputs": [
    {
     "data": {
      "text/plain": [
       "40"
      ]
     },
     "execution_count": 98,
     "metadata": {},
     "output_type": "execute_result"
    }
   ],
   "source": [
    "calculation (10, 4, \"*\")"
   ]
  },
  {
   "cell_type": "code",
   "execution_count": 99,
   "id": "0461ef50",
   "metadata": {},
   "outputs": [
    {
     "data": {
      "text/plain": [
       "2.5"
      ]
     },
     "execution_count": 99,
     "metadata": {},
     "output_type": "execute_result"
    }
   ],
   "source": [
    "calculation (10, 4, \"/\")"
   ]
  },
  {
   "cell_type": "code",
   "execution_count": 100,
   "id": "6146fd5e",
   "metadata": {},
   "outputs": [
    {
     "data": {
      "text/plain": [
       "'Watch out. This is not permitted'"
      ]
     },
     "execution_count": 100,
     "metadata": {},
     "output_type": "execute_result"
    }
   ],
   "source": [
    "calculation (10, 4, \"**\") # else"
   ]
  },
  {
   "cell_type": "code",
   "execution_count": 101,
   "id": "99372ca8",
   "metadata": {},
   "outputs": [
    {
     "data": {
      "text/plain": [
       "'Watch out. This is not permitted'"
      ]
     },
     "execution_count": 101,
     "metadata": {},
     "output_type": "execute_result"
    }
   ],
   "source": [
    "calculation (10, 4, \"//\") # else"
   ]
  },
  {
   "cell_type": "markdown",
   "id": "37fbea85",
   "metadata": {},
   "source": [
    "#### positional arguments & keyword arguments"
   ]
  },
  {
   "cell_type": "markdown",
   "id": "e3e4c777",
   "metadata": {},
   "source": [
    "`def addition (num_1, some_name=withavalue)`"
   ]
  },
  {
   "cell_type": "markdown",
   "id": "b77b53ca",
   "metadata": {},
   "source": [
    "#### `*args`\n",
    "In Python, the special parameter `*args` in a function is used to optionally pass a variable number of **positional** arguments."
   ]
  },
  {
   "cell_type": "markdown",
   "id": "2bb755bc",
   "metadata": {},
   "source": [
    "`two arguments`"
   ]
  },
  {
   "cell_type": "code",
   "execution_count": 124,
   "id": "d76e4be9",
   "metadata": {},
   "outputs": [],
   "source": [
    "def addition (a, b, c):\n",
    "    return a + b + c"
   ]
  },
  {
   "cell_type": "code",
   "execution_count": 126,
   "id": "0838185d",
   "metadata": {
    "scrolled": true
   },
   "outputs": [
    {
     "data": {
      "text/plain": [
       "24"
      ]
     },
     "execution_count": 126,
     "metadata": {},
     "output_type": "execute_result"
    }
   ],
   "source": [
    "addition(10, 4, 10)"
   ]
  },
  {
   "cell_type": "code",
   "execution_count": 127,
   "id": "4fa98f6a",
   "metadata": {},
   "outputs": [
    {
     "ename": "TypeError",
     "evalue": "addition() missing 1 required positional argument: 'c'",
     "output_type": "error",
     "traceback": [
      "\u001b[0;31m---------------------------------------------------------------------------\u001b[0m",
      "\u001b[0;31mTypeError\u001b[0m                                 Traceback (most recent call last)",
      "Input \u001b[0;32mIn [127]\u001b[0m, in \u001b[0;36m<cell line: 1>\u001b[0;34m()\u001b[0m\n\u001b[0;32m----> 1\u001b[0m \u001b[43maddition\u001b[49m\u001b[43m(\u001b[49m\u001b[38;5;241;43m1\u001b[39;49m\u001b[43m,\u001b[49m\u001b[43m \u001b[49m\u001b[38;5;241;43m2\u001b[39;49m\u001b[43m)\u001b[49m\n",
      "\u001b[0;31mTypeError\u001b[0m: addition() missing 1 required positional argument: 'c'"
     ]
    }
   ],
   "source": [
    "addition(1, 2) # 1: understood as the \"a\""
   ]
  },
  {
   "cell_type": "code",
   "execution_count": 105,
   "id": "5b005bf1",
   "metadata": {},
   "outputs": [
    {
     "ename": "TypeError",
     "evalue": "addition() takes 2 positional arguments but 3 were given",
     "output_type": "error",
     "traceback": [
      "\u001b[0;31m---------------------------------------------------------------------------\u001b[0m",
      "\u001b[0;31mTypeError\u001b[0m                                 Traceback (most recent call last)",
      "Input \u001b[0;32mIn [105]\u001b[0m, in \u001b[0;36m<cell line: 1>\u001b[0;34m()\u001b[0m\n\u001b[0;32m----> 1\u001b[0m \u001b[43maddition\u001b[49m\u001b[43m \u001b[49m\u001b[43m(\u001b[49m\u001b[38;5;241;43m10\u001b[39;49m\u001b[43m,\u001b[49m\u001b[43m \u001b[49m\u001b[38;5;241;43m20\u001b[39;49m\u001b[43m,\u001b[49m\u001b[43m \u001b[49m\u001b[38;5;241;43m30\u001b[39;49m\u001b[43m)\u001b[49m\n",
      "\u001b[0;31mTypeError\u001b[0m: addition() takes 2 positional arguments but 3 were given"
     ]
    }
   ],
   "source": [
    "addition (10, 20, 30)"
   ]
  },
  {
   "cell_type": "markdown",
   "id": "7fee6e45",
   "metadata": {},
   "source": [
    "`unkown number of arguments`"
   ]
  },
  {
   "cell_type": "code",
   "execution_count": null,
   "id": "79a12629",
   "metadata": {},
   "outputs": [],
   "source": [
    "# *args"
   ]
  },
  {
   "cell_type": "code",
   "execution_count": 118,
   "id": "18a77de6",
   "metadata": {},
   "outputs": [],
   "source": [
    "def addition_unknown_number_arguments (*numbers): #*numbers: variable number of numbers\n",
    "    print(f\"The numbers are: {numbers}\")\n",
    "    return sum(numbers)"
   ]
  },
  {
   "cell_type": "code",
   "execution_count": 119,
   "id": "df0e6c7b",
   "metadata": {},
   "outputs": [
    {
     "data": {
      "text/plain": [
       "22222231"
      ]
     },
     "execution_count": 119,
     "metadata": {},
     "output_type": "execute_result"
    }
   ],
   "source": [
    "sum([1, 2, 2,2,2,22222222])"
   ]
  },
  {
   "cell_type": "code",
   "execution_count": 120,
   "id": "faa2f2f7",
   "metadata": {},
   "outputs": [
    {
     "data": {
      "text/plain": [
       "688"
      ]
     },
     "execution_count": 120,
     "metadata": {},
     "output_type": "execute_result"
    }
   ],
   "source": [
    "sum((2, 4, 4, 678))"
   ]
  },
  {
   "cell_type": "code",
   "execution_count": 121,
   "id": "7923f224",
   "metadata": {},
   "outputs": [
    {
     "name": "stdout",
     "output_type": "stream",
     "text": [
      "The numbers are: (1, 2, 3, 4, 4, 4, 1000)\n"
     ]
    },
    {
     "data": {
      "text/plain": [
       "1018"
      ]
     },
     "execution_count": 121,
     "metadata": {},
     "output_type": "execute_result"
    }
   ],
   "source": [
    "addition_unknown_number_arguments (1, 2, 3, 4, 4 ,4, 1000)"
   ]
  },
  {
   "cell_type": "code",
   "execution_count": 123,
   "id": "43bb5eae",
   "metadata": {},
   "outputs": [
    {
     "name": "stdout",
     "output_type": "stream",
     "text": [
      "The numbers are: (100, 5, 1, 23, 2332333)\n"
     ]
    },
    {
     "data": {
      "text/plain": [
       "2332462"
      ]
     },
     "execution_count": 123,
     "metadata": {},
     "output_type": "execute_result"
    }
   ],
   "source": [
    "addition_unknown_number_arguments (100, 5, 1, 23, 2332333)"
   ]
  },
  {
   "cell_type": "code",
   "execution_count": 143,
   "id": "484f08e1",
   "metadata": {},
   "outputs": [],
   "source": [
    "def addition_unknown_number_arguments (*args): #*numbers: variable number of numbers\n",
    "    new_list = []\n",
    "    print(f\"The argument passed is: {args}, of type: {type(args)}\")\n",
    "    for i in args: # is understood as a tuple\n",
    "        new_list.append(i*2)\n",
    "    \n",
    "    return new_list"
   ]
  },
  {
   "cell_type": "code",
   "execution_count": 144,
   "id": "b3ca9286",
   "metadata": {},
   "outputs": [
    {
     "name": "stdout",
     "output_type": "stream",
     "text": [
      "The argument passed is: (1, 2, 3, 4, 5, 'sdsd'), of type: <class 'tuple'>\n"
     ]
    },
    {
     "data": {
      "text/plain": [
       "[2, 4, 6, 8, 10, 'sdsdsdsd']"
      ]
     },
     "execution_count": 144,
     "metadata": {},
     "output_type": "execute_result"
    }
   ],
   "source": [
    "addition_unknown_number_arguments(1, 2, 3, 4, 5, \"sdsd\")"
   ]
  },
  {
   "cell_type": "markdown",
   "id": "17a04c9e",
   "metadata": {},
   "source": [
    "`otherwise`: errors"
   ]
  },
  {
   "cell_type": "code",
   "execution_count": null,
   "id": "30e61eaa",
   "metadata": {},
   "outputs": [],
   "source": []
  },
  {
   "cell_type": "markdown",
   "id": "67833de1",
   "metadata": {},
   "source": [
    "#### **kwargs"
   ]
  },
  {
   "cell_type": "code",
   "execution_count": 160,
   "id": "fb69c6d9",
   "metadata": {},
   "outputs": [],
   "source": [
    "def positional_args (a, b, c, *args):\n",
    "    result = a * b * c\n",
    "    result_2 = sum([i**2 for i in args])\n",
    "    return f\"The mulitplication was {result} and the addition was {result_2}\""
   ]
  },
  {
   "cell_type": "code",
   "execution_count": 161,
   "id": "a6955294",
   "metadata": {},
   "outputs": [
    {
     "data": {
      "text/plain": [
       "'The mulitplication was 7000 and the addition was 1051966740'"
      ]
     },
     "execution_count": 161,
     "metadata": {},
     "output_type": "execute_result"
    }
   ],
   "source": [
    "positional_args (100, -7, -10, 3, 5, 5, 3, 2, 32434, 34,34)"
   ]
  },
  {
   "cell_type": "code",
   "execution_count": 162,
   "id": "4867c36e",
   "metadata": {},
   "outputs": [],
   "source": [
    "def positional_args (a, b, c, *args):\n",
    "    print(f\"Element a is: {a}\")\n",
    "    print(f\"Element b is: {b}\")\n",
    "    print(f\"Element c is: {c}\")\n",
    "    print(f\"Element *args is: {args}\")\n",
    "\n",
    "    \n",
    "    \n",
    "    result = a * b * c\n",
    "    result_2 = sum([i**2 for i in args])\n",
    "    return f\"The mulitplication was {result} and the addition was {result_2}\""
   ]
  },
  {
   "cell_type": "code",
   "execution_count": 163,
   "id": "2209a781",
   "metadata": {},
   "outputs": [
    {
     "name": "stdout",
     "output_type": "stream",
     "text": [
      "Element a is: 100\n",
      "Element b is: -7\n",
      "Element c is: -10\n",
      "Element *args is: (3, 5, 5, 3, 2, 32434, 34, 34)\n"
     ]
    },
    {
     "data": {
      "text/plain": [
       "'The mulitplication was 7000 and the addition was 1051966740'"
      ]
     },
     "execution_count": 163,
     "metadata": {},
     "output_type": "execute_result"
    }
   ],
   "source": [
    "positional_args (100, -7, -10, 3, 5, 5, 3, 2, 32434, 34,34)"
   ]
  },
  {
   "cell_type": "code",
   "execution_count": 180,
   "id": "1b1b5711",
   "metadata": {},
   "outputs": [],
   "source": [
    "# **kwargs\n",
    "\n",
    "def printer_function(a, b, c, *args, **beyonce):\n",
    "    \n",
    "    print(f\"Element a is: {a}\")\n",
    "    print(f\"Element b is: {b}\")\n",
    "    print(f\"Element c is: {c}\")\n",
    "    print(f\"Element *args is: {args}\")\n",
    "    print(f\"Element **kwargs is: {beyonce}\")\n",
    "    "
   ]
  },
  {
   "cell_type": "code",
   "execution_count": 181,
   "id": "87fb7f8f",
   "metadata": {},
   "outputs": [
    {
     "name": "stdout",
     "output_type": "stream",
     "text": [
      "Element a is: 1\n",
      "Element b is: 2\n",
      "Element c is: 3\n",
      "Element *args is: (100, -2, 9, 87, 'Santi')\n",
      "Element **kwargs is: {'whatever': 'Albert', 'hello': 'hola', 'numero': 10}\n"
     ]
    }
   ],
   "source": [
    "printer_function(1, 2, 3, 100, -2, 9, 87, \"Santi\", whatever = \"Albert\", hello = \"hola\", numero = 10)"
   ]
  },
  {
   "cell_type": "code",
   "execution_count": 177,
   "id": "2914a735",
   "metadata": {},
   "outputs": [],
   "source": [
    "# Error\n",
    "# Santi will be an argument\n",
    "# santi will be a kwargs\n",
    "# Ignore Santi :( "
   ]
  },
  {
   "cell_type": "code",
   "execution_count": 210,
   "id": "dbde4896",
   "metadata": {},
   "outputs": [],
   "source": [
    "# **kwargs\n",
    "\n",
    "def printer_function(a, b, *args, **kwargs):\n",
    "    \n",
    "    print(f\"Number 1: {a}\")\n",
    "    print(f\"Number 2 is: {b}\")\n",
    "    \n",
    "    print(f\"My score is: {sum(args)}\")\n",
    "    \n",
    "    print(f\"My name is: {kwargs['name']}\")\n",
    "    \n",
    "    for key, value in kwargs.items():\n",
    "        print(f\"My {key} is {value}\")"
   ]
  },
  {
   "cell_type": "code",
   "execution_count": 246,
   "id": "c4c3b25e",
   "metadata": {},
   "outputs": [],
   "source": [
    "# **kwargs\n",
    "\n",
    "def printer_function(a, b, *args, **kwargs):\n",
    "    \n",
    "    print(f\"Number 1: {a}\")\n",
    "    print(f\"Number 2 is: {b}\")\n",
    "    \n",
    "    print(f\"My score is: {sum(args)}\")\n",
    "    \n",
    "    print(f\"kwargs are: {kwargs}\")\n",
    "        \n",
    "    for key, value in kwargs.items():\n",
    "        print(f\"My {key} is {value}\")"
   ]
  },
  {
   "cell_type": "code",
   "execution_count": 247,
   "id": "8e11454f",
   "metadata": {},
   "outputs": [
    {
     "name": "stdout",
     "output_type": "stream",
     "text": [
      "Number 1: 25\n",
      "Number 2 is: 7\n",
      "My score is: 32\n",
      "kwargs are: {'name': 'Nerea', 'age': 25, 'city': 'Mexico DF'}\n",
      "My name is Nerea\n",
      "My age is 25\n",
      "My city is Mexico DF\n"
     ]
    }
   ],
   "source": [
    "printer_function(25, 7, 10, 8, 8, 6, name=\"Nerea\", age=25, city=\"Mexico DF\")"
   ]
  },
  {
   "cell_type": "code",
   "execution_count": 248,
   "id": "dd678646",
   "metadata": {},
   "outputs": [],
   "source": [
    "dict_info = {\n",
    "    \"name\": \"Nerea\",\n",
    "    \"age\": 25,\n",
    "    \"city\": \"Mexico DF\"\n",
    "}"
   ]
  },
  {
   "cell_type": "code",
   "execution_count": 249,
   "id": "2bf3a817",
   "metadata": {},
   "outputs": [
    {
     "name": "stdout",
     "output_type": "stream",
     "text": [
      "Number 1: 25\n",
      "Number 2 is: 7\n",
      "My score is: 32\n",
      "kwargs are: {'name': 'Nerea', 'age': 25, 'city': 'Mexico DF'}\n",
      "My name is Nerea\n",
      "My age is 25\n",
      "My city is Mexico DF\n"
     ]
    }
   ],
   "source": [
    "printer_function(25, 7, 10, 8, 8, 6, **dict_info)"
   ]
  },
  {
   "cell_type": "code",
   "execution_count": 250,
   "id": "55084608",
   "metadata": {},
   "outputs": [],
   "source": [
    "dict_info = {\n",
    "    \"nam\": \"Santi\",\n",
    "    \"ag\": 24,\n",
    "    \"cit\": \"Barcelona\",\n",
    "    \"rol\":\"ta\",\n",
    "    \"hobbi\":\"padel\"\n",
    "}"
   ]
  },
  {
   "cell_type": "code",
   "execution_count": 251,
   "id": "0995002c",
   "metadata": {},
   "outputs": [],
   "source": [
    "dict_info_2 = {\n",
    "    \"name\": \"Santi\",\n",
    "    \"age\": 24,\n",
    "    \"city\": \"Barcelona\",\n",
    "    \"role\":\"ta\",\n",
    "    \"hobbie\":\"padel\"\n",
    "}"
   ]
  },
  {
   "cell_type": "code",
   "execution_count": 252,
   "id": "8c9b45c8",
   "metadata": {},
   "outputs": [
    {
     "name": "stdout",
     "output_type": "stream",
     "text": [
      "Number 1: 25\n",
      "Number 2 is: 7\n",
      "My score is: 44\n",
      "kwargs are: {'nam': 'Santi', 'ag': 24, 'cit': 'Barcelona', 'rol': 'ta', 'hobbi': 'padel', 'name': 'Santi', 'age': 24, 'city': 'Barcelona', 'role': 'ta', 'hobbie': 'padel'}\n",
      "My nam is Santi\n",
      "My ag is 24\n",
      "My cit is Barcelona\n",
      "My rol is ta\n",
      "My hobbi is padel\n",
      "My name is Santi\n",
      "My age is 24\n",
      "My city is Barcelona\n",
      "My role is ta\n",
      "My hobbie is padel\n"
     ]
    }
   ],
   "source": [
    "printer_function(25, 7, 10, 8, 8, 6, 3, 3, 3,3 , **dict_info, **dict_info_2)"
   ]
  },
  {
   "cell_type": "markdown",
   "id": "8821d732",
   "metadata": {},
   "source": [
    "#### order"
   ]
  },
  {
   "cell_type": "markdown",
   "id": "12ce7273",
   "metadata": {},
   "source": [
    "`def example(arg1, arg2, *args,**kwargs)`"
   ]
  },
  {
   "cell_type": "code",
   "execution_count": 253,
   "id": "63a80e56",
   "metadata": {},
   "outputs": [],
   "source": [
    "def a_function (posarg1, posarg2, *args, **kwargs):\n",
    "    pass"
   ]
  },
  {
   "cell_type": "markdown",
   "id": "5a76c906",
   "metadata": {},
   "source": [
    "### return\n",
    "\n",
    "- return gives you something back\n",
    "- there can be more than one return\n",
    "- **after a function returns something, the execution STOPS**"
   ]
  },
  {
   "cell_type": "markdown",
   "id": "506cb965",
   "metadata": {},
   "source": [
    "`function with return`"
   ]
  },
  {
   "cell_type": "code",
   "execution_count": 260,
   "id": "70fc6f43",
   "metadata": {},
   "outputs": [],
   "source": [
    "def addition_return (a, b):\n",
    "    return a + b"
   ]
  },
  {
   "cell_type": "code",
   "execution_count": 261,
   "id": "2d3a7e67",
   "metadata": {},
   "outputs": [
    {
     "data": {
      "text/plain": [
       "5"
      ]
     },
     "execution_count": 261,
     "metadata": {},
     "output_type": "execute_result"
    }
   ],
   "source": [
    "addition_return (2, 3)"
   ]
  },
  {
   "cell_type": "markdown",
   "id": "b61cca6c",
   "metadata": {},
   "source": [
    "`function with no return`: NoneType"
   ]
  },
  {
   "cell_type": "code",
   "execution_count": 262,
   "id": "c5f4e9ca",
   "metadata": {},
   "outputs": [],
   "source": [
    "def addition_print(a, b):\n",
    "    print(a + b)"
   ]
  },
  {
   "cell_type": "code",
   "execution_count": 263,
   "id": "0ddea66f",
   "metadata": {
    "scrolled": true
   },
   "outputs": [
    {
     "name": "stdout",
     "output_type": "stream",
     "text": [
      "5\n"
     ]
    }
   ],
   "source": [
    "addition_print (2, 3)"
   ]
  },
  {
   "cell_type": "code",
   "execution_count": 264,
   "id": "a3424410",
   "metadata": {},
   "outputs": [
    {
     "data": {
      "text/plain": [
       "int"
      ]
     },
     "execution_count": 264,
     "metadata": {},
     "output_type": "execute_result"
    }
   ],
   "source": [
    "type(addition_return (2, 3)) # int ? # tuple?"
   ]
  },
  {
   "cell_type": "code",
   "execution_count": 265,
   "id": "7629cf1d",
   "metadata": {},
   "outputs": [
    {
     "name": "stdout",
     "output_type": "stream",
     "text": [
      "5\n"
     ]
    },
    {
     "data": {
      "text/plain": [
       "NoneType"
      ]
     },
     "execution_count": 265,
     "metadata": {},
     "output_type": "execute_result"
    }
   ],
   "source": [
    "type(addition_print (2, 3)) # str ? # "
   ]
  },
  {
   "cell_type": "code",
   "execution_count": 266,
   "id": "fb7298ff",
   "metadata": {},
   "outputs": [
    {
     "name": "stdout",
     "output_type": "stream",
     "text": [
      "ssssss\n"
     ]
    },
    {
     "data": {
      "text/plain": [
       "NoneType"
      ]
     },
     "execution_count": 266,
     "metadata": {},
     "output_type": "execute_result"
    }
   ],
   "source": [
    "type(print(\"ssssss\"))"
   ]
  },
  {
   "cell_type": "code",
   "execution_count": 268,
   "id": "6b4cb2ab",
   "metadata": {},
   "outputs": [],
   "source": [
    "def addition_noprint_no_return (a, b):\n",
    "    pass"
   ]
  },
  {
   "cell_type": "code",
   "execution_count": 269,
   "id": "41764b35",
   "metadata": {},
   "outputs": [],
   "source": [
    "addition_noprint_no_return(3, 2)"
   ]
  },
  {
   "cell_type": "code",
   "execution_count": 270,
   "id": "9016c2aa",
   "metadata": {
    "scrolled": true
   },
   "outputs": [
    {
     "data": {
      "text/plain": [
       "NoneType"
      ]
     },
     "execution_count": 270,
     "metadata": {},
     "output_type": "execute_result"
    }
   ],
   "source": [
    "type(addition_noprint_no_return(3, 2))"
   ]
  },
  {
   "cell_type": "code",
   "execution_count": 271,
   "id": "77ef98c2",
   "metadata": {},
   "outputs": [],
   "source": [
    "# Functions evalñute to something\n",
    "   # Either the value on the return\n",
    "    # or it's NoneType\n",
    "    # if it's a print: also None"
   ]
  },
  {
   "cell_type": "code",
   "execution_count": null,
   "id": "d4474b80",
   "metadata": {},
   "outputs": [],
   "source": [
    "# NoneType is not equal to 3"
   ]
  },
  {
   "cell_type": "markdown",
   "id": "3f0b4787",
   "metadata": {},
   "source": [
    "`accessing the value of the result of the function`: print & return"
   ]
  },
  {
   "cell_type": "code",
   "execution_count": 272,
   "id": "6e03ec1a",
   "metadata": {},
   "outputs": [],
   "source": [
    "def addition (a, b):\n",
    "    return a + b"
   ]
  },
  {
   "cell_type": "code",
   "execution_count": 273,
   "id": "53507eb4",
   "metadata": {},
   "outputs": [
    {
     "data": {
      "text/plain": [
       "8"
      ]
     },
     "execution_count": 273,
     "metadata": {},
     "output_type": "execute_result"
    }
   ],
   "source": [
    "addition (3, 5)"
   ]
  },
  {
   "cell_type": "code",
   "execution_count": 274,
   "id": "1d4ec9b0",
   "metadata": {},
   "outputs": [],
   "source": [
    "result = addition (3, 5)"
   ]
  },
  {
   "cell_type": "code",
   "execution_count": 276,
   "id": "1fc8373e",
   "metadata": {},
   "outputs": [
    {
     "data": {
      "text/plain": [
       "800"
      ]
     },
     "execution_count": 276,
     "metadata": {},
     "output_type": "execute_result"
    }
   ],
   "source": [
    "result * 100"
   ]
  },
  {
   "cell_type": "code",
   "execution_count": 285,
   "id": "bc39215c",
   "metadata": {},
   "outputs": [
    {
     "data": {
      "text/plain": [
       "'HELLO! MY NAME IS LAURA'"
      ]
     },
     "execution_count": 285,
     "metadata": {},
     "output_type": "execute_result"
    }
   ],
   "source": [
    "def greeting (name):\n",
    "    return f\"Hello! My name is {name}\"\n",
    "\n",
    "laura_says = greeting(\"Laura\")\n",
    "laura_says.upper()"
   ]
  },
  {
   "cell_type": "code",
   "execution_count": 286,
   "id": "2d022655",
   "metadata": {},
   "outputs": [],
   "source": [
    "def greeting (name):\n",
    "    print(f\"Hello! My name is {name}\")"
   ]
  },
  {
   "cell_type": "code",
   "execution_count": 287,
   "id": "399305ce",
   "metadata": {},
   "outputs": [
    {
     "name": "stdout",
     "output_type": "stream",
     "text": [
      "Hello! My name is Laura\n"
     ]
    }
   ],
   "source": [
    "laura_says = greeting(\"Laura\")"
   ]
  },
  {
   "cell_type": "code",
   "execution_count": 288,
   "id": "30659872",
   "metadata": {},
   "outputs": [
    {
     "ename": "AttributeError",
     "evalue": "'NoneType' object has no attribute 'upper'",
     "output_type": "error",
     "traceback": [
      "\u001b[0;31m---------------------------------------------------------------------------\u001b[0m",
      "\u001b[0;31mAttributeError\u001b[0m                            Traceback (most recent call last)",
      "Input \u001b[0;32mIn [288]\u001b[0m, in \u001b[0;36m<cell line: 1>\u001b[0;34m()\u001b[0m\n\u001b[0;32m----> 1\u001b[0m \u001b[43mlaura_says\u001b[49m\u001b[38;5;241;43m.\u001b[39;49m\u001b[43mupper\u001b[49m()\n",
      "\u001b[0;31mAttributeError\u001b[0m: 'NoneType' object has no attribute 'upper'"
     ]
    }
   ],
   "source": [
    "laura_says.upper()"
   ]
  },
  {
   "cell_type": "code",
   "execution_count": 327,
   "id": "654833ad",
   "metadata": {},
   "outputs": [],
   "source": [
    "def salary (gross):\n",
    "    return round(gross * 0.83/12)"
   ]
  },
  {
   "cell_type": "code",
   "execution_count": 328,
   "id": "e066f873",
   "metadata": {},
   "outputs": [],
   "source": [
    "def savings (what_you_earned, expenses):\n",
    "    save = what_you_earned - expenses\n",
    "    return save"
   ]
  },
  {
   "cell_type": "code",
   "execution_count": 329,
   "id": "769634c2",
   "metadata": {
    "scrolled": false
   },
   "outputs": [],
   "source": [
    "earnings = salary (28000)"
   ]
  },
  {
   "cell_type": "code",
   "execution_count": 330,
   "id": "765dfd5c",
   "metadata": {},
   "outputs": [
    {
     "data": {
      "text/plain": [
       "1937"
      ]
     },
     "execution_count": 330,
     "metadata": {},
     "output_type": "execute_result"
    }
   ],
   "source": [
    "earnings"
   ]
  },
  {
   "cell_type": "code",
   "execution_count": 331,
   "id": "324ee8a1",
   "metadata": {},
   "outputs": [
    {
     "data": {
      "text/plain": [
       "937"
      ]
     },
     "execution_count": 331,
     "metadata": {},
     "output_type": "execute_result"
    }
   ],
   "source": [
    "savings(earnings, 1000)"
   ]
  },
  {
   "cell_type": "markdown",
   "id": "309bb330",
   "metadata": {},
   "source": [
    "`more than one return`"
   ]
  },
  {
   "cell_type": "code",
   "execution_count": 336,
   "id": "39587ded",
   "metadata": {},
   "outputs": [],
   "source": [
    "def password_validator (password):\n",
    "    \n",
    "    if len(password) > 8:\n",
    "        print(\"long\")\n",
    "        \n",
    "    if \"-\" in password:\n",
    "        print(\"there's a dash\")\n"
   ]
  },
  {
   "cell_type": "code",
   "execution_count": 338,
   "id": "4b2a413a",
   "metadata": {},
   "outputs": [
    {
     "name": "stdout",
     "output_type": "stream",
     "text": [
      "long\n",
      "there's a dash\n"
     ]
    }
   ],
   "source": [
    "password_validator (\"ksssssssss-\")"
   ]
  },
  {
   "cell_type": "code",
   "execution_count": 351,
   "id": "b35c382d",
   "metadata": {},
   "outputs": [],
   "source": [
    "def password_validator (password):\n",
    "    \n",
    "    if len(password) > 8:\n",
    "        print(\"BEFORE RETURN\")\n",
    "        return \"ok\"\n",
    "        print(\"AFTER RETURN\")\n",
    "        \n",
    "    if \"-\" in password:\n",
    "        print(\"BEFORE RETURN\")\n",
    "        return \"ok2\"\n",
    "        print(\"AFTER RETURN\")"
   ]
  },
  {
   "cell_type": "code",
   "execution_count": 352,
   "id": "b6e10c46",
   "metadata": {},
   "outputs": [
    {
     "name": "stdout",
     "output_type": "stream",
     "text": [
      "BEFORE RETURN\n"
     ]
    },
    {
     "data": {
      "text/plain": [
       "'ok2'"
      ]
     },
     "execution_count": 352,
     "metadata": {},
     "output_type": "execute_result"
    }
   ],
   "source": [
    "password_validator (\"2-\")"
   ]
  },
  {
   "cell_type": "code",
   "execution_count": 353,
   "id": "c10a9e44",
   "metadata": {},
   "outputs": [
    {
     "name": "stdout",
     "output_type": "stream",
     "text": [
      "BEFORE RETURN\n"
     ]
    },
    {
     "data": {
      "text/plain": [
       "'ok'"
      ]
     },
     "execution_count": 353,
     "metadata": {},
     "output_type": "execute_result"
    }
   ],
   "source": [
    "password_validator (\"l45678567k-\")"
   ]
  },
  {
   "cell_type": "code",
   "execution_count": 363,
   "id": "0cf2d4e6",
   "metadata": {},
   "outputs": [],
   "source": [
    "def password_validator (password):\n",
    "    \n",
    "    if len(password) < 8:\n",
    "        return False\n",
    "        \n",
    "    if \"-\" not in password:\n",
    "        return False\n",
    "    \n",
    "    return True"
   ]
  },
  {
   "cell_type": "code",
   "execution_count": 367,
   "id": "546be3d4",
   "metadata": {},
   "outputs": [],
   "source": [
    "def password_validator (password):\n",
    "    \n",
    "    if len(password) < 8:\n",
    "        return False\n",
    "        \n",
    "    if \"-\" not in password:\n",
    "        return False\n",
    "    \n",
    "    else:\n",
    "        return True"
   ]
  },
  {
   "cell_type": "code",
   "execution_count": 364,
   "id": "c0fc24b5",
   "metadata": {},
   "outputs": [
    {
     "data": {
      "text/plain": [
       "False"
      ]
     },
     "execution_count": 364,
     "metadata": {},
     "output_type": "execute_result"
    }
   ],
   "source": [
    "password_validator (\"l-\")"
   ]
  },
  {
   "cell_type": "code",
   "execution_count": 365,
   "id": "9e43e904",
   "metadata": {},
   "outputs": [
    {
     "data": {
      "text/plain": [
       "False"
      ]
     },
     "execution_count": 365,
     "metadata": {},
     "output_type": "execute_result"
    }
   ],
   "source": [
    "password_validator (\"lw12345678\")"
   ]
  },
  {
   "cell_type": "code",
   "execution_count": 366,
   "id": "2bdf7b83",
   "metadata": {},
   "outputs": [
    {
     "data": {
      "text/plain": [
       "True"
      ]
     },
     "execution_count": 366,
     "metadata": {},
     "output_type": "execute_result"
    }
   ],
   "source": [
    "password_validator (\"lw12345678-\")"
   ]
  },
  {
   "cell_type": "markdown",
   "id": "d4a7b05b",
   "metadata": {},
   "source": [
    "### Docstrings: documentation strings"
   ]
  },
  {
   "cell_type": "markdown",
   "id": "65bd3a59",
   "metadata": {},
   "source": [
    "- The code is written 1 time.\n",
    "- The code is read 100 times.\n",
    "- Help your colleagues understand your work.\n",
    "\n",
    "![lafoto](https://res.cloudinary.com/highflyer910/image/upload/v1589577574/1_1_httqnc.jpg)"
   ]
  },
  {
   "cell_type": "markdown",
   "id": "14e0777b",
   "metadata": {},
   "source": [
    "In this example, we have defined a cat function that returns meow. We have declared a docstring that explains what the function does. To get the docstring of a function, we need to display the doc attribute (print(cat.__doc__))\n",
    "Photo reference, description and more info about docstring [here](https://techiestuff.netlify.app/blog/what-is-a-python-docstring/)"
   ]
  },
  {
   "cell_type": "code",
   "execution_count": 391,
   "id": "14164c9c",
   "metadata": {},
   "outputs": [
    {
     "data": {
      "text/plain": [
       "5"
      ]
     },
     "execution_count": 391,
     "metadata": {},
     "output_type": "execute_result"
    }
   ],
   "source": [
    "import clean as c\n",
    "c.addition(2, 3)"
   ]
  },
  {
   "cell_type": "code",
   "execution_count": 388,
   "id": "93154e4c",
   "metadata": {},
   "outputs": [],
   "source": [
    "def addition (a, b):\n",
    "    \"\"\"This function takes two arguments\n",
    "    and returns its sum\n",
    "    a: int\n",
    "    b: int\n",
    "    returns the sum of a and b\"\"\"\n",
    "    return a + b"
   ]
  },
  {
   "cell_type": "code",
   "execution_count": 385,
   "id": "3b22a5db",
   "metadata": {},
   "outputs": [
    {
     "name": "stdout",
     "output_type": "stream",
     "text": [
      "This function takes two arguments\n",
      "    and returns its sum\n",
      "    a: int\n",
      "    b: int\n",
      "    returns the sum of a and b\n"
     ]
    }
   ],
   "source": [
    "print(addition.__doc__)"
   ]
  },
  {
   "cell_type": "markdown",
   "id": "1bcd1e17",
   "metadata": {},
   "source": [
    "### source code"
   ]
  },
  {
   "cell_type": "code",
   "execution_count": 387,
   "id": "15a16e01",
   "metadata": {},
   "outputs": [
    {
     "name": "stdout",
     "output_type": "stream",
     "text": [
      "def addition (a, b):\n",
      "    \"\"\"This function takes two arguments\n",
      "    and returns its sum\n",
      "    a: int\n",
      "    b: int\n",
      "    returns the sum of a and b\"\"\"\n",
      "    return a + b\n",
      "\n"
     ]
    }
   ],
   "source": [
    "import inspect\n",
    "print(inspect.getsource(addition))"
   ]
  },
  {
   "cell_type": "markdown",
   "id": "86c5ccda",
   "metadata": {
    "lang": "en"
   },
   "source": [
    "## Scope of functions"
   ]
  },
  {
   "cell_type": "markdown",
   "id": "a353567d",
   "metadata": {},
   "source": [
    "`outer to inner`"
   ]
  },
  {
   "cell_type": "code",
   "execution_count": 372,
   "id": "68156243",
   "metadata": {},
   "outputs": [
    {
     "data": {
      "text/plain": [
       "20"
      ]
     },
     "execution_count": 372,
     "metadata": {},
     "output_type": "execute_result"
    }
   ],
   "source": [
    "def addition (a, b):\n",
    "    return a + b\n",
    "\n",
    "a = 10\n",
    "\n",
    "addition(a, 10)"
   ]
  },
  {
   "cell_type": "markdown",
   "id": "c26ce173",
   "metadata": {},
   "source": [
    "`inner to outter` "
   ]
  },
  {
   "cell_type": "code",
   "execution_count": 379,
   "id": "1281cc32",
   "metadata": {},
   "outputs": [
    {
     "data": {
      "text/plain": [
       "20"
      ]
     },
     "execution_count": 379,
     "metadata": {},
     "output_type": "execute_result"
    }
   ],
   "source": [
    "def addition (a, b):\n",
    "    d = a + b\n",
    "    return c\n",
    "\n",
    "addition(10, 10)"
   ]
  },
  {
   "cell_type": "code",
   "execution_count": 380,
   "id": "6501f358",
   "metadata": {},
   "outputs": [
    {
     "ename": "NameError",
     "evalue": "name 'd' is not defined",
     "output_type": "error",
     "traceback": [
      "\u001b[0;31m---------------------------------------------------------------------------\u001b[0m",
      "\u001b[0;31mNameError\u001b[0m                                 Traceback (most recent call last)",
      "Input \u001b[0;32mIn [380]\u001b[0m, in \u001b[0;36m<cell line: 1>\u001b[0;34m()\u001b[0m\n\u001b[0;32m----> 1\u001b[0m \u001b[38;5;28mprint\u001b[39m(\u001b[43md\u001b[49m)\n",
      "\u001b[0;31mNameError\u001b[0m: name 'd' is not defined"
     ]
    }
   ],
   "source": [
    "print(d)"
   ]
  },
  {
   "cell_type": "markdown",
   "id": "80ccf4fe",
   "metadata": {},
   "source": [
    "[Extra: global variables](https://www.w3schools.com/python/python_variables_global.asp)"
   ]
  },
  {
   "cell_type": "markdown",
   "id": "28a2d72b",
   "metadata": {
    "lang": "en"
   },
   "source": [
    "## Lambda\n",
    "A lambda function is an anonymous function, with no identifier, that can be declared in place. Since we can take functions as arguments and assign them to variables, the notation that makes it possible to create lambda functions is very handy in many cases.\n",
    "\n",
    "\n",
    "### Syntax of a lambda\n",
    "```python\n",
    "lambda <param list>:<return expression>\n",
    "```\n"
   ]
  },
  {
   "cell_type": "code",
   "execution_count": 393,
   "id": "6196e2a1",
   "metadata": {},
   "outputs": [
    {
     "data": {
      "text/plain": [
       "'ALBANY'"
      ]
     },
     "execution_count": 393,
     "metadata": {},
     "output_type": "execute_result"
    }
   ],
   "source": [
    "#\"Albany\" -> \"ALBANY\"\n",
    "\n",
    "string = \"Albany\"\n",
    "def uppercase (str_):\n",
    "    return str_.upper()\n",
    "\n",
    "uppercase(string)"
   ]
  },
  {
   "cell_type": "code",
   "execution_count": 394,
   "id": "78318b75",
   "metadata": {},
   "outputs": [],
   "source": [
    "import pandas as pd\n",
    "df = pd.read_csv(\"../datasets/avocado_kaggle.csv\")\n",
    "df[\"region\"] = df[\"region\"].apply(lambda x: x.upper())"
   ]
  },
  {
   "cell_type": "code",
   "execution_count": 396,
   "id": "fce5a1a3",
   "metadata": {},
   "outputs": [],
   "source": [
    "df[\"region\"] = df[\"region\"].apply(uppercase) # user-defned function"
   ]
  },
  {
   "cell_type": "code",
   "execution_count": 397,
   "id": "9497df29",
   "metadata": {
    "scrolled": true
   },
   "outputs": [],
   "source": [
    "df[\"region\"] = df[\"region\"].apply(lambda x: x.upper()) #lambda: on the spot"
   ]
  },
  {
   "cell_type": "code",
   "execution_count": 421,
   "id": "6ab92d48",
   "metadata": {},
   "outputs": [],
   "source": [
    "df[\"type\"] = df[\"type\"].apply(lambda x: x[:3])\n",
    "\n",
    "# conventinal -> con\n",
    "# organic -> org\n",
    "# str_[:3]\n",
    "\n",
    "def trimming_words (str_):\n",
    "    return str_[:3]"
   ]
  },
  {
   "cell_type": "code",
   "execution_count": 422,
   "id": "6fd220db",
   "metadata": {},
   "outputs": [
    {
     "data": {
      "text/html": [
       "<div>\n",
       "<style scoped>\n",
       "    .dataframe tbody tr th:only-of-type {\n",
       "        vertical-align: middle;\n",
       "    }\n",
       "\n",
       "    .dataframe tbody tr th {\n",
       "        vertical-align: top;\n",
       "    }\n",
       "\n",
       "    .dataframe thead th {\n",
       "        text-align: right;\n",
       "    }\n",
       "</style>\n",
       "<table border=\"1\" class=\"dataframe\">\n",
       "  <thead>\n",
       "    <tr style=\"text-align: right;\">\n",
       "      <th></th>\n",
       "      <th>Unnamed: 0</th>\n",
       "      <th>Date</th>\n",
       "      <th>AveragePrice</th>\n",
       "      <th>Total Volume</th>\n",
       "      <th>4046</th>\n",
       "      <th>4225</th>\n",
       "      <th>4770</th>\n",
       "      <th>Total Bags</th>\n",
       "      <th>Small Bags</th>\n",
       "      <th>Large Bags</th>\n",
       "      <th>XLarge Bags</th>\n",
       "      <th>type</th>\n",
       "      <th>year</th>\n",
       "      <th>region</th>\n",
       "    </tr>\n",
       "  </thead>\n",
       "  <tbody>\n",
       "    <tr>\n",
       "      <th>0</th>\n",
       "      <td>0</td>\n",
       "      <td>2015-12-27</td>\n",
       "      <td>1.33</td>\n",
       "      <td>64236.62</td>\n",
       "      <td>1036.74</td>\n",
       "      <td>54454.85</td>\n",
       "      <td>48.16</td>\n",
       "      <td>8696.87</td>\n",
       "      <td>8603.62</td>\n",
       "      <td>93.25</td>\n",
       "      <td>0.0</td>\n",
       "      <td>con</td>\n",
       "      <td>2015</td>\n",
       "      <td>ALBANY</td>\n",
       "    </tr>\n",
       "    <tr>\n",
       "      <th>1</th>\n",
       "      <td>1</td>\n",
       "      <td>2015-12-20</td>\n",
       "      <td>1.35</td>\n",
       "      <td>54876.98</td>\n",
       "      <td>674.28</td>\n",
       "      <td>44638.81</td>\n",
       "      <td>58.33</td>\n",
       "      <td>9505.56</td>\n",
       "      <td>9408.07</td>\n",
       "      <td>97.49</td>\n",
       "      <td>0.0</td>\n",
       "      <td>con</td>\n",
       "      <td>2015</td>\n",
       "      <td>ALBANY</td>\n",
       "    </tr>\n",
       "    <tr>\n",
       "      <th>2</th>\n",
       "      <td>2</td>\n",
       "      <td>2015-12-13</td>\n",
       "      <td>0.93</td>\n",
       "      <td>118220.22</td>\n",
       "      <td>794.70</td>\n",
       "      <td>109149.67</td>\n",
       "      <td>130.50</td>\n",
       "      <td>8145.35</td>\n",
       "      <td>8042.21</td>\n",
       "      <td>103.14</td>\n",
       "      <td>0.0</td>\n",
       "      <td>con</td>\n",
       "      <td>2015</td>\n",
       "      <td>ALBANY</td>\n",
       "    </tr>\n",
       "    <tr>\n",
       "      <th>3</th>\n",
       "      <td>3</td>\n",
       "      <td>2015-12-06</td>\n",
       "      <td>1.08</td>\n",
       "      <td>78992.15</td>\n",
       "      <td>1132.00</td>\n",
       "      <td>71976.41</td>\n",
       "      <td>72.58</td>\n",
       "      <td>5811.16</td>\n",
       "      <td>5677.40</td>\n",
       "      <td>133.76</td>\n",
       "      <td>0.0</td>\n",
       "      <td>con</td>\n",
       "      <td>2015</td>\n",
       "      <td>ALBANY</td>\n",
       "    </tr>\n",
       "    <tr>\n",
       "      <th>4</th>\n",
       "      <td>4</td>\n",
       "      <td>2015-11-29</td>\n",
       "      <td>1.28</td>\n",
       "      <td>51039.60</td>\n",
       "      <td>941.48</td>\n",
       "      <td>43838.39</td>\n",
       "      <td>75.78</td>\n",
       "      <td>6183.95</td>\n",
       "      <td>5986.26</td>\n",
       "      <td>197.69</td>\n",
       "      <td>0.0</td>\n",
       "      <td>con</td>\n",
       "      <td>2015</td>\n",
       "      <td>ALBANY</td>\n",
       "    </tr>\n",
       "    <tr>\n",
       "      <th>...</th>\n",
       "      <td>...</td>\n",
       "      <td>...</td>\n",
       "      <td>...</td>\n",
       "      <td>...</td>\n",
       "      <td>...</td>\n",
       "      <td>...</td>\n",
       "      <td>...</td>\n",
       "      <td>...</td>\n",
       "      <td>...</td>\n",
       "      <td>...</td>\n",
       "      <td>...</td>\n",
       "      <td>...</td>\n",
       "      <td>...</td>\n",
       "      <td>...</td>\n",
       "    </tr>\n",
       "    <tr>\n",
       "      <th>18244</th>\n",
       "      <td>7</td>\n",
       "      <td>2018-02-04</td>\n",
       "      <td>1.63</td>\n",
       "      <td>17074.83</td>\n",
       "      <td>2046.96</td>\n",
       "      <td>1529.20</td>\n",
       "      <td>0.00</td>\n",
       "      <td>13498.67</td>\n",
       "      <td>13066.82</td>\n",
       "      <td>431.85</td>\n",
       "      <td>0.0</td>\n",
       "      <td>org</td>\n",
       "      <td>2018</td>\n",
       "      <td>WESTTEXNEWMEXICO</td>\n",
       "    </tr>\n",
       "    <tr>\n",
       "      <th>18245</th>\n",
       "      <td>8</td>\n",
       "      <td>2018-01-28</td>\n",
       "      <td>1.71</td>\n",
       "      <td>13888.04</td>\n",
       "      <td>1191.70</td>\n",
       "      <td>3431.50</td>\n",
       "      <td>0.00</td>\n",
       "      <td>9264.84</td>\n",
       "      <td>8940.04</td>\n",
       "      <td>324.80</td>\n",
       "      <td>0.0</td>\n",
       "      <td>org</td>\n",
       "      <td>2018</td>\n",
       "      <td>WESTTEXNEWMEXICO</td>\n",
       "    </tr>\n",
       "    <tr>\n",
       "      <th>18246</th>\n",
       "      <td>9</td>\n",
       "      <td>2018-01-21</td>\n",
       "      <td>1.87</td>\n",
       "      <td>13766.76</td>\n",
       "      <td>1191.92</td>\n",
       "      <td>2452.79</td>\n",
       "      <td>727.94</td>\n",
       "      <td>9394.11</td>\n",
       "      <td>9351.80</td>\n",
       "      <td>42.31</td>\n",
       "      <td>0.0</td>\n",
       "      <td>org</td>\n",
       "      <td>2018</td>\n",
       "      <td>WESTTEXNEWMEXICO</td>\n",
       "    </tr>\n",
       "    <tr>\n",
       "      <th>18247</th>\n",
       "      <td>10</td>\n",
       "      <td>2018-01-14</td>\n",
       "      <td>1.93</td>\n",
       "      <td>16205.22</td>\n",
       "      <td>1527.63</td>\n",
       "      <td>2981.04</td>\n",
       "      <td>727.01</td>\n",
       "      <td>10969.54</td>\n",
       "      <td>10919.54</td>\n",
       "      <td>50.00</td>\n",
       "      <td>0.0</td>\n",
       "      <td>org</td>\n",
       "      <td>2018</td>\n",
       "      <td>WESTTEXNEWMEXICO</td>\n",
       "    </tr>\n",
       "    <tr>\n",
       "      <th>18248</th>\n",
       "      <td>11</td>\n",
       "      <td>2018-01-07</td>\n",
       "      <td>1.62</td>\n",
       "      <td>17489.58</td>\n",
       "      <td>2894.77</td>\n",
       "      <td>2356.13</td>\n",
       "      <td>224.53</td>\n",
       "      <td>12014.15</td>\n",
       "      <td>11988.14</td>\n",
       "      <td>26.01</td>\n",
       "      <td>0.0</td>\n",
       "      <td>org</td>\n",
       "      <td>2018</td>\n",
       "      <td>WESTTEXNEWMEXICO</td>\n",
       "    </tr>\n",
       "  </tbody>\n",
       "</table>\n",
       "<p>18249 rows × 14 columns</p>\n",
       "</div>"
      ],
      "text/plain": [
       "       Unnamed: 0        Date  AveragePrice  Total Volume     4046       4225   \n",
       "0               0  2015-12-27          1.33      64236.62  1036.74   54454.85  \\\n",
       "1               1  2015-12-20          1.35      54876.98   674.28   44638.81   \n",
       "2               2  2015-12-13          0.93     118220.22   794.70  109149.67   \n",
       "3               3  2015-12-06          1.08      78992.15  1132.00   71976.41   \n",
       "4               4  2015-11-29          1.28      51039.60   941.48   43838.39   \n",
       "...           ...         ...           ...           ...      ...        ...   \n",
       "18244           7  2018-02-04          1.63      17074.83  2046.96    1529.20   \n",
       "18245           8  2018-01-28          1.71      13888.04  1191.70    3431.50   \n",
       "18246           9  2018-01-21          1.87      13766.76  1191.92    2452.79   \n",
       "18247          10  2018-01-14          1.93      16205.22  1527.63    2981.04   \n",
       "18248          11  2018-01-07          1.62      17489.58  2894.77    2356.13   \n",
       "\n",
       "         4770  Total Bags  Small Bags  Large Bags  XLarge Bags type  year   \n",
       "0       48.16     8696.87     8603.62       93.25          0.0  con  2015  \\\n",
       "1       58.33     9505.56     9408.07       97.49          0.0  con  2015   \n",
       "2      130.50     8145.35     8042.21      103.14          0.0  con  2015   \n",
       "3       72.58     5811.16     5677.40      133.76          0.0  con  2015   \n",
       "4       75.78     6183.95     5986.26      197.69          0.0  con  2015   \n",
       "...       ...         ...         ...         ...          ...  ...   ...   \n",
       "18244    0.00    13498.67    13066.82      431.85          0.0  org  2018   \n",
       "18245    0.00     9264.84     8940.04      324.80          0.0  org  2018   \n",
       "18246  727.94     9394.11     9351.80       42.31          0.0  org  2018   \n",
       "18247  727.01    10969.54    10919.54       50.00          0.0  org  2018   \n",
       "18248  224.53    12014.15    11988.14       26.01          0.0  org  2018   \n",
       "\n",
       "                 region  \n",
       "0                ALBANY  \n",
       "1                ALBANY  \n",
       "2                ALBANY  \n",
       "3                ALBANY  \n",
       "4                ALBANY  \n",
       "...                 ...  \n",
       "18244  WESTTEXNEWMEXICO  \n",
       "18245  WESTTEXNEWMEXICO  \n",
       "18246  WESTTEXNEWMEXICO  \n",
       "18247  WESTTEXNEWMEXICO  \n",
       "18248  WESTTEXNEWMEXICO  \n",
       "\n",
       "[18249 rows x 14 columns]"
      ]
     },
     "execution_count": 422,
     "metadata": {},
     "output_type": "execute_result"
    }
   ],
   "source": [
    "df[\"type\"] = df[\"type\"].apply(trimming_words)\n",
    "df"
   ]
  },
  {
   "cell_type": "code",
   "execution_count": null,
   "id": "9010ae66",
   "metadata": {},
   "outputs": [],
   "source": []
  },
  {
   "cell_type": "code",
   "execution_count": null,
   "id": "e3cf1006",
   "metadata": {},
   "outputs": [],
   "source": []
  },
  {
   "cell_type": "code",
   "execution_count": null,
   "id": "7ce09624",
   "metadata": {},
   "outputs": [],
   "source": []
  },
  {
   "cell_type": "code",
   "execution_count": 412,
   "id": "4ac6964d",
   "metadata": {},
   "outputs": [],
   "source": [
    "list_ot_tuples = [(\"zaragoza\", 10000, \"b\"), (\"barcelona\", 56767, \"z\"), (\"madrid\", 678900000, \"a\")]"
   ]
  },
  {
   "cell_type": "code",
   "execution_count": 413,
   "id": "8e60bc9d",
   "metadata": {},
   "outputs": [
    {
     "data": {
      "text/plain": [
       "[('barcelona', 56767, 'z'),\n",
       " ('madrid', 678900000, 'a'),\n",
       " ('zaragoza', 10000, 'b')]"
      ]
     },
     "execution_count": 413,
     "metadata": {},
     "output_type": "execute_result"
    }
   ],
   "source": [
    "# sort by name of city\n",
    "sorted(list_ot_tuples)"
   ]
  },
  {
   "cell_type": "code",
   "execution_count": 416,
   "id": "ab699eed",
   "metadata": {},
   "outputs": [
    {
     "data": {
      "text/plain": [
       "[('madrid', 678900000, 'a'),\n",
       " ('zaragoza', 10000, 'b'),\n",
       " ('barcelona', 56767, 'z')]"
      ]
     },
     "execution_count": 416,
     "metadata": {},
     "output_type": "execute_result"
    }
   ],
   "source": [
    "# sort by number: smaller to bigger\n",
    "# Goal: [ ('madrid', 678900000), ('barcelona', 56767), ('zaragoza', 10000)]\n",
    "\n",
    "sorted(list_ot_tuples, key = lambda anything: anything[2])"
   ]
  },
  {
   "cell_type": "markdown",
   "id": "5add6142",
   "metadata": {},
   "source": [
    "### lambda examples"
   ]
  },
  {
   "cell_type": "code",
   "execution_count": null,
   "id": "f929c4ac",
   "metadata": {},
   "outputs": [],
   "source": []
  },
  {
   "cell_type": "markdown",
   "id": "6f67a9bf",
   "metadata": {},
   "source": [
    "### `lambda`  as the option of some other built-in functions"
   ]
  },
  {
   "cell_type": "markdown",
   "id": "85df84e3",
   "metadata": {
    "lang": "en"
   },
   "source": [
    "It is also possible to use these anonymous functions as arguments in calls to other functions. For example, in a call to sorted() or list.sort() we can use a lambda function as an argument to the key parameter:"
   ]
  },
  {
   "cell_type": "code",
   "execution_count": null,
   "id": "31abf911",
   "metadata": {},
   "outputs": [],
   "source": []
  },
  {
   "cell_type": "markdown",
   "id": "51204969",
   "metadata": {},
   "source": [
    "## Functions: functions as return of another function"
   ]
  },
  {
   "cell_type": "code",
   "execution_count": 424,
   "id": "35748490",
   "metadata": {},
   "outputs": [],
   "source": [
    "def greater_function (a, b):\n",
    "    if a > b:\n",
    "        return a\n",
    "    elif b > a:\n",
    "        return b"
   ]
  },
  {
   "cell_type": "code",
   "execution_count": 426,
   "id": "6e631438",
   "metadata": {},
   "outputs": [
    {
     "data": {
      "text/plain": [
       "10"
      ]
     },
     "execution_count": 426,
     "metadata": {},
     "output_type": "execute_result"
    }
   ],
   "source": [
    "greater_function (3, 10)"
   ]
  },
  {
   "cell_type": "code",
   "execution_count": 427,
   "id": "70f8646a",
   "metadata": {},
   "outputs": [],
   "source": [
    "def lesser_function (x, y):\n",
    "    if x > y:\n",
    "        return y\n",
    "    elif y > x:\n",
    "        return x"
   ]
  },
  {
   "cell_type": "code",
   "execution_count": 428,
   "id": "53bb18f1",
   "metadata": {},
   "outputs": [
    {
     "data": {
      "text/plain": [
       "3"
      ]
     },
     "execution_count": 428,
     "metadata": {},
     "output_type": "execute_result"
    }
   ],
   "source": [
    "lesser_function (3, 10)"
   ]
  },
  {
   "cell_type": "code",
   "execution_count": 429,
   "id": "3aaa4d5f",
   "metadata": {},
   "outputs": [],
   "source": [
    "def comparison (type_of_comparison): # lesser, greater\n",
    "    if type_of_comparison == \"greater\":\n",
    "        return greater_function\n",
    "    \n",
    "    elif type_of_comparison == \"lesser\":\n",
    "        return lesser_function"
   ]
  },
  {
   "cell_type": "code",
   "execution_count": 432,
   "id": "aacf8de7",
   "metadata": {},
   "outputs": [
    {
     "data": {
      "text/plain": [
       "10"
      ]
     },
     "execution_count": 432,
     "metadata": {},
     "output_type": "execute_result"
    }
   ],
   "source": [
    "comparison(\"greater\")(3, 10)\n",
    "#greater_function (3, 10)"
   ]
  },
  {
   "cell_type": "code",
   "execution_count": 433,
   "id": "90ac550e",
   "metadata": {},
   "outputs": [
    {
     "data": {
      "text/plain": [
       "3"
      ]
     },
     "execution_count": 433,
     "metadata": {},
     "output_type": "execute_result"
    }
   ],
   "source": [
    "comparison(\"lesser\")(3, 10)"
   ]
  },
  {
   "cell_type": "code",
   "execution_count": 435,
   "id": "2e1939a1",
   "metadata": {},
   "outputs": [],
   "source": [
    "def comparison (type_of_comparison): # lesser, greater\n",
    "    if type_of_comparison == \"greater\":\n",
    "        return greater_function\n",
    "    \n",
    "    elif type_of_comparison == \"lesser\":\n",
    "        return lambda x, y: x if x < y else y"
   ]
  },
  {
   "cell_type": "code",
   "execution_count": 436,
   "id": "1ae04837",
   "metadata": {},
   "outputs": [
    {
     "data": {
      "text/plain": [
       "3"
      ]
     },
     "execution_count": 436,
     "metadata": {},
     "output_type": "execute_result"
    }
   ],
   "source": [
    "comparison(\"lesser\")(3, 10)"
   ]
  },
  {
   "cell_type": "markdown",
   "id": "f90508d9",
   "metadata": {
    "lang": "en"
   },
   "source": [
    "## Recursion\n",
    "It is called recursive call (or recursion), to those functions that in their algorithm, refer to itself.\n",
    "\n",
    "Recursive calls are usually very useful in very specific cases, but due to their great feasibility of falling into infinite iterations, adequate preventive measures should be taken and only used when strictly necessary and there is no viable alternative way to solve the problem. avoiding recursion.\n",
    "\n",
    "Python supports recursive calls, allowing a function to call itself, just as it does when calling another function."
   ]
  },
  {
   "cell_type": "code",
   "execution_count": 3,
   "id": "cb764c07",
   "metadata": {},
   "outputs": [],
   "source": [
    "def user ():\n",
    "    \n",
    "    value = input(\"Please enter a value less than 5: \")\n",
    "    \n",
    "    while int(value) > 5:\n",
    "        value = input(\"Please enter a value less than 5: \")\n",
    "        \n",
    "    return int(value)"
   ]
  },
  {
   "cell_type": "code",
   "execution_count": 4,
   "id": "432a22ee",
   "metadata": {},
   "outputs": [
    {
     "name": "stdout",
     "output_type": "stream",
     "text": [
      "Please enter a value less than 5: 10\n",
      "Please enter a value less than 5: 10\n",
      "Please enter a value less than 5: 10\n",
      "Please enter a value less than 5: 10\n",
      "Please enter a value less than 5: 10\n",
      "Please enter a value less than 5: 4\n"
     ]
    },
    {
     "data": {
      "text/plain": [
       "4"
      ]
     },
     "execution_count": 4,
     "metadata": {},
     "output_type": "execute_result"
    }
   ],
   "source": [
    "user()"
   ]
  },
  {
   "cell_type": "markdown",
   "id": "419b6db5",
   "metadata": {},
   "source": [
    "`ins't it the same as a while loop?`"
   ]
  },
  {
   "cell_type": "code",
   "execution_count": 7,
   "id": "841ed12d",
   "metadata": {},
   "outputs": [],
   "source": [
    "def user ():\n",
    "    \n",
    "    value = input(\"Please enter a value less than 5: \")\n",
    "    \n",
    "    if int(value) > 5:\n",
    "        user()\n",
    "        \n",
    "    return int(value)"
   ]
  },
  {
   "cell_type": "code",
   "execution_count": 8,
   "id": "e60eaa24",
   "metadata": {},
   "outputs": [
    {
     "name": "stdout",
     "output_type": "stream",
     "text": [
      "Please enter a value less than 5: 10\n",
      "Please enter a value less than 5: 3\n"
     ]
    },
    {
     "data": {
      "text/plain": [
       "10"
      ]
     },
     "execution_count": 8,
     "metadata": {},
     "output_type": "execute_result"
    }
   ],
   "source": [
    "user()"
   ]
  },
  {
   "cell_type": "code",
   "execution_count": 9,
   "id": "fc2b801e",
   "metadata": {},
   "outputs": [],
   "source": [
    "# RecursiveError: loop too big"
   ]
  },
  {
   "cell_type": "markdown",
   "id": "4cb268d0",
   "metadata": {
    "lang": "en"
   },
   "source": [
    "## Summary\n",
    "It's your turn. What have we learned today?"
   ]
  },
  {
   "cell_type": "markdown",
   "id": "f2f15921",
   "metadata": {},
   "source": [
    "- FUNCTIONS...\n",
    "    - Is a code that does things\n",
    "    - There's 3 main types of functions\n",
    "        - built-in\n",
    "        - user-defined\n",
    "        - lambda\n",
    "            - temporary. cannot re-use it\n",
    "            - on-the spot things (simple things)\n",
    "            - similar syntax to comprehension lists\n",
    "            - mostly on pandas; but also some other functions use them `(sorted(iterable, key=lambda...))`\n",
    "    \n",
    "- Paradigms for coding\n",
    "    - imperative\n",
    "    - OOP\n",
    "    - functional\n",
    "\n",
    "- PROCESS\n",
    "    - 1. define: `def name():`\n",
    "    - 2. call(): `name()`\n",
    "\n",
    "- PARAMETERS\n",
    "    - parameters & arguments\n",
    "        - params: (placerholder1, placeholder2)\n",
    "        - arguments: (3, 5)\n",
    "\n",
    "    - *args: for variable number of arguments\n",
    "    - ** kwargs: for variable number of keys\n",
    "    - parameters: default\n",
    "        - `param_default=30`\n",
    "\n",
    "\n",
    "- RETURN\n",
    "    - It stops the code after read/executed\n",
    "        - watch out for loops\n",
    "        - multiple conditions\n",
    "    - You can store the result in a var if you have a return\n",
    "    - You can return variables & functions\n",
    "    - Return vs print\n",
    "        - Return: value/something\n",
    "        - print gives you NoneType. Can't do anything with that :/\n",
    "- SCOPE\n",
    "    - What happens in the function, stays in the function\n",
    "        - unless you save it into the return\n",
    "        \n",
    "        def addition (a, b):\n",
    "            something = a + b\n",
    "            return something\n",
    "            \n",
    "        result = addition(3, 5)\n",
    "\n",
    "- CALLING FUNCTIONS\n",
    "    - inside of other functions\n",
    "    - make functions call themselves\n",
    "\n",
    "- DOCSTRINGS\n",
    "    - description of the function\n",
    "        - what it does\n",
    "        - the parms it takes\n",
    "        - what it returns"
   ]
  }
 ],
 "metadata": {
  "kernelspec": {
   "display_name": "ironhack",
   "language": "python",
   "name": "ironhack"
  },
  "language_info": {
   "codemirror_mode": {
    "name": "ipython",
    "version": 3
   },
   "file_extension": ".py",
   "mimetype": "text/x-python",
   "name": "python",
   "nbconvert_exporter": "python",
   "pygments_lexer": "ipython3",
   "version": "3.9.12"
  },
  "nbTranslate": {
   "displayLangs": [
    "en",
    "es"
   ],
   "hotkey": "alt-a",
   "langInMainMenu": true,
   "sourceLang": "es",
   "targetLang": "en",
   "useGoogleTranslate": true
  },
  "toc": {
   "base_numbering": 1,
   "nav_menu": {},
   "number_sections": true,
   "sideBar": true,
   "skip_h1_title": true,
   "title_cell": "Table of Contents",
   "title_sidebar": "Contents",
   "toc_cell": true,
   "toc_position": {
    "height": "calc(100% - 180px)",
    "left": "10px",
    "top": "150px",
    "width": "288px"
   },
   "toc_section_display": true,
   "toc_window_display": false
  }
 },
 "nbformat": 4,
 "nbformat_minor": 5
}

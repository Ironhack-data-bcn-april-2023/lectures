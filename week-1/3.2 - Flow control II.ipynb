{
 "cells": [
  {
   "cell_type": "markdown",
   "id": "raised-meter",
   "metadata": {
    "toc": true
   },
   "source": [
    "<h1>Table of Contents<span class=\"tocSkip\"></span></h1>\n",
    "<div class=\"toc\"><ul class=\"toc-item\"><li><span><a href=\"#The-&quot;while&quot;-statement\" data-toc-modified-id=\"The-&quot;while&quot;-statement-1\"><span class=\"toc-item-num\">1&nbsp;&nbsp;</span>The \"while\" statement</a></span></li><li><span><a href=\"#Pass,--continue-&amp;-break\" data-toc-modified-id=\"Pass,--continue-&amp;-break-2\"><span class=\"toc-item-num\">2&nbsp;&nbsp;</span>Pass,  continue &amp; break</a></span></li><li><span><a href=\"#For\" data-toc-modified-id=\"For-3\"><span class=\"toc-item-num\">3&nbsp;&nbsp;</span>For</a></span><ul class=\"toc-item\"><li><span><a href=\"#Iterate-through-strings\" data-toc-modified-id=\"Iterate-through-strings-3.1\"><span class=\"toc-item-num\">3.1&nbsp;&nbsp;</span>Iterate through strings</a></span></li><li><span><a href=\"#Iterate-through-a-list\" data-toc-modified-id=\"Iterate-through-a-list-3.2\"><span class=\"toc-item-num\">3.2&nbsp;&nbsp;</span>Iterate through a list</a></span></li><li><span><a href=\"#We-iterate-through-lists-over-their-index\" data-toc-modified-id=\"We-iterate-through-lists-over-their-index-3.3\"><span class=\"toc-item-num\">3.3&nbsp;&nbsp;</span>We iterate through lists over their index</a></span></li><li><span><a href=\"#Loop-through-two-lists-at-the-same-time\" data-toc-modified-id=\"Loop-through-two-lists-at-the-same-time-3.4\"><span class=\"toc-item-num\">3.4&nbsp;&nbsp;</span>Loop through two lists at the same time</a></span></li><li><span><a href=\"#Iterate-over-the-elements-of-a-dictionary\" data-toc-modified-id=\"Iterate-over-the-elements-of-a-dictionary-3.5\"><span class=\"toc-item-num\">3.5&nbsp;&nbsp;</span>Iterate over the elements of a dictionary</a></span></li></ul></li><li><span><a href=\"#Summary\" data-toc-modified-id=\"Summary-4\"><span class=\"toc-item-num\">4&nbsp;&nbsp;</span>Summary</a></span></li></ul></div>"
   ]
  },
  {
   "cell_type": "markdown",
   "id": "constant-discovery",
   "metadata": {},
   "source": [
    "# Let's keep the flow going"
   ]
  },
  {
   "cell_type": "markdown",
   "id": "genetic-output",
   "metadata": {},
   "source": [
    "![FLOW](https://media.giphy.com/media/h8y265b9iKtzKT0pDj/giphy.gif)"
   ]
  },
  {
   "cell_type": "markdown",
   "id": "17832115",
   "metadata": {
    "lang": "en"
   },
   "source": [
    "## The \"while\" statement\n",
    "\n",
    "Sometimes we want to run a program until a condition is met. We can achieve this with the `while` clause.\n",
    "\n",
    "**Note:** Beware of infinite recursions!"
   ]
  },
  {
   "cell_type": "code",
   "execution_count": 5,
   "id": "ca737f63",
   "metadata": {},
   "outputs": [
    {
     "name": "stdout",
     "output_type": "stream",
     "text": [
      "Age is 10\n",
      "Age is 11\n",
      "Age is 12\n",
      "Age is 13\n",
      "Age is 14\n",
      "Age is 15\n",
      "Age is 16\n",
      "Age is 17\n",
      "Age is 18\n"
     ]
    }
   ],
   "source": [
    "age = 10\n",
    "\n",
    "while age <= 18:\n",
    "    print(f\"Age is {age}\")\n",
    "    age += 1"
   ]
  },
  {
   "cell_type": "code",
   "execution_count": 1,
   "id": "c8287eb6",
   "metadata": {},
   "outputs": [
    {
     "name": "stdout",
     "output_type": "stream",
     "text": [
      "Age is 10\n",
      "Age is 11\n",
      "Age is 12\n",
      "Age is 13\n",
      "Age is 14\n",
      "Age is 15\n",
      "Age is 16\n",
      "Age is 17\n",
      "Age is 18\n"
     ]
    }
   ],
   "source": [
    "age = 10\n",
    "\n",
    "while age <= 18:\n",
    "    print(f\"Age is {age}\")\n",
    "    age += 1"
   ]
  },
  {
   "cell_type": "markdown",
   "id": "ba1c5adf",
   "metadata": {
    "lang": "en"
   },
   "source": [
    "In the case of while True the expression will always evaluate to true by definition.\n",
    "It would be equivalent to:\n",
    "\n",
    "```python\n",
    "as long as true is true:\n",
    "    do something\n",
    "   ````"
   ]
  },
  {
   "cell_type": "code",
   "execution_count": null,
   "id": "f85e7b7d",
   "metadata": {},
   "outputs": [],
   "source": []
  },
  {
   "cell_type": "markdown",
   "id": "587399ed",
   "metadata": {
    "lang": "en"
   },
   "source": [
    "🐒 - We write a program that asks the user for a letter between a and d forever until he enters one correctly."
   ]
  },
  {
   "cell_type": "code",
   "execution_count": 8,
   "id": "d6441703",
   "metadata": {},
   "outputs": [
    {
     "name": "stdout",
     "output_type": "stream",
     "text": [
      "Letter between a-d: a\n"
     ]
    }
   ],
   "source": [
    "# 1. input of the user\n",
    "# 2. if the input is not between a - d\n",
    "# 3. re-ask the input of the user\n",
    "\n",
    "\n",
    "letter = input(\"Letter between a-d: \")\n",
    "\n",
    "accepted_letters = [\"a\", \"b\", \"c\", \"d\"]\n",
    "\n",
    "while letter not in accepted_letters:\n",
    "    letter = input(\"Letter between a-d: \")"
   ]
  },
  {
   "cell_type": "code",
   "execution_count": 13,
   "id": "e21924a9",
   "metadata": {},
   "outputs": [
    {
     "name": "stdout",
     "output_type": "stream",
     "text": [
      "Letter between a-d: a\n",
      "ok\n"
     ]
    }
   ],
   "source": [
    "letter = input(\"Letter between a-d: \")\n",
    "\n",
    "accepted_letters = [\"a\", \"b\", \"c\", \"d\"]\n",
    "\n",
    "if letter in accepted_letters:\n",
    "    print(\"ok\")\n",
    "else:\n",
    "    letter = input(\"Letter between a-d: \")"
   ]
  },
  {
   "cell_type": "markdown",
   "id": "9af78e68",
   "metadata": {
    "lang": "en"
   },
   "source": [
    "## Pass,  continue & break\n",
    "The pass statement does nothing. Can be used when a syntax statement is required but no action is required by the program (from the [docs](https://docs.python.org/3/tutorial/controlflow.html))\n",
    "\n",
    "\n",
    "Although it may surprise us, it is useful in several situations. In Python we cannot have an undefined block of code (for example, the body of a function, the body of a condition, or the body of a loop). So it's common to use pass when we're writing the structure of our program but haven't yet tackled the implementation of certain blocks of code."
   ]
  },
  {
   "cell_type": "code",
   "execution_count": 23,
   "id": "5b7cd447",
   "metadata": {},
   "outputs": [],
   "source": [
    "def greetings ():\n",
    "    pass"
   ]
  },
  {
   "cell_type": "markdown",
   "id": "9a7bc1ee",
   "metadata": {},
   "source": [
    "`pass`: ignores, does things and goes to next iteration"
   ]
  },
  {
   "cell_type": "code",
   "execution_count": 26,
   "id": "a798c2c2",
   "metadata": {},
   "outputs": [],
   "source": [
    "list_of_names = [\"Clara\", \"Albert\",\"Carla\", \"Laura\"]"
   ]
  },
  {
   "cell_type": "code",
   "execution_count": 36,
   "id": "7ee52c0e",
   "metadata": {},
   "outputs": [
    {
     "name": "stdout",
     "output_type": "stream",
     "text": [
      "Clara\n",
      "It doesnt' start with a C\n",
      "Carla\n",
      "It doesnt' start with a C\n"
     ]
    }
   ],
   "source": [
    "for i in list_of_names:\n",
    "    if i.startswith(\"C\"):\n",
    "        pass\n",
    "        print(i)\n",
    "    else:\n",
    "        print(\"It doesnt' start with a C\")"
   ]
  },
  {
   "cell_type": "markdown",
   "id": "6630b66a",
   "metadata": {},
   "source": [
    "`continue`: stops and goes to next iteration"
   ]
  },
  {
   "cell_type": "code",
   "execution_count": 38,
   "id": "c3f27b58",
   "metadata": {},
   "outputs": [
    {
     "name": "stdout",
     "output_type": "stream",
     "text": [
      "Albert\n",
      "Laura\n"
     ]
    }
   ],
   "source": [
    "list_of_names = [\"Clara\", \"Albert\", \"Laura\",\"Carla\"]\n",
    "\n",
    "for i in list_of_names:\n",
    "    if i.startswith(\"C\"):\n",
    "        continue # continue with NEXT iteration\n",
    "        print(i)\n",
    "    else:\n",
    "        print(i)"
   ]
  },
  {
   "cell_type": "markdown",
   "id": "d57347a0",
   "metadata": {},
   "source": [
    "`break` stops the loop"
   ]
  },
  {
   "cell_type": "code",
   "execution_count": 39,
   "id": "72f4b95b",
   "metadata": {},
   "outputs": [
    {
     "name": "stdout",
     "output_type": "stream",
     "text": [
      "Albert\n"
     ]
    }
   ],
   "source": [
    "list_of_names = [\"Albert\", \"Clara\", \"Laura\",\"Carla\"]\n",
    "\n",
    "for i in list_of_names:\n",
    "    if i.startswith(\"C\"):\n",
    "        break\n",
    "        print(i)\n",
    "    else:\n",
    "        print(i)"
   ]
  },
  {
   "cell_type": "code",
   "execution_count": null,
   "id": "bff4f858",
   "metadata": {},
   "outputs": [],
   "source": [
    "list_of_names = [\"Albert\", \"Clara\", \"Laura\", \"Carla\"]\n",
    "upper_names = [\"ALBERT\", \"CLARA\", \"LAURA\", \"CARLA\"]"
   ]
  },
  {
   "cell_type": "code",
   "execution_count": 40,
   "id": "d7fd091f",
   "metadata": {},
   "outputs": [
    {
     "data": {
      "text/plain": [
       "['ALBERT', 'CLARA', 'LAURA', 'CARLA']"
      ]
     },
     "execution_count": 40,
     "metadata": {},
     "output_type": "execute_result"
    }
   ],
   "source": [
    "new_list = []\n",
    "for i in list_of_names:\n",
    "    new_list.append(i.upper())\n",
    "new_list"
   ]
  },
  {
   "cell_type": "markdown",
   "id": "classical-passenger",
   "metadata": {},
   "source": [
    "## For"
   ]
  },
  {
   "cell_type": "markdown",
   "id": "fdb36275",
   "metadata": {
    "lang": "en"
   },
   "source": [
    "It is very common to write a code with loops within these two possible situations:\n",
    "- 1: When we use a counter within a repetition. The counter is a variable that increases or decreases constantly in each iteration of the loop until it reaches a limit value that marks the end of the repetitions.\n",
    "- 2: When we iterate over the elements of a container, for example, a list, to operate on each one of them. Also in this case we know in advance the number of repetitions that will take place."
   ]
  },
  {
   "cell_type": "markdown",
   "id": "753d6746",
   "metadata": {
    "lang": "en"
   },
   "source": [
    "The For statement, in Python, allows you to iterate over sequences of values ​​(lists or strings) according to an established order. Unlike other languages, with Python's for you don't define counters or expressions that change at each iteration, but rather a sequence over which the counter variable will take its values. In any case, it is the most appropriate option to solve the two previous cases...let's give an example:"
   ]
  },
  {
   "cell_type": "code",
   "execution_count": 47,
   "id": "3a5959f4",
   "metadata": {},
   "outputs": [],
   "source": [
    "greeting = \"Hello\""
   ]
  },
  {
   "cell_type": "code",
   "execution_count": 48,
   "id": "e3371a07",
   "metadata": {},
   "outputs": [
    {
     "data": {
      "text/plain": [
       "'l'"
      ]
     },
     "execution_count": 48,
     "metadata": {},
     "output_type": "execute_result"
    }
   ],
   "source": [
    "greeting[3]"
   ]
  },
  {
   "cell_type": "code",
   "execution_count": 49,
   "id": "7ff46bc0",
   "metadata": {},
   "outputs": [
    {
     "name": "stdout",
     "output_type": "stream",
     "text": [
      "H\n",
      "e\n",
      "l\n",
      "l\n",
      "o\n"
     ]
    }
   ],
   "source": [
    "for i in greeting:\n",
    "    print(i)"
   ]
  },
  {
   "cell_type": "code",
   "execution_count": 51,
   "id": "dfeed74f",
   "metadata": {},
   "outputs": [
    {
     "name": "stdout",
     "output_type": "stream",
     "text": [
      "Hello\n",
      "How\n",
      "are \n",
      "you\n"
     ]
    }
   ],
   "source": [
    "greetings_list = [\"Hello\", \"How\", \"are \", \"you\"]\n",
    "for i in greetings_list:\n",
    "    print(i)"
   ]
  },
  {
   "cell_type": "code",
   "execution_count": 57,
   "id": "665502c8",
   "metadata": {},
   "outputs": [
    {
     "name": "stdout",
     "output_type": "stream",
     "text": [
      "5\n",
      "6\n",
      "7\n",
      "8\n"
     ]
    }
   ],
   "source": [
    "number = \"5678\"\n",
    "#number = int(number)\n",
    "for i in number:\n",
    "    print(i)"
   ]
  },
  {
   "cell_type": "code",
   "execution_count": 53,
   "id": "d05f9080",
   "metadata": {},
   "outputs": [
    {
     "ename": "TypeError",
     "evalue": "'float' object is not iterable",
     "output_type": "error",
     "traceback": [
      "\u001b[0;31m---------------------------------------------------------------------------\u001b[0m",
      "\u001b[0;31mTypeError\u001b[0m                                 Traceback (most recent call last)",
      "Cell \u001b[0;32mIn[53], line 3\u001b[0m\n\u001b[1;32m      1\u001b[0m \u001b[38;5;66;03m# You cannot iterate numbers\u001b[39;00m\n\u001b[1;32m      2\u001b[0m number \u001b[38;5;241m=\u001b[39m \u001b[38;5;241m5678.567\u001b[39m\n\u001b[0;32m----> 3\u001b[0m \u001b[38;5;28;01mfor\u001b[39;00m i \u001b[38;5;129;01min\u001b[39;00m number:\n\u001b[1;32m      4\u001b[0m     \u001b[38;5;28mprint\u001b[39m(i)\n",
      "\u001b[0;31mTypeError\u001b[0m: 'float' object is not iterable"
     ]
    }
   ],
   "source": [
    "# You cannot iterate numbers\n",
    "number = 5678.567\n",
    "for i in number:\n",
    "    print(i)"
   ]
  },
  {
   "cell_type": "code",
   "execution_count": 59,
   "id": "1349847b",
   "metadata": {},
   "outputs": [
    {
     "name": "stdout",
     "output_type": "stream",
     "text": [
      "Hey!\n",
      "Hey!\n",
      "Hey!\n",
      "Hey!\n"
     ]
    }
   ],
   "source": [
    "greetings_list = [\"Hello\", \"How\", \"are \", \"you\"]\n",
    "\n",
    "for _ in greetings_list:\n",
    "    print(\"Hey!\")"
   ]
  },
  {
   "cell_type": "code",
   "execution_count": 68,
   "id": "108e220c",
   "metadata": {},
   "outputs": [
    {
     "name": "stdout",
     "output_type": "stream",
     "text": [
      "Index is : 0, Element is: Hello\n",
      "Index is : 1, Element is: How\n",
      "Index is : 2, Element is: are \n",
      "Index is : 3, Element is: you\n"
     ]
    }
   ],
   "source": [
    "greetings_list = [\"Hello\", \"How\", \"are \", \"you\"]\n",
    "\n",
    "for i in range(len(greetings_list)):\n",
    "    print(f\"Index is : {i}, Element is: {greetings_list[i]}\")"
   ]
  },
  {
   "cell_type": "code",
   "execution_count": 70,
   "id": "d330a606",
   "metadata": {},
   "outputs": [
    {
     "data": {
      "text/plain": [
       "'are '"
      ]
     },
     "execution_count": 70,
     "metadata": {},
     "output_type": "execute_result"
    }
   ],
   "source": [
    "greetings_list[2]"
   ]
  },
  {
   "cell_type": "markdown",
   "id": "a968f25d",
   "metadata": {
    "lang": "en"
   },
   "source": [
    "The for statement, in Python, iterates over collections. So if we need a counter that increments on each iteration, Python provides the range() function, which generates lists of integers. This function allows to generate sequences and is quite versatile and we can invoke it in different ways:"
   ]
  },
  {
   "cell_type": "markdown",
   "id": "5109ef4d",
   "metadata": {
    "lang": "en"
   },
   "source": [
    "- With a single argument: generates integers ranging from 0 to the previous one indicated as a parameter:\n",
    "\n",
    "`range(int)`"
   ]
  },
  {
   "cell_type": "code",
   "execution_count": 62,
   "id": "28d8962f",
   "metadata": {},
   "outputs": [
    {
     "name": "stdout",
     "output_type": "stream",
     "text": [
      "Hey!\n",
      "Hey!\n",
      "Hey!\n",
      "Hey!\n"
     ]
    }
   ],
   "source": [
    "for i in range(len(greetings_list)):\n",
    "    print(\"Hey!\")"
   ]
  },
  {
   "cell_type": "code",
   "execution_count": 64,
   "id": "98ae7703",
   "metadata": {},
   "outputs": [
    {
     "name": "stdout",
     "output_type": "stream",
     "text": [
      "0\n",
      "1\n",
      "2\n",
      "3\n"
     ]
    }
   ],
   "source": [
    "for i in range(4):\n",
    "    print(i)"
   ]
  },
  {
   "cell_type": "markdown",
   "id": "88f9f5a9",
   "metadata": {
    "lang": "en"
   },
   "source": [
    "- With two arguments. The first parameter is the initial value and the second the value below which the elements of the list must be:\n",
    "\n",
    "`range(int, int)` "
   ]
  },
  {
   "cell_type": "code",
   "execution_count": 71,
   "id": "433ade74",
   "metadata": {},
   "outputs": [
    {
     "name": "stdout",
     "output_type": "stream",
     "text": [
      "10\n",
      "11\n",
      "12\n",
      "13\n",
      "14\n",
      "15\n",
      "16\n",
      "17\n",
      "18\n",
      "19\n",
      "20\n"
     ]
    }
   ],
   "source": [
    "for i in range(10, 21):\n",
    "    print(i)"
   ]
  },
  {
   "cell_type": "markdown",
   "id": "81739599",
   "metadata": {
    "lang": "en"
   },
   "source": [
    "- With three arguments. Same as above, but the third parameter indicates the increment that occurs from one element to the next: `range(int, int, increment)` "
   ]
  },
  {
   "cell_type": "code",
   "execution_count": 72,
   "id": "9cfcda02",
   "metadata": {},
   "outputs": [
    {
     "name": "stdout",
     "output_type": "stream",
     "text": [
      "10\n",
      "12\n",
      "14\n",
      "16\n",
      "18\n",
      "20\n"
     ]
    }
   ],
   "source": [
    "for i in range(10, 21, 2):\n",
    "    print(i)"
   ]
  },
  {
   "cell_type": "markdown",
   "id": "closing-pound",
   "metadata": {
    "lang": "es"
   },
   "source": [
    "### Iterate through strings"
   ]
  },
  {
   "cell_type": "code",
   "execution_count": 80,
   "id": "ba377dae",
   "metadata": {},
   "outputs": [],
   "source": [
    "greeting = \"Hello How Are youuUUuu\""
   ]
  },
  {
   "cell_type": "code",
   "execution_count": 81,
   "id": "919aba08",
   "metadata": {},
   "outputs": [],
   "source": [
    "# save upper case letters into a list"
   ]
  },
  {
   "cell_type": "code",
   "execution_count": 91,
   "id": "9a46553c",
   "metadata": {},
   "outputs": [
    {
     "data": {
      "text/plain": [
       "['A', 'U', 'H']"
      ]
     },
     "execution_count": 91,
     "metadata": {},
     "output_type": "execute_result"
    }
   ],
   "source": [
    "new_list = []\n",
    "for i in greeting:\n",
    "    if i.isupper():\n",
    "        new_list.append(i)\n",
    "new_list = list(set(new_list))\n",
    "new_list"
   ]
  },
  {
   "cell_type": "code",
   "execution_count": 92,
   "id": "51f5206b",
   "metadata": {},
   "outputs": [],
   "source": [
    "my_phone_number = \"Hello my n-p-ame is Santi and mynumber is '+02398765676\""
   ]
  },
  {
   "cell_type": "code",
   "execution_count": 107,
   "id": "bf88004b",
   "metadata": {},
   "outputs": [
    {
     "name": "stdout",
     "output_type": "stream",
     "text": [
      "0\n",
      "02\n",
      "023\n",
      "0239\n",
      "02398\n",
      "023987\n",
      "0239876\n",
      "02398765\n",
      "023987656\n",
      "0239876567\n",
      "02398765676\n"
     ]
    },
    {
     "data": {
      "text/plain": [
       "'02398765676'"
      ]
     },
     "execution_count": 107,
     "metadata": {},
     "output_type": "execute_result"
    }
   ],
   "source": [
    "# how many numbers in this strng?\n",
    "#new_list = []\n",
    "variable = \"\"\n",
    "for i in my_phone_number:\n",
    "    if i.isdigit(): # identified\n",
    "        variable += i\n",
    "        print(variable)\n",
    "variable"
   ]
  },
  {
   "cell_type": "code",
   "execution_count": null,
   "id": "5c694da1",
   "metadata": {},
   "outputs": [],
   "source": [
    "# result: string with all the numbers \"678765765\""
   ]
  },
  {
   "cell_type": "markdown",
   "id": "fef0c8a5",
   "metadata": {
    "lang": "en"
   },
   "source": [
    "### Iterate through a list"
   ]
  },
  {
   "cell_type": "code",
   "execution_count": null,
   "id": "ef71cee6",
   "metadata": {},
   "outputs": [],
   "source": []
  },
  {
   "cell_type": "markdown",
   "id": "e873ede0",
   "metadata": {
    "lang": "en"
   },
   "source": [
    "### We iterate through lists over their index\n",
    "- Built in functions --> https://docs.python.org/3/library/functions.html\n",
    "- Enumerate doc --> https://book.pythontips.com/en/latest/enumerate.html"
   ]
  },
  {
   "cell_type": "code",
   "execution_count": 108,
   "id": "21aed269",
   "metadata": {},
   "outputs": [],
   "source": [
    "list_of_names = [\"albert\", \"clara\", \"laura\"]"
   ]
  },
  {
   "cell_type": "code",
   "execution_count": null,
   "id": "0055d384",
   "metadata": {},
   "outputs": [],
   "source": [
    "\"0: Albert\"\n",
    "\"1: Clara\"\n",
    "\"2: Laura\""
   ]
  },
  {
   "cell_type": "code",
   "execution_count": 111,
   "id": "ff4da2b2",
   "metadata": {},
   "outputs": [
    {
     "name": "stdout",
     "output_type": "stream",
     "text": [
      "0: albert\n",
      "1: clara\n",
      "2: laura\n"
     ]
    }
   ],
   "source": [
    "for i in range(len(list_of_names)):\n",
    "    print(f\"{i}: {list_of_names[i]}\")"
   ]
  },
  {
   "cell_type": "code",
   "execution_count": 115,
   "id": "4b7d6241",
   "metadata": {},
   "outputs": [
    {
     "name": "stdout",
     "output_type": "stream",
     "text": [
      "0: albert\n",
      "1: clara\n",
      "2: laura\n"
     ]
    }
   ],
   "source": [
    "# enumerate\n",
    "\n",
    "for index, element in enumerate(list_of_names):\n",
    "    print(f\"{index}: {element}\")"
   ]
  },
  {
   "cell_type": "markdown",
   "id": "73b7e30f",
   "metadata": {
    "lang": "en"
   },
   "source": [
    "### Loop through two lists at the same time"
   ]
  },
  {
   "cell_type": "markdown",
   "id": "af465221",
   "metadata": {
    "lang": "en"
   },
   "source": [
    "I leave you the zip documentation, remember that it will not give an error if the lists are of different sizes but the last iteration will be that of the shortest list\n",
    "[DOC](https://docs.python.org/3/library/functions.html)"
   ]
  },
  {
   "cell_type": "code",
   "execution_count": 117,
   "id": "07432d76",
   "metadata": {},
   "outputs": [],
   "source": [
    "list_of_names = [\"Albert\", \"Clara\", \"Laura\"]\n",
    "list_of_cities = [\"Mataró\", \"Bcn\", \"Mataró\"]"
   ]
  },
  {
   "cell_type": "code",
   "execution_count": 119,
   "id": "12e8bad9",
   "metadata": {},
   "outputs": [
    {
     "name": "stdout",
     "output_type": "stream",
     "text": [
      "My names is Albert and I'm from Mataró\n",
      "My names is Clara and I'm from Bcn\n",
      "My names is Laura and I'm from Mataró\n"
     ]
    }
   ],
   "source": [
    "# \"My names is Albert and I am from Mataró\"\n",
    "# zip\n",
    "\n",
    "for name, city in zip(list_of_names, list_of_cities):\n",
    "    print(f\"My names is {name} and I'm from {city}\")"
   ]
  },
  {
   "cell_type": "code",
   "execution_count": 130,
   "id": "0894d63a",
   "metadata": {},
   "outputs": [
    {
     "name": "stdout",
     "output_type": "stream",
     "text": [
      "Person 1: 'My name is Albert, and I am from Mataró. I am 30'\n",
      "Person 2: 'My name is Clara, and I am from Bcn. I am 30'\n",
      "Person 3: 'My name is Laura, and I am from Mataró. I am 30'\n"
     ]
    }
   ],
   "source": [
    "# enumerate\n",
    "# zip\n",
    "\n",
    "list_of_names = [\"Albert\", \"Clara\", \"Laura\"]\n",
    "list_of_cities = [\"Mataró\", \"Bcn\", \"Mataró\"]\n",
    "list_of_ages = [30, 30, 30]\n",
    "\n",
    "for index, (name, city, age) in enumerate(zip(list_of_names, list_of_cities, list_of_ages)):\n",
    "    print(f\"Person {index+1}: 'My name is {name}, and I am from {city}. I am {age}'\")\n",
    "\n",
    "# Person: 0. My name is Albert and I am from Mataró. I am 30"
   ]
  },
  {
   "cell_type": "code",
   "execution_count": 131,
   "id": "6dffac0d",
   "metadata": {},
   "outputs": [],
   "source": [
    "two_numbers = (3, 4)"
   ]
  },
  {
   "cell_type": "code",
   "execution_count": 132,
   "id": "ad8971d9",
   "metadata": {},
   "outputs": [],
   "source": [
    "first, second = (3, 4)"
   ]
  },
  {
   "cell_type": "code",
   "execution_count": 133,
   "id": "febbb7d2",
   "metadata": {},
   "outputs": [
    {
     "data": {
      "text/plain": [
       "3"
      ]
     },
     "execution_count": 133,
     "metadata": {},
     "output_type": "execute_result"
    }
   ],
   "source": [
    "first"
   ]
  },
  {
   "cell_type": "markdown",
   "id": "a7f5de97",
   "metadata": {},
   "source": [
    "`zip_longest`: whate if I want to keep the longest list?"
   ]
  },
  {
   "cell_type": "code",
   "execution_count": 120,
   "id": "e83994db",
   "metadata": {},
   "outputs": [
    {
     "name": "stdout",
     "output_type": "stream",
     "text": [
      "My names is Albert and I'm from Mataró\n",
      "My names is Clara and I'm from BCN\n"
     ]
    }
   ],
   "source": [
    "list_of_names = [\"Albert\", \"Clara\", \"Laura\"]\n",
    "list_of_cities = [\"Mataró\", \"BCN\"]\n",
    "\n",
    "for name, city in zip(list_of_names, list_of_cities):\n",
    "    print(f\"My names is {name} and I'm from {city}\")\n",
    "    \n",
    "# 1. Error\n",
    "# 2. Value is filled: None\n",
    "# 3. Stops at BCN"
   ]
  },
  {
   "cell_type": "markdown",
   "id": "cd740c33",
   "metadata": {
    "lang": "en"
   },
   "source": [
    "### Iterate over the elements of a dictionary"
   ]
  },
  {
   "cell_type": "code",
   "execution_count": 141,
   "id": "77f5d87c",
   "metadata": {},
   "outputs": [],
   "source": [
    "# strings\n",
    "# lists\n",
    "    # tuples\n",
    "    \n",
    "dict_ = {\n",
    "    \"name\": \"Abert\",\n",
    "    \"city\": \"Mataró\",\n",
    "    \"age\": 30,\n",
    "    \"holidays\": 20\n",
    "}"
   ]
  },
  {
   "cell_type": "code",
   "execution_count": 135,
   "id": "89553138",
   "metadata": {},
   "outputs": [
    {
     "name": "stdout",
     "output_type": "stream",
     "text": [
      "name\n",
      "city\n"
     ]
    }
   ],
   "source": [
    "for i in dict_:\n",
    "    print(i)"
   ]
  },
  {
   "cell_type": "code",
   "execution_count": 137,
   "id": "75f6e31a",
   "metadata": {},
   "outputs": [
    {
     "name": "stdout",
     "output_type": "stream",
     "text": [
      "['name', 'city']\n"
     ]
    }
   ],
   "source": [
    "print(list(dict_.keys()))"
   ]
  },
  {
   "cell_type": "code",
   "execution_count": 138,
   "id": "52389613",
   "metadata": {},
   "outputs": [
    {
     "name": "stdout",
     "output_type": "stream",
     "text": [
      "['Abert', 'Mataró']\n"
     ]
    }
   ],
   "source": [
    "print(list(dict_.values()))"
   ]
  },
  {
   "cell_type": "code",
   "execution_count": 139,
   "id": "d3d3d830",
   "metadata": {},
   "outputs": [
    {
     "name": "stdout",
     "output_type": "stream",
     "text": [
      "[('name', 'Abert'), ('city', 'Mataró')]\n"
     ]
    }
   ],
   "source": [
    "print(list(dict_.items()))"
   ]
  },
  {
   "cell_type": "code",
   "execution_count": 150,
   "id": "97367d8a",
   "metadata": {},
   "outputs": [
    {
     "data": {
      "text/plain": [
       "[30, 20]"
      ]
     },
     "execution_count": 150,
     "metadata": {},
     "output_type": "execute_result"
    }
   ],
   "source": [
    "dict_ = {\n",
    "    \"name\": \"Albert\",\n",
    "    \"city\": \"Mataró\",\n",
    "    \"age\": 30,\n",
    "    \"holidays\": 20,\n",
    "    \"hobbies\": [\"padel\", \"reading\", \"beach\"]\n",
    "}\n",
    "\n",
    "# If number values, keep in a list\n",
    "\n",
    "new_list = []\n",
    "for key, value in dict_.items():\n",
    "    if type(value) == int:\n",
    "        new_list.append(value)\n",
    "new_list"
   ]
  },
  {
   "cell_type": "code",
   "execution_count": 155,
   "id": "326c2e32",
   "metadata": {},
   "outputs": [
    {
     "data": {
      "text/plain": [
       "['reading']"
      ]
     },
     "execution_count": 155,
     "metadata": {},
     "output_type": "execute_result"
    }
   ],
   "source": [
    "dict_ = {\n",
    "    \"name\": \"Albert\",\n",
    "    \"city\": \"Mataró\",\n",
    "    \"age\": 30,\n",
    "    \"holidays\": 20,\n",
    "    \"hobbies\": [\"padel\", \"reading\", \"beach\"]\n",
    "}\n",
    "\n",
    "# hobbies longer than 5 in a new list :) \n",
    "\n",
    "new_list = []\n",
    "\n",
    "for i in dict_[\"hobbies\"]:\n",
    "    if len(i) > 5:\n",
    "        new_list.append(i)\n",
    "new_list"
   ]
  },
  {
   "cell_type": "code",
   "execution_count": 156,
   "id": "025769a8",
   "metadata": {},
   "outputs": [
    {
     "data": {
      "text/plain": [
       "['reading']"
      ]
     },
     "execution_count": 156,
     "metadata": {},
     "output_type": "execute_result"
    }
   ],
   "source": [
    "dict_ = {\n",
    "    \"name\": \"Albert\",\n",
    "    \"city\": \"Mataró\",\n",
    "    \"age\": 30,\n",
    "    \"holidays\": 20,\n",
    "    \"hobbies\": [\"padel\", \"reading\", \"beach\"]\n",
    "}\n",
    "\n",
    "# hobbies longer than 5 in a new list :) \n",
    "\n",
    "new_list = []\n",
    "\n",
    "for key, value in dict_.items():\n",
    "    if key == \"hobbies\":\n",
    "        if type(dict_[key]) == list:\n",
    "            for i in dict_[key]:\n",
    "                if len(i) > 5:\n",
    "                    new_list.append(i)\n",
    "\n",
    "new_list"
   ]
  },
  {
   "cell_type": "markdown",
   "id": "5f8559a8",
   "metadata": {
    "lang": "en"
   },
   "source": [
    "## Summary\n",
    "It's your turn, what have we learned today?\n"
   ]
  },
  {
   "cell_type": "markdown",
   "id": "d276cc0c",
   "metadata": {},
   "source": [
    "### CONDITIONS\n",
    "\n",
    "- `if/elif/else`\n",
    "    - if vs elif\n",
    "        - if & if: more than 1 condition at once: not exclusive\n",
    "        - if & elif: exclusive conditions\n",
    "    - else: useful but be careful not to be too general\n",
    "    \n",
    "- `booleans: data type`\n",
    "    - truthies/falsies\n",
    "        - truthy: the rest\n",
    "        - falsie: empty, 0, False, None\n",
    "    - bool()\n",
    "    - True / False\n",
    "    \n",
    "### LOOP\n",
    "\n",
    "- while (as long as there's a condition not met)\n",
    "    - until a condition is met: keep things running until it happens\n",
    "\n",
    "- for (as long as there's elements to loop)\n",
    "    - iterables:\n",
    "        - data types: strings\n",
    "        - data strucures: lists, tuples, sets, dictionaries\n",
    "            - dictionary: i, .items, .keys, .values\n",
    "            \n",
    "    - elements OR/AND the index\n",
    "        - `for element in iterable:`\n",
    "            - element: element\n",
    "        - `for index in range(len(iterable)):`\n",
    "            - `index`\n",
    "            - element: iterable[index]\n",
    "    \n",
    "    - ranges\n",
    "        - range(4): 0, 1, 2, 3\n",
    "        - range(10, 21, 2): 10, 12, 14, 16, 18, 20\n",
    "    \n",
    "    - enumerate: index & element\n",
    "        - `for index, element in iterable`\n",
    "    \n",
    "    - zip: more than one iterable at once\n",
    "        - `for el1, el2, el3 in zip(iterable1, iterable2, iterable3)`\n",
    "    \n",
    "    - zip & enumerate can be used together\n",
    "    \n",
    "    - loops can be nested: [[[[]]]]\n",
    "        - for i in iterable\n",
    "            - for j in i\n",
    "                - for k in j\n",
    "                       - for l in k ....\n",
    "    \n",
    "    \n",
    "- pass/continue/break\n",
    "    - pass: ignores\n",
    "    - continue: ignores down below and goes forward w/ next iteration\n",
    "    - break: stops the whole loop"
   ]
  }
 ],
 "metadata": {
  "kernelspec": {
   "display_name": "Python 3 (ipykernel)",
   "language": "python",
   "name": "python3"
  },
  "language_info": {
   "codemirror_mode": {
    "name": "ipython",
    "version": 3
   },
   "file_extension": ".py",
   "mimetype": "text/x-python",
   "name": "python",
   "nbconvert_exporter": "python",
   "pygments_lexer": "ipython3",
   "version": "3.10.9"
  },
  "nbTranslate": {
   "displayLangs": [
    "en",
    "es"
   ],
   "hotkey": "alt-a",
   "langInMainMenu": true,
   "sourceLang": "es",
   "targetLang": "en",
   "useGoogleTranslate": true
  },
  "toc": {
   "base_numbering": 1,
   "nav_menu": {},
   "number_sections": true,
   "sideBar": true,
   "skip_h1_title": true,
   "title_cell": "Table of Contents",
   "title_sidebar": "Contents",
   "toc_cell": true,
   "toc_position": {
    "height": "calc(100% - 180px)",
    "left": "10px",
    "top": "150px",
    "width": "253.097px"
   },
   "toc_section_display": true,
   "toc_window_display": true
  }
 },
 "nbformat": 4,
 "nbformat_minor": 5
}
